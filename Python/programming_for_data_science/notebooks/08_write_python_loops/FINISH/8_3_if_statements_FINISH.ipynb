{
 "cells": [
  {
   "cell_type": "markdown",
   "metadata": {
    "id": "gOFmiiYPKfk9"
   },
   "source": [
    "## if, elif, and else\n",
    "\n",
    "You already know about `if` statements, so let's add `else` and  `elif` to the mix. \n",
    "\n",
    "`elif` is short for **else if**. For example, `if` is the first conditional expression, and if you need more, use `elif`. When you use `if` and `elif`, the last expression is normally `else.` `else` is an expression that runs when `if` and `elif` have run or were skipped. So it makes sense that it is used as the last expression. \n",
    "\n",
    "You can use as many `elif` expressions as you need but remember not to repeat yourself. That said, the example below is not a DRY example but clearly illustrates the use of many `elif` expressions."
   ]
  },
  {
   "cell_type": "code",
   "execution_count": 4,
   "metadata": {
    "colab": {
     "base_uri": "https://localhost:8080/"
    },
    "executionInfo": {
     "elapsed": 540,
     "status": "ok",
     "timestamp": 1640881463691,
     "user": {
      "displayName": "Jonathan Barrios",
      "photoUrl": "https://lh3.googleusercontent.com/a-/AOh14Gj_KFXU5phanoATkzhhR3Yb2zDYFB4nnTYMF3cP=s64",
      "userId": "16097537147383230085"
     },
     "user_tz": 360
    },
    "id": "5_0iGUZGJfQ9",
    "outputId": "af3e9927-27be-4926-d971-e33ffedcfd0e"
   },
   "outputs": [
    {
     "name": "stdout",
     "output_type": "stream",
     "text": [
      "if is True\n"
     ]
    }
   ],
   "source": [
    "if True:\n",
    "  # do this and break loop\n",
    "  print('if is True')\n",
    "elif True:\n",
    "  # do this and break loop\n",
    "  print('elif is True')\n",
    "else:\n",
    "  # do this and break loop\n",
    "  print('else is True')"
   ]
  },
  {
   "cell_type": "markdown",
   "metadata": {
    "id": "FbDJVyT3zEDH"
   },
   "source": [
    "### `if`, `elif`, and `else` combined with comparison operators"
   ]
  },
  {
   "cell_type": "code",
   "execution_count": 5,
   "metadata": {
    "colab": {
     "base_uri": "https://localhost:8080/"
    },
    "executionInfo": {
     "elapsed": 238,
     "status": "ok",
     "timestamp": 1641243328905,
     "user": {
      "displayName": "Jonathan Barrios",
      "photoUrl": "https://lh3.googleusercontent.com/a-/AOh14Gj_KFXU5phanoATkzhhR3Yb2zDYFB4nnTYMF3cP=s64",
      "userId": "16097537147383230085"
     },
     "user_tz": 360
    },
    "id": "UapawgINtpVs",
    "outputId": "c35a9d3a-0963-4686-9092-3d5b8ae590c1"
   },
   "outputs": [
    {
     "name": "stdout",
     "output_type": "stream",
     "text": [
      "The number must be less than 6 or greater than 9\n"
     ]
    }
   ],
   "source": [
    "# assign the value 1 to variable: a\n",
    "a = 1\n",
    "\n",
    "# check if a equals 9, then 8, then 7, then 6\n",
    "# otherwise print: \"The number must be less than 6 or greater than 9.\"\n",
    "if a == 9:\n",
    "  print(\"The number is 9\")\n",
    "elif a == 8:\n",
    "  print(\"The number is 8\")\n",
    "elif a == 7:\n",
    "  print(\"The number is 7\")\n",
    "elif a == 6:\n",
    "  print(\"The number is 6\")\n",
    "else:\n",
    "  print(\"The number must be less than 6 or greater than 9\")"
   ]
  },
  {
   "cell_type": "markdown",
   "metadata": {
    "id": "Xmcr1GeCuSve"
   },
   "source": [
    "[Python Tutor Example](https://pythontutor.com/visualize.html#code=a%20%3D%201%0A%0Aif%20a%20%3D%3D%209%3A%0A%20%20print%28%22The%20number%20is%209%22%29%0Aelif%20a%20%3D%3D%208%3A%0A%20%20print%28%22The%20number%20is%208%22%29%0Aelif%20a%20%3D%3D%207%3A%0A%20%20print%28%22The%20number%20is%207%22%29%0Aelif%20a%20%3D%3D%206%3A%0A%20%20print%28%22The%20number%20is%206%22%29%0Aelse%3A%0A%20%20print%28%22The%20number%20must%20be%20less%20than%206%20or%20greater%20than%209%22%29&cumulative=false&heapPrimitives=nevernest&mode=edit&origin=opt-frontend.js&py=3&rawInputLstJSON=%5B%5D&textReferences=false)"
   ]
  },
  {
   "cell_type": "markdown",
   "metadata": {
    "id": "WuaD7_n17pby"
   },
   "source": [
    "## Combining the `if` and `else` statements with functions\n",
    "\n",
    "Imagine all the different functions you could write using Python operators combined with `if` and `else` statements! \n",
    "\n",
    "The most important thing to master writing functions is to practice writing them often. You will get a chance to practice writing functions in the challenge at the end of this skill. \n",
    "\n",
    "For now, let's use the membership operators inside of our custom function to double-check our grocery list."
   ]
  },
  {
   "cell_type": "code",
   "execution_count": 6,
   "metadata": {
    "executionInfo": {
     "elapsed": 3,
     "status": "ok",
     "timestamp": 1643646563062,
     "user": {
      "displayName": "Jonathan Barrios",
      "photoUrl": "https://lh3.googleusercontent.com/a-/AOh14Gj_KFXU5phanoATkzhhR3Yb2zDYFB4nnTYMF3cP=s64",
      "userId": "16097537147383230085"
     },
     "user_tz": 360
    },
    "id": "gCdldUX08fqD"
   },
   "outputs": [],
   "source": [
    "# remember, comparison operators return boolean values\n",
    "def grocery_checker():\n",
    "    # the current list\n",
    "  grocery_list = [\"milk\", \"eggs\"]\n",
    "  print(\"Here is your list: {}\".format(grocery_list))\n",
    "  \n",
    "  # ask the user for input on what to buy\n",
    "  item = input(\"What item do you want to add? \")\n",
    "\n",
    "  # logical that check the current list\n",
    "  if item.lower() not in grocery_list:\n",
    "    grocery_list.append(item) # if not on list, add it here\n",
    "    print(\"Added {} to the list. Here is the list: \".format(item)) # message of added item\n",
    "    print(grocery_list)\n",
    "      \n",
    "  # if an item is not in the list, print a message\n",
    "  else:\n",
    "    print(\"You already have that item on your list! Nice! 😀\")"
   ]
  },
  {
   "cell_type": "code",
   "execution_count": 3,
   "metadata": {
    "colab": {
     "base_uri": "https://localhost:8080/"
    },
    "executionInfo": {
     "elapsed": 3167,
     "status": "ok",
     "timestamp": 1643646567522,
     "user": {
      "displayName": "Jonathan Barrios",
      "photoUrl": "https://lh3.googleusercontent.com/a-/AOh14Gj_KFXU5phanoATkzhhR3Yb2zDYFB4nnTYMF3cP=s64",
      "userId": "16097537147383230085"
     },
     "user_tz": 360
    },
    "id": "xR_no8Xv92bD",
    "outputId": "3a53e585-0af7-423f-dfaa-79f516e79a91"
   },
   "outputs": [
    {
     "name": "stdout",
     "output_type": "stream",
     "text": [
      "Here is your list: ['milk', 'eggs']\n",
      "Added Bagel to the list. Here is the list: \n",
      "['milk', 'eggs', 'Bagel']\n"
     ]
    }
   ],
   "source": [
    "grocery_checker()"
   ]
  },
  {
   "cell_type": "code",
   "execution_count": null,
   "metadata": {
    "id": "v1GqljPf94WO"
   },
   "outputs": [],
   "source": [
    "def grocery_checker():\n",
    "  grocery_list = [\"milk\", \"eggs\"]\n",
    "  print(\"Here is your list: {}\".format(grocery_list))\n",
    "  item = input(\"What item do you want to buy? \")\n",
    "  if item.lower() not in grocery_list:\n",
    "    grocery_list.append(item.lower())\n",
    "    print('Added to the list: ' + grocery_list[-1])\n",
    "    print(grocery_list)\n",
    "  else:\n",
    "    print(\"You already have that item on your list! Nice! 😀\")"
   ]
  },
  {
   "cell_type": "code",
   "execution_count": null,
   "metadata": {
    "colab": {
     "base_uri": "https://localhost:8080/"
    },
    "executionInfo": {
     "elapsed": 2568,
     "status": "ok",
     "timestamp": 1640878675508,
     "user": {
      "displayName": "Jonathan Barrios",
      "photoUrl": "https://lh3.googleusercontent.com/a-/AOh14Gj_KFXU5phanoATkzhhR3Yb2zDYFB4nnTYMF3cP=s64",
      "userId": "16097537147383230085"
     },
     "user_tz": 360
    },
    "id": "4vxu8Uek_Bfz",
    "outputId": "5066cd3b-d271-4477-9c57-476409d5c93d"
   },
   "outputs": [
    {
     "name": "stdout",
     "output_type": "stream",
     "text": [
      "What item do you want to buy? k\n",
      "Added to the list: k\n"
     ]
    }
   ],
   "source": [
    "grocery_checker()"
   ]
  }
 ],
 "metadata": {
  "colab": {
   "authorship_tag": "ABX9TyPuFdBAZYYbapk1MKLhYl1h",
   "collapsed_sections": [],
   "name": "6_2_if_statements_FINISH.ipynb",
   "provenance": []
  },
  "kernelspec": {
   "display_name": "Python 3.9.6 64-bit",
   "language": "python",
   "name": "python3"
  },
  "language_info": {
   "codemirror_mode": {
    "name": "ipython",
    "version": 3
   },
   "file_extension": ".py",
   "mimetype": "text/x-python",
   "name": "python",
   "nbconvert_exporter": "python",
   "pygments_lexer": "ipython3",
   "version": "3.9.6"
  },
  "vscode": {
   "interpreter": {
    "hash": "31f2aee4e71d21fbe5cf8b01ff0e069b9275f58929596ceb00d14d90e3e16cd6"
   }
  }
 },
 "nbformat": 4,
 "nbformat_minor": 1
}
