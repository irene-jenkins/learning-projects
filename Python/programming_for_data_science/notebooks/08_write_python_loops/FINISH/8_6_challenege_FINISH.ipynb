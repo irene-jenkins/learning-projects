{
 "cells": [
  {
   "cell_type": "markdown",
   "metadata": {
    "id": "OSU70a_c11Se"
   },
   "source": [
    "# The if, elif, and else functions challenge\n",
    "\n",
    "Write a function that asks the user how many crypto coins they want to buy, then calculate the cost at $0.00012 per coin. The final output should ask the user to deposit the amount needed to buy `n` number of coins."
   ]
  },
  {
   "cell_type": "code",
   "execution_count": 2,
   "metadata": {
    "colab": {
     "base_uri": "https://localhost:8080/"
    },
    "executionInfo": {
     "elapsed": 2882,
     "status": "ok",
     "timestamp": 1643666599603,
     "user": {
      "displayName": "Jonathan Barrios",
      "photoUrl": "https://lh3.googleusercontent.com/a-/AOh14Gj_KFXU5phanoATkzhhR3Yb2zDYFB4nnTYMF3cP=s64",
      "userId": "16097537147383230085"
     },
     "user_tz": 360
    },
    "id": "EgvV5yzXLpqy",
    "outputId": "6f8f8ec6-92bb-4b02-8668-ffe925fdc840"
   },
   "outputs": [
    {
     "name": "stdout",
     "output_type": "stream",
     "text": [
      "How many PitBull coins do you want to buy? 10000\n",
      "Deposit $1.20 to buy 10000 coins.\n"
     ]
    }
   ],
   "source": [
    "# ask the user to enter the number of crypto coins they wish to buy \n",
    "# assign the input to variable: request\n",
    "request = input(\"How many PitBull coins do you want to buy? \")\n",
    "# create a function named: crypto_calc with coins as the parameter\n",
    "def crypto_calc(coins):\n",
    "  # calculate the purchase price by multiplying coin_order times $0.00012 per coin\n",
    "  # assign that value to a variable named: coin_order\n",
    "  coin_order = int(coins) * 0.00012\n",
    "  # return a string, using the .fortmat() method, informing the user\n",
    "  # how much they will need to deposit in order to buy the coins\n",
    "  print(\"Deposit ${:.2f} to buy {} coins.\".format(round(coin_order, 2), coins))\n",
    "\n",
    "# call the function and pass in request as the argument\n",
    "crypto_calc(request)"
   ]
  },
  {
   "cell_type": "markdown",
   "metadata": {
    "id": "GKtD7760__hn"
   },
   "source": [
    "### Write a function that asks users to enter their age to verify they can enter the bar\n",
    "\n"
   ]
  },
  {
   "cell_type": "code",
   "execution_count": null,
   "metadata": {
    "colab": {
     "base_uri": "https://localhost:8080/"
    },
    "executionInfo": {
     "elapsed": 2462,
     "status": "ok",
     "timestamp": 1643579938678,
     "user": {
      "displayName": "Jonathan Barrios",
      "photoUrl": "https://lh3.googleusercontent.com/a-/AOh14Gj_KFXU5phanoATkzhhR3Yb2zDYFB4nnTYMF3cP=s64",
      "userId": "16097537147383230085"
     },
     "user_tz": 360
    },
    "id": "J2KqxKiB-YNF",
    "outputId": "c216f9cd-1ae2-46b8-e804-cdda3a51abb2"
   },
   "outputs": [
    {
     "name": "stdout",
     "output_type": "stream",
     "text": [
      "How old are you? 11\n",
      "You are not of age, and thou shall not pass! 🧙🏻‍♂️\n"
     ]
    }
   ],
   "source": [
    "# create a function named: age_cal\n",
    "\n",
    "# ask the user to enter their age \n",
    "\n",
    "# if they are over or equal to 21 years of age, return a message using the .format() method, informing the user they can enter the bar\n",
    "\n",
    "# else if they are over or equal to 18, return a message using the .format() method, informing the user they can dine but not drink alcohol at the bar\n",
    "\n",
    "# otherwise, return a message using the .format() method, informing the user they can't enter the bar because they are under the required age to enter.\n",
    "\n",
    "# call the function and pass in the user input as the argument\n",
    "\n",
    "age = int(input(\"How old are you? \"))\n",
    "\n",
    "def age_calc(age):\n",
    " if age >= 21:\n",
    "  print(\"Welcome, you may enter the bar.\")\n",
    " elif age >= 18 and age < 21:\n",
    "  print(\"Welcome, you may dine but not drink at the bar.\")\n",
    " else:\n",
    "  print(\"You are not of age, and thou shall not pass! 🧙🏻‍♂️\")\n",
    "\n",
    "age_calc(age)"
   ]
  },
  {
   "cell_type": "markdown",
   "metadata": {
    "id": "l0tL5ym7CBeo"
   },
   "source": [
    "### Create a countdown loop to simulate a Space-X launch"
   ]
  },
  {
   "cell_type": "code",
   "execution_count": 6,
   "metadata": {
    "colab": {
     "base_uri": "https://localhost:8080/"
    },
    "executionInfo": {
     "elapsed": 186,
     "status": "ok",
     "timestamp": 1641251913248,
     "user": {
      "displayName": "Jonathan Barrios",
      "photoUrl": "https://lh3.googleusercontent.com/a-/AOh14Gj_KFXU5phanoATkzhhR3Yb2zDYFB4nnTYMF3cP=s64",
      "userId": "16097537147383230085"
     },
     "user_tz": 360
    },
    "id": "YF-gMFCECPJ4",
    "outputId": "3e3e7c3c-9a04-421d-cd74-b3fd737f6566"
   },
   "outputs": [
    {
     "name": "stdout",
     "output_type": "stream",
     "text": [
      "T-minus 10\n",
      "T-minus 9\n",
      "T-minus 8\n",
      "T-minus 7\n",
      "T-minus 6\n",
      "T-minus 5\n",
      "T-minus 4\n",
      "T-minus 3\n",
      "T-minus 2\n",
      "T-minus 1\n",
      "Blast off! 🚀\n"
     ]
    }
   ],
   "source": [
    "# create a loop that counts down from 10\n",
    "count = 10\n",
    "\n",
    "# return the number using the format: T-minus 10, T-minus 9, and so on\n",
    "while count:\n",
    " print(\"T-minus \" + str(count))\n",
    " count -= 1\n",
    "print(\"Blast off! 🚀\")"
   ]
  },
  {
   "cell_type": "markdown",
   "metadata": {
    "id": "4hfY3k1y6-Nx"
   },
   "source": [
    "### Breaking Out\n",
    "#### String Literal"
   ]
  },
  {
   "cell_type": "code",
   "execution_count": 2,
   "metadata": {
    "colab": {
     "base_uri": "https://localhost:8080/"
    },
    "executionInfo": {
     "elapsed": 81,
     "status": "ok",
     "timestamp": 1643578865094,
     "user": {
      "displayName": "Jonathan Barrios",
      "photoUrl": "https://lh3.googleusercontent.com/a-/AOh14Gj_KFXU5phanoATkzhhR3Yb2zDYFB4nnTYMF3cP=s64",
      "userId": "16097537147383230085"
     },
     "user_tz": 360
    },
    "id": "oOTQDawx641n",
    "outputId": "6c95ab91-967a-4059-9ab6-db8e791c748a"
   },
   "outputs": [
    {
     "name": "stdout",
     "output_type": "stream",
     "text": [
      "T-minus 10\n",
      "T-minus 9\n",
      "T-minus 8\n",
      "T-minus 7\n",
      "T-minus 6\n",
      "T-minus 5\n",
      "T-minus 4\n",
      "T-minus 3\n",
      "T-minus 2\n",
      "T-minus 1\n",
      "Blast off! 🚀\n"
     ]
    }
   ],
   "source": [
    "# create a loop that counts down from 10\n",
    "count = 10\n",
    "\n",
    "# return the number using the format: T-minus 10, T-minus 9, and so on\n",
    "while count:\n",
    " print(f\"T-minus {count}\")\n",
    " count -= 1\n",
    "print(\"Blast off! 🚀\")"
   ]
  },
  {
   "cell_type": "markdown",
   "metadata": {
    "id": "Qsk7oApH6-qJ"
   },
   "source": [
    "### String Formatting"
   ]
  },
  {
   "cell_type": "code",
   "execution_count": null,
   "metadata": {
    "colab": {
     "base_uri": "https://localhost:8080/"
    },
    "executionInfo": {
     "elapsed": 183,
     "status": "ok",
     "timestamp": 1641503742454,
     "user": {
      "displayName": "Jonathan Barrios",
      "photoUrl": "https://lh3.googleusercontent.com/a-/AOh14Gj_KFXU5phanoATkzhhR3Yb2zDYFB4nnTYMF3cP=s64",
      "userId": "16097537147383230085"
     },
     "user_tz": 360
    },
    "id": "k4TjTpuzDlMF",
    "outputId": "4b4c60a3-ae0a-4ce7-8f84-74ca389f43ef"
   },
   "outputs": [
    {
     "name": "stdout",
     "output_type": "stream",
     "text": [
      "T-minus 10\n",
      "T-minus 9\n",
      "T-minus 8\n",
      "T-minus 7\n",
      "T-minus 6\n",
      "T-minus 5\n",
      "T-minus 4\n",
      "T-minus 3\n",
      "T-minus 2\n",
      "T-minus 1\n",
      "Blast off! 🚀\n"
     ]
    }
   ],
   "source": [
    "# create a loop that counts down from 10\n",
    "count = 10\n",
    "\n",
    "# return the number using the format: T-minus 10, T-minus 9, and so on\n",
    "for count in range(10,0,-1):\n",
    " print(\"T-minus {}\".format(count))\n",
    "print(\"Blast off! 🚀\")"
   ]
  }
 ],
 "metadata": {
  "colab": {
   "authorship_tag": "ABX9TyO18kTbOOC/eVB5ZkpdjjXA",
   "collapsed_sections": [
    "GKtD7760__hn"
   ],
   "name": "6_5_challenege_FINISH.ipynb",
   "provenance": []
  },
  "kernelspec": {
   "display_name": "Python 3.9.6 64-bit",
   "language": "python",
   "name": "python3"
  },
  "language_info": {
   "codemirror_mode": {
    "name": "ipython",
    "version": 3
   },
   "file_extension": ".py",
   "mimetype": "text/x-python",
   "name": "python",
   "nbconvert_exporter": "python",
   "pygments_lexer": "ipython3",
   "version": "3.9.6"
  },
  "vscode": {
   "interpreter": {
    "hash": "31f2aee4e71d21fbe5cf8b01ff0e069b9275f58929596ceb00d14d90e3e16cd6"
   }
  }
 },
 "nbformat": 4,
 "nbformat_minor": 1
}
