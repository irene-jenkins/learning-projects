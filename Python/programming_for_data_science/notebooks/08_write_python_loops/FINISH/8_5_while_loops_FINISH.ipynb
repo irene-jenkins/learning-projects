{
 "cells": [
  {
   "cell_type": "markdown",
   "metadata": {
    "id": "YWF5yOtMgmxf"
   },
   "source": [
    "# While loops\n",
    "\n",
    "While loops execute statements as long as the condition is true."
   ]
  },
  {
   "cell_type": "code",
   "execution_count": null,
   "metadata": {
    "colab": {
     "base_uri": "https://localhost:8080/"
    },
    "executionInfo": {
     "elapsed": 263,
     "status": "ok",
     "timestamp": 1631493144782,
     "user": {
      "displayName": "Jonathan Barrios",
      "photoUrl": "https://lh3.googleusercontent.com/a/default-user=s64",
      "userId": "04055538900920699171"
     },
     "user_tz": 300
    },
    "id": "rItu0YPmkExR",
    "outputId": "04023193-0444-4ab1-ba50-a1f6d26e2c6a"
   },
   "outputs": [
    {
     "name": "stdout",
     "output_type": "stream",
     "text": [
      "1\n",
      "2\n",
      "3\n",
      "4\n",
      "5\n",
      "6\n",
      "7\n",
      "8\n",
      "9\n",
      "10\n"
     ]
    }
   ],
   "source": [
    "i = 1 # index\n",
    "while i < 11: # condition\n",
    "  print(i)\n",
    "  i += 1"
   ]
  },
  {
   "cell_type": "markdown",
   "metadata": {
    "id": "M5dGB0B_koco"
   },
   "source": [
    "## Break"
   ]
  },
  {
   "cell_type": "code",
   "execution_count": null,
   "metadata": {
    "colab": {
     "base_uri": "https://localhost:8080/"
    },
    "executionInfo": {
     "elapsed": 280,
     "status": "ok",
     "timestamp": 1631493264757,
     "user": {
      "displayName": "Jonathan Barrios",
      "photoUrl": "https://lh3.googleusercontent.com/a/default-user=s64",
      "userId": "04055538900920699171"
     },
     "user_tz": 300
    },
    "id": "RacB3GeZk2FL",
    "outputId": "c1241150-101e-44e8-bc9b-1cf1925de319"
   },
   "outputs": [
    {
     "name": "stdout",
     "output_type": "stream",
     "text": [
      "1\n",
      "3\n",
      "5\n",
      "7\n"
     ]
    }
   ],
   "source": [
    "i = 1 # index\n",
    "while i < 11: # condition\n",
    "  print(i)\n",
    "  if i == 7: # if true break\n",
    "    break\n",
    "  i += 2"
   ]
  },
  {
   "cell_type": "markdown",
   "metadata": {
    "id": "jkkqYT0dmA-a"
   },
   "source": [
    "## Continue"
   ]
  },
  {
   "cell_type": "code",
   "execution_count": null,
   "metadata": {
    "colab": {
     "base_uri": "https://localhost:8080/"
    },
    "executionInfo": {
     "elapsed": 272,
     "status": "ok",
     "timestamp": 1631493382157,
     "user": {
      "displayName": "Jonathan Barrios",
      "photoUrl": "https://lh3.googleusercontent.com/a/default-user=s64",
      "userId": "04055538900920699171"
     },
     "user_tz": 300
    },
    "id": "tnvaai-9k4T1",
    "outputId": "318b0747-c085-47b4-fa28-6571d178c5b5"
   },
   "outputs": [
    {
     "name": "stdout",
     "output_type": "stream",
     "text": [
      "3\n",
      "5\n",
      "9\n",
      "11\n"
     ]
    }
   ],
   "source": [
    "i = 1 # index\n",
    "while i < 11: # condition\n",
    "  i += 2\n",
    "  if i == 7: # if true continue\n",
    "    continue\n",
    "  print(i)"
   ]
  },
  {
   "cell_type": "markdown",
   "metadata": {
    "id": "Rk7T8gy0mBR4"
   },
   "source": [
    "## Else"
   ]
  },
  {
   "cell_type": "code",
   "execution_count": null,
   "metadata": {
    "colab": {
     "base_uri": "https://localhost:8080/"
    },
    "executionInfo": {
     "elapsed": 275,
     "status": "ok",
     "timestamp": 1631493521813,
     "user": {
      "displayName": "Jonathan Barrios",
      "photoUrl": "https://lh3.googleusercontent.com/a/default-user=s64",
      "userId": "04055538900920699171"
     },
     "user_tz": 300
    },
    "id": "TMIRZ-VllC48",
    "outputId": "26a9c6bf-5608-4a64-e381-342a8010e4f2"
   },
   "outputs": [
    {
     "name": "stdout",
     "output_type": "stream",
     "text": [
      "1\n",
      "3\n",
      "5\n",
      "7\n",
      "9\n",
      "11\n",
      "i is now greater than 11\n"
     ]
    }
   ],
   "source": [
    "i = 1 # index\n",
    "while i <= 11: # condition\n",
    "  print(i)\n",
    "  i += 2\n",
    "else: # else, when while loop becomes False, do this\n",
    "  print(\"i is now greater than 11\")"
   ]
  },
  {
   "cell_type": "markdown",
   "metadata": {
    "id": "fOhO7vf-9rwj"
   },
   "source": [
    "## Infinite loops $\\large ∞$"
   ]
  },
  {
   "cell_type": "code",
   "execution_count": null,
   "metadata": {
    "id": "uuzd7rGw9zYf"
   },
   "outputs": [],
   "source": [
    "while True:\n",
    "  print(\"I will not burp in class.\")\n",
    "  break # if I remove this, it will go on forever and crash the session"
   ]
  }
 ],
 "metadata": {
  "colab": {
   "collapsed_sections": [],
   "name": "6_4_while_loops_FINISH.ipynb",
   "provenance": []
  },
  "kernelspec": {
   "display_name": "Python 3 (ipykernel)",
   "language": "python",
   "name": "python3"
  },
  "language_info": {
   "codemirror_mode": {
    "name": "ipython",
    "version": 3
   },
   "file_extension": ".py",
   "mimetype": "text/x-python",
   "name": "python",
   "nbconvert_exporter": "python",
   "pygments_lexer": "ipython3",
   "version": "3.10.8"
  }
 },
 "nbformat": 4,
 "nbformat_minor": 1
}
