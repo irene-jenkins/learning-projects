{
 "cells": [
  {
   "cell_type": "markdown",
   "metadata": {
    "id": "YWF5yOtMgmxf"
   },
   "source": [
    "## For loops\n",
    "\n",
    "`For` loops iterate over a given sequence, for example:\n"
   ]
  },
  {
   "cell_type": "code",
   "execution_count": 7,
   "metadata": {
    "colab": {
     "base_uri": "https://localhost:8080/"
    },
    "executionInfo": {
     "elapsed": 145,
     "status": "ok",
     "timestamp": 1643578961755,
     "user": {
      "displayName": "Jonathan Barrios",
      "photoUrl": "https://lh3.googleusercontent.com/a-/AOh14Gj_KFXU5phanoATkzhhR3Yb2zDYFB4nnTYMF3cP=s64",
      "userId": "16097537147383230085"
     },
     "user_tz": 360
    },
    "id": "tzYecN_EShX9",
    "outputId": "733ab0db-bd55-403d-fc68-f01a9d2808da"
   },
   "outputs": [
    {
     "name": "stdout",
     "output_type": "stream",
     "text": [
      "0\n",
      "1\n",
      "2\n",
      "3\n",
      "4\n",
      "3\n",
      "4\n",
      "5\n",
      "3\n",
      "5\n",
      "7\n"
     ]
    }
   ],
   "source": [
    "# Prints out the numbers 0 to n\n",
    "for n in range(5):\n",
    "    print(n)\n",
    "\n",
    "# Prints out 3,4,5 (3 to 6, not including 6)\n",
    "for n in range(3, 6):\n",
    "    print(n)\n",
    "\n",
    "# Prints out 3,5,7 (from 3 to 8, not including 8, in steps of 2)\n",
    "for n in range(3, 8, 2):\n",
    "    print(n)"
   ]
  },
  {
   "cell_type": "markdown",
   "metadata": {
    "id": "fUEn8otpSl3S"
   },
   "source": [
    "\n",
    "\n",
    "The last range function accepted three arguments, so we can move in steps. `From 3 to 8, not including 8 in steps of 2`.\n",
    "\n",
    "> Note: that the range function is zero-based.\n",
    "\n",
    "You can also iterate through a list of names. For example:"
   ]
  },
  {
   "cell_type": "code",
   "execution_count": null,
   "metadata": {
    "id": "BNc8ONGnShwX"
   },
   "outputs": [],
   "source": [
    "# a list of names\n",
    "list_name = [\"Constance\", \"Octavia\", \"Hannah\"]\n",
    "\n",
    "# for every name in list_name, print name\n",
    "for name in list_name:\n",
    "    print(name)"
   ]
  },
  {
   "cell_type": "code",
   "execution_count": null,
   "metadata": {
    "id": "XqpW_O4n0FDi"
   },
   "outputs": [],
   "source": [
    "# a list of names\n",
    "list_name = [\"Constance\", \"Octavia\", \"Hannah\"]\n",
    "\n",
    "for n in list_name:\n",
    "  if n == \"Hannah\":\n",
    "    break # Shaun caused the loop to break or stop\n",
    "  print(n)"
   ]
  },
  {
   "cell_type": "code",
   "execution_count": null,
   "metadata": {
    "id": "XXht-Vqw0nln"
   },
   "outputs": [],
   "source": [
    "# a list of names\n",
    "list_name = [\"Constance\", \"Octavia\", \"Hannah\"]\n",
    "\n",
    "for n in list_name:\n",
    "  if n == \"Hannah\":\n",
    "    continue # skip Hannah\n",
    "  print(n)"
   ]
  },
  {
   "cell_type": "markdown",
   "metadata": {},
   "source": [
    "## Data Cleaning Example\n",
    "List comprehensions provide a concise way to create lists. Common applications are to make new lists where each element is the result of some operations applied to each member of another sequence or iterable, or to create a subsequence of those elements that satisfy a certain condition."
   ]
  },
  {
   "cell_type": "code",
   "execution_count": 1,
   "metadata": {},
   "outputs": [
    {
     "data": {
      "text/plain": [
       "['1.21', '2.29', '14.52', '6.13', '24.36', '33.85', '1.92']"
      ]
     },
     "execution_count": 1,
     "metadata": {},
     "output_type": "execute_result"
    }
   ],
   "source": [
    "sales = ['$1.21', '$2.29', '$14.52', '$6.13', '$24.36', '$33.85', '$1.92']\n",
    "[s.lstrip(\"$\") for s in sales]"
   ]
  },
  {
   "cell_type": "code",
   "execution_count": 2,
   "metadata": {},
   "outputs": [
    {
     "data": {
      "text/plain": [
       "['1.21', '2.29', '14.52', '6.13', '24.36', '33.85', '1.92']"
      ]
     },
     "execution_count": 2,
     "metadata": {},
     "output_type": "execute_result"
    }
   ],
   "source": [
    "[sales[i].strip('$') for i in range(len(sales))]"
   ]
  }
 ],
 "metadata": {
  "colab": {
   "collapsed_sections": [],
   "name": "6_3_for_loops_FINISH.ipynb",
   "provenance": []
  },
  "kernelspec": {
   "display_name": "Python 3.9.6 64-bit",
   "language": "python",
   "name": "python3"
  },
  "language_info": {
   "codemirror_mode": {
    "name": "ipython",
    "version": 3
   },
   "file_extension": ".py",
   "mimetype": "text/x-python",
   "name": "python",
   "nbconvert_exporter": "python",
   "pygments_lexer": "ipython3",
   "version": "3.9.6"
  },
  "vscode": {
   "interpreter": {
    "hash": "31f2aee4e71d21fbe5cf8b01ff0e069b9275f58929596ceb00d14d90e3e16cd6"
   }
  }
 },
 "nbformat": 4,
 "nbformat_minor": 1
}
