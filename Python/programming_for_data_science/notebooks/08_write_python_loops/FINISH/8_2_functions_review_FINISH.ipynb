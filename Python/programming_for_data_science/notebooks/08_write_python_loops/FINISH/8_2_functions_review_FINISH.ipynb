{
 "cells": [
  {
   "cell_type": "markdown",
   "metadata": {
    "id": "gOFmiiYPKfk9"
   },
   "source": [
    "## Functions\n",
    "\n",
    "You already how to write and call functions, great. Let's review functions and why we are learning them. For example, we can use fucntions when you need to repeat the same logic over and over. Let's explore this in the cell bellow using an auction simulation."
   ]
  },
  {
   "cell_type": "code",
   "execution_count": 16,
   "metadata": {},
   "outputs": [
    {
     "name": "stdout",
     "output_type": "stream",
     "text": [
      "What is the price? 100\n",
      "The total is $122.50\n"
     ]
    }
   ],
   "source": [
    "# price\n",
    "price = int(input(\"What is the price? \"))\n",
    "\n",
    "# tax, surcharge, and deposit\n",
    "total =  price + (price * .20) + 2.50\n",
    "# print(f\"The total is ${total}\")\n",
    "print(\"The total is ${:.2f}\".format(total))"
   ]
  },
  {
   "cell_type": "code",
   "execution_count": 1,
   "metadata": {},
   "outputs": [],
   "source": [
    "# price\n",
    "price = int(input(\"What is the price? \"))\n",
    "\n",
    "# customer 1 total\n",
    "total_1 = price + (price * .20) + 2.50 \n",
    "\n",
    "# customer 2 total\n",
    "total_2 = price + (price * .20) + 1.50\n",
    "\n",
    "# customer 3 total\n",
    "total_3 = price + (price * .10) + .10\n",
    "\n",
    "print(\"The total is ${:.2f}, ${:.2f}, ${:.2f}\".format(total_1, total_2, total_3))"
   ]
  },
  {
   "cell_type": "code",
   "execution_count": 24,
   "metadata": {},
   "outputs": [
    {
     "name": "stdout",
     "output_type": "stream",
     "text": [
      "What is the price? 100\n",
      "122.5 121.5 110.1\n"
     ]
    }
   ],
   "source": [
    "# price\n",
    "price = int(input(\"What is the price? \"))\n",
    "\n",
    "# function\n",
    "def totaler(price, charge, deposit):\n",
    "    return price + (price * charge) + deposit\n",
    "    \n",
    "\n",
    "# totals\n",
    "total_1 = totaler(price, .20, 2.50) \n",
    "total_2 = totaler(price, .20, 1.50) \n",
    "total_3 = totaler(price, .10, .10) \n",
    "\n",
    "print(\"The total is ${:.2f}\".format(total_1, total_2, total_3))"
   ]
  }
 ],
 "metadata": {
  "colab": {
   "authorship_tag": "ABX9TyPuFdBAZYYbapk1MKLhYl1h",
   "collapsed_sections": [],
   "name": "6_2_if_statements_FINISH.ipynb",
   "provenance": []
  },
  "kernelspec": {
   "display_name": "Python 3.9.6 64-bit",
   "language": "python",
   "name": "python3"
  },
  "language_info": {
   "codemirror_mode": {
    "name": "ipython",
    "version": 3
   },
   "file_extension": ".py",
   "mimetype": "text/x-python",
   "name": "python",
   "nbconvert_exporter": "python",
   "pygments_lexer": "ipython3",
   "version": "3.9.6"
  },
  "vscode": {
   "interpreter": {
    "hash": "31f2aee4e71d21fbe5cf8b01ff0e069b9275f58929596ceb00d14d90e3e16cd6"
   }
  }
 },
 "nbformat": 4,
 "nbformat_minor": 1
}
