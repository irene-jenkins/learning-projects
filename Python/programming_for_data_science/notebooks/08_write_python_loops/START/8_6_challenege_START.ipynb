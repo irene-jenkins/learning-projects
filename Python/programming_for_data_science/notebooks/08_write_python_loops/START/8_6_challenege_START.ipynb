{
 "cells": [
  {
   "cell_type": "markdown",
   "metadata": {
    "id": "OSU70a_c11Se"
   },
   "source": [
    "# The if, elif, and else functions challenge\n",
    "\n",
    "Write a function that asks the user how many crypto coins they want to buy, then calculate the cost at $0.00012 per coin. The final output should ask the user to deposit the amount needed to buy `n` number of coins."
   ]
  },
  {
   "cell_type": "code",
   "execution_count": null,
   "metadata": {
    "id": "EgvV5yzXLpqy"
   },
   "outputs": [],
   "source": [
    "# ask the user to enter the number of crypto coins they wish to buy \n",
    "# assign the input to variable: request\n",
    "\n",
    "# create a function named: crypto_calc with coins as the parameter\n",
    "\n",
    "  # assign that value to a variable named: coin_order\n",
    "  # multiply coins times $0.00012 per coin\n",
    "\n",
    "\n",
    "  # return a string, using the .format() method, informing the user\n",
    "  # how much they will need to deposit in order to buy the coins\n",
    " \n",
    "\n",
    "# call the function and pass in request as the argument\n"
   ]
  },
  {
   "cell_type": "markdown",
   "metadata": {
    "id": "GKtD7760__hn"
   },
   "source": [
    "### Write a function that asks users to enter their age to verify they can enter the bar\n",
    "\n"
   ]
  },
  {
   "cell_type": "code",
   "execution_count": null,
   "metadata": {
    "id": "J2KqxKiB-YNF"
   },
   "outputs": [],
   "source": [
    "# ask the user to enter their age and assign that value to a variable named: age\n",
    "\n",
    "# create a function named: age_calc with age as the parameter\n",
    "\n",
    "  # if they are over or equal to 21 years of age\n",
    "\n",
    "    # return a message using the .format() method, informing the user they can enter the bar\n",
    "\n",
    "  # else if they are over or equal to 18 and less than 21\n",
    "\n",
    "    # return a message using the .format() method, informing the user they can dine but not drink alcohol at the bar\n",
    "\n",
    "  # otherwise \n",
    "\n",
    "    # return a message using the .format() method, informing the user they can't enter the bar because they are under the required age to enter.\n",
    "\n",
    "# call the function and pass in the user input as the argument\n"
   ]
  },
  {
   "cell_type": "markdown",
   "metadata": {
    "id": "l0tL5ym7CBeo"
   },
   "source": [
    "### Create a countdown loop to simulate a Space-X launch"
   ]
  },
  {
   "cell_type": "code",
   "execution_count": null,
   "metadata": {
    "id": "YF-gMFCECPJ4"
   },
   "outputs": [],
   "source": [
    "# assign the value 10 to a variable named: count\n",
    "\n",
    "\n",
    "# while count is greater than 0\n",
    "\n",
    "  # print the count using the format: T-minus 10, T-minus 9, and so on\n",
    "\n",
    "  # substract 1 from count\n",
    "\n",
    "# print \"Blast off! 🚀\"\n"
   ]
  },
  {
   "cell_type": "markdown",
   "metadata": {
    "id": "5PhM9lDSjgWq"
   },
   "source": [
    "## Two solutions"
   ]
  },
  {
   "cell_type": "code",
   "execution_count": null,
   "metadata": {
    "id": "8_nYcfHfjqI_"
   },
   "outputs": [],
   "source": [
    "count = 10\n",
    "\n",
    "while count:\n",
    "  print(\"T-minus {}\".format(count))\n",
    "  count -= 1\n",
    "print(\"Blast off! 🚀\")"
   ]
  },
  {
   "cell_type": "code",
   "execution_count": null,
   "metadata": {
    "id": "k4TjTpuzDlMF"
   },
   "outputs": [],
   "source": [
    "count = 10\n",
    "\n",
    "for count in range(10,0,-1):\n",
    " print(\"T-minus {}\".format(count))\n",
    "print(\"Blast off! 🚀\")"
   ]
  }
 ],
 "metadata": {
  "colab": {
   "authorship_tag": "ABX9TyN/s4/+fJXwtKphlT8AZHzh",
   "collapsed_sections": [
    "OSU70a_c11Se",
    "GKtD7760__hn",
    "l0tL5ym7CBeo",
    "5PhM9lDSjgWq"
   ],
   "name": "6_5_challenege_START.ipynb",
   "provenance": []
  },
  "kernelspec": {
   "display_name": "Python 3 (ipykernel)",
   "language": "python",
   "name": "python3"
  },
  "language_info": {
   "codemirror_mode": {
    "name": "ipython",
    "version": 3
   },
   "file_extension": ".py",
   "mimetype": "text/x-python",
   "name": "python",
   "nbconvert_exporter": "python",
   "pygments_lexer": "ipython3",
   "version": "3.9.6"
  }
 },
 "nbformat": 4,
 "nbformat_minor": 1
}
