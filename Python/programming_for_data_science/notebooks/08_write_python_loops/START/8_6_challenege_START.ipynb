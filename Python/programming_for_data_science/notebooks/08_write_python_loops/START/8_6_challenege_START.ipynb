{
 "cells": [
  {
   "cell_type": "markdown",
   "metadata": {
    "id": "OSU70a_c11Se"
   },
   "source": [
    "# The if, elif, and else functions challenge\n",
    "\n",
    "Write a function that asks the user how many crypto coins they want to buy, then calculate the cost at $0.00012 per coin. The final output should ask the user to deposit the amount needed to buy `n` number of coins."
   ]
  },
  {
   "cell_type": "code",
   "execution_count": 3,
   "metadata": {
    "id": "EgvV5yzXLpqy"
   },
   "outputs": [
    {
     "name": "stdout",
     "output_type": "stream",
     "text": [
      "How many crypto coins would you like to buy?1000\n",
      "Please deposit $0.12 to purchase 1000 coins.\n"
     ]
    }
   ],
   "source": [
    "# ask the user to enter the number of crypto coins they wish to buy \n",
    "# assign the input to variable: request\n",
    "request = int(input(\"How many crypto coins would you like to buy?\"))\n",
    "# create a function named: crypto_calc with coins as the parameter\n",
    "def crypto_calc(coins):\n",
    "  # assign that value to a variable named: coin_order\n",
    "  # multiply coins times $0.00012 per coin\n",
    "    coin_order = coins * 0.00012\n",
    "    print(\"Please deposit ${:.2f} to purchase {} coins.\".format(coin_order,request))\n",
    "  # return a string, using the .format() method, informing the user\n",
    "  # how much they will need to deposit in order to buy the coins\n",
    " \n",
    "\n",
    "# call the function and pass in request as the argument\n",
    "crypto_calc(request)"
   ]
  },
  {
   "cell_type": "markdown",
   "metadata": {
    "id": "GKtD7760__hn"
   },
   "source": [
    "### Write a function that asks users to enter their age to verify they can enter the bar\n",
    "\n"
   ]
  },
  {
   "cell_type": "code",
   "execution_count": 8,
   "metadata": {
    "id": "J2KqxKiB-YNF"
   },
   "outputs": [
    {
     "name": "stdout",
     "output_type": "stream",
     "text": [
      "Please enter your age.20\n",
      "Because you are 20, you may dine here but not drink alcohol at the bar.\n"
     ]
    }
   ],
   "source": [
    "# ask the user to enter their age and assign that value to a variable named: age\n",
    "age = int(input( \"Please enter your age.\"))\n",
    "# create a function named: age_calc with age as the parameter\n",
    "def age_calc(age):\n",
    "  # if they are over or equal to 21 years of age\n",
    "    if age >= 21:\n",
    "    # return a message using the .format() method, informing the user they can enter the bar\n",
    "        print(\"Because you are {}, you may enter the bar.\".format(age))\n",
    "  # else if they are over or equal to 18 and less than 21\n",
    "    elif age < 21 and age >= 18:\n",
    "    # return a message using the .format() method, informing the user they can dine but not drink alcohol at the bar\n",
    "        print(\"Because you are {}, you may dine here but not drink alcohol at the bar.\".format(age))\n",
    "  # otherwise \n",
    "    else:\n",
    "    # return a message using the .format() method, informing the user they can't enter the bar because they are under the required age to enter.\n",
    "        print(\"Because you are {}, you may not enter the bar.\".format(age))\n",
    "# call the function and pass in the user input as the argument\n",
    "age_calc(age)"
   ]
  },
  {
   "cell_type": "markdown",
   "metadata": {
    "id": "l0tL5ym7CBeo"
   },
   "source": [
    "### Create a countdown loop to simulate a Space-X launch"
   ]
  },
  {
   "cell_type": "code",
   "execution_count": 11,
   "metadata": {
    "id": "YF-gMFCECPJ4"
   },
   "outputs": [
    {
     "name": "stdout",
     "output_type": "stream",
     "text": [
      "T-minus 10\n",
      "T-minus 9\n",
      "T-minus 8\n",
      "T-minus 7\n",
      "T-minus 6\n",
      "T-minus 5\n",
      "T-minus 4\n",
      "T-minus 3\n",
      "T-minus 2\n",
      "T-minus 1\n",
      "Blast off!\n"
     ]
    }
   ],
   "source": [
    "# assign the value 10 to a variable named: count\n",
    "count = 10\n",
    "\n",
    "# while count is greater than 0\n",
    "while count > 0:\n",
    "  # print the count using the format: T-minus 10, T-minus 9, and so on\n",
    "    print(f\"T-minus {count}\") #this is an f string\n",
    "  # substract 1 from count\n",
    "    count -= 1\n",
    "# print \"Blast off! 🚀\"\n",
    "print(\"Blast off!\")"
   ]
  },
  {
   "cell_type": "markdown",
   "metadata": {
    "id": "5PhM9lDSjgWq"
   },
   "source": [
    "## Two solutions"
   ]
  },
  {
   "cell_type": "code",
   "execution_count": null,
   "metadata": {
    "id": "8_nYcfHfjqI_"
   },
   "outputs": [],
   "source": [
    "count = 10\n",
    "\n",
    "while count:\n",
    "  print(\"T-minus {}\".format(count))\n",
    "  count -= 1\n",
    "print(\"Blast off! 🚀\")"
   ]
  },
  {
   "cell_type": "code",
   "execution_count": null,
   "metadata": {
    "id": "k4TjTpuzDlMF"
   },
   "outputs": [],
   "source": [
    "count = 10\n",
    "\n",
    "for count in range(10,0,-1):\n",
    " print(\"T-minus {}\".format(count))\n",
    "print(\"Blast off! 🚀\")"
   ]
  }
 ],
 "metadata": {
  "colab": {
   "authorship_tag": "ABX9TyN/s4/+fJXwtKphlT8AZHzh",
   "collapsed_sections": [
    "OSU70a_c11Se",
    "GKtD7760__hn",
    "l0tL5ym7CBeo",
    "5PhM9lDSjgWq"
   ],
   "name": "6_5_challenege_START.ipynb",
   "provenance": []
  },
  "kernelspec": {
   "display_name": "Python 3 (ipykernel)",
   "language": "python",
   "name": "python3"
  },
  "language_info": {
   "codemirror_mode": {
    "name": "ipython",
    "version": 3
   },
   "file_extension": ".py",
   "mimetype": "text/x-python",
   "name": "python",
   "nbconvert_exporter": "python",
   "pygments_lexer": "ipython3",
   "version": "3.11.5"
  }
 },
 "nbformat": 4,
 "nbformat_minor": 1
}
