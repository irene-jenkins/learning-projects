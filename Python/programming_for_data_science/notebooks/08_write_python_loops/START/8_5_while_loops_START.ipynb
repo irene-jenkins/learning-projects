{
 "cells": [
  {
   "cell_type": "markdown",
   "metadata": {
    "id": "YWF5yOtMgmxf"
   },
   "source": [
    "# While loops\n",
    "\n",
    "While loops execute statements as long as the condition is true."
   ]
  },
  {
   "cell_type": "code",
   "execution_count": null,
   "metadata": {
    "id": "rItu0YPmkExR"
   },
   "outputs": [],
   "source": [
    "# assign the value 1 to a variable named: i\n",
    "\n",
    "# while i is less than 11\n",
    "\n",
    "  # print i\n",
    "\n",
    "  # add the value 1 to i\n"
   ]
  },
  {
   "cell_type": "markdown",
   "metadata": {
    "id": "M5dGB0B_koco"
   },
   "source": [
    "## Break"
   ]
  },
  {
   "cell_type": "code",
   "execution_count": null,
   "metadata": {
    "id": "RacB3GeZk2FL"
   },
   "outputs": [],
   "source": [
    "# assign the value 1 to a variable named: i\n",
    "\n",
    "# while i is less than 11\n",
    "\n",
    "  # print i\n",
    "\n",
    "  # if i equals 7\n",
    "\n",
    "    # break the loop\n",
    "\n",
    "  # add 2 to i  \n"
   ]
  },
  {
   "cell_type": "markdown",
   "metadata": {
    "id": "jkkqYT0dmA-a"
   },
   "source": [
    "## Continue"
   ]
  },
  {
   "cell_type": "code",
   "execution_count": null,
   "metadata": {
    "id": "tnvaai-9k4T1"
   },
   "outputs": [],
   "source": [
    "# assign the value 1 to a variable named: i\n",
    "\n",
    "# while i is less than 11\n",
    "\n",
    "  # add 2 to i\n",
    "\n",
    "  # if equals 7\n",
    "\n",
    "    # continue\n",
    "\n",
    "  #print i    \n"
   ]
  },
  {
   "cell_type": "markdown",
   "metadata": {
    "id": "Rk7T8gy0mBR4"
   },
   "source": [
    "## Else"
   ]
  },
  {
   "cell_type": "code",
   "execution_count": null,
   "metadata": {
    "id": "TMIRZ-VllC48"
   },
   "outputs": [],
   "source": [
    "# assign the value 1 to a variable named: i\n",
    "\n",
    "# while i is less than or equal to 11\n",
    "\n",
    "  # print i\n",
    "\n",
    "  # add 2 to i\n",
    "\n",
    "# else  \n",
    "\n",
    "  # print \"i is now greater than 11\"\n"
   ]
  },
  {
   "cell_type": "markdown",
   "metadata": {
    "id": "fOhO7vf-9rwj"
   },
   "source": [
    "## Infinite loops $\\large ∞$"
   ]
  },
  {
   "cell_type": "code",
   "execution_count": null,
   "metadata": {
    "id": "uuzd7rGw9zYf"
   },
   "outputs": [],
   "source": [
    "while True:\n",
    "  print(\"Always and Forever\")\n",
    "  break # if I remove this, it will go on always and forever\n",
    "        # which will crash the session 💥"
   ]
  }
 ],
 "metadata": {
  "colab": {
   "collapsed_sections": [
    "YWF5yOtMgmxf",
    "M5dGB0B_koco",
    "jkkqYT0dmA-a",
    "Rk7T8gy0mBR4",
    "fOhO7vf-9rwj"
   ],
   "name": "6_4_while_loops_START.ipynb",
   "provenance": []
  },
  "kernelspec": {
   "display_name": "Python 3 (ipykernel)",
   "language": "python",
   "name": "python3"
  },
  "language_info": {
   "codemirror_mode": {
    "name": "ipython",
    "version": 3
   },
   "file_extension": ".py",
   "mimetype": "text/x-python",
   "name": "python",
   "nbconvert_exporter": "python",
   "pygments_lexer": "ipython3",
   "version": "3.9.6"
  }
 },
 "nbformat": 4,
 "nbformat_minor": 1
}
