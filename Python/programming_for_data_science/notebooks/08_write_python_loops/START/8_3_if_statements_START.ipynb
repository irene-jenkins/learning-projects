{
 "cells": [
  {
   "cell_type": "markdown",
   "metadata": {
    "id": "gOFmiiYPKfk9"
   },
   "source": [
    "## if, elif, and else\n",
    "\n",
    "You already know about `if` statements, so let's add `else` and  `elif` to the mix. \n",
    "\n",
    "`elif` is short for **else if**. For example, `if` is the first conditional expression, and if you need more, use `elif`. When you use `if` and `elif`, the last expression is normally `else.` `else` is an expression that runs when `if` and `elif` have run or were skipped. So it makes sense that it is used as the last expression. \n",
    "\n",
    "You can use as many `elif` expressions as you need but remember not to repeat yourself. That said, the example below is not a DRY example but clearly illustrates the use of many `elif` expressions."
   ]
  },
  {
   "cell_type": "code",
   "execution_count": 3,
   "metadata": {
    "id": "5_0iGUZGJfQ9"
   },
   "outputs": [
    {
     "name": "stdout",
     "output_type": "stream",
     "text": [
      "else is True\n"
     ]
    }
   ],
   "source": [
    "# if true\n",
    "if False:\n",
    "  # do this and break loop\n",
    "    print(\"if is True\")\n",
    "\n",
    "elif False:\n",
    "    print(\"elif is True \")\n",
    "\n",
    "else:\n",
    "    print(\"else is True\")"
   ]
  },
  {
   "cell_type": "markdown",
   "metadata": {
    "id": "FbDJVyT3zEDH"
   },
   "source": [
    "### `if`, `elif`, and `else` combined with comparison operators"
   ]
  },
  {
   "cell_type": "code",
   "execution_count": 4,
   "metadata": {
    "id": "UapawgINtpVs"
   },
   "outputs": [
    {
     "name": "stdout",
     "output_type": "stream",
     "text": [
      "number must be less than 6 or greater than 9\n"
     ]
    }
   ],
   "source": [
    "# assign the value 1 to variable: number\n",
    "number = 1\n",
    "\n",
    "# check if a equals 9, then 8, then 7, then 6\n",
    "if number == 9:\n",
    "    print(\"number is 9\")\n",
    "elif number == 8:\n",
    "    print(\"number is 8\")\n",
    "elif number == 7:\n",
    "    print(\"number is 7\")\n",
    "elif number == 6:\n",
    "    print(\"number is 6\")\n",
    "else: \n",
    "    print(\"number must be less than 6 or greater than 9\")\n",
    "    \n",
    "\n",
    "# otherwise print: \"The number must be less than 6 or greater than 9.\"\n"
   ]
  },
  {
   "cell_type": "markdown",
   "metadata": {
    "id": "Xmcr1GeCuSve"
   },
   "source": [
    "[Python Tutor Example](https://pythontutor.com/visualize.html#code=a%20%3D%201%0A%0Aif%20a%20%3D%3D%209%3A%0A%20%20print%28%22The%20number%20is%209%22%29%0Aelif%20a%20%3D%3D%208%3A%0A%20%20print%28%22The%20number%20is%208%22%29%0Aelif%20a%20%3D%3D%207%3A%0A%20%20print%28%22The%20number%20is%207%22%29%0Aelif%20a%20%3D%3D%206%3A%0A%20%20print%28%22The%20number%20is%206%22%29%0Aelse%3A%0A%20%20print%28%22The%20number%20must%20be%20less%20than%206%20or%20greater%20than%209%22%29&cumulative=false&heapPrimitives=nevernest&mode=edit&origin=opt-frontend.js&py=3&rawInputLstJSON=%5B%5D&textReferences=false)"
   ]
  },
  {
   "cell_type": "markdown",
   "metadata": {
    "id": "WuaD7_n17pby"
   },
   "source": [
    "## Combining the `if` and `else` statements with functions\n",
    "\n",
    "Imagine all the different functions you could write using Python operators combined with `if` and `else` statements! \n",
    "\n",
    "The most important thing to master writing functions is to practice writing them often. You will get a chance to practice writing functions in the challenge at the end of this skill. \n",
    "\n",
    "For now, let's use the membership operators inside of our custom function to double-check our grocery list."
   ]
  },
  {
   "cell_type": "code",
   "execution_count": 19,
   "metadata": {
    "id": "gCdldUX08fqD"
   },
   "outputs": [],
   "source": [
    "# define a function named: grocery_checker\n",
    "def grocery_checker():\n",
    "  # create and display the list: grocery_list = [\"milk\", \"eggs\"]\n",
    "    grocery_list = [\"milk\", \"eggs\"]\n",
    "    print(grocery_list)\n",
    "  # ask the user for input on what they want to add and assign to variable: item\n",
    "    item = input(\"What would you like to add to this list?\")\n",
    "  # check if the item is not in the current list in lowercase\n",
    "    if item.lower() not in grocery_list:\n",
    "    # if not on the list, add it here in lowercase\n",
    "        grocery_list.append(item.lower())\n",
    "    # print message showing which item was added then show the updated list\n",
    "        print(\"{} was added to your list.\".format(item.capitalize()))\n",
    "        print(grocery_list)\n",
    "  # if an item is not in the list, print a message: \n",
    "  # \"You already have that item on your list! Nice! 😀\"\n",
    "    else:\n",
    "        print(\"You already have that item on your list! Nice! 😀\")\n"
   ]
  },
  {
   "cell_type": "code",
   "execution_count": 20,
   "metadata": {
    "id": "xR_no8Xv92bD"
   },
   "outputs": [
    {
     "name": "stdout",
     "output_type": "stream",
     "text": [
      "['milk', 'eggs']\n",
      "What would you like to add to this list?sugar\n",
      "Sugar was added to your list.\n",
      "['milk', 'eggs', 'sugar']\n"
     ]
    }
   ],
   "source": [
    "# call the grocery_check function\n",
    "grocery_checker()"
   ]
  },
  {
   "cell_type": "markdown",
   "metadata": {
    "id": "eLuZZyLdVJdn"
   },
   "source": [
    "## Solution"
   ]
  },
  {
   "cell_type": "code",
   "execution_count": 15,
   "metadata": {
    "id": "v1GqljPf94WO"
   },
   "outputs": [],
   "source": [
    "def grocery_checker():\n",
    "  grocery_list = [\"milk\", \"eggs\"]\n",
    "  print(\"Here is your list: {}\".format(grocery_list))\n",
    "  item = input(\"What item do you want to buy? \")\n",
    "  if item.lower() not in grocery_list:\n",
    "    grocery_list.append(item.lower())\n",
    "    print('Added to the list: ' + grocery_list[-1])\n",
    "    print(grocery_list)\n",
    "  else:\n",
    "    print(\"You already have that item on your list! Nice! 😀\")"
   ]
  },
  {
   "cell_type": "code",
   "execution_count": 16,
   "metadata": {
    "id": "4vxu8Uek_Bfz"
   },
   "outputs": [
    {
     "name": "stdout",
     "output_type": "stream",
     "text": [
      "Here is your list: ['milk', 'eggs']\n",
      "What item do you want to buy? sugar\n",
      "Added to the list: sugar\n",
      "['milk', 'eggs', 'sugar']\n"
     ]
    }
   ],
   "source": [
    "grocery_checker()"
   ]
  },
  {
   "cell_type": "code",
   "execution_count": null,
   "metadata": {},
   "outputs": [],
   "source": []
  }
 ],
 "metadata": {
  "colab": {
   "authorship_tag": "ABX9TyNqVfzt3DSubbSRvrbm/7ff",
   "collapsed_sections": [],
   "name": "6_2_if_statements_START.ipynb",
   "provenance": []
  },
  "kernelspec": {
   "display_name": "Python 3 (ipykernel)",
   "language": "python",
   "name": "python3"
  },
  "language_info": {
   "codemirror_mode": {
    "name": "ipython",
    "version": 3
   },
   "file_extension": ".py",
   "mimetype": "text/x-python",
   "name": "python",
   "nbconvert_exporter": "python",
   "pygments_lexer": "ipython3",
   "version": "3.11.5"
  }
 },
 "nbformat": 4,
 "nbformat_minor": 1
}
