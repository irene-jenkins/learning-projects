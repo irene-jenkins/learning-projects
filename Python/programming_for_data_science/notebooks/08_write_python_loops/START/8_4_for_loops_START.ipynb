{
 "cells": [
  {
   "cell_type": "markdown",
   "metadata": {
    "id": "YWF5yOtMgmxf"
   },
   "source": [
    "## For loops\n",
    "\n",
    "`For` loops iterate over a given sequence, for example:\n"
   ]
  },
  {
   "cell_type": "code",
   "execution_count": null,
   "metadata": {
    "id": "tzYecN_EShX9"
   },
   "outputs": [],
   "source": [
    "# write a for loop that prints out the numbers 0 to n\n",
    "\n",
    "\n",
    "# write a for loop that out 3,4,5 (3 to 6, not including 6)\n",
    "\n",
    "\n",
    "# write a for loop that out 3,5,7 (from 3 to 8, not including 8, in steps of 2)\n"
   ]
  },
  {
   "cell_type": "markdown",
   "metadata": {
    "id": "fUEn8otpSl3S"
   },
   "source": [
    "The last range function accepted three arguments, so we can move in steps. `From 3 to 8, not including 8 in steps of 2`.\n",
    "\n",
    "> Note: that the range function is zero-based.\n",
    "\n",
    "You can also iterate through a list of names. For example:"
   ]
  },
  {
   "cell_type": "code",
   "execution_count": null,
   "metadata": {
    "id": "BNc8ONGnShwX"
   },
   "outputs": [],
   "source": [
    "# assign a list with \"Constance\", \"Octavia\", \"Hannah\" to a variable named: list_name\n",
    "\n",
    "\n",
    "# for every name in list_name, print name\n"
   ]
  },
  {
   "cell_type": "code",
   "execution_count": null,
   "metadata": {
    "id": "XqpW_O4n0FDi"
   },
   "outputs": [],
   "source": [
    "# assign a list with \"Constance\", \"Octavia\", \"Hannah\" to a variable named: list_name\n",
    "\n",
    "\n",
    "# for every name in list_name\n",
    "\n",
    "  # check if name equals \"Hannah\"\n",
    "\n",
    "    # if so, break the loop\n",
    "\n",
    "  # print name (outside of the if statement scope) \n"
   ]
  },
  {
   "cell_type": "code",
   "execution_count": null,
   "metadata": {
    "id": "XXht-Vqw0nln"
   },
   "outputs": [],
   "source": [
    "# assign a list with \"Constance\", \"Octavia\", \"Hannah\" to a variable named: list_name\n",
    "\n",
    "# for every name in list_name\n",
    "\n",
    "  # check if name equals \"Hannah\"\n",
    "\n",
    "    # if so, continue the loop (skips Hannah)\n",
    "\n",
    "  # print name (outside of the if statement scope) \n"
   ]
  },
  {
   "cell_type": "markdown",
   "metadata": {},
   "source": [
    "## Data Cleaning Example\n",
    "List comprehensions provide a concise way to create lists. Common applications are to make new lists where each element is the result of some operations applied to each member of another sequence or iterable, or to create a subsequence of those elements that satisfy a certain condition."
   ]
  },
  {
   "cell_type": "code",
   "execution_count": null,
   "metadata": {},
   "outputs": [],
   "source": [
    "sales = ['$1.21', '$2.29', '$14.52', '$6.13', '$24.36', '$33.85', '$1.92']\n",
    "[s.lstrip(\"$\") for s in sales]"
   ]
  },
  {
   "cell_type": "code",
   "execution_count": null,
   "metadata": {},
   "outputs": [],
   "source": [
    "[sales[i].strip('$') for i in range(len(sales))]\n",
    "sales"
   ]
  }
 ],
 "metadata": {
  "colab": {
   "collapsed_sections": [],
   "name": "6_3_for_loops_START.ipynb",
   "provenance": []
  },
  "kernelspec": {
   "display_name": "Python 3 (ipykernel)",
   "language": "python",
   "name": "python3"
  },
  "language_info": {
   "codemirror_mode": {
    "name": "ipython",
    "version": 3
   },
   "file_extension": ".py",
   "mimetype": "text/x-python",
   "name": "python",
   "nbconvert_exporter": "python",
   "pygments_lexer": "ipython3",
   "version": "3.9.6"
  }
 },
 "nbformat": 4,
 "nbformat_minor": 1
}
