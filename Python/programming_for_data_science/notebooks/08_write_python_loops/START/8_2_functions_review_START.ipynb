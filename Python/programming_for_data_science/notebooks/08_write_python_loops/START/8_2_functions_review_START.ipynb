{
 "cells": [
  {
   "cell_type": "markdown",
   "metadata": {
    "id": "gOFmiiYPKfk9"
   },
   "source": [
    "## Functions\n",
    "\n",
    "You already how to write and call functions, great. Let's review functions and why we are learning them. For example, we can use fucntions when you need to repeat the same logic over and over. Let's explore this in the cell bellow using an auction simulation."
   ]
  },
  {
   "cell_type": "code",
   "execution_count": null,
   "metadata": {},
   "outputs": [],
   "source": [
    "# price\n",
    "\n",
    "\n",
    "# tax, surcharge, and deposit\n",
    "\n",
    "\n",
    "# print(f\"The total is ${total}\")\n"
   ]
  },
  {
   "cell_type": "code",
   "execution_count": null,
   "metadata": {},
   "outputs": [],
   "source": [
    "# price\n",
    "\n",
    "\n",
    "# customer 1 total\n",
    " \n",
    "\n",
    "# customer 2 total\n",
    "\n",
    "\n",
    "# customer 3 total\n",
    "\n",
    "\n"
   ]
  },
  {
   "cell_type": "code",
   "execution_count": null,
   "metadata": {
    "scrolled": true
   },
   "outputs": [],
   "source": [
    "# price\n",
    "\n",
    "\n",
    "# totaler function\n",
    "\n",
    "    \n",
    "\n",
    "# totals\n",
    "\n",
    "\n"
   ]
  }
 ],
 "metadata": {
  "colab": {
   "authorship_tag": "ABX9TyPuFdBAZYYbapk1MKLhYl1h",
   "collapsed_sections": [],
   "name": "6_2_if_statements_FINISH.ipynb",
   "provenance": []
  },
  "kernelspec": {
   "display_name": "Python 3 (ipykernel)",
   "language": "python",
   "name": "python3"
  },
  "language_info": {
   "codemirror_mode": {
    "name": "ipython",
    "version": 3
   },
   "file_extension": ".py",
   "mimetype": "text/x-python",
   "name": "python",
   "nbconvert_exporter": "python",
   "pygments_lexer": "ipython3",
   "version": "3.9.6"
  },
  "vscode": {
   "interpreter": {
    "hash": "31f2aee4e71d21fbe5cf8b01ff0e069b9275f58929596ceb00d14d90e3e16cd6"
   }
  }
 },
 "nbformat": 4,
 "nbformat_minor": 1
}
