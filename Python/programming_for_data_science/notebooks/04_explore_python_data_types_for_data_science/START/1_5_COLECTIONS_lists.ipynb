{
 "cells": [
  {
   "cell_type": "markdown",
   "metadata": {
    "id": "7d1hFuHRWnoB"
   },
   "source": [
    "# Collections\n",
    "There are four built-in data types in Python used to store collections of data:\n",
    "\n",
    "- `List` - a ordered collection, changeable, and allows for duplicate values\n",
    "- `Set` - a collection which is both unordered and unindexed\n",
    "- `Dictionary` - a collection of ordered\\*, changeable, and unique key-value pairs\n",
    "  > As of Python version 3.7, dictionaries are ordered. In Python 3.6 and earlier, dictionaries are unordered.\n",
    "- `Tuple` - a collection of unordered, unchangeable, and unique values\n",
    "\n",
    "A [list](https://docs.python.org/3/glossary.html#term-list) is much like an [array](https://en.wiktionary.org/wiki/array)—if you don't know these terms mean, click on each word to learn more."
   ]
  },
  {
   "cell_type": "markdown",
   "metadata": {
    "id": "1-xQKqDqW8Nh"
   },
   "source": [
    "## Lists\n",
    "Lists are mutable data structures that hold an ordered collection of items. That was a mouthful, so let's break it down, step by step. Mutable means you can make changes by adding or removing items from the list. Ordered means, they stay in order but not the same as sorted. Note that the terms collections, lists and arrays are somewhat interchangeable within the scope of computer science."
   ]
  },
  {
   "cell_type": "code",
   "execution_count": 1,
   "metadata": {
    "id": "KWcYnHpQXY-8"
   },
   "outputs": [
    {
     "data": {
      "text/plain": [
       "list"
      ]
     },
     "execution_count": 1,
     "metadata": {},
     "output_type": "execute_result"
    }
   ],
   "source": [
    "# list\n",
    "a = [1, 2, 3, 3, 4, True]\n",
    "# what data type is this\n",
    "type(a)"
   ]
  },
  {
   "cell_type": "code",
   "execution_count": 2,
   "metadata": {},
   "outputs": [
    {
     "data": {
      "text/plain": [
       "1"
      ]
     },
     "execution_count": 2,
     "metadata": {},
     "output_type": "execute_result"
    }
   ],
   "source": [
    "a[0]"
   ]
  },
  {
   "cell_type": "code",
   "execution_count": null,
   "metadata": {},
   "outputs": [],
   "source": []
  },
  {
   "cell_type": "code",
   "execution_count": null,
   "metadata": {},
   "outputs": [],
   "source": []
  }
 ],
 "metadata": {
  "colab": {
   "authorship_tag": "ABX9TyM72tbS3cDgqrJuL98MCWIM",
   "provenance": []
  },
  "kernelspec": {
   "display_name": "Python 3 (ipykernel)",
   "language": "python",
   "name": "python3"
  },
  "language_info": {
   "codemirror_mode": {
    "name": "ipython",
    "version": 3
   },
   "file_extension": ".py",
   "mimetype": "text/x-python",
   "name": "python",
   "nbconvert_exporter": "python",
   "pygments_lexer": "ipython3",
   "version": "3.11.5"
  },
  "vscode": {
   "interpreter": {
    "hash": "31f2aee4e71d21fbe5cf8b01ff0e069b9275f58929596ceb00d14d90e3e16cd6"
   }
  }
 },
 "nbformat": 4,
 "nbformat_minor": 1
}
