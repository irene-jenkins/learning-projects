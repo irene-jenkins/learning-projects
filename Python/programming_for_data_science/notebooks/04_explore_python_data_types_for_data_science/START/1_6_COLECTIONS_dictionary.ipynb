{
 "cells": [
  {
   "cell_type": "markdown",
   "metadata": {
    "id": "7d1hFuHRWnoB"
   },
   "source": [
    "# Collections\n",
    "There are four built-in data types in Python used to store collections of data:\n",
    "\n",
    "- `List` - a collection ordered, changeable, and duplicate values\n",
    "- `Set` - a collection which is both unordered and unindexed\n",
    "- `Dictionary` - a collection of ordered\\*, changeable, and unique key-value pairs\n",
    "  > As of Python version 3.7, dictionaries are ordered. In Python 3.6 and earlier, dictionaries are unordered.\n",
    "- `Tuple` - a collection of unordered, unchangeable, and unique values\n",
    "\n",
    "A [list](https://docs.python.org/3/glossary.html#term-list) is much like an [array](https://en.wiktionary.org/wiki/array)—if you don't know these terms mean, click on each word to learn more."
   ]
  },
  {
   "cell_type": "markdown",
   "metadata": {
    "id": "C9EKDcKyW_K_"
   },
   "source": [
    "## Dictionaries\n",
    "What is a dictionary? Unlike lists which contain an ordered list, a dictionary is unordered* after 3.7 they are ordered. Instead, dictionaries create associations between two pieces of information, called a key and value pair. Much like a real, dictionary, the word is the key and the definition is the value. When you want to connect one data to another. For example, when you want to map a state and capital, then use a dictionary, not a list. In this case, the identifier, or key, is the state which is associated with the value, which is the capital. We can use dictionaries with inventory as well. For example, when the key is `\"Macbook Pro\"` and the value is the price of the product which is `1799`. To conclude, a dictionary is a collection of one or more `key:value` pairs.\n"
   ]
  },
  {
   "cell_type": "code",
   "execution_count": null,
   "metadata": {
    "id": "v9qXsEpFXwx9"
   },
   "outputs": [],
   "source": [
    "# dictionary\n",
    "\n",
    "\n",
    "# what data type is this\n"
   ]
  },
  {
   "cell_type": "code",
   "execution_count": null,
   "metadata": {},
   "outputs": [],
   "source": []
  },
  {
   "cell_type": "code",
   "execution_count": null,
   "metadata": {},
   "outputs": [],
   "source": []
  }
 ],
 "metadata": {
  "colab": {
   "authorship_tag": "ABX9TyM72tbS3cDgqrJuL98MCWIM",
   "provenance": []
  },
  "kernelspec": {
   "display_name": "Python 3.9.6 64-bit",
   "language": "python",
   "name": "python3"
  },
  "language_info": {
   "codemirror_mode": {
    "name": "ipython",
    "version": 3
   },
   "file_extension": ".py",
   "mimetype": "text/x-python",
   "name": "python",
   "nbconvert_exporter": "python",
   "pygments_lexer": "ipython3",
   "version": "3.9.6"
  },
  "vscode": {
   "interpreter": {
    "hash": "31f2aee4e71d21fbe5cf8b01ff0e069b9275f58929596ceb00d14d90e3e16cd6"
   }
  }
 },
 "nbformat": 4,
 "nbformat_minor": 1
}
