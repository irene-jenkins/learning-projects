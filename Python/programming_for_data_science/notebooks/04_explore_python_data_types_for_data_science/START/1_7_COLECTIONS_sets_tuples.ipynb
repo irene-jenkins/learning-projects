{
 "cells": [
  {
   "cell_type": "markdown",
   "metadata": {
    "id": "7d1hFuHRWnoB"
   },
   "source": [
    "# Collections\n",
    "There are four built-in data types in Python used to store collections of data:\n",
    "\n",
    "- `List` - a collection ordered, changeable, and duplicate values\n",
    "- `Set` - a collection which is both unordered and unindexed\n",
    "- `Dictionary` - a collection of ordered\\*, changeable, and unique key-value pairs\n",
    "  > As of Python version 3.7, dictionaries are ordered. In Python 3.6 and earlier, dictionaries are unordered.\n",
    "- `Tuple` - a collection of unordered, unchangeable, and unique values\n",
    "\n",
    "A [list](https://docs.python.org/3/glossary.html#term-list) is much like an [array](https://en.wiktionary.org/wiki/array)—if you don't know these terms mean, click on each word to learn more."
   ]
  },
  {
   "cell_type": "markdown",
   "metadata": {
    "id": "pOoQ1LWLW_Gi"
   },
   "source": [
    "## Sets\n",
    "Sets are written with curly braces, are unordered, immutable, and do not allow duplicates. Let's unpack each of these traits, one by one. Instead of `[]` like as lists, sets use `{}` and are unordered. For example, like a box of chocolates; you never know what you will get. Immutable means that you cannot change any of the items after they have been created but you can add new items. Finally, sets do not allow two items with the same value—no duplicates allowed."
   ]
  },
  {
   "cell_type": "code",
   "execution_count": 1,
   "metadata": {
    "colab": {
     "base_uri": "https://localhost:8080/"
    },
    "executionInfo": {
     "elapsed": 151,
     "status": "ok",
     "timestamp": 1669073299635,
     "user": {
      "displayName": "Jonathan Barrios",
      "userId": "16097537147383230085"
     },
     "user_tz": 360
    },
    "id": "ER_UqgYlXv2U",
    "outputId": "d6311c7e-5805-4e46-f1ea-2aa81f55f706"
   },
   "outputs": [
    {
     "data": {
      "text/plain": [
       "set"
      ]
     },
     "execution_count": 1,
     "metadata": {},
     "output_type": "execute_result"
    }
   ],
   "source": [
    "# sets\n",
    "my_set = {\"one\", \"two\", \"three\"}\n",
    "\n",
    "# what data type is this\n",
    "type(my_set)"
   ]
  },
  {
   "cell_type": "code",
   "execution_count": 2,
   "metadata": {},
   "outputs": [
    {
     "ename": "TypeError",
     "evalue": "'set' object is not subscriptable",
     "output_type": "error",
     "traceback": [
      "\u001b[1;31m---------------------------------------------------------------------------\u001b[0m",
      "\u001b[1;31mTypeError\u001b[0m                                 Traceback (most recent call last)",
      "Cell \u001b[1;32mIn[2], line 1\u001b[0m\n\u001b[1;32m----> 1\u001b[0m my_set[\u001b[38;5;241m0\u001b[39m]\n",
      "\u001b[1;31mTypeError\u001b[0m: 'set' object is not subscriptable"
     ]
    }
   ],
   "source": [
    "my_set[0]\n",
    "#gives error because sets are unordered"
   ]
  },
  {
   "cell_type": "markdown",
   "metadata": {
    "id": "j3QkHP_nW_PS"
   },
   "source": [
    "## Tuples\n",
    "Tuples are ordered collections of immutable items (cannot overwrite items in them)—written with round brackets. Let's unpack each of these traits, one by one. Tupless use `()`, are ordered and allow duplicate items."
   ]
  },
  {
   "cell_type": "code",
   "execution_count": 3,
   "metadata": {
    "colab": {
     "base_uri": "https://localhost:8080/"
    },
    "executionInfo": {
     "elapsed": 6,
     "status": "ok",
     "timestamp": 1669073286318,
     "user": {
      "displayName": "Jonathan Barrios",
      "userId": "16097537147383230085"
     },
     "user_tz": 360
    },
    "id": "BL5EWiEWO83r",
    "outputId": "05b12236-58c8-4261-e403-183b684bed12"
   },
   "outputs": [
    {
     "data": {
      "text/plain": [
       "tuple"
      ]
     },
     "execution_count": 3,
     "metadata": {},
     "output_type": "execute_result"
    }
   ],
   "source": [
    "# tuples\n",
    "my_tuple = (\"one\", \"two\", \"three\")\n",
    "\n",
    "# what data type is this\n",
    "type(my_tuple)"
   ]
  },
  {
   "cell_type": "code",
   "execution_count": 4,
   "metadata": {},
   "outputs": [
    {
     "data": {
      "text/plain": [
       "'one'"
      ]
     },
     "execution_count": 4,
     "metadata": {},
     "output_type": "execute_result"
    }
   ],
   "source": [
    "my_tuple[0]"
   ]
  },
  {
   "cell_type": "markdown",
   "metadata": {
    "id": "L2X8lXocX2iO"
   },
   "source": [
    "> Note: As you will see, Python doesn't have built-in support for Arrays. That said, you can use Lists as Arrays; however, to really use Arrays in Python, you will need to import a library to do so. This why the Python community is so great—you can use Python as a general programming language or modify it for free to suit almost any special field, such as data anlytics. Simply downloading a library like [NumPy](https://www.w3schools.com/python/numpy/default.asp) and you are ready to wrok with Arrays. You will not learn how to use NumPY in this course but you will do so in the next course, Pandas for Data Analysts."
   ]
  }
 ],
 "metadata": {
  "colab": {
   "authorship_tag": "ABX9TyM72tbS3cDgqrJuL98MCWIM",
   "provenance": []
  },
  "kernelspec": {
   "display_name": "Python 3 (ipykernel)",
   "language": "python",
   "name": "python3"
  },
  "language_info": {
   "codemirror_mode": {
    "name": "ipython",
    "version": 3
   },
   "file_extension": ".py",
   "mimetype": "text/x-python",
   "name": "python",
   "nbconvert_exporter": "python",
   "pygments_lexer": "ipython3",
   "version": "3.11.5"
  }
 },
 "nbformat": 4,
 "nbformat_minor": 1
}
