{
 "cells": [
  {
   "cell_type": "markdown",
   "metadata": {},
   "source": [
    "# Primitive Data Types\n",
    "\n",
    "Primitive Data Types are pre-defined by the programming language. In contrast, Non-Primitive Data Types are defined by the programmer."
   ]
  },
  {
   "cell_type": "markdown",
   "metadata": {
    "id": "RXj8h-9AK6eG"
   },
   "source": [
    "### Numbers: integers and floats"
   ]
  },
  {
   "cell_type": "code",
   "execution_count": null,
   "metadata": {
    "id": "DwU8UxS7JUTd"
   },
   "outputs": [],
   "source": [
    "num = 1\n",
    "num = 1.5"
   ]
  },
  {
   "cell_type": "markdown",
   "metadata": {
    "id": "oyGmFrbAK-w2"
   },
   "source": [
    "### Strings"
   ]
  },
  {
   "cell_type": "code",
   "execution_count": null,
   "metadata": {
    "id": "pDBU1G7qJ7m2"
   },
   "outputs": [],
   "source": [
    "'This is a string'\n"
   ]
  },
  {
   "cell_type": "markdown",
   "metadata": {
    "id": "Tfe7IeW2BqdX"
   },
   "source": [
    "### Bools\n"
   ]
  },
  {
   "cell_type": "code",
   "execution_count": null,
   "metadata": {
    "id": "iqd7HUpoBq-x"
   },
   "outputs": [],
   "source": [
    "True\n",
    "False"
   ]
  },
  {
   "cell_type": "markdown",
   "metadata": {
    "id": "76B_ZopNLBOA"
   },
   "source": [
    "# Non-Primitive Data Types\n",
    "\n",
    "### Collections\n",
    "\n",
    "### There are four built-in data types Python uses to store collections of data:\n",
    "\n",
    "**List** - a collection ordered, changeable, and duplicate values\n",
    "\n",
    "**Set** - a collection which is both unordered and unindexed\n",
    "\n",
    "**Dictionary** - a collection of ordered*, changeable, and unique key-value pairs. Note: as of Python version 3.7, dictionaries are ordered. In Python 3.6 and earlier, dictionaries are unordered.\n",
    "\n",
    "**Tuple** - a collection of unordered, unchangeable, and unique values"
   ]
  },
  {
   "cell_type": "code",
   "execution_count": null,
   "metadata": {
    "id": "_6xWe3rvKZto"
   },
   "outputs": [],
   "source": [
    "my_list = [\"one\",\"two\",\"three\"]\n",
    "\n",
    "my_set = {\"one\",\"two\",\"three\"}\n",
    "\n",
    "my_dictionary = {1:\"one\",2:\"two\",3:\"three\"}\n",
    "\n",
    "my_tuple = (\"one\",\"two\",\"three\")"
   ]
  }
 ],
 "metadata": {
  "colab": {
   "authorship_tag": "ABX9TyMol18cwWBoRUz2/r5O8BOH",
   "provenance": []
  },
  "kernelspec": {
   "display_name": "Python 3.9.6 64-bit",
   "language": "python",
   "name": "python3"
  },
  "language_info": {
   "codemirror_mode": {
    "name": "ipython",
    "version": 3
   },
   "file_extension": ".py",
   "mimetype": "text/x-python",
   "name": "python",
   "nbconvert_exporter": "python",
   "pygments_lexer": "ipython3",
   "version": "3.9.6"
  },
  "vscode": {
   "interpreter": {
    "hash": "31f2aee4e71d21fbe5cf8b01ff0e069b9275f58929596ceb00d14d90e3e16cd6"
   }
  }
 },
 "nbformat": 4,
 "nbformat_minor": 1
}
