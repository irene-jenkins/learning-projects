{
 "cells": [
  {
   "cell_type": "markdown",
   "metadata": {
    "id": "6RvH7VFwNk0g"
   },
   "source": [
    "## The `type()` Function\n",
    "\n",
    "The `type()` function returns the data type of a particular Python object."
   ]
  },
  {
   "cell_type": "code",
   "execution_count": null,
   "metadata": {
    "id": "0wr-XRGYNqH7"
   },
   "outputs": [],
   "source": [
    "x = 1\n",
    "# the type() function\n",
    "type(x)"
   ]
  },
  {
   "cell_type": "markdown",
   "metadata": {
    "id": "RXj8h-9AK6eG"
   },
   "source": [
    "## Numbers & Bools"
   ]
  },
  {
   "cell_type": "code",
   "execution_count": null,
   "metadata": {
    "colab": {
     "base_uri": "https://localhost:8080/"
    },
    "executionInfo": {
     "elapsed": 132,
     "status": "ok",
     "timestamp": 1669070474713,
     "user": {
      "displayName": "Jonathan Barrios",
      "userId": "16097537147383230085"
     },
     "user_tz": 360
    },
    "id": "DwU8UxS7JUTd",
    "outputId": "bc2e99f4-a0f1-4c83-f555-b6c8b3cf45b8"
   },
   "outputs": [],
   "source": [
    "# Numbers and Bools\n",
    "# Integer\n",
    "42\n",
    "# Float\n",
    "3.14\n",
    "# Scientific Notation\n",
    "3.456e11\n",
    "print(3.456*(10**11))\n",
    "print(345600000000.0)\n",
    "print(3.456e11)"
   ]
  }
 ],
 "metadata": {
  "colab": {
   "authorship_tag": "ABX9TyNitVgyiNp5AEvHKkMo5kNc",
   "provenance": []
  },
  "kernelspec": {
   "display_name": "Python 3.9.6 64-bit",
   "language": "python",
   "name": "python3"
  },
  "language_info": {
   "codemirror_mode": {
    "name": "ipython",
    "version": 3
   },
   "file_extension": ".py",
   "mimetype": "text/x-python",
   "name": "python",
   "nbconvert_exporter": "python",
   "pygments_lexer": "ipython3",
   "version": "3.9.6"
  },
  "vscode": {
   "interpreter": {
    "hash": "31f2aee4e71d21fbe5cf8b01ff0e069b9275f58929596ceb00d14d90e3e16cd6"
   }
  }
 },
 "nbformat": 4,
 "nbformat_minor": 1
}
