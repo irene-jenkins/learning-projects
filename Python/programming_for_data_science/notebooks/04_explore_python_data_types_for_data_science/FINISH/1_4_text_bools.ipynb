{
 "cells": [
  {
   "cell_type": "markdown",
   "metadata": {
    "id": "oyGmFrbAK-w2"
   },
   "source": [
    "## Strings"
   ]
  },
  {
   "cell_type": "code",
   "execution_count": null,
   "metadata": {
    "id": "pDBU1G7qJ7m2"
   },
   "outputs": [],
   "source": [
    "# Strings (single or double quotes)\n",
    "'This is a string'\n",
    "\n",
    "\"This is a string\"\n",
    "\n",
    "# String assigned to a variable\n",
    "name = \"Jonathan\""
   ]
  },
  {
   "cell_type": "markdown",
   "metadata": {
    "id": "C-a9nutoSjP6"
   },
   "source": [
    "## Bools"
   ]
  },
  {
   "cell_type": "code",
   "execution_count": null,
   "metadata": {
    "id": "G-of0_8iSmND"
   },
   "outputs": [],
   "source": [
    "# Bool\n",
    "True\n",
    "# Bool\n",
    "False\n",
    "# Bool same as True\n",
    "bool(1)\n",
    "# Bool same as False\n",
    "bool(0)"
   ]
  }
 ],
 "metadata": {
  "colab": {
   "authorship_tag": "ABX9TyM2ILIxaCDtsRgel9NkH4le",
   "provenance": []
  },
  "kernelspec": {
   "display_name": "Python 3.9.6 64-bit",
   "language": "python",
   "name": "python3"
  },
  "language_info": {
   "codemirror_mode": {
    "name": "ipython",
    "version": 3
   },
   "file_extension": ".py",
   "mimetype": "text/x-python",
   "name": "python",
   "nbconvert_exporter": "python",
   "pygments_lexer": "ipython3",
   "version": "3.9.6"
  },
  "vscode": {
   "interpreter": {
    "hash": "31f2aee4e71d21fbe5cf8b01ff0e069b9275f58929596ceb00d14d90e3e16cd6"
   }
  }
 },
 "nbformat": 4,
 "nbformat_minor": 1
}
