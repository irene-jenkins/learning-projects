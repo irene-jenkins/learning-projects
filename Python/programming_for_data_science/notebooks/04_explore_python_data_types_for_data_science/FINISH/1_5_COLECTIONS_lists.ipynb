{
 "cells": [
  {
   "cell_type": "markdown",
   "metadata": {
    "id": "7d1hFuHRWnoB"
   },
   "source": [
    "# Collections\n",
    "There are four built-in data types in Python used to store collections of data:\n",
    "\n",
    "- `List` - a collection ordered, changeable, and duplicate values\n",
    "- `Set` - a collection which is both unordered and unindexed\n",
    "- `Dictionary` - a collection of ordered\\*, changeable, and unique key-value pairs\n",
    "  > As of Python version 3.7, dictionaries are ordered. In Python 3.6 and earlier, dictionaries are unordered.\n",
    "- `Tuple` - a collection of unordered, unchangeable, and unique values\n",
    "\n",
    "A [list](https://docs.python.org/3/glossary.html#term-list) is much like an [array](https://en.wiktionary.org/wiki/array)—if you don't know these terms mean, click on each word to learn more."
   ]
  },
  {
   "cell_type": "markdown",
   "metadata": {
    "id": "1-xQKqDqW8Nh"
   },
   "source": [
    "## Lists\n",
    "Lists are mutable data structures that hold an ordered collection of items. That was a mouthful, so let's break it down, step by step. Mutable means you can make changes by adding or removing items from the list. Ordered means, they stay in order but not the same as sorted. Note that the terms collections, lists and arrays are somewhat interchangeable within the scope of computer science."
   ]
  },
  {
   "cell_type": "code",
   "execution_count": null,
   "metadata": {
    "id": "KWcYnHpQXY-8"
   },
   "outputs": [],
   "source": [
    "my_list = [\"one\",\"two\",\"three\"]\n",
    "print(my_list)\n",
    "\n",
    "type(my_list) # what data type is this"
   ]
  }
 ],
 "metadata": {
  "colab": {
   "authorship_tag": "ABX9TyM72tbS3cDgqrJuL98MCWIM",
   "provenance": []
  },
  "kernelspec": {
   "display_name": "Python 3 (ipykernel)",
   "language": "python",
   "name": "python3"
  },
  "language_info": {
   "codemirror_mode": {
    "name": "ipython",
    "version": 3
   },
   "file_extension": ".py",
   "mimetype": "text/x-python",
   "name": "python",
   "nbconvert_exporter": "python",
   "pygments_lexer": "ipython3",
   "version": "3.10.8"
  }
 },
 "nbformat": 4,
 "nbformat_minor": 1
}
