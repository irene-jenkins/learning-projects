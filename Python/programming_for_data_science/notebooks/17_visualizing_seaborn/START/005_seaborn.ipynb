{
 "cells": [
  {
   "cell_type": "markdown",
   "metadata": {
    "id": "RjHYTP6zpKHR"
   },
   "source": [
    "# Basic Plots with Seaborn"
   ]
  },
  {
   "cell_type": "code",
   "execution_count": 1,
   "metadata": {
    "id": "HnjoZ5jCkcpb"
   },
   "outputs": [],
   "source": [
    "import pandas as pd\n",
    "import seaborn as sns\n",
    "import matplotlib.pyplot as plt"
   ]
  },
  {
   "cell_type": "markdown",
   "metadata": {
    "id": "90wT9B_xo7jt"
   },
   "source": [
    "# Load the Dataset\n",
    "We will start by importing the necessary libraries and loading the dataset into a pandas DataFrame. We will use the read_csv function to read the data from a CSV file into a DataFrame."
   ]
  },
  {
   "cell_type": "code",
   "execution_count": 2,
   "metadata": {
    "id": "wqz5ge-6pM8Y"
   },
   "outputs": [],
   "source": [
    "# Load the cereal dataset\n",
    "df= pd.read_csv(\"https://raw.githubusercontent.com/cbtn-data-science-ml/python-pandas-for-data-manipulation/main/completed_files/datasets/cereal.csv\")\n"
   ]
  },
  {
   "cell_type": "code",
   "execution_count": null,
   "metadata": {
    "colab": {
     "base_uri": "https://localhost:8080/",
     "height": 424
    },
    "id": "URj5pCKMCwpu",
    "outputId": "9b9b3419-68b9-4e04-85b5-f0d467c82e2a"
   },
   "outputs": [],
   "source": []
  },
  {
   "cell_type": "markdown",
   "metadata": {
    "id": "_AdVxR5qQsIW"
   },
   "source": [
    "# Changing the style and color of plots\n",
    "Seaborn provides several options for changing the style and color of plots.\n",
    "\n",
    "To change the style of a plot, you can use the set_style function. This function allows you to choose from several preset styles, including darkgrid, whitegrid, dark, white, and ticks.\n",
    "\n",
    "For example, let's say we want to create a bar plot with a white style. We can do this by calling the set_style function before creating the plot:"
   ]
  },
  {
   "cell_type": "code",
   "execution_count": null,
   "metadata": {
    "colab": {
     "base_uri": "https://localhost:8080/",
     "height": 297
    },
    "id": "hsztQnpkQ536",
    "outputId": "39a94dc6-dd7f-4ac8-aed2-abee8ec8519e"
   },
   "outputs": [],
   "source": []
  },
  {
   "cell_type": "code",
   "execution_count": null,
   "metadata": {
    "colab": {
     "base_uri": "https://localhost:8080/",
     "height": 297
    },
    "id": "GgSG1_AFRQ_t",
    "outputId": "c15595b3-a14f-433b-d2ed-0e7de7334110"
   },
   "outputs": [],
   "source": []
  },
  {
   "cell_type": "markdown",
   "metadata": {
    "id": "BciEIRjRRBt1"
   },
   "source": [
    "To change the color palette of a plot, you can use the color_palette function. This function allows you to specify a list of colors to use in the plot, or you can choose from several preset color palettes.\n",
    "\n",
    "For example, let's say we want to create a scatter plot with a sequential color palette. We can do this by calling the color_palette function before creating the plot:"
   ]
  },
  {
   "cell_type": "code",
   "execution_count": null,
   "metadata": {
    "colab": {
     "base_uri": "https://localhost:8080/",
     "height": 297
    },
    "id": "-uQhewt0Qsbd",
    "outputId": "485b6c1e-129a-4f70-ef20-9086d7072695"
   },
   "outputs": [],
   "source": []
  },
  {
   "cell_type": "markdown",
   "metadata": {
    "id": "MSfg5pVPSDi0"
   },
   "source": [
    "# Customizing plot axes and labels\n",
    "Seaborn provides several options for customizing the appearance of plot axes and labels.\n",
    "\n",
    "To change the axis limits of a plot, you can use the xlim and ylim functions. These functions allow you to specify the minimum and maximum values for the x-axis and y-axis, respectively.\n",
    "\n",
    "For example, let's say we want to create a histogram with custom axis limits. We can do this by calling the xlim and ylim functions before creating the plot:"
   ]
  },
  {
   "cell_type": "code",
   "execution_count": null,
   "metadata": {
    "colab": {
     "base_uri": "https://localhost:8080/",
     "height": 297
    },
    "id": "JOMPg8osQyoZ",
    "outputId": "970f34fc-d414-4ca0-be5d-1ad08e6de4d3"
   },
   "outputs": [],
   "source": []
  },
  {
   "cell_type": "code",
   "execution_count": null,
   "metadata": {
    "colab": {
     "base_uri": "https://localhost:8080/",
     "height": 301
    },
    "id": "yzuwlKjKSKD5",
    "outputId": "a371051c-db9d-43d1-874f-0cfca51a36fe"
   },
   "outputs": [],
   "source": []
  },
  {
   "cell_type": "markdown",
   "metadata": {
    "id": "H7uaT1sfTNVT"
   },
   "source": [
    "To change the axis labels of a plot, you can use the xlabel and ylabel functions. These functions allow you to specify the labels for the x-axis and y-axis, respectively.\n",
    "\n",
    "For example, let's say we want to create a scatter plot with custom axis labels. We can do this by calling the xlabel and ylabel functions after creating the plot:"
   ]
  },
  {
   "cell_type": "code",
   "execution_count": null,
   "metadata": {
    "colab": {
     "base_uri": "https://localhost:8080/",
     "height": 297
    },
    "id": "ZjF8b-DyS3W1",
    "outputId": "94ca4943-d92d-43f0-e39d-7bc9965cfd2e"
   },
   "outputs": [],
   "source": []
  },
  {
   "cell_type": "markdown",
   "metadata": {
    "id": "3OS8fK5FTdba"
   },
   "source": [
    "# Adding titles and annotations\n",
    "To add a title to a plot, you can use the title function. This function allows you to specify the title text and any additional formatting options, such as font size and style.\n",
    "\n",
    "For example, let's say we want to create a bar plot with a title. We can do this by calling the title function after creating the plot:\n",
    "\n"
   ]
  },
  {
   "cell_type": "code",
   "execution_count": null,
   "metadata": {
    "colab": {
     "base_uri": "https://localhost:8080/",
     "height": 318
    },
    "id": "pd5CqBynTRL7",
    "outputId": "02dc51c9-5e89-4a45-e895-58a6a8146590"
   },
   "outputs": [],
   "source": []
  },
  {
   "cell_type": "markdown",
   "metadata": {
    "id": "bFXx72WVTqD8"
   },
   "source": [
    "To add annotations to a plot, you can use the text function. This function allows you to specify the annotation text, position, and any additional formatting options.\n",
    "\n",
    "For example, let's say we want to add an annotation to a scatter plot. We can do this by calling the text function after creating the plot:"
   ]
  },
  {
   "cell_type": "code",
   "execution_count": null,
   "metadata": {
    "colab": {
     "base_uri": "https://localhost:8080/",
     "height": 297
    },
    "id": "AppC6m2WTfwf",
    "outputId": "a446d6a0-9269-4397-e9c0-27ee03a934bd"
   },
   "outputs": [],
   "source": []
  },
  {
   "cell_type": "code",
   "execution_count": null,
   "metadata": {},
   "outputs": [],
   "source": []
  }
 ],
 "metadata": {
  "colab": {
   "provenance": []
  },
  "kernelspec": {
   "display_name": "Python 3",
   "language": "python",
   "name": "python3"
  },
  "language_info": {
   "codemirror_mode": {
    "name": "ipython",
    "version": 3
   },
   "file_extension": ".py",
   "mimetype": "text/x-python",
   "name": "python",
   "nbconvert_exporter": "python",
   "pygments_lexer": "ipython3",
   "version": "3.9.6"
  },
  "vscode": {
   "interpreter": {
    "hash": "31f2aee4e71d21fbe5cf8b01ff0e069b9275f58929596ceb00d14d90e3e16cd6"
   }
  }
 },
 "nbformat": 4,
 "nbformat_minor": 1
}
