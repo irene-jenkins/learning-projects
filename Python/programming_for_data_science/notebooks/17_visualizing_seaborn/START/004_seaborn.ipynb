{
 "cells": [
  {
   "cell_type": "markdown",
   "metadata": {
    "id": "RjHYTP6zpKHR"
   },
   "source": [
    "# Basic Plots with Seaborn"
   ]
  },
  {
   "cell_type": "code",
   "execution_count": 11,
   "metadata": {
    "id": "HnjoZ5jCkcpb"
   },
   "outputs": [],
   "source": [
    "# import pandas\n",
    "\n",
    "\n",
    "# import seaborn\n"
   ]
  },
  {
   "cell_type": "markdown",
   "metadata": {
    "id": "90wT9B_xo7jt"
   },
   "source": [
    "# Load the Dataset\n",
    "We will start by importing the necessary libraries and loading the dataset into a pandas DataFrame. We will use the read_csv function to read the data from a CSV file into a DataFrame."
   ]
  },
  {
   "cell_type": "code",
   "execution_count": 12,
   "metadata": {
    "id": "wqz5ge-6pM8Y"
   },
   "outputs": [],
   "source": [
    "# Load the cereal dataset\n",
    "# \"https://raw.githubusercontent.com/cbtn-data-science-ml/python-pandas-for-data-manipulation/main/completed_files/datasets/cereal.csv\""
   ]
  },
  {
   "cell_type": "code",
   "execution_count": null,
   "metadata": {
    "colab": {
     "base_uri": "https://localhost:8080/",
     "height": 424
    },
    "executionInfo": {
     "elapsed": 4,
     "status": "ok",
     "timestamp": 1673132791885,
     "user": {
      "displayName": "Jonathan Barrios",
      "userId": "00501959677193622214"
     },
     "user_tz": 360
    },
    "id": "URj5pCKMCwpu",
    "outputId": "0f7cf243-934d-4184-dfe6-0e0cff419e24"
   },
   "outputs": [],
   "source": []
  },
  {
   "cell_type": "markdown",
   "metadata": {
    "id": "a6_ZgN73DOPu"
   },
   "source": [
    "## Bar plots\n",
    "A bar plot is a way to display the distribution of a categorical variable. To create a bar plot in Seaborn, we can use the barplot function.\n",
    "\n",
    "For example, let's say we want to see how the distribution of cereals differs by their rating. We can create a bar plot by specifying the x and y variables and calling the barplot function:\n",
    "\n"
   ]
  },
  {
   "cell_type": "code",
   "execution_count": 13,
   "metadata": {
    "colab": {
     "base_uri": "https://localhost:8080/",
     "height": 1000
    },
    "executionInfo": {
     "elapsed": 1710,
     "status": "ok",
     "timestamp": 1673133098676,
     "user": {
      "displayName": "Jonathan Barrios",
      "userId": "00501959677193622214"
     },
     "user_tz": 360
    },
    "id": "-lXxxa9BC9h4",
    "outputId": "6ffae31d-275e-4c1a-fd72-4c25fa9b1513"
   },
   "outputs": [],
   "source": [
    "# Sort the DataFrame in descending order by the rating column\n",
    "\n",
    "\n",
    "# Create the barplot\n",
    "\n",
    "\n",
    "# Set the figure size\n"
   ]
  },
  {
   "cell_type": "markdown",
   "metadata": {
    "id": "kOLZYxfvDgL_"
   },
   "source": [
    "# Histograms\n",
    "A histogram is a way to display the distribution of a numeric variable. To create a histogram in Seaborn, we can use the histplot function.\n",
    "\n",
    "For example, let's say we want to see the distribution of sugar content in cereals. We can create a histogram by specifying the x variable and calling the histplot function:"
   ]
  },
  {
   "cell_type": "code",
   "execution_count": 14,
   "metadata": {
    "colab": {
     "base_uri": "https://localhost:8080/",
     "height": 388
    },
    "executionInfo": {
     "elapsed": 395,
     "status": "ok",
     "timestamp": 1673133748054,
     "user": {
      "displayName": "Jonathan Barrios",
      "userId": "00501959677193622214"
     },
     "user_tz": 360
    },
    "id": "emTWT860DDKD",
    "outputId": "e18f1d48-5005-4445-de3f-af878b580040"
   },
   "outputs": [],
   "source": [
    "# Histogram\n",
    "\n",
    "\n",
    "# Set the figure size\n"
   ]
  },
  {
   "cell_type": "markdown",
   "metadata": {
    "id": "Dj2xZNwjgnuU"
   },
   "source": [
    "This will create a histogram with the sugar content on the x-axis and the frequency on the y-axis.\n",
    "\n",
    "# Kernel density plots\n",
    "A kernel density plot is a way to visualize the distribution of a numeric variable, similar to a histogram. However, unlike a histogram, which shows the frequency of data points in bins, a kernel density plot shows the probability density of the data. To create a kernel density plot in Seaborn, we can use the kdeplot function.\n",
    "\n",
    "For example, let's say we want to see the distribution of calorie counts in cereals. We can create a kernel density plot by specifying the x variable and calling the kdeplot function:"
   ]
  },
  {
   "cell_type": "code",
   "execution_count": 16,
   "metadata": {
    "colab": {
     "base_uri": "https://localhost:8080/",
     "height": 388
    },
    "executionInfo": {
     "elapsed": 497,
     "status": "ok",
     "timestamp": 1673133755759,
     "user": {
      "displayName": "Jonathan Barrios",
      "userId": "00501959677193622214"
     },
     "user_tz": 360
    },
    "id": "sVIlgSlOgh9Q",
    "outputId": "0b89f644-1192-4dc9-ee5b-4ab886092e1c"
   },
   "outputs": [],
   "source": [
    "# Kernel density plot\n",
    "\n",
    "\n",
    "# Set the figure size\n"
   ]
  },
  {
   "cell_type": "markdown",
   "metadata": {
    "id": "7Ti-x5Zlg3Wp"
   },
   "source": [
    "This will create a kernel density plot with the calorie counts on the x-axis and the probability density on the y-axis. \n",
    "\n",
    "The kernel density plot of calorie counts in cereals, shows what range of calorie counts are present in the dataset and how frequently each calorie count appears. This can help you to understand the nutritional content of the cereals in the dataset and identify patterns or trends.\n",
    "\n",
    "In general, a kernel density plot can be a useful tool for exploratory data analysis, as it can help you to get a feel for the data and identify interesting features or characteristics."
   ]
  }
 ],
 "metadata": {
  "colab": {
   "authorship_tag": "ABX9TyOd9F/NupNxisvOvFgc6oc+",
   "provenance": []
  },
  "kernelspec": {
   "display_name": "Python 3",
   "language": "python",
   "name": "python3"
  },
  "language_info": {
   "codemirror_mode": {
    "name": "ipython",
    "version": 3
   },
   "file_extension": ".py",
   "mimetype": "text/x-python",
   "name": "python",
   "nbconvert_exporter": "python",
   "pygments_lexer": "ipython3",
   "version": "3.9.6 (default, Oct 18 2022, 12:41:40) \n[Clang 14.0.0 (clang-1400.0.29.202)]"
  },
  "vscode": {
   "interpreter": {
    "hash": "31f2aee4e71d21fbe5cf8b01ff0e069b9275f58929596ceb00d14d90e3e16cd6"
   }
  }
 },
 "nbformat": 4,
 "nbformat_minor": 1
}
