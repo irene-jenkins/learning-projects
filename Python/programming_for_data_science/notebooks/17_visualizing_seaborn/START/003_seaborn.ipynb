{
 "cells": [
  {
   "cell_type": "markdown",
   "metadata": {
    "id": "RjHYTP6zpKHR"
   },
   "source": [
    "# Basic Plots with Seaborn"
   ]
  },
  {
   "cell_type": "code",
   "execution_count": 12,
   "metadata": {
    "id": "HnjoZ5jCkcpb"
   },
   "outputs": [],
   "source": [
    "# import pandas\n",
    "# import seaborn"
   ]
  },
  {
   "cell_type": "markdown",
   "metadata": {
    "id": "90wT9B_xo7jt"
   },
   "source": [
    "# Load the Dataset\n",
    "We will start by importing the necessary libraries and loading the dataset into a pandas DataFrame. We will use the read_csv function to read the data from a CSV file into a DataFrame."
   ]
  },
  {
   "cell_type": "code",
   "execution_count": 13,
   "metadata": {
    "id": "wqz5ge-6pM8Y"
   },
   "outputs": [],
   "source": [
    "# Load the cereal dataset\n",
    "# \"https://raw.githubusercontent.com/cbtn-data-science-ml/python-pandas-for-data-manipulation/main/completed_files/datasets/cereal.csv\"\n"
   ]
  },
  {
   "cell_type": "code",
   "execution_count": null,
   "metadata": {
    "colab": {
     "base_uri": "https://localhost:8080/",
     "height": 424
    },
    "executionInfo": {
     "elapsed": 4,
     "status": "ok",
     "timestamp": 1673132791885,
     "user": {
      "displayName": "Jonathan Barrios",
      "userId": "00501959677193622214"
     },
     "user_tz": 360
    },
    "id": "URj5pCKMCwpu",
    "outputId": "0f7cf243-934d-4184-dfe6-0e0cff419e24"
   },
   "outputs": [],
   "source": []
  },
  {
   "cell_type": "markdown",
   "metadata": {
    "id": "SOQcF6vuChlL"
   },
   "source": [
    "# Line plots\n",
    "A line plot is a way to display data along a number line. To create a line plot in Seaborn, we can use the lineplot function. By default, this function will plot the mean of each numeric variable, with error bars showing the standard error of the mean.\n",
    "\n",
    "For example, let's say we want to see how the sugar content of cereals varies across different brands. We can create a line plot by specifying the x and y variables and calling the lineplot function:"
   ]
  },
  {
   "cell_type": "code",
   "execution_count": 16,
   "metadata": {
    "colab": {
     "base_uri": "https://localhost:8080/",
     "height": 388
    },
    "executionInfo": {
     "elapsed": 519,
     "status": "ok",
     "timestamp": 1673133723073,
     "user": {
      "displayName": "Jonathan Barrios",
      "userId": "00501959677193622214"
     },
     "user_tz": 360
    },
    "id": "hPWSY2J6Cc2t",
    "outputId": "e7ab6079-0b6b-4540-d838-4a71f89d9299"
   },
   "outputs": [],
   "source": [
    "# .lineplot()\n",
    "\n",
    "\n",
    "# Set the figure size\n"
   ]
  },
  {
   "cell_type": "markdown",
   "metadata": {
    "id": "XNqVzcA_DXqq"
   },
   "source": [
    "# Scatter plots\n",
    "A scatter plot is a way to visualize the relationship between two numeric variables. To create a scatter plot in Seaborn, we can use the scatterplot function.\n",
    "\n",
    "For example, let's say we want to see how the sugar content and calorie count of cereals are related. We can create a scatter plot by specifying the x and y variables and calling the scatterplot function:"
   ]
  },
  {
   "cell_type": "code",
   "execution_count": 15,
   "metadata": {
    "colab": {
     "base_uri": "https://localhost:8080/",
     "height": 388
    },
    "executionInfo": {
     "elapsed": 411,
     "status": "ok",
     "timestamp": 1673133736999,
     "user": {
      "displayName": "Jonathan Barrios",
      "userId": "00501959677193622214"
     },
     "user_tz": 360
    },
    "id": "JI6VQTY6Csk9",
    "outputId": "26e728b1-afe0-4c97-800c-884f3745ee98"
   },
   "outputs": [],
   "source": [
    "# Scatterplot\n",
    "\n",
    "\n",
    "# Set the figure size\n"
   ]
  },
  {
   "cell_type": "markdown",
   "metadata": {
    "id": "JopbtMzRdy2B"
   },
   "source": [
    "This will create a scatter plot with the sugar content on the x-axis and the rating count on the y-axis."
   ]
  }
 ],
 "metadata": {
  "colab": {
   "authorship_tag": "ABX9TyP7Rr5dpY2wXgZf/Kxyq4cK",
   "provenance": []
  },
  "kernelspec": {
   "display_name": "Python 3",
   "language": "python",
   "name": "python3"
  },
  "language_info": {
   "codemirror_mode": {
    "name": "ipython",
    "version": 3
   },
   "file_extension": ".py",
   "mimetype": "text/x-python",
   "name": "python",
   "nbconvert_exporter": "python",
   "pygments_lexer": "ipython3",
   "version": "3.9.6 (default, Oct 18 2022, 12:41:40) \n[Clang 14.0.0 (clang-1400.0.29.202)]"
  },
  "vscode": {
   "interpreter": {
    "hash": "31f2aee4e71d21fbe5cf8b01ff0e069b9275f58929596ceb00d14d90e3e16cd6"
   }
  }
 },
 "nbformat": 4,
 "nbformat_minor": 1
}
