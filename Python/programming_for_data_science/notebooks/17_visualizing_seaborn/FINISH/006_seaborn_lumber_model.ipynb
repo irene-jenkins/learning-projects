{
 "cells": [
  {
   "cell_type": "markdown",
   "metadata": {
    "id": "aLxo117EWQ2x"
   },
   "source": [
    "https://www.nrs.fs.usda.gov/pubs/rn/rn_ne311.pdf\n",
    "https://meridian.allenpress.com/fpj/article/72/1/11/475647/Nowcasting-of-Lumber-Futures-Price-with-Google\n",
    "https://www.bls.gov/news.release/ppi.nr0.htm\n"
   ]
  },
  {
   "cell_type": "code",
   "execution_count": null,
   "metadata": {
    "id": "q1olsrqBebgX"
   },
   "outputs": [],
   "source": [
    "# Import the necessary libraries\n",
    "import numpy as np\n",
    "import pandas as pd\n",
    "import seaborn as sns\n",
    "import matplotlib.pyplot as plt\n",
    "from sklearn.linear_model import LinearRegression"
   ]
  },
  {
   "cell_type": "code",
   "execution_count": null,
   "metadata": {
    "id": "vis7aiUsedV9"
   },
   "outputs": [],
   "source": [
    "url = 'https://raw.githubusercontent.com/jonathan-barrios/project_datasets/main/datasets/Lumber%20Futures%20Historical%20Data.csv'\n",
    "df = pd.read_csv(url)"
   ]
  },
  {
   "cell_type": "markdown",
   "metadata": {
    "id": "hRYEHipBgiRK"
   },
   "source": [
    "# EDA (exploratory data analysis)\n",
    "Now that the data is loaded, let's take a look at the first few rows to get a \n",
    "feel for the dataset:"
   ]
  },
  {
   "cell_type": "code",
   "execution_count": null,
   "metadata": {
    "colab": {
     "base_uri": "https://localhost:8080/",
     "height": 206
    },
    "executionInfo": {
     "elapsed": 231,
     "status": "ok",
     "timestamp": 1673192316779,
     "user": {
      "displayName": "Jonathan Barrios",
      "userId": "00501959677193622214"
     },
     "user_tz": 360
    },
    "id": "xqnFiIhOegQu",
    "outputId": "d1f6a0ef-bb29-401d-81d4-0c874ecf0be2"
   },
   "outputs": [],
   "source": [
    "df.head()"
   ]
  },
  {
   "cell_type": "code",
   "execution_count": null,
   "metadata": {
    "colab": {
     "base_uri": "https://localhost:8080/",
     "height": 175
    },
    "executionInfo": {
     "elapsed": 10,
     "status": "ok",
     "timestamp": 1673192316779,
     "user": {
      "displayName": "Jonathan Barrios",
      "userId": "00501959677193622214"
     },
     "user_tz": 360
    },
    "id": "5tNs3wGNhGVv",
    "outputId": "97c13af8-7e6e-4521-9369-d79cc0e7afde"
   },
   "outputs": [],
   "source": [
    "df.describe()"
   ]
  },
  {
   "cell_type": "code",
   "execution_count": null,
   "metadata": {
    "colab": {
     "base_uri": "https://localhost:8080/"
    },
    "executionInfo": {
     "elapsed": 8,
     "status": "ok",
     "timestamp": 1673192316779,
     "user": {
      "displayName": "Jonathan Barrios",
      "userId": "00501959677193622214"
     },
     "user_tz": 360
    },
    "id": "9Ik-VVYphCVw",
    "outputId": "046164db-150d-4380-bc69-c0c206d963e5"
   },
   "outputs": [],
   "source": [
    "df.info()"
   ]
  },
  {
   "cell_type": "markdown",
   "metadata": {
    "id": "i4v8CUDHgrzc"
   },
   "source": [
    "# Clean and Wrangle Data\n",
    "We can see that the dataset has a Date column and a Price column. The Date column is in the format YYYY-MM-DD, and the Price column is the price of lumber in dollars per thousand board feet.\n",
    "\n",
    "Before we can build a linear regression model, we need to clean and prepare the data. First, let's convert the Date column to a datetime data type:"
   ]
  },
  {
   "cell_type": "code",
   "execution_count": null,
   "metadata": {
    "id": "uJi6oOHigoA-"
   },
   "outputs": [],
   "source": [
    "df['Date'] = pd.to_datetime(df['Date'])# Convert the Date column to a datetime data type\n",
    "df['Price'] = df['Price'].str.replace(',', '') # remove random commas\n",
    "df['Price'] = pd.to_numeric(df['Price']) # some non-integer values in the Price column. This is causing the astype method to raise a ValueError."
   ]
  },
  {
   "cell_type": "code",
   "execution_count": null,
   "metadata": {
    "colab": {
     "base_uri": "https://localhost:8080/"
    },
    "executionInfo": {
     "elapsed": 6,
     "status": "ok",
     "timestamp": 1673192316779,
     "user": {
      "displayName": "Jonathan Barrios",
      "userId": "00501959677193622214"
     },
     "user_tz": 360
    },
    "id": "zZoarjLYhWAJ",
    "outputId": "05b677cd-3e89-40ce-eeb5-1000dab55d9d"
   },
   "outputs": [],
   "source": [
    "# verify data type change\n",
    "df.info()"
   ]
  },
  {
   "cell_type": "markdown",
   "metadata": {
    "id": "K5T5cs7HmuMZ"
   },
   "source": [
    "# Handle Missing Data"
   ]
  },
  {
   "cell_type": "code",
   "execution_count": null,
   "metadata": {
    "colab": {
     "base_uri": "https://localhost:8080/"
    },
    "executionInfo": {
     "elapsed": 138,
     "status": "ok",
     "timestamp": 1673192316912,
     "user": {
      "displayName": "Jonathan Barrios",
      "userId": "00501959677193622214"
     },
     "user_tz": 360
    },
    "id": "Q8feDfZIgz2g",
    "outputId": "e9e9c5fa-d23f-4561-8d2e-eed0e7fc7a63"
   },
   "outputs": [],
   "source": [
    "df.isnull().sum()"
   ]
  },
  {
   "cell_type": "markdown",
   "metadata": {
    "id": "t-PLB4HliEt2"
   },
   "source": [
    "It looks like there are no missing values in the dataset. That's great!\n",
    "\n",
    "\n",
    "# Visualize Data\n",
    "Now, let's plot the Price column to get a sense of how the lumber prices have changed over time:"
   ]
  },
  {
   "cell_type": "code",
   "execution_count": null,
   "metadata": {
    "colab": {
     "base_uri": "https://localhost:8080/",
     "height": 297
    },
    "executionInfo": {
     "elapsed": 256,
     "status": "ok",
     "timestamp": 1673192317166,
     "user": {
      "displayName": "Jonathan Barrios",
      "userId": "00501959677193622214"
     },
     "user_tz": 360
    },
    "id": "uVCeQUrupFnt",
    "outputId": "a7d20824-cf5d-42da-c910-d476c402f7d1"
   },
   "outputs": [],
   "source": [
    "sns.lineplot(x='Date', y='Price', data=df)"
   ]
  },
  {
   "cell_type": "markdown",
   "metadata": {
    "id": "C1aNUWNQsCxO"
   },
   "source": [
    "Make it a little bigger"
   ]
  },
  {
   "cell_type": "code",
   "execution_count": null,
   "metadata": {
    "colab": {
     "base_uri": "https://localhost:8080/",
     "height": 442
    },
    "executionInfo": {
     "elapsed": 875,
     "status": "ok",
     "timestamp": 1673192318039,
     "user": {
      "displayName": "Jonathan Barrios",
      "userId": "00501959677193622214"
     },
     "user_tz": 360
    },
    "id": "7TPB2GHsiHbE",
    "outputId": "1813fad2-852d-45a8-e399-8c7d13e025e0"
   },
   "outputs": [],
   "source": [
    "ax = sns.lineplot(x='Date', y='Price', data=df)\n",
    "ax.figure.set_size_inches(20, 7)"
   ]
  },
  {
   "cell_type": "markdown",
   "metadata": {
    "id": "e3DjXdNrnhyv"
   },
   "source": [
    "From the plot, it looks like lumber prices have been generally increasing over time, with some ups and downs along the way.\n",
    "\n",
    "Next steps: Now that we have a sense of the data, we can move on to building a linear regression model.\n"
   ]
  },
  {
   "cell_type": "markdown",
   "metadata": {
    "id": "tedYQa3yWPo5"
   },
   "source": []
  }
 ],
 "metadata": {
  "colab": {
   "provenance": [
    {
     "file_id": "1gPTKSyKnEjk6GpPPLkR1L2S4ecz2zsHP",
     "timestamp": 1673204210599
    }
   ]
  },
  "kernelspec": {
   "display_name": "Python 3 (ipykernel)",
   "language": "python",
   "name": "python3"
  },
  "language_info": {
   "codemirror_mode": {
    "name": "ipython",
    "version": 3
   },
   "file_extension": ".py",
   "mimetype": "text/x-python",
   "name": "python",
   "nbconvert_exporter": "python",
   "pygments_lexer": "ipython3",
   "version": "3.10.8"
  }
 },
 "nbformat": 4,
 "nbformat_minor": 1
}
