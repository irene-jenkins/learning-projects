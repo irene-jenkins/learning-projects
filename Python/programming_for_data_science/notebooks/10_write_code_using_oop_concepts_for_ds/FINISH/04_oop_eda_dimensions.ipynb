{
 "cells": [
  {
   "cell_type": "markdown",
   "metadata": {
    "id": "r4h2sPaLbujI"
   },
   "source": [
    "# Import and Load Data"
   ]
  },
  {
   "cell_type": "code",
   "execution_count": 1,
   "metadata": {
    "executionInfo": {
     "elapsed": 3538,
     "status": "ok",
     "timestamp": 1670947746106,
     "user": {
      "displayName": "Jonathan Barrios",
      "userId": "16097537147383230085"
     },
     "user_tz": 360
    },
    "id": "y_HIFmTbM4Nx"
   },
   "outputs": [],
   "source": [
    "import pandas as pd\n",
    "import matplotlib.pyplot as plt\n",
    "import seaborn as sns"
   ]
  },
  {
   "cell_type": "code",
   "execution_count": 2,
   "metadata": {
    "executionInfo": {
     "elapsed": 292,
     "status": "ok",
     "timestamp": 1670947746393,
     "user": {
      "displayName": "Jonathan Barrios",
      "userId": "16097537147383230085"
     },
     "user_tz": 360
    },
    "id": "70FwUPdpNV70"
   },
   "outputs": [],
   "source": [
    "url = 'https://raw.githubusercontent.com/jonathan-data-analysis/colab_test_data/main/athletes.csv'\n",
    "df = pd.read_csv(url) # convert to dataframe"
   ]
  },
  {
   "cell_type": "markdown",
   "metadata": {
    "id": "w9g8JlXyPyUz"
   },
   "source": [
    "## Adding Summary Methods for EDA\n",
    "One great use of OOP is to create a class that can be used for any dataset. A custom class can help you perform EDA (Exploratory Data Analysis) which is a common practice before starting work on a dataset, particular problem you're trying to solve, or a question you're trying to answer. Let's take a closer look starting with the columns header names."
   ]
  },
  {
   "cell_type": "code",
   "execution_count": 3,
   "metadata": {
    "executionInfo": {
     "elapsed": 3,
     "status": "ok",
     "timestamp": 1670948189837,
     "user": {
      "displayName": "Jonathan Barrios",
      "userId": "16097537147383230085"
     },
     "user_tz": 360
    },
    "id": "3H9k2h_5RVzN"
   },
   "outputs": [],
   "source": [
    "class Summary:\n",
    "    def __init__(self, data): # initializes\n",
    "        self.df = pd.read_csv(data)\n",
    "    def print_head(self): # prints the first  or n rows\n",
    "        return self.df.head()\n",
    "    def get_columns(self): # prints column header names\n",
    "        return list(self.df.columns)"
   ]
  },
  {
   "cell_type": "code",
   "execution_count": 4,
   "metadata": {
    "colab": {
     "base_uri": "https://localhost:8080/"
    },
    "executionInfo": {
     "elapsed": 3,
     "status": "ok",
     "timestamp": 1670880963745,
     "user": {
      "displayName": "Jonathan Barrios",
      "userId": "16097537147383230085"
     },
     "user_tz": 360
    },
    "id": "pQGQQ0WLROpX",
    "outputId": "b4a1d449-c620-4f9f-df86-9e3c74d7e748"
   },
   "outputs": [
    {
     "data": {
      "text/plain": [
       "['rcc',\n",
       " 'wcc',\n",
       " 'hc',\n",
       " 'hg',\n",
       " 'ferr',\n",
       " 'bmi',\n",
       " 'ssf',\n",
       " 'pcBfat',\n",
       " 'lbm',\n",
       " 'ht',\n",
       " 'wt',\n",
       " 'sex',\n",
       " 'sport']"
      ]
     },
     "execution_count": 4,
     "metadata": {},
     "output_type": "execute_result"
    }
   ],
   "source": [
    "data = Summary(url)\n",
    "data.get_columns()"
   ]
  },
  {
   "cell_type": "markdown",
   "metadata": {
    "id": "aS2aDBTQRztK"
   },
   "source": [
    "## How About Dimensions?\n",
    "Let's add the row and column information to the custom class!"
   ]
  },
  {
   "cell_type": "code",
   "execution_count": 7,
   "metadata": {
    "id": "20z3ksAwRSTD"
   },
   "outputs": [],
   "source": [
    "class Summary:\n",
    "    def __init__(self, data):\n",
    "        self.df = pd.read_csv(data)\n",
    "    def print_head(self):\n",
    "        return self.df.head()\n",
    "    def get_columns(self):\n",
    "        return list(self.df.columns)\n",
    "    def get_dim(self):\n",
    "        print('Rows:', len(self.df))\n",
    "        print('Columns:', len(list(self.df.columns)))"
   ]
  },
  {
   "cell_type": "code",
   "execution_count": 8,
   "metadata": {
    "colab": {
     "base_uri": "https://localhost:8080/"
    },
    "executionInfo": {
     "elapsed": 151,
     "status": "ok",
     "timestamp": 1670880963894,
     "user": {
      "displayName": "Jonathan Barrios",
      "userId": "16097537147383230085"
     },
     "user_tz": 360
    },
    "id": "rkS-IECJRpwa",
    "outputId": "652bf32e-410d-49ae-f610-b8a54e7bdc33"
   },
   "outputs": [
    {
     "name": "stdout",
     "output_type": "stream",
     "text": [
      "Rows: 202\n",
      "Columns: 13\n"
     ]
    }
   ],
   "source": [
    "data = Summary(url)\n",
    "data.get_dim()"
   ]
  }
 ],
 "metadata": {
  "colab": {
   "authorship_tag": "ABX9TyPg3TeTm6Yg4vtSRE4ld9Yb",
   "provenance": []
  },
  "kernelspec": {
   "display_name": "Python 3.9.7 ('base')",
   "language": "python",
   "name": "python3"
  },
  "language_info": {
   "codemirror_mode": {
    "name": "ipython",
    "version": 3
   },
   "file_extension": ".py",
   "mimetype": "text/x-python",
   "name": "python",
   "nbconvert_exporter": "python",
   "pygments_lexer": "ipython3",
   "version": "3.9.7"
  },
  "vscode": {
   "interpreter": {
    "hash": "6dda1a7ab26e1dbfe5c2e8fe8075823135effa907f0a0b36f1cf3d34038628d4"
   }
  }
 },
 "nbformat": 4,
 "nbformat_minor": 1
}
