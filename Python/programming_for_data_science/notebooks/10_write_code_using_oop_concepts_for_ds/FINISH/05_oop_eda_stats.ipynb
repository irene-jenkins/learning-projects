{
 "cells": [
  {
   "cell_type": "markdown",
   "metadata": {
    "id": "r4h2sPaLbujI"
   },
   "source": [
    "# Import and Load Data"
   ]
  },
  {
   "cell_type": "code",
   "execution_count": 2,
   "metadata": {
    "id": "y_HIFmTbM4Nx"
   },
   "outputs": [],
   "source": [
    "import pandas as pd\n",
    "import matplotlib.pyplot as plt\n",
    "import seaborn as sns"
   ]
  },
  {
   "cell_type": "code",
   "execution_count": 3,
   "metadata": {
    "id": "70FwUPdpNV70"
   },
   "outputs": [],
   "source": [
    "url = 'https://raw.githubusercontent.com/jonathan-data-analysis/colab_test_data/main/athletes.csv'\n",
    "df = pd.read_csv(url) # convert to dataframe"
   ]
  },
  {
   "cell_type": "markdown",
   "metadata": {
    "id": "b2v7tRvrAqYw"
   },
   "source": [
    "## Let's Add Some Stats 💯\n",
    "We can add summary statistics like count, mean, standard deviation, and more. The good news is that we won't have to create the logic from scratch. Instead, we'll use `describe()` to gather the summary statistics we need."
   ]
  },
  {
   "cell_type": "code",
   "execution_count": 4,
   "metadata": {
    "id": "4WW5KXQhRq90"
   },
   "outputs": [],
   "source": [
    "class Summary:\n",
    "    def __init__(self, data):\n",
    "        self.df = pd.read_csv(data)\n",
    "    def print_head(self):\n",
    "        return self.df.head()\n",
    "    def get_columns(self):\n",
    "        return list(self.df.columns)\n",
    "    def get_dim(self):\n",
    "        print('Rows:', len(self.df))\n",
    "        print('Columns:', len(list(self.df.columns)))\n",
    "    def get_stats(self):\n",
    "        return self.df.describe()"
   ]
  },
  {
   "cell_type": "code",
   "execution_count": 5,
   "metadata": {
    "colab": {
     "base_uri": "https://localhost:8080/"
    },
    "executionInfo": {
     "elapsed": 2,
     "status": "ok",
     "timestamp": 1670880963894,
     "user": {
      "displayName": "Jonathan Barrios",
      "userId": "16097537147383230085"
     },
     "user_tz": 360
    },
    "id": "EjRV_fYCR5Ku",
    "outputId": "18ebbf90-754c-4cde-87ce-f63cf4af1606"
   },
   "outputs": [
    {
     "data": {
      "text/html": [
       "<div>\n",
       "<style scoped>\n",
       "    .dataframe tbody tr th:only-of-type {\n",
       "        vertical-align: middle;\n",
       "    }\n",
       "\n",
       "    .dataframe tbody tr th {\n",
       "        vertical-align: top;\n",
       "    }\n",
       "\n",
       "    .dataframe thead th {\n",
       "        text-align: right;\n",
       "    }\n",
       "</style>\n",
       "<table border=\"1\" class=\"dataframe\">\n",
       "  <thead>\n",
       "    <tr style=\"text-align: right;\">\n",
       "      <th></th>\n",
       "      <th>rcc</th>\n",
       "      <th>wcc</th>\n",
       "      <th>hc</th>\n",
       "      <th>hg</th>\n",
       "      <th>ferr</th>\n",
       "      <th>bmi</th>\n",
       "      <th>ssf</th>\n",
       "      <th>pcBfat</th>\n",
       "      <th>lbm</th>\n",
       "      <th>ht</th>\n",
       "      <th>wt</th>\n",
       "    </tr>\n",
       "  </thead>\n",
       "  <tbody>\n",
       "    <tr>\n",
       "      <th>count</th>\n",
       "      <td>202.000000</td>\n",
       "      <td>202.000000</td>\n",
       "      <td>202.000000</td>\n",
       "      <td>202.000000</td>\n",
       "      <td>202.000000</td>\n",
       "      <td>202.000000</td>\n",
       "      <td>202.000000</td>\n",
       "      <td>202.000000</td>\n",
       "      <td>202.000000</td>\n",
       "      <td>202.000000</td>\n",
       "      <td>202.000000</td>\n",
       "    </tr>\n",
       "    <tr>\n",
       "      <th>mean</th>\n",
       "      <td>4.718614</td>\n",
       "      <td>7.108911</td>\n",
       "      <td>43.091584</td>\n",
       "      <td>14.566337</td>\n",
       "      <td>76.876238</td>\n",
       "      <td>22.955891</td>\n",
       "      <td>69.021782</td>\n",
       "      <td>13.507426</td>\n",
       "      <td>64.873713</td>\n",
       "      <td>180.103960</td>\n",
       "      <td>75.007921</td>\n",
       "    </tr>\n",
       "    <tr>\n",
       "      <th>std</th>\n",
       "      <td>0.457976</td>\n",
       "      <td>1.800337</td>\n",
       "      <td>3.662989</td>\n",
       "      <td>1.362451</td>\n",
       "      <td>47.501239</td>\n",
       "      <td>2.863933</td>\n",
       "      <td>32.565333</td>\n",
       "      <td>6.189826</td>\n",
       "      <td>13.070197</td>\n",
       "      <td>9.734494</td>\n",
       "      <td>13.925199</td>\n",
       "    </tr>\n",
       "    <tr>\n",
       "      <th>min</th>\n",
       "      <td>3.800000</td>\n",
       "      <td>3.300000</td>\n",
       "      <td>35.900000</td>\n",
       "      <td>11.600000</td>\n",
       "      <td>8.000000</td>\n",
       "      <td>16.750000</td>\n",
       "      <td>28.000000</td>\n",
       "      <td>5.630000</td>\n",
       "      <td>34.360000</td>\n",
       "      <td>148.900000</td>\n",
       "      <td>37.800000</td>\n",
       "    </tr>\n",
       "    <tr>\n",
       "      <th>25%</th>\n",
       "      <td>4.372500</td>\n",
       "      <td>5.900000</td>\n",
       "      <td>40.600000</td>\n",
       "      <td>13.500000</td>\n",
       "      <td>41.250000</td>\n",
       "      <td>21.082500</td>\n",
       "      <td>43.850000</td>\n",
       "      <td>8.545000</td>\n",
       "      <td>54.667500</td>\n",
       "      <td>174.000000</td>\n",
       "      <td>66.525000</td>\n",
       "    </tr>\n",
       "    <tr>\n",
       "      <th>50%</th>\n",
       "      <td>4.755000</td>\n",
       "      <td>6.850000</td>\n",
       "      <td>43.500000</td>\n",
       "      <td>14.700000</td>\n",
       "      <td>65.500000</td>\n",
       "      <td>22.720000</td>\n",
       "      <td>58.600000</td>\n",
       "      <td>11.650000</td>\n",
       "      <td>63.035000</td>\n",
       "      <td>179.700000</td>\n",
       "      <td>74.400000</td>\n",
       "    </tr>\n",
       "    <tr>\n",
       "      <th>75%</th>\n",
       "      <td>5.030000</td>\n",
       "      <td>8.275000</td>\n",
       "      <td>45.575000</td>\n",
       "      <td>15.575000</td>\n",
       "      <td>97.000000</td>\n",
       "      <td>24.465000</td>\n",
       "      <td>90.350000</td>\n",
       "      <td>18.080000</td>\n",
       "      <td>74.750000</td>\n",
       "      <td>186.175000</td>\n",
       "      <td>84.125000</td>\n",
       "    </tr>\n",
       "    <tr>\n",
       "      <th>max</th>\n",
       "      <td>6.720000</td>\n",
       "      <td>14.300000</td>\n",
       "      <td>59.700000</td>\n",
       "      <td>19.200000</td>\n",
       "      <td>234.000000</td>\n",
       "      <td>34.420000</td>\n",
       "      <td>200.800000</td>\n",
       "      <td>35.520000</td>\n",
       "      <td>106.000000</td>\n",
       "      <td>209.400000</td>\n",
       "      <td>123.200000</td>\n",
       "    </tr>\n",
       "  </tbody>\n",
       "</table>\n",
       "</div>"
      ],
      "text/plain": [
       "              rcc         wcc          hc          hg        ferr         bmi  \\\n",
       "count  202.000000  202.000000  202.000000  202.000000  202.000000  202.000000   \n",
       "mean     4.718614    7.108911   43.091584   14.566337   76.876238   22.955891   \n",
       "std      0.457976    1.800337    3.662989    1.362451   47.501239    2.863933   \n",
       "min      3.800000    3.300000   35.900000   11.600000    8.000000   16.750000   \n",
       "25%      4.372500    5.900000   40.600000   13.500000   41.250000   21.082500   \n",
       "50%      4.755000    6.850000   43.500000   14.700000   65.500000   22.720000   \n",
       "75%      5.030000    8.275000   45.575000   15.575000   97.000000   24.465000   \n",
       "max      6.720000   14.300000   59.700000   19.200000  234.000000   34.420000   \n",
       "\n",
       "              ssf      pcBfat         lbm          ht          wt  \n",
       "count  202.000000  202.000000  202.000000  202.000000  202.000000  \n",
       "mean    69.021782   13.507426   64.873713  180.103960   75.007921  \n",
       "std     32.565333    6.189826   13.070197    9.734494   13.925199  \n",
       "min     28.000000    5.630000   34.360000  148.900000   37.800000  \n",
       "25%     43.850000    8.545000   54.667500  174.000000   66.525000  \n",
       "50%     58.600000   11.650000   63.035000  179.700000   74.400000  \n",
       "75%     90.350000   18.080000   74.750000  186.175000   84.125000  \n",
       "max    200.800000   35.520000  106.000000  209.400000  123.200000  "
      ]
     },
     "execution_count": 5,
     "metadata": {},
     "output_type": "execute_result"
    }
   ],
   "source": [
    "data = Summary(url)\n",
    "data.get_stats()"
   ]
  },
  {
   "cell_type": "markdown",
   "metadata": {
    "id": "x_9Zrr7GUX2p"
   },
   "source": [
    "## More Summary Statistics\n",
    "We can also add just the summary statistics we want, uasing `mean()`."
   ]
  },
  {
   "cell_type": "code",
   "execution_count": 6,
   "metadata": {
    "id": "8kvZjNsQ2omC"
   },
   "outputs": [],
   "source": [
    "class Summary:\n",
    "    def __init__(self, data):\n",
    "        self.df = pd.read_csv(data)\n",
    "    def print_head(self):\n",
    "        return self.df.head()\n",
    "    def get_columns(self):\n",
    "        return list(self.df.columns)\n",
    "    def get_dim(self):\n",
    "        print('Rows:', len(self.df))\n",
    "        print('Columns:', len(list(self.df.columns)))\n",
    "    def get_stats(self):\n",
    "        return self.df.describe()\n",
    "    def get_mean(self, column):\n",
    "        print(f\"Mean {column}:\", self.df[column].mean())\n"
   ]
  },
  {
   "cell_type": "code",
   "execution_count": 7,
   "metadata": {
    "colab": {
     "base_uri": "https://localhost:8080/"
    },
    "executionInfo": {
     "elapsed": 4,
     "status": "ok",
     "timestamp": 1670880964043,
     "user": {
      "displayName": "Jonathan Barrios",
      "userId": "16097537147383230085"
     },
     "user_tz": 360
    },
    "id": "yJxzO930o4LU",
    "outputId": "bddcf234-6150-4d03-d7e6-52db4414a0ad"
   },
   "outputs": [
    {
     "name": "stdout",
     "output_type": "stream",
     "text": [
      "Mean wt: 75.0079207920792\n"
     ]
    }
   ],
   "source": [
    "data = Summary(url)\n",
    "data.get_mean('wt')"
   ]
  },
  {
   "cell_type": "code",
   "execution_count": 8,
   "metadata": {
    "id": "9a2NbC4jo1KL"
   },
   "outputs": [],
   "source": [
    "class Summary:\n",
    "    def __init__(self, data):\n",
    "        self.df = pd.read_csv(data)\n",
    "    def print_head(self):\n",
    "        return self.df.head()\n",
    "    def get_columns(self):\n",
    "        return list(self.df.columns)\n",
    "    def get_dim(self):\n",
    "        print('Rows:', len(self.df))\n",
    "        print('Columns:', len(list(self.df.columns)))\n",
    "    def get_stats(self):\n",
    "        return self.df.describe()\n",
    "    def get_mean(self, column):\n",
    "        print(f\"Mean {column}:\", self.df[column].mean())\n",
    "    def get_standard_dev(self, column):\n",
    "        print(f\"STD {column}:\", self.df[column].std())"
   ]
  },
  {
   "cell_type": "code",
   "execution_count": 9,
   "metadata": {
    "colab": {
     "base_uri": "https://localhost:8080/"
    },
    "executionInfo": {
     "elapsed": 3,
     "status": "ok",
     "timestamp": 1670880964043,
     "user": {
      "displayName": "Jonathan Barrios",
      "userId": "16097537147383230085"
     },
     "user_tz": 360
    },
    "id": "HerQm6jJo4o8",
    "outputId": "870e9444-e77e-453f-fcce-da76b0a161f3"
   },
   "outputs": [
    {
     "name": "stdout",
     "output_type": "stream",
     "text": [
      "STD wt: 13.925199486183796\n"
     ]
    }
   ],
   "source": [
    "data = Summary(url)\n",
    "data.get_standard_dev('wt')"
   ]
  }
 ],
 "metadata": {
  "colab": {
   "authorship_tag": "ABX9TyNQkaMN0INPBwk0OxTR7C8e",
   "provenance": []
  },
  "kernelspec": {
   "display_name": "Python 3.10.8 ('prog_for_ds')",
   "language": "python",
   "name": "python3"
  },
  "language_info": {
   "codemirror_mode": {
    "name": "ipython",
    "version": 3
   },
   "file_extension": ".py",
   "mimetype": "text/x-python",
   "name": "python",
   "nbconvert_exporter": "python",
   "pygments_lexer": "ipython3",
   "version": "3.10.8 (main, Nov  4 2022, 08:45:18) [Clang 12.0.0 ]"
  },
  "vscode": {
   "interpreter": {
    "hash": "099ee46e72ddb7528eb4e18f6086cfc4577d36e345fc6f4b0f1ed98d034d516d"
   }
  }
 },
 "nbformat": 4,
 "nbformat_minor": 1
}
