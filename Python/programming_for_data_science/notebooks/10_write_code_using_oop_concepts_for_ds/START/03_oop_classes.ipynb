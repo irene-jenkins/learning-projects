{
 "cells": [
  {
   "cell_type": "markdown",
   "metadata": {
    "id": "r4h2sPaLbujI"
   },
   "source": [
    "# Import and Load Data"
   ]
  },
  {
   "cell_type": "code",
   "execution_count": 9,
   "metadata": {
    "id": "y_HIFmTbM4Nx"
   },
   "outputs": [],
   "source": [
    "import pandas as pd\n",
    "import matplotlib.pyplot as plt\n",
    "import seaborn as sns"
   ]
  },
  {
   "cell_type": "code",
   "execution_count": 10,
   "metadata": {
    "id": "70FwUPdpNV70"
   },
   "outputs": [],
   "source": [
    "url = 'https://raw.githubusercontent.com/jonathan-data-analysis/colab_test_data/main/athletes.csv'\n",
    "# convert to dataframe\n",
    "df = pd.read_csv(url)"
   ]
  },
  {
   "cell_type": "markdown",
   "metadata": {
    "id": "b2v7tRvrAqYw"
   },
   "source": [
    "# What is a Class?\n",
    "A class is a template used to create objects. Everything in Python is an object and you've been using them—strings, numbers, and boolean values are all objects. Use the `class` keyword to create your own Python objects and we'll just that here in this notebook! 🔥\n",
    "\n",
    "First, let's look at the first five rows of our data!"
   ]
  },
  {
   "cell_type": "code",
   "execution_count": 11,
   "metadata": {
    "colab": {
     "base_uri": "https://localhost:8080/",
     "height": 270
    },
    "executionInfo": {
     "elapsed": 8,
     "status": "ok",
     "timestamp": 1670947319420,
     "user": {
      "displayName": "Jonathan Barrios",
      "userId": "16097537147383230085"
     },
     "user_tz": 360
    },
    "id": "E-xo7qhfNdgF",
    "outputId": "f85cdd2b-3aac-4152-dea0-5d833d648609"
   },
   "outputs": [
    {
     "data": {
      "text/html": [
       "<div>\n",
       "<style scoped>\n",
       "    .dataframe tbody tr th:only-of-type {\n",
       "        vertical-align: middle;\n",
       "    }\n",
       "\n",
       "    .dataframe tbody tr th {\n",
       "        vertical-align: top;\n",
       "    }\n",
       "\n",
       "    .dataframe thead th {\n",
       "        text-align: right;\n",
       "    }\n",
       "</style>\n",
       "<table border=\"1\" class=\"dataframe\">\n",
       "  <thead>\n",
       "    <tr style=\"text-align: right;\">\n",
       "      <th></th>\n",
       "      <th>rcc</th>\n",
       "      <th>wcc</th>\n",
       "      <th>hc</th>\n",
       "      <th>hg</th>\n",
       "      <th>ferr</th>\n",
       "      <th>bmi</th>\n",
       "      <th>ssf</th>\n",
       "      <th>pcBfat</th>\n",
       "      <th>lbm</th>\n",
       "      <th>ht</th>\n",
       "      <th>wt</th>\n",
       "      <th>sex</th>\n",
       "      <th>sport</th>\n",
       "    </tr>\n",
       "  </thead>\n",
       "  <tbody>\n",
       "    <tr>\n",
       "      <th>0</th>\n",
       "      <td>3.96</td>\n",
       "      <td>7.5</td>\n",
       "      <td>37.5</td>\n",
       "      <td>12.3</td>\n",
       "      <td>60</td>\n",
       "      <td>20.56</td>\n",
       "      <td>109.1</td>\n",
       "      <td>19.75</td>\n",
       "      <td>63.32</td>\n",
       "      <td>195.9</td>\n",
       "      <td>78.9</td>\n",
       "      <td>f</td>\n",
       "      <td>B_Ball</td>\n",
       "    </tr>\n",
       "    <tr>\n",
       "      <th>1</th>\n",
       "      <td>4.41</td>\n",
       "      <td>8.3</td>\n",
       "      <td>38.2</td>\n",
       "      <td>12.7</td>\n",
       "      <td>68</td>\n",
       "      <td>20.67</td>\n",
       "      <td>102.8</td>\n",
       "      <td>21.30</td>\n",
       "      <td>58.55</td>\n",
       "      <td>189.7</td>\n",
       "      <td>74.4</td>\n",
       "      <td>f</td>\n",
       "      <td>B_Ball</td>\n",
       "    </tr>\n",
       "    <tr>\n",
       "      <th>2</th>\n",
       "      <td>4.14</td>\n",
       "      <td>5.0</td>\n",
       "      <td>36.4</td>\n",
       "      <td>11.6</td>\n",
       "      <td>21</td>\n",
       "      <td>21.86</td>\n",
       "      <td>104.6</td>\n",
       "      <td>19.88</td>\n",
       "      <td>55.36</td>\n",
       "      <td>177.8</td>\n",
       "      <td>69.1</td>\n",
       "      <td>f</td>\n",
       "      <td>B_Ball</td>\n",
       "    </tr>\n",
       "    <tr>\n",
       "      <th>3</th>\n",
       "      <td>4.11</td>\n",
       "      <td>5.3</td>\n",
       "      <td>37.3</td>\n",
       "      <td>12.6</td>\n",
       "      <td>69</td>\n",
       "      <td>21.88</td>\n",
       "      <td>126.4</td>\n",
       "      <td>23.66</td>\n",
       "      <td>57.18</td>\n",
       "      <td>185.0</td>\n",
       "      <td>74.9</td>\n",
       "      <td>f</td>\n",
       "      <td>B_Ball</td>\n",
       "    </tr>\n",
       "    <tr>\n",
       "      <th>4</th>\n",
       "      <td>4.45</td>\n",
       "      <td>6.8</td>\n",
       "      <td>41.5</td>\n",
       "      <td>14.0</td>\n",
       "      <td>29</td>\n",
       "      <td>18.96</td>\n",
       "      <td>80.3</td>\n",
       "      <td>17.64</td>\n",
       "      <td>53.20</td>\n",
       "      <td>184.6</td>\n",
       "      <td>64.6</td>\n",
       "      <td>f</td>\n",
       "      <td>B_Ball</td>\n",
       "    </tr>\n",
       "  </tbody>\n",
       "</table>\n",
       "</div>"
      ],
      "text/plain": [
       "    rcc  wcc    hc    hg  ferr    bmi    ssf  pcBfat    lbm     ht    wt sex  \\\n",
       "0  3.96  7.5  37.5  12.3    60  20.56  109.1   19.75  63.32  195.9  78.9   f   \n",
       "1  4.41  8.3  38.2  12.7    68  20.67  102.8   21.30  58.55  189.7  74.4   f   \n",
       "2  4.14  5.0  36.4  11.6    21  21.86  104.6   19.88  55.36  177.8  69.1   f   \n",
       "3  4.11  5.3  37.3  12.6    69  21.88  126.4   23.66  57.18  185.0  74.9   f   \n",
       "4  4.45  6.8  41.5  14.0    29  18.96   80.3   17.64  53.20  184.6  64.6   f   \n",
       "\n",
       "    sport  \n",
       "0  B_Ball  \n",
       "1  B_Ball  \n",
       "2  B_Ball  \n",
       "3  B_Ball  \n",
       "4  B_Ball  "
      ]
     },
     "execution_count": 11,
     "metadata": {},
     "output_type": "execute_result"
    }
   ],
   "source": [
    "df.head()"
   ]
  },
  {
   "cell_type": "markdown",
   "metadata": {
    "id": "3RxZu51YVkDl"
   },
   "source": [
    "Now, let's discuss what methods are and what they do. When working with objects you sometimes use functions that work on that particular object. For example, if you want to get the keys from a dictionary, you would use the key() method. Again, you will get a chance to build you own object and write funtions inside of them and that right there is a METHOD! A user-defined function in a class which works on that particular object!\n",
    "\n",
    "That being said, there is another kind of method and that's a special method. Spcial methods, are not user-defined and work in the background and are called by the computer as needed. Special methods have dounle underscores also known as Magic or Dunder Methods. Let's check one out below which initializes and returns the first five rows of any dataset we provide.\n",
    "\n",
    "## Special Methods\n",
    "The `__init__` magic/dunder method will initialize and create an instance as `self` and do other stuff such as read the dataset and other tasks. When writing your methods, use the `self` keyword to gain access to that particular instnce. Even the `__init__(self, data)` magic method uses the `self` keyword in this way."
   ]
  },
  {
   "cell_type": "code",
   "execution_count": 12,
   "metadata": {
    "id": "1e-qH4cBZntf"
   },
   "outputs": [],
   "source": [
    "class Summary:\n",
    "    def __init__(self, data):\n",
    "        self.df = pd.read_csv(data)"
   ]
  },
  {
   "cell_type": "code",
   "execution_count": 13,
   "metadata": {
    "colab": {
     "base_uri": "https://localhost:8080/"
    },
    "executionInfo": {
     "elapsed": 103,
     "status": "ok",
     "timestamp": 1670947340198,
     "user": {
      "displayName": "Jonathan Barrios",
      "userId": "16097537147383230085"
     },
     "user_tz": 360
    },
    "id": "heRGbhQVRgi1",
    "outputId": "49a2ead1-1c17-4cde-e8da-888f40f6d2cd"
   },
   "outputs": [
    {
     "data": {
      "text/plain": [
       "<__main__.Summary at 0x245e90c2dd0>"
      ]
     },
     "execution_count": 13,
     "metadata": {},
     "output_type": "execute_result"
    }
   ],
   "source": [
    "# calling the Summary method doesn't do much because this is an instance\n",
    "Summary(url)"
   ]
  },
  {
   "cell_type": "markdown",
   "metadata": {
    "id": "ZeGlnV9LMkq4"
   },
   "source": [
    "## Instantiating a Class Object\n",
    "Instead of calling a class object we can create, or instantiate, an instance of that class. To do this, we'll assign the class object to a variable and pass in our dataset. For example, we can call the functions we write inside of the class object and that means they are methods and not really fucntions. Let's check it out!"
   ]
  },
  {
   "cell_type": "code",
   "execution_count": 14,
   "metadata": {
    "colab": {
     "base_uri": "https://localhost:8080/"
    },
    "executionInfo": {
     "elapsed": 98,
     "status": "ok",
     "timestamp": 1670882729956,
     "user": {
      "displayName": "Jonathan Barrios",
      "userId": "16097537147383230085"
     },
     "user_tz": 360
    },
    "id": "xD_SF-_LXbZY",
    "outputId": "dc6103f4-0e5b-401a-d886-cd2fb3aa1f7d",
    "scrolled": true
   },
   "outputs": [],
   "source": [
    "# assign the method with the dataset as the variable data\n",
    "data = Summary(url)\n",
    "\n",
    "# that didn't do much but that is an instance of our class!"
   ]
  },
  {
   "cell_type": "markdown",
   "metadata": {},
   "source": [
    "## Data as Class Attributes\n",
    "Classes can have methods which are functions we write in the class and attributes are like variables for our class instance. Let's add one below to give our dataset a name. We won't keep this functionality in our class but I did want to show you that each class instance can contain variables you can use and those are **attributes**!"
   ]
  },
  {
   "cell_type": "code",
   "execution_count": 16,
   "metadata": {},
   "outputs": [
    {
     "data": {
      "text/plain": [
       "'Sports Medicine'"
      ]
     },
     "execution_count": 16,
     "metadata": {},
     "output_type": "execute_result"
    }
   ],
   "source": [
    "class Summary:\n",
    "    def __init__(self, data, name):\n",
    "        self.df = pd.read_csv(url)\n",
    "        self.name = name # attribute\n",
    "\n",
    "data = Summary(url, \"Sports Medicine\")\n",
    "data.name\n"
   ]
  },
  {
   "cell_type": "markdown",
   "metadata": {},
   "source": [
    "## Let's Add Some Logic to Our Class!"
   ]
  },
  {
   "cell_type": "code",
   "execution_count": 17,
   "metadata": {
    "id": "3lx876qeO6xG"
   },
   "outputs": [],
   "source": [
    "class Summary:\n",
    "    def __init__(self, data):\n",
    "        self.df = pd.read_csv(url)\n",
    "    def print_head(self):\n",
    "        return self.df.head()"
   ]
  },
  {
   "cell_type": "code",
   "execution_count": 18,
   "metadata": {},
   "outputs": [
    {
     "data": {
      "text/html": [
       "<div>\n",
       "<style scoped>\n",
       "    .dataframe tbody tr th:only-of-type {\n",
       "        vertical-align: middle;\n",
       "    }\n",
       "\n",
       "    .dataframe tbody tr th {\n",
       "        vertical-align: top;\n",
       "    }\n",
       "\n",
       "    .dataframe thead th {\n",
       "        text-align: right;\n",
       "    }\n",
       "</style>\n",
       "<table border=\"1\" class=\"dataframe\">\n",
       "  <thead>\n",
       "    <tr style=\"text-align: right;\">\n",
       "      <th></th>\n",
       "      <th>rcc</th>\n",
       "      <th>wcc</th>\n",
       "      <th>hc</th>\n",
       "      <th>hg</th>\n",
       "      <th>ferr</th>\n",
       "      <th>bmi</th>\n",
       "      <th>ssf</th>\n",
       "      <th>pcBfat</th>\n",
       "      <th>lbm</th>\n",
       "      <th>ht</th>\n",
       "      <th>wt</th>\n",
       "      <th>sex</th>\n",
       "      <th>sport</th>\n",
       "    </tr>\n",
       "  </thead>\n",
       "  <tbody>\n",
       "    <tr>\n",
       "      <th>0</th>\n",
       "      <td>3.96</td>\n",
       "      <td>7.5</td>\n",
       "      <td>37.5</td>\n",
       "      <td>12.3</td>\n",
       "      <td>60</td>\n",
       "      <td>20.56</td>\n",
       "      <td>109.1</td>\n",
       "      <td>19.75</td>\n",
       "      <td>63.32</td>\n",
       "      <td>195.9</td>\n",
       "      <td>78.9</td>\n",
       "      <td>f</td>\n",
       "      <td>B_Ball</td>\n",
       "    </tr>\n",
       "    <tr>\n",
       "      <th>1</th>\n",
       "      <td>4.41</td>\n",
       "      <td>8.3</td>\n",
       "      <td>38.2</td>\n",
       "      <td>12.7</td>\n",
       "      <td>68</td>\n",
       "      <td>20.67</td>\n",
       "      <td>102.8</td>\n",
       "      <td>21.30</td>\n",
       "      <td>58.55</td>\n",
       "      <td>189.7</td>\n",
       "      <td>74.4</td>\n",
       "      <td>f</td>\n",
       "      <td>B_Ball</td>\n",
       "    </tr>\n",
       "    <tr>\n",
       "      <th>2</th>\n",
       "      <td>4.14</td>\n",
       "      <td>5.0</td>\n",
       "      <td>36.4</td>\n",
       "      <td>11.6</td>\n",
       "      <td>21</td>\n",
       "      <td>21.86</td>\n",
       "      <td>104.6</td>\n",
       "      <td>19.88</td>\n",
       "      <td>55.36</td>\n",
       "      <td>177.8</td>\n",
       "      <td>69.1</td>\n",
       "      <td>f</td>\n",
       "      <td>B_Ball</td>\n",
       "    </tr>\n",
       "    <tr>\n",
       "      <th>3</th>\n",
       "      <td>4.11</td>\n",
       "      <td>5.3</td>\n",
       "      <td>37.3</td>\n",
       "      <td>12.6</td>\n",
       "      <td>69</td>\n",
       "      <td>21.88</td>\n",
       "      <td>126.4</td>\n",
       "      <td>23.66</td>\n",
       "      <td>57.18</td>\n",
       "      <td>185.0</td>\n",
       "      <td>74.9</td>\n",
       "      <td>f</td>\n",
       "      <td>B_Ball</td>\n",
       "    </tr>\n",
       "    <tr>\n",
       "      <th>4</th>\n",
       "      <td>4.45</td>\n",
       "      <td>6.8</td>\n",
       "      <td>41.5</td>\n",
       "      <td>14.0</td>\n",
       "      <td>29</td>\n",
       "      <td>18.96</td>\n",
       "      <td>80.3</td>\n",
       "      <td>17.64</td>\n",
       "      <td>53.20</td>\n",
       "      <td>184.6</td>\n",
       "      <td>64.6</td>\n",
       "      <td>f</td>\n",
       "      <td>B_Ball</td>\n",
       "    </tr>\n",
       "  </tbody>\n",
       "</table>\n",
       "</div>"
      ],
      "text/plain": [
       "    rcc  wcc    hc    hg  ferr    bmi    ssf  pcBfat    lbm     ht    wt sex  \\\n",
       "0  3.96  7.5  37.5  12.3    60  20.56  109.1   19.75  63.32  195.9  78.9   f   \n",
       "1  4.41  8.3  38.2  12.7    68  20.67  102.8   21.30  58.55  189.7  74.4   f   \n",
       "2  4.14  5.0  36.4  11.6    21  21.86  104.6   19.88  55.36  177.8  69.1   f   \n",
       "3  4.11  5.3  37.3  12.6    69  21.88  126.4   23.66  57.18  185.0  74.9   f   \n",
       "4  4.45  6.8  41.5  14.0    29  18.96   80.3   17.64  53.20  184.6  64.6   f   \n",
       "\n",
       "    sport  \n",
       "0  B_Ball  \n",
       "1  B_Ball  \n",
       "2  B_Ball  \n",
       "3  B_Ball  \n",
       "4  B_Ball  "
      ]
     },
     "execution_count": 18,
     "metadata": {},
     "output_type": "execute_result"
    }
   ],
   "source": [
    "data = Summary(url)\n",
    "data.print_head() # uses our custom print_head method"
   ]
  },
  {
   "cell_type": "markdown",
   "metadata": {},
   "source": [
    "## Return `n` Number of Rows"
   ]
  },
  {
   "cell_type": "code",
   "execution_count": 22,
   "metadata": {
    "executionInfo": {
     "elapsed": 3,
     "status": "ok",
     "timestamp": 1670951122316,
     "user": {
      "displayName": "Jonathan Barrios",
      "userId": "16097537147383230085"
     },
     "user_tz": 360
    },
    "id": "n1YEDu5_21tJ"
   },
   "outputs": [],
   "source": [
    "class Summary:\n",
    "    def __init__(self, data):\n",
    "        self.df = pd.read_csv(url)\n",
    "    def print_head(self, rows=None):\n",
    "        return self.df.head(rows)"
   ]
  },
  {
   "cell_type": "code",
   "execution_count": 25,
   "metadata": {
    "colab": {
     "base_uri": "https://localhost:8080/"
    },
    "executionInfo": {
     "elapsed": 4,
     "status": "ok",
     "timestamp": 1670880963745,
     "user": {
      "displayName": "Jonathan Barrios",
      "userId": "16097537147383230085"
     },
     "user_tz": 360
    },
    "id": "BGclNbar22iM",
    "outputId": "c196dd3a-5771-4694-f8b4-63578ab7bb9d"
   },
   "outputs": [
    {
     "data": {
      "text/html": [
       "<div>\n",
       "<style scoped>\n",
       "    .dataframe tbody tr th:only-of-type {\n",
       "        vertical-align: middle;\n",
       "    }\n",
       "\n",
       "    .dataframe tbody tr th {\n",
       "        vertical-align: top;\n",
       "    }\n",
       "\n",
       "    .dataframe thead th {\n",
       "        text-align: right;\n",
       "    }\n",
       "</style>\n",
       "<table border=\"1\" class=\"dataframe\">\n",
       "  <thead>\n",
       "    <tr style=\"text-align: right;\">\n",
       "      <th></th>\n",
       "      <th>rcc</th>\n",
       "      <th>wcc</th>\n",
       "      <th>hc</th>\n",
       "      <th>hg</th>\n",
       "      <th>ferr</th>\n",
       "      <th>bmi</th>\n",
       "      <th>ssf</th>\n",
       "      <th>pcBfat</th>\n",
       "      <th>lbm</th>\n",
       "      <th>ht</th>\n",
       "      <th>wt</th>\n",
       "      <th>sex</th>\n",
       "      <th>sport</th>\n",
       "    </tr>\n",
       "  </thead>\n",
       "  <tbody>\n",
       "    <tr>\n",
       "      <th>0</th>\n",
       "      <td>3.96</td>\n",
       "      <td>7.5</td>\n",
       "      <td>37.5</td>\n",
       "      <td>12.3</td>\n",
       "      <td>60</td>\n",
       "      <td>20.56</td>\n",
       "      <td>109.1</td>\n",
       "      <td>19.75</td>\n",
       "      <td>63.32</td>\n",
       "      <td>195.9</td>\n",
       "      <td>78.9</td>\n",
       "      <td>f</td>\n",
       "      <td>B_Ball</td>\n",
       "    </tr>\n",
       "    <tr>\n",
       "      <th>1</th>\n",
       "      <td>4.41</td>\n",
       "      <td>8.3</td>\n",
       "      <td>38.2</td>\n",
       "      <td>12.7</td>\n",
       "      <td>68</td>\n",
       "      <td>20.67</td>\n",
       "      <td>102.8</td>\n",
       "      <td>21.30</td>\n",
       "      <td>58.55</td>\n",
       "      <td>189.7</td>\n",
       "      <td>74.4</td>\n",
       "      <td>f</td>\n",
       "      <td>B_Ball</td>\n",
       "    </tr>\n",
       "    <tr>\n",
       "      <th>2</th>\n",
       "      <td>4.14</td>\n",
       "      <td>5.0</td>\n",
       "      <td>36.4</td>\n",
       "      <td>11.6</td>\n",
       "      <td>21</td>\n",
       "      <td>21.86</td>\n",
       "      <td>104.6</td>\n",
       "      <td>19.88</td>\n",
       "      <td>55.36</td>\n",
       "      <td>177.8</td>\n",
       "      <td>69.1</td>\n",
       "      <td>f</td>\n",
       "      <td>B_Ball</td>\n",
       "    </tr>\n",
       "  </tbody>\n",
       "</table>\n",
       "</div>"
      ],
      "text/plain": [
       "    rcc  wcc    hc    hg  ferr    bmi    ssf  pcBfat    lbm     ht    wt sex  \\\n",
       "0  3.96  7.5  37.5  12.3    60  20.56  109.1   19.75  63.32  195.9  78.9   f   \n",
       "1  4.41  8.3  38.2  12.7    68  20.67  102.8   21.30  58.55  189.7  74.4   f   \n",
       "2  4.14  5.0  36.4  11.6    21  21.86  104.6   19.88  55.36  177.8  69.1   f   \n",
       "\n",
       "    sport  \n",
       "0  B_Ball  \n",
       "1  B_Ball  \n",
       "2  B_Ball  "
      ]
     },
     "execution_count": 25,
     "metadata": {},
     "output_type": "execute_result"
    }
   ],
   "source": [
    "# print first record or n records\n",
    "data = Summary(url)\n",
    "data.print_head(3)"
   ]
  },
  {
   "cell_type": "code",
   "execution_count": null,
   "metadata": {},
   "outputs": [],
   "source": []
  }
 ],
 "metadata": {
  "colab": {
   "authorship_tag": "ABX9TyMl1W3jTO9MFfIMHvt3DEga",
   "provenance": []
  },
  "kernelspec": {
   "display_name": "Python 3 (ipykernel)",
   "language": "python",
   "name": "python3"
  },
  "language_info": {
   "codemirror_mode": {
    "name": "ipython",
    "version": 3
   },
   "file_extension": ".py",
   "mimetype": "text/x-python",
   "name": "python",
   "nbconvert_exporter": "python",
   "pygments_lexer": "ipython3",
   "version": "3.11.5"
  }
 },
 "nbformat": 4,
 "nbformat_minor": 1
}
