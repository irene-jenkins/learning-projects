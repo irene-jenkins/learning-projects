{
 "cells": [
  {
   "cell_type": "markdown",
   "metadata": {
    "id": "r4h2sPaLbujI"
   },
   "source": [
    "# Import and Load Data"
   ]
  },
  {
   "cell_type": "code",
   "execution_count": null,
   "metadata": {
    "id": "y_HIFmTbM4Nx"
   },
   "outputs": [],
   "source": [
    "import pandas as pd\n",
    "import matplotlib.pyplot as plt\n",
    "import seaborn as sns"
   ]
  },
  {
   "cell_type": "code",
   "execution_count": null,
   "metadata": {
    "id": "70FwUPdpNV70"
   },
   "outputs": [],
   "source": [
    "url = 'https://raw.githubusercontent.com/jonathan-data-analysis/colab_test_data/main/athletes.csv'\n",
    "# convert to dataframe"
   ]
  },
  {
   "cell_type": "markdown",
   "metadata": {
    "id": "b2v7tRvrAqYw"
   },
   "source": [
    "# What is a Class?\n",
    "A class is a template used to create objects. Everything in Python is an object and you've been using them—strings, numbers, and boolean values are all objects. Use the `class` keyword to create your own Python objects and we'll just that here in this notebook! 🔥\n",
    "\n",
    "First, let's look at the first five rows of our data!"
   ]
  },
  {
   "cell_type": "code",
   "execution_count": null,
   "metadata": {
    "colab": {
     "base_uri": "https://localhost:8080/",
     "height": 270
    },
    "executionInfo": {
     "elapsed": 8,
     "status": "ok",
     "timestamp": 1670947319420,
     "user": {
      "displayName": "Jonathan Barrios",
      "userId": "16097537147383230085"
     },
     "user_tz": 360
    },
    "id": "E-xo7qhfNdgF",
    "outputId": "f85cdd2b-3aac-4152-dea0-5d833d648609"
   },
   "outputs": [],
   "source": []
  },
  {
   "cell_type": "markdown",
   "metadata": {
    "id": "3RxZu51YVkDl"
   },
   "source": [
    "Now, let's discuss what methods are and what they do. When working with objects you sometimes use functions that work on that particular object. For example, if you want to get the keys from a dictionary, you would use the key() method. Again, you will get a chance to build you own object and write funtions inside of them and that right there is a METHOD! A user-defined function in a class which works on that particular object!\n",
    "\n",
    "That being said, there is another kind of method and that's a special method. Spcial methods, are not user-defined and work in the background and are called by the computer as needed. Special methods have dounle underscores also known as Magic or Dunder Methods. Let's check one out below which initializes and returns the first five rows of any dataset we provide.\n",
    "\n",
    "## Special Methods\n",
    "The `__init__` magic/dunder method will initialize and create an instance as `self` and do other stuff such as read the dataset and other tasks. When writing your methods, use the `self` keyword to gain access to that particular instnce. Even the `__init__(self, data)` magic method uses the `self` keyword in this way."
   ]
  },
  {
   "cell_type": "code",
   "execution_count": null,
   "metadata": {
    "id": "1e-qH4cBZntf"
   },
   "outputs": [],
   "source": []
  },
  {
   "cell_type": "code",
   "execution_count": null,
   "metadata": {
    "colab": {
     "base_uri": "https://localhost:8080/"
    },
    "executionInfo": {
     "elapsed": 103,
     "status": "ok",
     "timestamp": 1670947340198,
     "user": {
      "displayName": "Jonathan Barrios",
      "userId": "16097537147383230085"
     },
     "user_tz": 360
    },
    "id": "heRGbhQVRgi1",
    "outputId": "49a2ead1-1c17-4cde-e8da-888f40f6d2cd"
   },
   "outputs": [],
   "source": [
    "# calling the Summary method doesn't do much because this is an instance\n"
   ]
  },
  {
   "cell_type": "markdown",
   "metadata": {
    "id": "ZeGlnV9LMkq4"
   },
   "source": [
    "## Instantiating a Class Object\n",
    "Instead of calling a class object we can create, or instantiate, an instance of that class. To do this, we'll assign the class object to a variable and pass in our dataset. For example, we can call the functions we write inside of the class object and that means they are methods and not really fucntions. Let's check it out!"
   ]
  },
  {
   "cell_type": "code",
   "execution_count": null,
   "metadata": {
    "colab": {
     "base_uri": "https://localhost:8080/"
    },
    "executionInfo": {
     "elapsed": 98,
     "status": "ok",
     "timestamp": 1670882729956,
     "user": {
      "displayName": "Jonathan Barrios",
      "userId": "16097537147383230085"
     },
     "user_tz": 360
    },
    "id": "xD_SF-_LXbZY",
    "outputId": "dc6103f4-0e5b-401a-d886-cd2fb3aa1f7d",
    "scrolled": true
   },
   "outputs": [],
   "source": [
    "# assign the method with the dataset as the variable data\n",
    "\n",
    "\n",
    "# that didn't do much but that is an instance of our class!"
   ]
  },
  {
   "cell_type": "markdown",
   "metadata": {},
   "source": [
    "## Data as Class Attributes\n",
    "Classes can have methods which are functions we write in the class and attributes are like variables for our class instance. Let's add one below to give our dataset a name. We won't keep this functionality in our class but I did want to show you that each class instance can contain variables you can use and those are **attributes**!"
   ]
  },
  {
   "cell_type": "code",
   "execution_count": null,
   "metadata": {},
   "outputs": [],
   "source": []
  },
  {
   "cell_type": "markdown",
   "metadata": {},
   "source": [
    "## Let's Add Some Logic to Our Class!"
   ]
  },
  {
   "cell_type": "code",
   "execution_count": null,
   "metadata": {
    "id": "3lx876qeO6xG"
   },
   "outputs": [],
   "source": []
  },
  {
   "cell_type": "code",
   "execution_count": null,
   "metadata": {
    "colab": {
     "base_uri": "https://localhost:8080/"
    },
    "executionInfo": {
     "elapsed": 4,
     "status": "ok",
     "timestamp": 1670880963744,
     "user": {
      "displayName": "Jonathan Barrios",
      "userId": "16097537147383230085"
     },
     "user_tz": 360
    },
    "id": "j_zHPdvExrlb",
    "outputId": "ffc34cb9-0807-44d8-ceb3-37b888672249"
   },
   "outputs": [],
   "source": []
  },
  {
   "cell_type": "markdown",
   "metadata": {},
   "source": [
    "## Return `n` Number of Rows"
   ]
  },
  {
   "cell_type": "code",
   "execution_count": null,
   "metadata": {
    "executionInfo": {
     "elapsed": 3,
     "status": "ok",
     "timestamp": 1670951122316,
     "user": {
      "displayName": "Jonathan Barrios",
      "userId": "16097537147383230085"
     },
     "user_tz": 360
    },
    "id": "n1YEDu5_21tJ"
   },
   "outputs": [],
   "source": []
  },
  {
   "cell_type": "code",
   "execution_count": null,
   "metadata": {
    "colab": {
     "base_uri": "https://localhost:8080/"
    },
    "executionInfo": {
     "elapsed": 4,
     "status": "ok",
     "timestamp": 1670880963745,
     "user": {
      "displayName": "Jonathan Barrios",
      "userId": "16097537147383230085"
     },
     "user_tz": 360
    },
    "id": "BGclNbar22iM",
    "outputId": "c196dd3a-5771-4694-f8b4-63578ab7bb9d"
   },
   "outputs": [],
   "source": [
    "# print first record or n records"
   ]
  }
 ],
 "metadata": {
  "colab": {
   "authorship_tag": "ABX9TyMl1W3jTO9MFfIMHvt3DEga",
   "provenance": []
  },
  "kernelspec": {
   "display_name": "Python 3 (ipykernel)",
   "language": "python",
   "name": "python3"
  },
  "language_info": {
   "codemirror_mode": {
    "name": "ipython",
    "version": 3
   },
   "file_extension": ".py",
   "mimetype": "text/x-python",
   "name": "python",
   "nbconvert_exporter": "python",
   "pygments_lexer": "ipython3",
   "version": "3.10.8"
  }
 },
 "nbformat": 4,
 "nbformat_minor": 1
}
