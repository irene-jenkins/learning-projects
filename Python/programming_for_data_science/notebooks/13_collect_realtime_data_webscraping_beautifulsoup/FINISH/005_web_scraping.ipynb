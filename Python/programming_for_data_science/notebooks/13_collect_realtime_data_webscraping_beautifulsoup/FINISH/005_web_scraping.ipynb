{
 "cells": [
  {
   "cell_type": "markdown",
   "metadata": {
    "id": "rzsyMtqNrzao"
   },
   "source": [
    "# Searching and extracting: `find_all()` PART II"
   ]
  },
  {
   "cell_type": "code",
   "execution_count": 1,
   "metadata": {
    "id": "7EPYWfZQ1Wyk"
   },
   "outputs": [],
   "source": [
    "# import libraries\n",
    "import requests\n",
    "from bs4 import BeautifulSoup\n",
    "import pandas as pd"
   ]
  },
  {
   "cell_type": "markdown",
   "metadata": {
    "id": "dno32tors9X4"
   },
   "source": [
    "## Get HTML into Python"
   ]
  },
  {
   "cell_type": "code",
   "execution_count": 2,
   "metadata": {
    "colab": {
     "base_uri": "https://localhost:8080/"
    },
    "executionInfo": {
     "elapsed": 348,
     "status": "ok",
     "timestamp": 1642367049353,
     "user": {
      "displayName": "Jonathan Barrios",
      "photoUrl": "https://lh3.googleusercontent.com/a-/AOh14GgvASDP8IeSc7pDnY825wAIDgg-IvEW1ps_Mr0Uzw=s64",
      "userId": "00501959677193622214"
     },
     "user_tz": 360
    },
    "id": "ZxE3qPBftIDx",
    "outputId": "c3397974-2914-47fb-ea65-552ee65a42af"
   },
   "outputs": [
    {
     "data": {
      "text/plain": [
       "<Response [200]>"
      ]
     },
     "execution_count": 2,
     "metadata": {},
     "output_type": "execute_result"
    }
   ],
   "source": [
    "# assign HTML url to varible: url\n",
    "# url =\"https://webscraper.io/test-sites/e-commerce/allinone/phones\"\n",
    "url =\"https://webscraper.io/test-sites/e-commerce/allinone/computers/tablets\"\n",
    "\n",
    "# get the HTML from url and assign to variable: page\n",
    "page = requests.get(url)\n",
    "page # The HTTP 200 OK success status response code = request has succeeded."
   ]
  },
  {
   "cell_type": "code",
   "execution_count": 3,
   "metadata": {
    "colab": {
     "base_uri": "https://localhost:8080/"
    },
    "executionInfo": {
     "elapsed": 274,
     "status": "ok",
     "timestamp": 1642367050169,
     "user": {
      "displayName": "Jonathan Barrios",
      "photoUrl": "https://lh3.googleusercontent.com/a-/AOh14GgvASDP8IeSc7pDnY825wAIDgg-IvEW1ps_Mr0Uzw=s64",
      "userId": "00501959677193622214"
     },
     "user_tz": 360
    },
    "id": "etHGz7ORsSl6",
    "outputId": "c31775a7-d8bf-4b91-fd57-fdcd26d7ed09"
   },
   "outputs": [
    {
     "data": {
      "text/plain": [
       "<!DOCTYPE html>\n",
       "<html lang=\"en\">\n",
       "<head>\n",
       "<!-- Anti-flicker snippet (recommended)  -->\n",
       "<style>.async-hide {\n",
       "\t\topacity: 0 !important\n",
       "\t} </style>\n",
       "<script>(function (a, s, y, n, c, h, i, d, e) {\n",
       "\t\ts.className += ' ' + y;\n",
       "\t\th.start = 1 * new Date;\n",
       "\t\th.end = i = function () {\n",
       "\t\t\ts.className = s.className.replace(RegExp(' ?' + y), '')\n",
       "\t\t};\n",
       "\t\t(a[n] = a[n] || []).hide = h;\n",
       "\t\tsetTimeout(function () {\n",
       "\t\t\ti();\n",
       "\t\t\th.end = null\n",
       "\t\t}, c);\n",
       "\t\th.timeout = c;\n",
       "\t})(window, document.documentElement, 'async-hide', 'dataLayer', 4000,\n",
       "\t\t{'GTM-NVFPDWB': true});</script>\n",
       "<!-- Google Tag Manager -->\n",
       "<script>(function (w, d, s, l, i) {\n",
       "\t\tw[l] = w[l] || [];\n",
       "\t\tw[l].push({\n",
       "\t\t\t'gtm.start':\n",
       "\t\t\t\tnew Date().getTime(), event: 'gtm.js'\n",
       "\t\t});\n",
       "\t\tvar f = d.getElementsByTagName(s)[0],\n",
       "\t\t\tj = d.createElement(s), dl = l != 'dataLayer' ? '&l=' + l : '';\n",
       "\t\tj.async = true;\n",
       "\t\tj.src =\n",
       "\t\t\t'https://www.googletagmanager.com/gtm.js?id=' + i + dl;\n",
       "\t\tf.parentNode.insertBefore(j, f);\n",
       "\t})(window, document, 'script', 'dataLayer', 'GTM-NVFPDWB');</script>\n",
       "<!-- End Google Tag Manager -->\n",
       "<title>Web Scraper Test Sites</title>\n",
       "<meta charset=\"utf-8\"/>\n",
       "<meta content=\"IE=edge,chrome=1\" http-equiv=\"X-UA-Compatible\"/>\n",
       "<meta content=\"web scraping,Web Scraper,Chrome extension,Crawling,Cross platform scraper\" name=\"keywords\"/>\n",
       "<meta content=\"The most popular web scraping extension. Start scraping in minutes. Automate your tasks with our Cloud Scraper. No software to download, no coding needed.\" name=\"description\"/>\n",
       "<link href=\"/favicon.png\" rel=\"icon\" sizes=\"128x128\"/>\n",
       "<meta content=\"width=device-width, initial-scale=1.0\" name=\"viewport\"/>\n",
       "<link href=\"/css/app.css?id=e30a09b05325a08d79dd\" rel=\"stylesheet\"/>\n",
       "<link href=\"https://webscraper.io/test-sites/e-commerce/allinone/computers/tablets\" rel=\"canonical\"/>\n",
       "<link href=\"/img/logo-icon.png\" rel=\"apple-touch-icon\"/>\n",
       "<script defer=\"\" src=\"/js/app.js?id=1c1cafc4a642f71eb469\"></script>\n",
       "</head>\n",
       "<body>\n",
       "<!-- Google Tag Manager (noscript) -->\n",
       "<noscript>\n",
       "<iframe height=\"0\" src=\"https://www.googletagmanager.com/ns.html?id=GTM-NVFPDWB\" style=\"display:none;visibility:hidden\" width=\"0\"></iframe>\n",
       "</noscript>\n",
       "<!-- End Google Tag Manager (noscript) -->\n",
       "<header class=\"navbar navbar-fixed-top navbar-static\" role=\"banner\">\n",
       "<div class=\"container\">\n",
       "<div class=\"navbar-header\">\n",
       "<a data-target=\".side-collapse\" data-target-2=\".side-collapse-container\" data-toggle=\"collapse-side\">\n",
       "<button aria-controls=\"navbar\" aria-expanded=\"false\" class=\"navbar-toggle pull-right collapsed\" data-target=\"#navbar\" data-target-2=\".side-collapse-container\" data-target-3=\".side-collapse\" data-toggle=\"collapse\" type=\"button\">\n",
       "<span class=\"sr-only\">Toggle navigation</span>\n",
       "<span class=\"icon-bar top-bar\"></span>\n",
       "<span class=\"icon-bar middle-bar\"></span>\n",
       "<span class=\"icon-bar bottom-bar\"></span>\n",
       "</button>\n",
       "</a>\n",
       "<div class=\"navbar-brand\">\n",
       "<a href=\"/\"><img alt=\"Web Scraper\" src=\"/img/logo_white.svg\"/></a>\n",
       "</div>\n",
       "</div>\n",
       "<div class=\"side-collapse in\">\n",
       "<nav class=\"navbar-collapse collapse\" id=\"navbar\" role=\"navigation\">\n",
       "<ul class=\"nav navbar-nav navbar-right\">\n",
       "<li class=\"hidden\">\n",
       "<a href=\"#page-top\"></a>\n",
       "</li>\n",
       "<li>\n",
       "<a class=\"menuitm\" href=\"/\">\n",
       "<p>Web Scraper</p>\n",
       "<div class=\"crta\"></div>\n",
       "</a>\n",
       "</li>\n",
       "<li>\n",
       "<a class=\"menuitm\" href=\"/cloud-scraper\">\n",
       "<p>Cloud Scraper</p>\n",
       "<div class=\"crta\"></div>\n",
       "</a>\n",
       "</li>\n",
       "<li>\n",
       "<a class=\"menuitm\" href=\"/pricing\">\n",
       "<p>Pricing</p>\n",
       "<div class=\"crta\"></div>\n",
       "</a>\n",
       "</li>\n",
       "<li class=\"dropdown\">\n",
       "<a class=\"menuitm dropdown-toggle\" data-toggle=\"dropdown\" href=\"#section3\">\n",
       "<p>Learn</p>\n",
       "<div class=\"crta\"></div>\n",
       "</a>\n",
       "<ul class=\"dropdown-menu\">\n",
       "<li>\n",
       "<a href=\"/documentation\">Documentation</a>\n",
       "</li>\n",
       "<li>\n",
       "<a href=\"/tutorials\">Video Tutorials</a>\n",
       "</li>\n",
       "<li>\n",
       "<a href=\"/how-to-videos\">How to</a>\n",
       "</li>\n",
       "<li>\n",
       "<a href=\"/test-sites\">Test Sites</a>\n",
       "</li>\n",
       "<li>\n",
       "<a href=\"https://forum.webscraper.io/\" rel=\"noopener\" target=\"_blank\">Forum</a>\n",
       "</li>\n",
       "</ul>\n",
       "</li>\n",
       "<li>\n",
       "<a class=\"btn-menu1 install-extension\" href=\"https://chrome.google.com/webstore/detail/web-scraper/jnhgnonknehpejjnehehllkliplmbmhn?hl=en\" rel=\"noopener\" target=\"_blank\">Install</a>\n",
       "</li>\n",
       "<li>\n",
       "<a class=\"btn-menu2\" href=\"https://cloud.webscraper.io/\">Login</a>\n",
       "</li>\n",
       "</ul>\n",
       "</nav>\n",
       "</div>\n",
       "</div>\n",
       "</header>\n",
       "<div class=\"wrapper\">\n",
       "<div class=\"formenu-here container-fluid\">\n",
       "</div>\n",
       "<div class=\"container-fluid blog-hero\">\n",
       "<div class=\"container\">\n",
       "<div class=\"row\">\n",
       "<div class=\"col-md-12\">\n",
       "<h1>Test Sites</h1>\n",
       "</div>\n",
       "</div>\n",
       "</div>\n",
       "</div>\n",
       "<div class=\"container test-site\">\n",
       "<div class=\"row\">\n",
       "<div class=\"col-md-3 sidebar\">\n",
       "<div class=\"navbar-default sidebar\" role=\"navigation\">\n",
       "<div class=\"sidebar-nav navbar-collapse\">\n",
       "<ul class=\"nav\" id=\"side-menu\">\n",
       "<li>\n",
       "<a href=\"/test-sites/e-commerce/allinone\">Home</a>\n",
       "</li>\n",
       "<li class=\"active\">\n",
       "<a class=\"category-link\" href=\"/test-sites/e-commerce/allinone/computers\">\n",
       "\t\t\t\t\tComputers\n",
       "\t\t\t\t\t<span class=\"fa arrow\"></span>\n",
       "</a>\n",
       "<ul class=\"nav nav-second-level collapse in\">\n",
       "<li>\n",
       "<a class=\"subcategory-link\" href=\"/test-sites/e-commerce/allinone/computers/laptops\">\n",
       "\t\t\t\t\t\t\tLaptops\n",
       "\t\t\t\t\t\t</a>\n",
       "</li>\n",
       "<li>\n",
       "<a class=\"subcategory-link active\" href=\"/test-sites/e-commerce/allinone/computers/tablets\">\n",
       "\t\t\t\t\t\t\tTablets\n",
       "\t\t\t\t\t\t</a>\n",
       "</li>\n",
       "</ul>\n",
       "</li>\n",
       "<li>\n",
       "<a class=\"category-link\" href=\"/test-sites/e-commerce/allinone/phones\">\n",
       "\t\t\t\t\tPhones\n",
       "\t\t\t\t\t<span class=\"fa arrow\"></span>\n",
       "</a>\n",
       "</li>\n",
       "</ul>\n",
       "</div>\n",
       "</div>\n",
       "</div>\n",
       "<div class=\"col-md-9\">\n",
       "<h1 class=\"page-header\">Computers / Tablets</h1>\n",
       "<div class=\"row\">\n",
       "<div class=\"col-sm-4 col-lg-4 col-md-4\">\n",
       "<div class=\"thumbnail\">\n",
       "<img alt=\"item\" class=\"img-responsive\" src=\"/images/test-sites/e-commerce/items/cart2.png\"/>\n",
       "<div class=\"caption\">\n",
       "<h4 class=\"pull-right price\">$69.99</h4>\n",
       "<h4>\n",
       "<a class=\"title\" href=\"/test-sites/e-commerce/allinone/product/495\" title=\"Lenovo IdeaTab\">Lenovo IdeaTab</a>\n",
       "</h4>\n",
       "<p class=\"description\">7\" screen, Android</p>\n",
       "</div>\n",
       "<div class=\"ratings\">\n",
       "<p class=\"pull-right\">7 reviews</p>\n",
       "<p data-rating=\"3\">\n",
       "<span class=\"glyphicon glyphicon-star\"></span>\n",
       "<span class=\"glyphicon glyphicon-star\"></span>\n",
       "<span class=\"glyphicon glyphicon-star\"></span>\n",
       "</p>\n",
       "</div>\n",
       "</div>\n",
       "</div>\n",
       "<div class=\"col-sm-4 col-lg-4 col-md-4\">\n",
       "<div class=\"thumbnail\">\n",
       "<img alt=\"item\" class=\"img-responsive\" src=\"/images/test-sites/e-commerce/items/cart2.png\"/>\n",
       "<div class=\"caption\">\n",
       "<h4 class=\"pull-right price\">$88.99</h4>\n",
       "<h4>\n",
       "<a class=\"title\" href=\"/test-sites/e-commerce/allinone/product/500\" title=\"IdeaTab A3500L\">IdeaTab A3500L</a>\n",
       "</h4>\n",
       "<p class=\"description\">Black, 7\" IPS, Quad-Core 1.2GHz, 8GB, Android 4.2</p>\n",
       "</div>\n",
       "<div class=\"ratings\">\n",
       "<p class=\"pull-right\">7 reviews</p>\n",
       "<p data-rating=\"4\">\n",
       "<span class=\"glyphicon glyphicon-star\"></span>\n",
       "<span class=\"glyphicon glyphicon-star\"></span>\n",
       "<span class=\"glyphicon glyphicon-star\"></span>\n",
       "<span class=\"glyphicon glyphicon-star\"></span>\n",
       "</p>\n",
       "</div>\n",
       "</div>\n",
       "</div>\n",
       "<div class=\"col-sm-4 col-lg-4 col-md-4\">\n",
       "<div class=\"thumbnail\">\n",
       "<img alt=\"item\" class=\"img-responsive\" src=\"/images/test-sites/e-commerce/items/cart2.png\"/>\n",
       "<div class=\"caption\">\n",
       "<h4 class=\"pull-right price\">$96.99</h4>\n",
       "<h4>\n",
       "<a class=\"title\" href=\"/test-sites/e-commerce/allinone/product/496\" title=\"Acer Iconia\">Acer Iconia</a>\n",
       "</h4>\n",
       "<p class=\"description\">7\" screen, Android, 16GB</p>\n",
       "</div>\n",
       "<div class=\"ratings\">\n",
       "<p class=\"pull-right\">7 reviews</p>\n",
       "<p data-rating=\"1\">\n",
       "<span class=\"glyphicon glyphicon-star\"></span>\n",
       "</p>\n",
       "</div>\n",
       "</div>\n",
       "</div>\n",
       "<div class=\"col-sm-4 col-lg-4 col-md-4\">\n",
       "<div class=\"thumbnail\">\n",
       "<img alt=\"item\" class=\"img-responsive\" src=\"/images/test-sites/e-commerce/items/cart2.png\"/>\n",
       "<div class=\"caption\">\n",
       "<h4 class=\"pull-right price\">$97.99</h4>\n",
       "<h4>\n",
       "<a class=\"title\" href=\"/test-sites/e-commerce/allinone/product/503\" title=\"Galaxy Tab 3\">Galaxy Tab 3</a>\n",
       "</h4>\n",
       "<p class=\"description\">7\", 8GB, Wi-Fi, Android 4.2, White</p>\n",
       "</div>\n",
       "<div class=\"ratings\">\n",
       "<p class=\"pull-right\">2 reviews</p>\n",
       "<p data-rating=\"2\">\n",
       "<span class=\"glyphicon glyphicon-star\"></span>\n",
       "<span class=\"glyphicon glyphicon-star\"></span>\n",
       "</p>\n",
       "</div>\n",
       "</div>\n",
       "</div>\n",
       "<div class=\"col-sm-4 col-lg-4 col-md-4\">\n",
       "<div class=\"thumbnail\">\n",
       "<img alt=\"item\" class=\"img-responsive\" src=\"/images/test-sites/e-commerce/items/cart2.png\"/>\n",
       "<div class=\"caption\">\n",
       "<h4 class=\"pull-right price\">$99.99</h4>\n",
       "<h4>\n",
       "<a class=\"title\" href=\"/test-sites/e-commerce/allinone/product/512\" title=\"Iconia B1-730HD\">Iconia B1-730HD</a>\n",
       "</h4>\n",
       "<p class=\"description\">Black, 7\", 1.6GHz Dual-Core, 8GB, Android 4.4</p>\n",
       "</div>\n",
       "<div class=\"ratings\">\n",
       "<p class=\"pull-right\">1 reviews</p>\n",
       "<p data-rating=\"3\">\n",
       "<span class=\"glyphicon glyphicon-star\"></span>\n",
       "<span class=\"glyphicon glyphicon-star\"></span>\n",
       "<span class=\"glyphicon glyphicon-star\"></span>\n",
       "</p>\n",
       "</div>\n",
       "</div>\n",
       "</div>\n",
       "<div class=\"col-sm-4 col-lg-4 col-md-4\">\n",
       "<div class=\"thumbnail\">\n",
       "<img alt=\"item\" class=\"img-responsive\" src=\"/images/test-sites/e-commerce/items/cart2.png\"/>\n",
       "<div class=\"caption\">\n",
       "<h4 class=\"pull-right price\">$101.99</h4>\n",
       "<h4>\n",
       "<a class=\"title\" href=\"/test-sites/e-commerce/allinone/product/508\" title=\"Memo Pad HD 7\">Memo Pad HD 7</a>\n",
       "</h4>\n",
       "<p class=\"description\">IPS, Dual-Core 1.2GHz, 8GB, Android 4.3</p>\n",
       "</div>\n",
       "<div class=\"ratings\">\n",
       "<p class=\"pull-right\">10 reviews</p>\n",
       "<p data-rating=\"2\">\n",
       "<span class=\"glyphicon glyphicon-star\"></span>\n",
       "<span class=\"glyphicon glyphicon-star\"></span>\n",
       "</p>\n",
       "</div>\n",
       "</div>\n",
       "</div>\n",
       "<div class=\"col-sm-4 col-lg-4 col-md-4\">\n",
       "<div class=\"thumbnail\">\n",
       "<img alt=\"item\" class=\"img-responsive\" src=\"/images/test-sites/e-commerce/items/cart2.png\"/>\n",
       "<div class=\"caption\">\n",
       "<h4 class=\"pull-right price\">$102.99</h4>\n",
       "<h4>\n",
       "<a class=\"title\" href=\"/test-sites/e-commerce/allinone/product/497\" title=\"Asus MeMO Pad\">Asus MeMO Pad</a>\n",
       "</h4>\n",
       "<p class=\"description\">7\" screen, Android, 8GB</p>\n",
       "</div>\n",
       "<div class=\"ratings\">\n",
       "<p class=\"pull-right\">14 reviews</p>\n",
       "<p data-rating=\"4\">\n",
       "<span class=\"glyphicon glyphicon-star\"></span>\n",
       "<span class=\"glyphicon glyphicon-star\"></span>\n",
       "<span class=\"glyphicon glyphicon-star\"></span>\n",
       "<span class=\"glyphicon glyphicon-star\"></span>\n",
       "</p>\n",
       "</div>\n",
       "</div>\n",
       "</div>\n",
       "<div class=\"col-sm-4 col-lg-4 col-md-4\">\n",
       "<div class=\"thumbnail\">\n",
       "<img alt=\"item\" class=\"img-responsive\" src=\"/images/test-sites/e-commerce/items/cart2.png\"/>\n",
       "<div class=\"caption\">\n",
       "<h4 class=\"pull-right price\">$103.99</h4>\n",
       "<h4>\n",
       "<a class=\"title\" href=\"/test-sites/e-commerce/allinone/product/498\" title=\"Amazon Kindle\">Amazon Kindle</a>\n",
       "</h4>\n",
       "<p class=\"description\">6\" screen, wifi</p>\n",
       "</div>\n",
       "<div class=\"ratings\">\n",
       "<p class=\"pull-right\">3 reviews</p>\n",
       "<p data-rating=\"4\">\n",
       "<span class=\"glyphicon glyphicon-star\"></span>\n",
       "<span class=\"glyphicon glyphicon-star\"></span>\n",
       "<span class=\"glyphicon glyphicon-star\"></span>\n",
       "<span class=\"glyphicon glyphicon-star\"></span>\n",
       "</p>\n",
       "</div>\n",
       "</div>\n",
       "</div>\n",
       "<div class=\"col-sm-4 col-lg-4 col-md-4\">\n",
       "<div class=\"thumbnail\">\n",
       "<img alt=\"item\" class=\"img-responsive\" src=\"/images/test-sites/e-commerce/items/cart2.png\"/>\n",
       "<div class=\"caption\">\n",
       "<h4 class=\"pull-right price\">$107.99</h4>\n",
       "<h4>\n",
       "<a class=\"title\" href=\"/test-sites/e-commerce/allinone/product/507\" title=\"Galaxy Tab 3\">Galaxy Tab 3</a>\n",
       "</h4>\n",
       "<p class=\"description\">7\", 8GB, Wi-Fi, Android 4.2, Yellow</p>\n",
       "</div>\n",
       "<div class=\"ratings\">\n",
       "<p class=\"pull-right\">14 reviews</p>\n",
       "<p data-rating=\"2\">\n",
       "<span class=\"glyphicon glyphicon-star\"></span>\n",
       "<span class=\"glyphicon glyphicon-star\"></span>\n",
       "</p>\n",
       "</div>\n",
       "</div>\n",
       "</div>\n",
       "<div class=\"col-sm-4 col-lg-4 col-md-4\">\n",
       "<div class=\"thumbnail\">\n",
       "<img alt=\"item\" class=\"img-responsive\" src=\"/images/test-sites/e-commerce/items/cart2.png\"/>\n",
       "<div class=\"caption\">\n",
       "<h4 class=\"pull-right price\">$121.99</h4>\n",
       "<h4>\n",
       "<a class=\"title\" href=\"/test-sites/e-commerce/allinone/product/513\" title=\"IdeaTab A8-50\">IdeaTab A8-50</a>\n",
       "</h4>\n",
       "<p class=\"description\">Blue, 8\" IPS, Quad-Core 1.3GHz, 16GB, Android 4.2</p>\n",
       "</div>\n",
       "<div class=\"ratings\">\n",
       "<p class=\"pull-right\">13 reviews</p>\n",
       "<p data-rating=\"2\">\n",
       "<span class=\"glyphicon glyphicon-star\"></span>\n",
       "<span class=\"glyphicon glyphicon-star\"></span>\n",
       "</p>\n",
       "</div>\n",
       "</div>\n",
       "</div>\n",
       "<div class=\"col-sm-4 col-lg-4 col-md-4\">\n",
       "<div class=\"thumbnail\">\n",
       "<img alt=\"item\" class=\"img-responsive\" src=\"/images/test-sites/e-commerce/items/cart2.png\"/>\n",
       "<div class=\"caption\">\n",
       "<h4 class=\"pull-right price\">$130.99</h4>\n",
       "<h4>\n",
       "<a class=\"title\" href=\"/test-sites/e-commerce/allinone/product/505\" title=\"MeMO Pad 7\">MeMO Pad 7</a>\n",
       "</h4>\n",
       "<p class=\"description\">White, 7\", Atom 1.2GHz, 8GB, Android 4.4</p>\n",
       "</div>\n",
       "<div class=\"ratings\">\n",
       "<p class=\"pull-right\">11 reviews</p>\n",
       "<p data-rating=\"1\">\n",
       "<span class=\"glyphicon glyphicon-star\"></span>\n",
       "</p>\n",
       "</div>\n",
       "</div>\n",
       "</div>\n",
       "<div class=\"col-sm-4 col-lg-4 col-md-4\">\n",
       "<div class=\"thumbnail\">\n",
       "<img alt=\"item\" class=\"img-responsive\" src=\"/images/test-sites/e-commerce/items/cart2.png\"/>\n",
       "<div class=\"caption\">\n",
       "<h4 class=\"pull-right price\">$148.99</h4>\n",
       "<h4>\n",
       "<a class=\"title\" href=\"/test-sites/e-commerce/allinone/product/502\" title=\"IdeaTab A3500-H\">IdeaTab A3500-H</a>\n",
       "</h4>\n",
       "<p class=\"description\">Blue, 7\" IPS, Quad-Core 1.3GHz, 8GB, 3G, Android 4.2</p>\n",
       "</div>\n",
       "<div class=\"ratings\">\n",
       "<p class=\"pull-right\">9 reviews</p>\n",
       "<p data-rating=\"2\">\n",
       "<span class=\"glyphicon glyphicon-star\"></span>\n",
       "<span class=\"glyphicon glyphicon-star\"></span>\n",
       "</p>\n",
       "</div>\n",
       "</div>\n",
       "</div>\n",
       "<div class=\"col-sm-4 col-lg-4 col-md-4\">\n",
       "<div class=\"thumbnail\">\n",
       "<img alt=\"item\" class=\"img-responsive\" src=\"/images/test-sites/e-commerce/items/cart2.png\"/>\n",
       "<div class=\"caption\">\n",
       "<h4 class=\"pull-right price\">$172.99</h4>\n",
       "<h4>\n",
       "<a class=\"title\" href=\"/test-sites/e-commerce/allinone/product/511\" title=\"IdeaTab S5000\">IdeaTab S5000</a>\n",
       "</h4>\n",
       "<p class=\"description\">Silver, 7\" IPS, Quad-Core 1.2Ghz, 16GB, 3G, Android 4.2</p>\n",
       "</div>\n",
       "<div class=\"ratings\">\n",
       "<p class=\"pull-right\">8 reviews</p>\n",
       "<p data-rating=\"3\">\n",
       "<span class=\"glyphicon glyphicon-star\"></span>\n",
       "<span class=\"glyphicon glyphicon-star\"></span>\n",
       "<span class=\"glyphicon glyphicon-star\"></span>\n",
       "</p>\n",
       "</div>\n",
       "</div>\n",
       "</div>\n",
       "<div class=\"col-sm-4 col-lg-4 col-md-4\">\n",
       "<div class=\"thumbnail\">\n",
       "<img alt=\"item\" class=\"img-responsive\" src=\"/images/test-sites/e-commerce/items/cart2.png\"/>\n",
       "<div class=\"caption\">\n",
       "<h4 class=\"pull-right price\">$233.99</h4>\n",
       "<h4>\n",
       "<a class=\"title\" href=\"/test-sites/e-commerce/allinone/product/506\" title=\"Galaxy Tab 4\">Galaxy Tab 4</a>\n",
       "</h4>\n",
       "<p class=\"description\">LTE (SM-T235), Quad-Core 1.2GHz, 8GB, Black</p>\n",
       "</div>\n",
       "<div class=\"ratings\">\n",
       "<p class=\"pull-right\">1 reviews</p>\n",
       "<p data-rating=\"4\">\n",
       "<span class=\"glyphicon glyphicon-star\"></span>\n",
       "<span class=\"glyphicon glyphicon-star\"></span>\n",
       "<span class=\"glyphicon glyphicon-star\"></span>\n",
       "<span class=\"glyphicon glyphicon-star\"></span>\n",
       "</p>\n",
       "</div>\n",
       "</div>\n",
       "</div>\n",
       "<div class=\"col-sm-4 col-lg-4 col-md-4\">\n",
       "<div class=\"thumbnail\">\n",
       "<img alt=\"item\" class=\"img-responsive\" src=\"/images/test-sites/e-commerce/items/cart2.png\"/>\n",
       "<div class=\"caption\">\n",
       "<h4 class=\"pull-right price\">$251.99</h4>\n",
       "<h4>\n",
       "<a class=\"title\" href=\"/test-sites/e-commerce/allinone/product/501\" title=\"Galaxy Tab\">Galaxy Tab</a>\n",
       "</h4>\n",
       "<p class=\"description\">16GB, White</p>\n",
       "</div>\n",
       "<div class=\"ratings\">\n",
       "<p class=\"pull-right\">14 reviews</p>\n",
       "<p data-rating=\"3\">\n",
       "<span class=\"glyphicon glyphicon-star\"></span>\n",
       "<span class=\"glyphicon glyphicon-star\"></span>\n",
       "<span class=\"glyphicon glyphicon-star\"></span>\n",
       "</p>\n",
       "</div>\n",
       "</div>\n",
       "</div>\n",
       "<div class=\"col-sm-4 col-lg-4 col-md-4\">\n",
       "<div class=\"thumbnail\">\n",
       "<img alt=\"item\" class=\"img-responsive\" src=\"/images/test-sites/e-commerce/items/cart2.png\"/>\n",
       "<div class=\"caption\">\n",
       "<h4 class=\"pull-right price\">$320.99</h4>\n",
       "<h4>\n",
       "<a class=\"title\" href=\"/test-sites/e-commerce/allinone/product/510\" title=\"MeMo PAD FHD 10\">MeMo PAD FHD 10</a>\n",
       "</h4>\n",
       "<p class=\"description\">White, 10.1\" IPS, 1.6GHz, 2GB, 16GB, Android 4.2</p>\n",
       "</div>\n",
       "<div class=\"ratings\">\n",
       "<p class=\"pull-right\">7 reviews</p>\n",
       "<p data-rating=\"2\">\n",
       "<span class=\"glyphicon glyphicon-star\"></span>\n",
       "<span class=\"glyphicon glyphicon-star\"></span>\n",
       "</p>\n",
       "</div>\n",
       "</div>\n",
       "</div>\n",
       "<div class=\"col-sm-4 col-lg-4 col-md-4\">\n",
       "<div class=\"thumbnail\">\n",
       "<img alt=\"item\" class=\"img-responsive\" src=\"/images/test-sites/e-commerce/items/cart2.png\"/>\n",
       "<div class=\"caption\">\n",
       "<h4 class=\"pull-right price\">$399.99</h4>\n",
       "<h4>\n",
       "<a class=\"title\" href=\"/test-sites/e-commerce/allinone/product/514\" title=\"Galaxy Note\">Galaxy Note</a>\n",
       "</h4>\n",
       "<p class=\"description\">10.1\", 3G, Android 4.0, Garnet Red</p>\n",
       "</div>\n",
       "<div class=\"ratings\">\n",
       "<p class=\"pull-right\">12 reviews</p>\n",
       "<p data-rating=\"4\">\n",
       "<span class=\"glyphicon glyphicon-star\"></span>\n",
       "<span class=\"glyphicon glyphicon-star\"></span>\n",
       "<span class=\"glyphicon glyphicon-star\"></span>\n",
       "<span class=\"glyphicon glyphicon-star\"></span>\n",
       "</p>\n",
       "</div>\n",
       "</div>\n",
       "</div>\n",
       "<div class=\"col-sm-4 col-lg-4 col-md-4\">\n",
       "<div class=\"thumbnail\">\n",
       "<img alt=\"item\" class=\"img-responsive\" src=\"/images/test-sites/e-commerce/items/cart2.png\"/>\n",
       "<div class=\"caption\">\n",
       "<h4 class=\"pull-right price\">$489.99</h4>\n",
       "<h4>\n",
       "<a class=\"title\" href=\"/test-sites/e-commerce/allinone/product/504\" title=\"Galaxy Note\">Galaxy Note</a>\n",
       "</h4>\n",
       "<p class=\"description\">12.2\", 32GB, WiFi, Android 4.4, White</p>\n",
       "</div>\n",
       "<div class=\"ratings\">\n",
       "<p class=\"pull-right\">9 reviews</p>\n",
       "<p data-rating=\"3\">\n",
       "<span class=\"glyphicon glyphicon-star\"></span>\n",
       "<span class=\"glyphicon glyphicon-star\"></span>\n",
       "<span class=\"glyphicon glyphicon-star\"></span>\n",
       "</p>\n",
       "</div>\n",
       "</div>\n",
       "</div>\n",
       "<div class=\"col-sm-4 col-lg-4 col-md-4\">\n",
       "<div class=\"thumbnail\">\n",
       "<img alt=\"item\" class=\"img-responsive\" src=\"/images/test-sites/e-commerce/items/cart2.png\"/>\n",
       "<div class=\"caption\">\n",
       "<h4 class=\"pull-right price\">$537.99</h4>\n",
       "<h4>\n",
       "<a class=\"title\" href=\"/test-sites/e-commerce/allinone/product/499\" title=\"iPad Mini Retina\">iPad Mini Retina</a>\n",
       "</h4>\n",
       "<p class=\"description\">Wi-Fi + Cellular, 32GB, Silver</p>\n",
       "</div>\n",
       "<div class=\"ratings\">\n",
       "<p class=\"pull-right\">8 reviews</p>\n",
       "<p data-rating=\"2\">\n",
       "<span class=\"glyphicon glyphicon-star\"></span>\n",
       "<span class=\"glyphicon glyphicon-star\"></span>\n",
       "</p>\n",
       "</div>\n",
       "</div>\n",
       "</div>\n",
       "<div class=\"col-sm-4 col-lg-4 col-md-4\">\n",
       "<div class=\"thumbnail\">\n",
       "<img alt=\"item\" class=\"img-responsive\" src=\"/images/test-sites/e-commerce/items/cart2.png\"/>\n",
       "<div class=\"caption\">\n",
       "<h4 class=\"pull-right price\">$587.99</h4>\n",
       "<h4>\n",
       "<a class=\"title\" href=\"/test-sites/e-commerce/allinone/product/509\" title=\"Galaxy Note 10.1\">Galaxy Note 10.1</a>\n",
       "</h4>\n",
       "<p class=\"description\">10.1\", 32GB, Black</p>\n",
       "</div>\n",
       "<div class=\"ratings\">\n",
       "<p class=\"pull-right\">6 reviews</p>\n",
       "<p data-rating=\"2\">\n",
       "<span class=\"glyphicon glyphicon-star\"></span>\n",
       "<span class=\"glyphicon glyphicon-star\"></span>\n",
       "</p>\n",
       "</div>\n",
       "</div>\n",
       "</div>\n",
       "<div class=\"col-sm-4 col-lg-4 col-md-4\">\n",
       "<div class=\"thumbnail\">\n",
       "<img alt=\"item\" class=\"img-responsive\" src=\"/images/test-sites/e-commerce/items/cart2.png\"/>\n",
       "<div class=\"caption\">\n",
       "<h4 class=\"pull-right price\">$603.99</h4>\n",
       "<h4>\n",
       "<a class=\"title\" href=\"/test-sites/e-commerce/allinone/product/515\" title=\"Apple iPad Air\">Apple iPad Air</a>\n",
       "</h4>\n",
       "<p class=\"description\">Wi-Fi, 64GB, Silver</p>\n",
       "</div>\n",
       "<div class=\"ratings\">\n",
       "<p class=\"pull-right\">7 reviews</p>\n",
       "<p data-rating=\"3\">\n",
       "<span class=\"glyphicon glyphicon-star\"></span>\n",
       "<span class=\"glyphicon glyphicon-star\"></span>\n",
       "<span class=\"glyphicon glyphicon-star\"></span>\n",
       "</p>\n",
       "</div>\n",
       "</div>\n",
       "</div>\n",
       "</div>\n",
       "</div>\n",
       "</div>\n",
       "</div>\n",
       "<div class=\"clearfix\"></div>\n",
       "<div class=\"push\"></div>\n",
       "</div>\n",
       "<div class=\"container-fluid footer\" id=\"layout-footer\">\n",
       "<div class=\"container\">\n",
       "<div class=\"row\">\n",
       "<div class=\"col-md-3\">\n",
       "<ul>\n",
       "<li><p>Products</p></li>\n",
       "<li>\n",
       "<a href=\"/\">Web Scraper browser extension</a>\n",
       "</li>\n",
       "<li>\n",
       "<a href=\"/pricing\">Web Scraper Cloud</a>\n",
       "</li>\n",
       "</ul>\n",
       "</div>\n",
       "<div class=\"col-md-3\">\n",
       "<ul>\n",
       "<li><p>Company</p></li>\n",
       "<li><a href=\"/contact\">Contact</a>\n",
       "</li>\n",
       "<li>\n",
       "<a href=\"/privacy-policy\">Website Privacy Policy</a>\n",
       "</li>\n",
       "<li>\n",
       "<a href=\"/extension-privacy-policy\">Browser Extension Privacy Policy</a>\n",
       "</li>\n",
       "<li>\n",
       "<a href=\"http://webscraperio.us-east-1.elasticbeanstalk.com/downloads/Web_Scraper_Media_Kit.zip\">Media kit</a>\n",
       "</li>\n",
       "<li><a href=\"/jobs\">Jobs</a></li>\n",
       "</ul>\n",
       "</div>\n",
       "<div class=\"col-md-3\">\n",
       "<ul>\n",
       "<li><p>Resources</p></li>\n",
       "<li><a href=\"/blog\">Blog</a></li>\n",
       "<li>\n",
       "<a href=\"/documentation\">Documentation</a>\n",
       "</li>\n",
       "<li>\n",
       "<a href=\"/tutorials\">Video Tutorials</a>\n",
       "</li>\n",
       "<li>\n",
       "<a href=\"/screenshots\">Screenshots</a>\n",
       "</li>\n",
       "<li>\n",
       "<a href=\"/test-sites\">Test Sites</a>\n",
       "</li>\n",
       "<li>\n",
       "<a href=\"https://forum.webscraper.io/\" rel=\"noopener\" target=\"_blank\">Forum</a>\n",
       "</li>\n",
       "</ul>\n",
       "</div>\n",
       "<div class=\"col-md-3\">\n",
       "<ul>\n",
       "<li><p>CONTACT US</p></li>\n",
       "<li>\n",
       "<a href=\"mailto:info@webscraper.io\">info@webscraper.io</a>\n",
       "</li>\n",
       "<li>Rupniecibas iela 30,<br/> Riga, Latvia, LV-1045</li>\n",
       "</ul>\n",
       "<ul class=\"smedia\">\n",
       "<li>\n",
       "<a href=\"https://www.facebook.com/webscraperio/\" rel=\"noopener\" target=\"_blank\"><img alt=\"Web Scraper on Facebook\" src=\"/img/fbicon.png\"/></a>\n",
       "</li>\n",
       "<li>\n",
       "<a href=\"https://twitter.com/webscraperio\" rel=\"noopener\" target=\"_blank\"><img alt=\"Web Scraper on Twitter\" src=\"/img/twicon.png\"/></a>\n",
       "</li>\n",
       "</ul>\n",
       "</div>\n",
       "</div>\n",
       "<div class=\"row\">\n",
       "<div class=\"col-md-12\">\n",
       "<p class=\"copyright\">Copyright &amp;copy 2023\n",
       "\t\t\t\t\t<a href=\"#\">Web Scraper</a> | All rights\n",
       "\t\t\t\t\treserved | Made by zoom59</p>\n",
       "</div>\n",
       "</div>\n",
       "</div>\n",
       "</div>\n",
       "</body>\n",
       "</html>"
      ]
     },
     "execution_count": 3,
     "metadata": {},
     "output_type": "execute_result"
    }
   ],
   "source": [
    "# grab the HTML as text(string)\n",
    "# parses it into Python and assign to variable: soup\n",
    "soup = BeautifulSoup(page.text,\"lxml\")\n",
    "soup # retruns the HTML "
   ]
  },
  {
   "cell_type": "markdown",
   "metadata": {
    "id": "nB_4Ek9MlAwG"
   },
   "source": [
    "## Complie regular expression patterns with `re.complie()`"
   ]
  },
  {
   "cell_type": "code",
   "execution_count": 4,
   "metadata": {
    "colab": {
     "base_uri": "https://localhost:8080/"
    },
    "executionInfo": {
     "elapsed": 207,
     "status": "ok",
     "timestamp": 1642367051647,
     "user": {
      "displayName": "Jonathan Barrios",
      "photoUrl": "https://lh3.googleusercontent.com/a-/AOh14GgvASDP8IeSc7pDnY825wAIDgg-IvEW1ps_Mr0Uzw=s64",
      "userId": "00501959677193622214"
     },
     "user_tz": 360
    },
    "id": "8LSWHReqjuRn",
    "outputId": "72fdcb7e-abf2-40c6-dcf6-704c0980b84d"
   },
   "outputs": [
    {
     "data": {
      "text/plain": [
       "['Galaxy Tab 3',\n",
       " 'Galaxy Tab 3',\n",
       " 'Galaxy Tab 4',\n",
       " 'Galaxy Tab',\n",
       " 'Galaxy Note',\n",
       " 'Galaxy Note',\n",
       " 'Galaxy Note 10.1']"
      ]
     },
     "execution_count": 4,
     "metadata": {},
     "output_type": "execute_result"
    }
   ],
   "source": [
    "import re\n",
    "soup.find_all(string = re.compile('Galaxy'))"
   ]
  },
  {
   "cell_type": "code",
   "execution_count": 5,
   "metadata": {
    "colab": {
     "base_uri": "https://localhost:8080/"
    },
    "executionInfo": {
     "elapsed": 126,
     "status": "ok",
     "timestamp": 1642367052263,
     "user": {
      "displayName": "Jonathan Barrios",
      "photoUrl": "https://lh3.googleusercontent.com/a-/AOh14GgvASDP8IeSc7pDnY825wAIDgg-IvEW1ps_Mr0Uzw=s64",
      "userId": "00501959677193622214"
     },
     "user_tz": 360
    },
    "id": "xX_BiTkLk4eG",
    "outputId": "60d41496-3b85-4e46-f0ee-eb9bbaf235ee"
   },
   "outputs": [
    {
     "data": {
      "text/plain": [
       "['Galaxy Tab 3', 'Galaxy Tab 3']"
      ]
     },
     "execution_count": 5,
     "metadata": {},
     "output_type": "execute_result"
    }
   ],
   "source": [
    " # for example, this returns only two items\n",
    "soup.find_all(string = 'Galaxy Tab 3')"
   ]
  },
  {
   "cell_type": "code",
   "execution_count": 6,
   "metadata": {
    "colab": {
     "base_uri": "https://localhost:8080/"
    },
    "executionInfo": {
     "elapsed": 100,
     "status": "ok",
     "timestamp": 1642367052911,
     "user": {
      "displayName": "Jonathan Barrios",
      "photoUrl": "https://lh3.googleusercontent.com/a-/AOh14GgvASDP8IeSc7pDnY825wAIDgg-IvEW1ps_Mr0Uzw=s64",
      "userId": "00501959677193622214"
     },
     "user_tz": 360
    },
    "id": "bKeQrRzHq50d",
    "outputId": "a2487b20-3af8-49f1-e69b-b791ab3b3fff"
   },
   "outputs": [
    {
     "data": {
      "text/plain": [
       "['Acer Iconia', 'Galaxy Tab 3', 'Galaxy Tab 3']"
      ]
     },
     "execution_count": 6,
     "metadata": {},
     "output_type": "execute_result"
    }
   ],
   "source": [
    "# compiling multiple regular expression pattens\n",
    "soup.find_all(string = ['Galaxy Tab 3', 'Acer Iconia'])"
   ]
  },
  {
   "cell_type": "code",
   "execution_count": 7,
   "metadata": {
    "colab": {
     "base_uri": "https://localhost:8080/"
    },
    "executionInfo": {
     "elapsed": 2,
     "status": "ok",
     "timestamp": 1642367053620,
     "user": {
      "displayName": "Jonathan Barrios",
      "photoUrl": "https://lh3.googleusercontent.com/a-/AOh14GgvASDP8IeSc7pDnY825wAIDgg-IvEW1ps_Mr0Uzw=s64",
      "userId": "00501959677193622214"
     },
     "user_tz": 360
    },
    "id": "cCCSWwgglqjz",
    "outputId": "27d1a50b-8117-4f27-c377-8790cfaaf85b"
   },
   "outputs": [
    {
     "data": {
      "text/plain": [
       "['Lenovo IdeaTab',\n",
       " 'IdeaTab A3500L',\n",
       " 'IdeaTab A8-50',\n",
       " 'IdeaTab A3500-H',\n",
       " 'IdeaTab S5000']"
      ]
     },
     "execution_count": 7,
     "metadata": {},
     "output_type": "execute_result"
    }
   ],
   "source": [
    "# compiling regular expression pattens\n",
    "soup.find_all(string = re.compile('Ide'))"
   ]
  },
  {
   "cell_type": "markdown",
   "metadata": {
    "id": "8lFfMod-mjbx"
   },
   "source": [
    "## Use `re.compile()` to return `h4`s with `class=\"pull-right price\"`\n",
    "As you can see, this is very useful. Intead of writing multiple lines, you can use `re.compile()` to keep your code DRY."
   ]
  },
  {
   "cell_type": "code",
   "execution_count": 8,
   "metadata": {
    "colab": {
     "base_uri": "https://localhost:8080/"
    },
    "executionInfo": {
     "elapsed": 104,
     "status": "ok",
     "timestamp": 1642367055261,
     "user": {
      "displayName": "Jonathan Barrios",
      "photoUrl": "https://lh3.googleusercontent.com/a-/AOh14GgvASDP8IeSc7pDnY825wAIDgg-IvEW1ps_Mr0Uzw=s64",
      "userId": "00501959677193622214"
     },
     "user_tz": 360
    },
    "id": "RsOlvTPolr0R",
    "outputId": "34d6e30a-1994-44f9-b8a1-b485b08b3cf2",
    "scrolled": true
   },
   "outputs": [
    {
     "data": {
      "text/plain": [
       "[<h4 class=\"pull-right price\">$69.99</h4>,\n",
       " <h4 class=\"pull-right price\">$88.99</h4>,\n",
       " <h4 class=\"pull-right price\">$96.99</h4>,\n",
       " <h4 class=\"pull-right price\">$97.99</h4>,\n",
       " <h4 class=\"pull-right price\">$99.99</h4>,\n",
       " <h4 class=\"pull-right price\">$101.99</h4>,\n",
       " <h4 class=\"pull-right price\">$102.99</h4>,\n",
       " <h4 class=\"pull-right price\">$103.99</h4>,\n",
       " <h4 class=\"pull-right price\">$107.99</h4>,\n",
       " <h4 class=\"pull-right price\">$121.99</h4>,\n",
       " <h4 class=\"pull-right price\">$130.99</h4>,\n",
       " <h4 class=\"pull-right price\">$148.99</h4>,\n",
       " <h4 class=\"pull-right price\">$172.99</h4>,\n",
       " <h4 class=\"pull-right price\">$233.99</h4>,\n",
       " <h4 class=\"pull-right price\">$251.99</h4>,\n",
       " <h4 class=\"pull-right price\">$320.99</h4>,\n",
       " <h4 class=\"pull-right price\">$399.99</h4>,\n",
       " <h4 class=\"pull-right price\">$489.99</h4>,\n",
       " <h4 class=\"pull-right price\">$537.99</h4>,\n",
       " <h4 class=\"pull-right price\">$587.99</h4>,\n",
       " <h4 class=\"pull-right price\">$603.99</h4>]"
      ]
     },
     "execution_count": 8,
     "metadata": {},
     "output_type": "execute_result"
    }
   ],
   "source": [
    "# instead of soup.find_all('h4', class_ = 'pull-right price')\n",
    "soup.find_all(class_ = re.compile('price'))"
   ]
  },
  {
   "cell_type": "code",
   "execution_count": null,
   "metadata": {
    "colab": {
     "base_uri": "https://localhost:8080/"
    },
    "executionInfo": {
     "elapsed": 109,
     "status": "ok",
     "timestamp": 1642367057026,
     "user": {
      "displayName": "Jonathan Barrios",
      "photoUrl": "https://lh3.googleusercontent.com/a-/AOh14GgvASDP8IeSc7pDnY825wAIDgg-IvEW1ps_Mr0Uzw=s64",
      "userId": "00501959677193622214"
     },
     "user_tz": 360
    },
    "id": "G2H1NoL2mZoi",
    "outputId": "96c72ca4-e9e2-49c7-e748-93835e09b89a"
   },
   "outputs": [
    {
     "data": {
      "text/plain": [
       "[<h4 class=\"pull-right price\">$69.99</h4>,\n",
       " <h4 class=\"pull-right price\">$88.99</h4>,\n",
       " <h4 class=\"pull-right price\">$96.99</h4>,\n",
       " <h4 class=\"pull-right price\">$97.99</h4>,\n",
       " <h4 class=\"pull-right price\">$99.99</h4>,\n",
       " <h4 class=\"pull-right price\">$101.99</h4>,\n",
       " <h4 class=\"pull-right price\">$102.99</h4>,\n",
       " <h4 class=\"pull-right price\">$103.99</h4>,\n",
       " <h4 class=\"pull-right price\">$107.99</h4>,\n",
       " <h4 class=\"pull-right price\">$121.99</h4>,\n",
       " <h4 class=\"pull-right price\">$130.99</h4>,\n",
       " <h4 class=\"pull-right price\">$148.99</h4>,\n",
       " <h4 class=\"pull-right price\">$172.99</h4>,\n",
       " <h4 class=\"pull-right price\">$233.99</h4>,\n",
       " <h4 class=\"pull-right price\">$251.99</h4>,\n",
       " <h4 class=\"pull-right price\">$320.99</h4>,\n",
       " <h4 class=\"pull-right price\">$399.99</h4>,\n",
       " <h4 class=\"pull-right price\">$489.99</h4>,\n",
       " <h4 class=\"pull-right price\">$537.99</h4>,\n",
       " <h4 class=\"pull-right price\">$587.99</h4>,\n",
       " <h4 class=\"pull-right price\">$603.99</h4>]"
      ]
     },
     "execution_count": 10,
     "metadata": {},
     "output_type": "execute_result"
    }
   ],
   "source": [
    "# you can also be explicit, to filter more precisely\n",
    "soup.find_all('h4', class_ = re.compile('price'))"
   ]
  },
  {
   "cell_type": "code",
   "execution_count": null,
   "metadata": {
    "colab": {
     "base_uri": "https://localhost:8080/"
    },
    "executionInfo": {
     "elapsed": 85,
     "status": "ok",
     "timestamp": 1642367058022,
     "user": {
      "displayName": "Jonathan Barrios",
      "photoUrl": "https://lh3.googleusercontent.com/a-/AOh14GgvASDP8IeSc7pDnY825wAIDgg-IvEW1ps_Mr0Uzw=s64",
      "userId": "00501959677193622214"
     },
     "user_tz": 360
    },
    "id": "ZWGjDAFrnWmX",
    "outputId": "678a7289-4cec-4a71-c259-294a027f6c7d"
   },
   "outputs": [
    {
     "data": {
      "text/plain": [
       "[<div class=\"navbar-default sidebar\" role=\"navigation\">\n",
       " <div class=\"sidebar-nav navbar-collapse\">\n",
       " <ul class=\"nav\" id=\"side-menu\">\n",
       " <li>\n",
       " <a href=\"/test-sites/e-commerce/allinone\">Home</a>\n",
       " </li>\n",
       " <li class=\"active\">\n",
       " <a class=\"category-link \" href=\"/test-sites/e-commerce/allinone/computers\">\n",
       " \t\t\t\t\tComputers\n",
       " \t\t\t\t\t<span class=\"fa arrow\"></span>\n",
       " </a>\n",
       " <ul class=\"nav nav-second-level collapse in\">\n",
       " <li>\n",
       " <a class=\"subcategory-link \" href=\"/test-sites/e-commerce/allinone/computers/laptops\">\n",
       " \t\t\t\t\t\t\tLaptops\n",
       " \t\t\t\t\t\t</a>\n",
       " </li>\n",
       " <li>\n",
       " <a class=\"subcategory-link active \" href=\"/test-sites/e-commerce/allinone/computers/tablets\">\n",
       " \t\t\t\t\t\t\tTablets\n",
       " \t\t\t\t\t\t</a>\n",
       " </li>\n",
       " </ul>\n",
       " </li>\n",
       " <li>\n",
       " <a class=\"category-link \" href=\"/test-sites/e-commerce/allinone/phones\">\n",
       " \t\t\t\t\tPhones\n",
       " \t\t\t\t\t<span class=\"fa arrow\"></span>\n",
       " </a>\n",
       " </li>\n",
       " </ul>\n",
       " </div>\n",
       " </div>, <span class=\"fa arrow\"></span>, <span class=\"fa arrow\"></span>]"
      ]
     },
     "execution_count": 11,
     "metadata": {},
     "output_type": "execute_result"
    }
   ],
   "source": [
    "# you can also be even more explicit\n",
    "# why does it also return the main div? deFAult is why\n",
    "soup.find_all(class_ = re.compile('fa'))"
   ]
  },
  {
   "cell_type": "code",
   "execution_count": 9,
   "metadata": {
    "colab": {
     "base_uri": "https://localhost:8080/"
    },
    "executionInfo": {
     "elapsed": 95,
     "status": "ok",
     "timestamp": 1642367058793,
     "user": {
      "displayName": "Jonathan Barrios",
      "photoUrl": "https://lh3.googleusercontent.com/a-/AOh14GgvASDP8IeSc7pDnY825wAIDgg-IvEW1ps_Mr0Uzw=s64",
      "userId": "00501959677193622214"
     },
     "user_tz": 360
    },
    "id": "iPZQnjCtnwWc",
    "outputId": "1e9be8db-ff27-4fa7-aac2-4c255c7c0e56"
   },
   "outputs": [
    {
     "data": {
      "text/plain": [
       "[<span class=\"fa arrow\"></span>, <span class=\"fa arrow\"></span>]"
      ]
     },
     "execution_count": 9,
     "metadata": {},
     "output_type": "execute_result"
    }
   ],
   "source": [
    "# you can also be explicit, to filter more precisely\n",
    "soup.find_all('span', class_ = re.compile('fa'))"
   ]
  },
  {
   "cell_type": "markdown",
   "metadata": {
    "id": "wXvUuTnHqsGV"
   },
   "source": [
    "## Limit your results"
   ]
  },
  {
   "cell_type": "code",
   "execution_count": null,
   "metadata": {
    "colab": {
     "base_uri": "https://localhost:8080/"
    },
    "executionInfo": {
     "elapsed": 107,
     "status": "ok",
     "timestamp": 1642367061008,
     "user": {
      "displayName": "Jonathan Barrios",
      "photoUrl": "https://lh3.googleusercontent.com/a-/AOh14GgvASDP8IeSc7pDnY825wAIDgg-IvEW1ps_Mr0Uzw=s64",
      "userId": "00501959677193622214"
     },
     "user_tz": 360
    },
    "id": "_MqVcVREpSgJ",
    "outputId": "7dac9cb1-4666-48b4-e444-1e3c98232ac0"
   },
   "outputs": [
    {
     "data": {
      "text/plain": [
       "[<p class=\"pull-right\">7 reviews</p>,\n",
       " <p class=\"pull-right\">7 reviews</p>,\n",
       " <p class=\"pull-right\">7 reviews</p>,\n",
       " <p class=\"pull-right\">2 reviews</p>,\n",
       " <p class=\"pull-right\">1 reviews</p>,\n",
       " <p class=\"pull-right\">10 reviews</p>,\n",
       " <p class=\"pull-right\">14 reviews</p>,\n",
       " <p class=\"pull-right\">3 reviews</p>,\n",
       " <p class=\"pull-right\">14 reviews</p>,\n",
       " <p class=\"pull-right\">13 reviews</p>,\n",
       " <p class=\"pull-right\">11 reviews</p>,\n",
       " <p class=\"pull-right\">9 reviews</p>,\n",
       " <p class=\"pull-right\">8 reviews</p>,\n",
       " <p class=\"pull-right\">1 reviews</p>,\n",
       " <p class=\"pull-right\">14 reviews</p>,\n",
       " <p class=\"pull-right\">7 reviews</p>,\n",
       " <p class=\"pull-right\">12 reviews</p>,\n",
       " <p class=\"pull-right\">9 reviews</p>,\n",
       " <p class=\"pull-right\">8 reviews</p>,\n",
       " <p class=\"pull-right\">6 reviews</p>,\n",
       " <p class=\"pull-right\">7 reviews</p>]"
      ]
     },
     "execution_count": 14,
     "metadata": {},
     "output_type": "execute_result"
    }
   ],
   "source": [
    "# you can also be explicit, to filter more precisely\n",
    "soup.find_all('p', class_ = re.compile('pull'))"
   ]
  }
 ],
 "metadata": {
  "colab": {
   "authorship_tag": "ABX9TyMM8lxhcDrXjJddshGcldCd",
   "provenance": []
  },
  "kernelspec": {
   "display_name": "Python 3 (ipykernel)",
   "language": "python",
   "name": "python3"
  },
  "language_info": {
   "codemirror_mode": {
    "name": "ipython",
    "version": 3
   },
   "file_extension": ".py",
   "mimetype": "text/x-python",
   "name": "python",
   "nbconvert_exporter": "python",
   "pygments_lexer": "ipython3",
   "version": "3.10.8"
  }
 },
 "nbformat": 4,
 "nbformat_minor": 1
}
