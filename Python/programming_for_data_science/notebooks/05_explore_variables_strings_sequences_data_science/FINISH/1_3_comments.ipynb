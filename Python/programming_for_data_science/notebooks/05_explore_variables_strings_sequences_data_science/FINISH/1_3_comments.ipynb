{
 "cells": [
  {
   "cell_type": "markdown",
   "metadata": {
    "id": "8z9TsTXVdAVR"
   },
   "source": [
    "## Comments\n",
    "Use the `#` special character to start a comment!"
   ]
  },
  {
   "cell_type": "code",
   "execution_count": null,
   "metadata": {
    "id": "KWisSbc_cs7C"
   },
   "outputs": [],
   "source": [
    "# this is single line comment"
   ]
  },
  {
   "cell_type": "code",
   "execution_count": 1,
   "metadata": {
    "colab": {
     "base_uri": "https://localhost:8080/",
     "height": 35
    },
    "executionInfo": {
     "elapsed": 4,
     "status": "ok",
     "timestamp": 1669129284282,
     "user": {
      "displayName": "Jonathan Barrios",
      "userId": "16097537147383230085"
     },
     "user_tz": 360
    },
    "id": "F6Tvi-Kncy-n",
    "outputId": "f6693d65-3f1d-4604-9fb5-0382947c6d40"
   },
   "outputs": [
    {
     "data": {
      "application/vnd.google.colaboratory.intrinsic+json": {
       "type": "string"
      },
      "text/plain": [
       "'\\nThis\\nis\\na multi-line\\ncomment\\n'"
      ]
     },
     "execution_count": 1,
     "metadata": {},
     "output_type": "execute_result"
    }
   ],
   "source": [
    "\"\"\"\n",
    "This\n",
    "is\n",
    "a multi-line\n",
    "comment\n",
    "\"\"\"\n",
    "# This\n",
    "# is also\n",
    "# a multi-line\n",
    "# comment"
   ]
  },
  {
   "cell_type": "code",
   "execution_count": null,
   "metadata": {
    "id": "5t9LoIlo25bH"
   },
   "outputs": [],
   "source": [
    "# this is a comment\n",
    "print(\"This is a print statement\")"
   ]
  },
  {
   "cell_type": "code",
   "execution_count": null,
   "metadata": {
    "id": "3QYzeEOi60vq"
   },
   "outputs": [],
   "source": [
    "print(\"This is a print statement\") # this is a comment"
   ]
  },
  {
   "cell_type": "code",
   "execution_count": 2,
   "metadata": {
    "colab": {
     "base_uri": "https://localhost:8080/"
    },
    "executionInfo": {
     "elapsed": 117,
     "status": "ok",
     "timestamp": 1669130355439,
     "user": {
      "displayName": "Jonathan Barrios",
      "userId": "16097537147383230085"
     },
     "user_tz": 360
    },
    "id": "jaqrIjs360nx",
    "outputId": "65964ca8-0d80-46cc-a73b-6218a6aeb6b3"
   },
   "outputs": [
    {
     "name": "stdout",
     "output_type": "stream",
     "text": [
      "This is a greeting: Hello, world!\n"
     ]
    }
   ],
   "source": [
    "#print(\"This is a print statement\")\n",
    "print(\"This is a greeting: Hello, world!\")"
   ]
  }
 ],
 "metadata": {
  "colab": {
   "authorship_tag": "ABX9TyPDpBZHbMXuC88/lCIJjDRK",
   "provenance": []
  },
  "kernelspec": {
   "display_name": "Python 3 (ipykernel)",
   "language": "python",
   "name": "python3"
  },
  "language_info": {
   "codemirror_mode": {
    "name": "ipython",
    "version": 3
   },
   "file_extension": ".py",
   "mimetype": "text/x-python",
   "name": "python",
   "nbconvert_exporter": "python",
   "pygments_lexer": "ipython3",
   "version": "3.10.8"
  }
 },
 "nbformat": 4,
 "nbformat_minor": 1
}
