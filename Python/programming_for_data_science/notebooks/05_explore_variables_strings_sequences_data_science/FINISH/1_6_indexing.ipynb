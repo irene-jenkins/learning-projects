{
 "cells": [
  {
   "cell_type": "markdown",
   "metadata": {
    "id": "eb_4FfFuwwJY"
   },
   "source": [
    "# Indexing strings\n",
    "\n",
    "You can index strings to grab one character from a sequence, or string, of characters. To do this, we will need to use something called a 0 based-index; meaning, we start counting from 0. For example, the first character of the string sequence, `\"Jonathan\"`, is `J`, and its index is 0. The second letter of the string sequence, `\"Jonathan\"`, is `o`, its index is 1, and so on.\n",
    "\n",
    "\n",
    "## Index visualization:\n",
    "J | O | N | A | T | H | A | N \n",
    "--- | --- | --- | --- | --- | --- | --- | --- \n",
    "0 | 1 | 2 | 3 | 4 | 5 | 6 | 7 \n",
    "\n"
   ]
  },
  {
   "cell_type": "code",
   "execution_count": null,
   "metadata": {
    "id": "1Cm1_hdtwskU"
   },
   "outputs": [],
   "source": [
    "# indexing a string's first element\n",
    "\"Jonathan\"[0]"
   ]
  },
  {
   "cell_type": "code",
   "execution_count": null,
   "metadata": {
    "id": "GiNZRkAP2qmR"
   },
   "outputs": [],
   "source": [
    "# indexing a string's second element\n",
    "\"Jonathan\"[1]"
   ]
  },
  {
   "cell_type": "code",
   "execution_count": null,
   "metadata": {
    "id": "ai0BAU2Y2sW0"
   },
   "outputs": [],
   "source": [
    "# indexing a string's first element\n",
    "\"Jonathan\"[7]"
   ]
  },
  {
   "cell_type": "markdown",
   "metadata": {
    "id": "09r5plws2THb"
   },
   "source": [
    "# Indexing variables\n",
    "You can also index varibles if they are assigned to strings. There is no difference."
   ]
  },
  {
   "cell_type": "code",
   "execution_count": null,
   "metadata": {
    "id": "Lrnt9aqY2TYr"
   },
   "outputs": [],
   "source": [
    "# store \"Jonathan\" inside variable: name\n",
    "name = \"Jonathan\"\n",
    "\n",
    "# access the first element of: name\n",
    "name[0]"
   ]
  },
  {
   "cell_type": "markdown",
   "metadata": {
    "id": "IHcH2dbPiw7I"
   },
   "source": [
    "## Negative index visualization:\n",
    "J | O | N | A | T | H | A | N \n",
    "--- | --- | --- | --- | --- | --- | --- | --- \n",
    "-8 | -7 | -6 | -5 | -4 | -3 | -2 | -1 "
   ]
  },
  {
   "cell_type": "code",
   "execution_count": null,
   "metadata": {
    "id": "9OHKCn03hOzd"
   },
   "outputs": [],
   "source": [
    "# access the last element of: name\n",
    "name[-1]"
   ]
  },
  {
   "cell_type": "code",
   "execution_count": null,
   "metadata": {
    "id": "Zm2Psg3Jiomg"
   },
   "outputs": [],
   "source": [
    "# access the penultimate element of: name\n",
    "name[-2]"
   ]
  }
 ],
 "metadata": {
  "colab": {
   "authorship_tag": "ABX9TyPdSyyn8m133687aXMZOA8b",
   "provenance": []
  },
  "kernelspec": {
   "display_name": "Python 3 (ipykernel)",
   "language": "python",
   "name": "python3"
  },
  "language_info": {
   "codemirror_mode": {
    "name": "ipython",
    "version": 3
   },
   "file_extension": ".py",
   "mimetype": "text/x-python",
   "name": "python",
   "nbconvert_exporter": "python",
   "pygments_lexer": "ipython3",
   "version": "3.10.8"
  }
 },
 "nbformat": 4,
 "nbformat_minor": 1
}
