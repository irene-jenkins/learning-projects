{
 "cells": [
  {
   "cell_type": "markdown",
   "metadata": {
    "id": "HUCAvm-2CTXf"
   },
   "source": [
    "## String Formatting\n",
    "\n",
    "\n",
    "\n",
    "1.   Old School `% operator`\n",
    "2.   New School `str.format()`\n",
    "3.   String Literals `f-strings python 3.6+`\n",
    "\n"
   ]
  },
  {
   "cell_type": "markdown",
   "metadata": {
    "id": "Ournq83dC_LU"
   },
   "source": [
    "## Old School \n",
    "Using the `%` operator."
   ]
  },
  {
   "cell_type": "code",
   "execution_count": 14,
   "metadata": {
    "colab": {
     "base_uri": "https://localhost:8080/"
    },
    "executionInfo": {
     "elapsed": 4,
     "status": "ok",
     "timestamp": 1669133086640,
     "user": {
      "displayName": "Jonathan Barrios",
      "userId": "16097537147383230085"
     },
     "user_tz": 360
    },
    "id": "xf_k4HyUCPef",
    "outputId": "c87dc792-48f7-4b0a-bea9-7e417685586c"
   },
   "outputs": [
    {
     "name": "stdout",
     "output_type": "stream",
     "text": [
      "Hey, Jonathan\n"
     ]
    }
   ],
   "source": [
    "name = \"Jonathan\"\n",
    "print(\"Hey, %s\" % name)"
   ]
  },
  {
   "cell_type": "markdown",
   "metadata": {
    "id": "7g6WfrwGDHpf"
   },
   "source": [
    "## New School \n",
    "Using the `format()` method."
   ]
  },
  {
   "cell_type": "code",
   "execution_count": 2,
   "metadata": {
    "id": "QmtR8YwrCTNh"
   },
   "outputs": [
    {
     "name": "stdout",
     "output_type": "stream",
     "text": [
      "Hey, Jonathan\n"
     ]
    }
   ],
   "source": [
    "name = \"Jonathan\"\n",
    "print(\"Hey, {}\".format(name))"
   ]
  },
  {
   "cell_type": "markdown",
   "metadata": {
    "id": "1uU1meA4DHx4"
   },
   "source": [
    "## String Literals for Python 3.6+\n",
    "Using `f` strings!"
   ]
  },
  {
   "cell_type": "code",
   "execution_count": 16,
   "metadata": {
    "colab": {
     "base_uri": "https://localhost:8080/"
    },
    "executionInfo": {
     "elapsed": 2,
     "status": "ok",
     "timestamp": 1669133816049,
     "user": {
      "displayName": "Jonathan Barrios",
      "userId": "16097537147383230085"
     },
     "user_tz": 360
    },
    "id": "_49jF40lDF04",
    "outputId": "714ac224-9af7-4c3e-e917-54e20c06a447"
   },
   "outputs": [
    {
     "name": "stdout",
     "output_type": "stream",
     "text": [
      "Hello, Jonathan!\n"
     ]
    }
   ],
   "source": [
    "name = \"Jonathan\"\n",
    "print(f\"Hello, {name}!\")"
   ]
  },
  {
   "cell_type": "code",
   "execution_count": 20,
   "metadata": {
    "colab": {
     "base_uri": "https://localhost:8080/"
    },
    "executionInfo": {
     "elapsed": 111,
     "status": "ok",
     "timestamp": 1669133920926,
     "user": {
      "displayName": "Jonathan Barrios",
      "userId": "16097537147383230085"
     },
     "user_tz": 360
    },
    "id": "JWTyPoQSIKYC",
    "outputId": "dcf2272b-2c03-4fe4-a506-f673ce3b11a8"
   },
   "outputs": [
    {
     "name": "stdout",
     "output_type": "stream",
     "text": [
      "Hey, Jonathan the price is $200! With tax that will be 218.0\n"
     ]
    }
   ],
   "source": [
    "price = 200\n",
    "name = \"Jonathan\"\n",
    "print(f\"Hey, {name} the price is ${price}! With tax that will be {price + (price * .09)}\")"
   ]
  }
 ],
 "metadata": {
  "colab": {
   "authorship_tag": "ABX9TyOdlVa6Gj9BzA6uyJhhRorZ",
   "provenance": []
  },
  "kernelspec": {
   "display_name": "Python 3.9.6 64-bit",
   "language": "python",
   "name": "python3"
  },
  "language_info": {
   "codemirror_mode": {
    "name": "ipython",
    "version": 3
   },
   "file_extension": ".py",
   "mimetype": "text/x-python",
   "name": "python",
   "nbconvert_exporter": "python",
   "pygments_lexer": "ipython3",
   "version": "3.9.6"
  },
  "vscode": {
   "interpreter": {
    "hash": "31f2aee4e71d21fbe5cf8b01ff0e069b9275f58929596ceb00d14d90e3e16cd6"
   }
  }
 },
 "nbformat": 4,
 "nbformat_minor": 1
}
