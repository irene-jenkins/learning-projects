{
 "cells": [
  {
   "cell_type": "markdown",
   "metadata": {
    "id": "wB3QIwsNL_RD"
   },
   "source": [
    "# Strings\n",
    "Much like integers and floats, which contain number data; strings contain text data. Strings are ASCII characters—or plain old text. \n",
    "\n",
    "To create a string, just type some characters and wrap them inside of single or double quotes. For example, `\"Jonathan\"` or `'#Pandas3000'`. Both numbers and symbols are characters that become strings once wrapped inside of single or double quotes."
   ]
  },
  {
   "cell_type": "code",
   "execution_count": null,
   "metadata": {
    "id": "ENg9pD7pblqA"
   },
   "outputs": [],
   "source": [
    "\"Hello, world\" # this is a string\n",
    "print(\"Hello, world\")"
   ]
  },
  {
   "cell_type": "code",
   "execution_count": null,
   "metadata": {
    "id": "pT1Jk1QAblqA"
   },
   "outputs": [],
   "source": [
    "my_string = \"9.99\" # this is also a tring\n",
    "type(my_string)"
   ]
  },
  {
   "cell_type": "markdown",
   "metadata": {
    "id": "42sTObHH2rg5"
   },
   "source": [
    "## Single or Double Quotes?\n",
    "Recall that you can use single or double quotes when working with Python, but there are some behaviors you want to keep in mind. For example, when dealing with apostophies."
   ]
  },
  {
   "cell_type": "code",
   "execution_count": null,
   "metadata": {
    "id": "ygJFqERx2rg5"
   },
   "outputs": [],
   "source": [
    "# can you identify the problem here?\n",
    "store = 'Jim Jam's Burger Shack'\n",
    "print(store)"
   ]
  },
  {
   "cell_type": "code",
   "execution_count": null,
   "metadata": {
    "id": "GmKgN8HD2rg5"
   },
   "outputs": [],
   "source": [
    "# how can you fix the above?\n",
    "store = \"Jim Jam's Burger Shack\"\n",
    "print(store)"
   ]
  },
  {
   "cell_type": "code",
   "execution_count": null,
   "metadata": {
    "id": "B6jAgBNhKMq4"
   },
   "outputs": [],
   "source": [
    "# To avoid these syntax errors, you can either use `\"` or escape the character\n",
    "\n",
    "# Double quotes\n",
    "print(\"This is Jonathan's Macbook\")\n",
    "\n",
    "# Escaping using the `\\` character\n",
    "print('This is Jonathan\\'s Macbook')\n",
    "\n",
    "# The concatenation operator will concatenate, or join two or more stings. Remember to use spaces!\n",
    "print(\"This\"  + \" is Jonathan's\" + \" Macbook\")\n",
    "\n",
    "# The takeaway: use double quotes or escape the odd single quotes"
   ]
  },
  {
   "cell_type": "markdown",
   "metadata": {
    "id": "oXbiv3TFblqA"
   },
   "source": [
    "# Keywords\n",
    "Python has a set of reserved keywords that are forbidden to use as variable names, function names, or any other identifiers. Here is the list for your reference.\n",
    "\n"
   ]
  },
  {
   "cell_type": "code",
   "execution_count": null,
   "metadata": {
    "colab": {
     "base_uri": "https://localhost:8080/"
    },
    "id": "UN0BQhIXblqB",
    "outputId": "1dc52ae7-db7f-4070-8fa4-374e1a7e7b36"
   },
   "outputs": [
    {
     "data": {
      "text/plain": [
       "NoneType"
      ]
     },
     "execution_count": 1,
     "metadata": {
      "tags": []
     },
     "output_type": "execute_result"
    }
   ],
   "source": [
    "x = None\n",
    "type(x)"
   ]
  },
  {
   "cell_type": "markdown",
   "metadata": {
    "id": "0I_QMqUAblqB"
   },
   "source": [
    "There are many other keywords, here are some more. You might recognize a few:\n",
    "\n",
    "- `and` logical operator\n",
    "- `as` create an alias\n",
    "- `assert` debugging\n",
    "- `break` break out of a loop\n",
    "- `class` define a class\n",
    "- `continue` continue to the next iteration of a loop\n",
    "- `def` define a function\n",
    "- `del` delete an object\n",
    "- `elif` conditional statements, same as else if\n",
    "- `else` conditional statements\n",
    "- `except` exceptions, what to do when an exception occurs\n",
    "- `False` Boolean value, result of comparison operations\n",
    "- `finally` exceptions, a block of code that will be executed regardless of an exception\n",
    "- `for` create a for loop\n",
    "- `from` import specific parts of a module\n",
    "- `global` declare a global variable\n",
    "- `if` make a conditional statement\n",
    "- `import` import a module\n",
    "- `in` check if a value is present in a list, tuple, etc.\n",
    "- `is` test if two variables are equal\n",
    "- `lambda` create an anonymous function\n",
    "- `None` represents a null value\n",
    "- `nonlocal` declare a non-local variable\n",
    "- `not` logical operator\n",
    "- `or` logical operator\n",
    "- `pass` null statement, a statement that will do nothing\n",
    "- `raise` raise an exception\n",
    "- `return` exit a function and return a value\n",
    "- `True` Boolean value, result of comparison operations\n",
    "- `try` make a try...except statement\n",
    "- `while` create a while loop\n",
    "- `with` simplify exception handling\n",
    "- `yield` end a function, returns a generator\n"
   ]
  },
  {
   "cell_type": "code",
   "execution_count": null,
   "metadata": {
    "id": "QzPoXbkEdKLm"
   },
   "outputs": [],
   "source": [
    "# don't use keywords as variable names\n",
    "# ie\n",
    "# import = 2\n",
    "# import math"
   ]
  }
 ],
 "metadata": {
  "colab": {
   "authorship_tag": "ABX9TyNPm8LNOcGEc4U+o07fVPa4",
   "provenance": []
  },
  "kernelspec": {
   "display_name": "Python 3 (ipykernel)",
   "language": "python",
   "name": "python3"
  },
  "language_info": {
   "codemirror_mode": {
    "name": "ipython",
    "version": 3
   },
   "file_extension": ".py",
   "mimetype": "text/x-python",
   "name": "python",
   "nbconvert_exporter": "python",
   "pygments_lexer": "ipython3",
   "version": "3.10.8"
  }
 },
 "nbformat": 4,
 "nbformat_minor": 1
}
