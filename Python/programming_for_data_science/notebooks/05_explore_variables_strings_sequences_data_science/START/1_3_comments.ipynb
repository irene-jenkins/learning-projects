{
 "cells": [
  {
   "cell_type": "markdown",
   "metadata": {
    "id": "8z9TsTXVdAVR"
   },
   "source": [
    "## Comments\n",
    "Use the `#` special character to start a comment!"
   ]
  },
  {
   "cell_type": "code",
   "execution_count": 1,
   "metadata": {
    "id": "KWisSbc_cs7C"
   },
   "outputs": [],
   "source": [
    "# this is a single line comment"
   ]
  },
  {
   "cell_type": "code",
   "execution_count": null,
   "metadata": {
    "colab": {
     "base_uri": "https://localhost:8080/",
     "height": 35
    },
    "executionInfo": {
     "elapsed": 4,
     "status": "ok",
     "timestamp": 1669129284282,
     "user": {
      "displayName": "Jonathan Barrios",
      "userId": "16097537147383230085"
     },
     "user_tz": 360
    },
    "id": "F6Tvi-Kncy-n",
    "outputId": "f6693d65-3f1d-4604-9fb5-0382947c6d40"
   },
   "outputs": [],
   "source": [
    "# this \n",
    "# is \n",
    "# a \n",
    "# multiline\n",
    "# comment\n",
    "\n",
    "\"\"\"\n",
    "This \n",
    "is \n",
    "a \n",
    "multiline\n",
    "comment\n",
    "\"\"\""
   ]
  },
  {
   "cell_type": "code",
   "execution_count": null,
   "metadata": {
    "id": "5t9LoIlo25bH"
   },
   "outputs": [],
   "source": [
    "# this is a comment\n",
    "print(\"This is a print statement\")"
   ]
  },
  {
   "cell_type": "code",
   "execution_count": null,
   "metadata": {
    "id": "3QYzeEOi60vq"
   },
   "outputs": [],
   "source": [
    "print(\"This is a print statement\") # this is also a comment"
   ]
  },
  {
   "cell_type": "code",
   "execution_count": 3,
   "metadata": {
    "colab": {
     "base_uri": "https://localhost:8080/"
    },
    "executionInfo": {
     "elapsed": 117,
     "status": "ok",
     "timestamp": 1669130355439,
     "user": {
      "displayName": "Jonathan Barrios",
      "userId": "16097537147383230085"
     },
     "user_tz": 360
    },
    "id": "jaqrIjs360nx",
    "outputId": "65964ca8-0d80-46cc-a73b-6218a6aeb6b3"
   },
   "outputs": [
    {
     "name": "stdout",
     "output_type": "stream",
     "text": [
      "This is a print statement\n"
     ]
    }
   ],
   "source": [
    "print(\"This is a print statement\")\n",
    "# print(\"This is a greeting: Hello, world!\")"
   ]
  },
  {
   "cell_type": "code",
   "execution_count": 6,
   "metadata": {},
   "outputs": [
    {
     "name": "stdout",
     "output_type": "stream",
     "text": [
      "Hello, how are you?\n"
     ]
    }
   ],
   "source": [
    "def greeter():\n",
    "    # add greeting\n",
    "    print(\"Hello, how are you?\")\n",
    "\n",
    "greeter()"
   ]
  },
  {
   "cell_type": "code",
   "execution_count": null,
   "metadata": {},
   "outputs": [],
   "source": []
  }
 ],
 "metadata": {
  "colab": {
   "authorship_tag": "ABX9TyPDpBZHbMXuC88/lCIJjDRK",
   "provenance": []
  },
  "kernelspec": {
   "display_name": "Python 3 (ipykernel)",
   "language": "python",
   "name": "python3"
  },
  "language_info": {
   "codemirror_mode": {
    "name": "ipython",
    "version": 3
   },
   "file_extension": ".py",
   "mimetype": "text/x-python",
   "name": "python",
   "nbconvert_exporter": "python",
   "pygments_lexer": "ipython3",
   "version": "3.11.5"
  }
 },
 "nbformat": 4,
 "nbformat_minor": 1
}
