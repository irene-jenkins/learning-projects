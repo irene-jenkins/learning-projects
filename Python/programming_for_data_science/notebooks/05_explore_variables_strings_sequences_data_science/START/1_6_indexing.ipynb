{
 "cells": [
  {
   "cell_type": "markdown",
   "metadata": {
    "id": "eb_4FfFuwwJY"
   },
   "source": [
    "# Indexing strings\n",
    "\n",
    "You can index strings to grab one character from a sequence, or string, of characters. To do this, we will need to use something called a 0 based-index; meaning, we start counting from 0. For example, the first character of the string sequence, `\"Jonathan\"`, is `J`, and its index is 0. The second letter of the string sequence, `\"Jonathan\"`, is `o`, its index is 1, and so on.\n",
    "\n",
    "\n",
    "## Index visualization:\n",
    "J | O | N | A | T | H | A | N \n",
    "--- | --- | --- | --- | --- | --- | --- | --- \n",
    "0 | 1 | 2 | 3 | 4 | 5 | 6 | 7 \n",
    "\n"
   ]
  },
  {
   "cell_type": "code",
   "execution_count": 1,
   "metadata": {
    "id": "1Cm1_hdtwskU"
   },
   "outputs": [
    {
     "data": {
      "text/plain": [
       "'I'"
      ]
     },
     "execution_count": 1,
     "metadata": {},
     "output_type": "execute_result"
    }
   ],
   "source": [
    "# indexing a string's first element\n",
    "\"Irene\"[0]"
   ]
  },
  {
   "cell_type": "code",
   "execution_count": 2,
   "metadata": {
    "id": "GiNZRkAP2qmR"
   },
   "outputs": [
    {
     "data": {
      "text/plain": [
       "'r'"
      ]
     },
     "execution_count": 2,
     "metadata": {},
     "output_type": "execute_result"
    }
   ],
   "source": [
    "# indexing a string's second element\n",
    "\"Irene\"[1]"
   ]
  },
  {
   "cell_type": "code",
   "execution_count": 5,
   "metadata": {
    "id": "ai0BAU2Y2sW0"
   },
   "outputs": [
    {
     "data": {
      "text/plain": [
       "'e'"
      ]
     },
     "execution_count": 5,
     "metadata": {},
     "output_type": "execute_result"
    }
   ],
   "source": [
    "# indexing a string's last element\n",
    "\"Irene\"[4]"
   ]
  },
  {
   "cell_type": "markdown",
   "metadata": {
    "id": "09r5plws2THb"
   },
   "source": [
    "# Indexing variables\n",
    "You can also index varibles if they are assigned to strings. There is no difference."
   ]
  },
  {
   "cell_type": "code",
   "execution_count": 7,
   "metadata": {
    "id": "Lrnt9aqY2TYr"
   },
   "outputs": [
    {
     "data": {
      "text/plain": [
       "'J'"
      ]
     },
     "execution_count": 7,
     "metadata": {},
     "output_type": "execute_result"
    }
   ],
   "source": [
    "# store \"Jonathan\" inside variable: name\n",
    "name = \"Jonathan\"\n",
    "\n",
    "# access the first element of: name\n",
    "name[0]"
   ]
  },
  {
   "cell_type": "markdown",
   "metadata": {
    "id": "IHcH2dbPiw7I"
   },
   "source": [
    "## Negative index visualization:\n",
    "J | O | N | A | T | H | A | N \n",
    "--- | --- | --- | --- | --- | --- | --- | --- \n",
    "-8 | -7 | -6 | -5 | -4 | -3 | -2 | -1 "
   ]
  },
  {
   "cell_type": "code",
   "execution_count": 8,
   "metadata": {
    "id": "9OHKCn03hOzd"
   },
   "outputs": [
    {
     "data": {
      "text/plain": [
       "'n'"
      ]
     },
     "execution_count": 8,
     "metadata": {},
     "output_type": "execute_result"
    }
   ],
   "source": [
    "# access the last element of: name\n",
    "name[-1]"
   ]
  },
  {
   "cell_type": "code",
   "execution_count": 9,
   "metadata": {
    "id": "Zm2Psg3Jiomg"
   },
   "outputs": [
    {
     "data": {
      "text/plain": [
       "'a'"
      ]
     },
     "execution_count": 9,
     "metadata": {},
     "output_type": "execute_result"
    }
   ],
   "source": [
    "# access the penultimate element of: name\n",
    "name[-2]"
   ]
  },
  {
   "cell_type": "code",
   "execution_count": null,
   "metadata": {},
   "outputs": [],
   "source": []
  }
 ],
 "metadata": {
  "colab": {
   "authorship_tag": "ABX9TyPdSyyn8m133687aXMZOA8b",
   "provenance": []
  },
  "kernelspec": {
   "display_name": "Python 3 (ipykernel)",
   "language": "python",
   "name": "python3"
  },
  "language_info": {
   "codemirror_mode": {
    "name": "ipython",
    "version": 3
   },
   "file_extension": ".py",
   "mimetype": "text/x-python",
   "name": "python",
   "nbconvert_exporter": "python",
   "pygments_lexer": "ipython3",
   "version": "3.11.5"
  }
 },
 "nbformat": 4,
 "nbformat_minor": 1
}
