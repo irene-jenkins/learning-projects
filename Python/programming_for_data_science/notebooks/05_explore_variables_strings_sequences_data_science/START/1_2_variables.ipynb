{
 "cells": [
  {
   "cell_type": "markdown",
   "metadata": {
    "id": "yy1clB71pBl4"
   },
   "source": [
    "## Variables\n",
    "Variables are names, or placeholders, that contain values and we will cover them in depth later in the course. For now, just know that they are placeholders. For example, `x = 1` shows the variable name `x` which is assigned a value using the `=` equal sign with a value of `1`. A common tool used with variables is the `print()` function which return the value of a variable. In this case `print(x)` will return `1`.\n"
   ]
  },
  {
   "cell_type": "code",
   "execution_count": 46,
   "metadata": {
    "id": "Ek6Fz0rlqYNs"
   },
   "outputs": [
    {
     "data": {
      "text/plain": [
       "1"
      ]
     },
     "execution_count": 46,
     "metadata": {},
     "output_type": "execute_result"
    }
   ],
   "source": [
    "x = 1\n",
    "x"
   ]
  },
  {
   "cell_type": "markdown",
   "metadata": {
    "id": "43HbUm30RZ15"
   },
   "source": [
    "## Legality\n",
    "Variable can be any length consisting of uppercase and lowercase letters A-Z,a-z, digits 0-9, and underscores _. Although a variable name can contain digits, the first character of a variable cannot include a digit."
   ]
  },
  {
   "cell_type": "code",
   "execution_count": 53,
   "metadata": {
    "id": "Hl-odY4KRY7u"
   },
   "outputs": [
    {
     "data": {
      "text/plain": [
       "dict"
      ]
     },
     "execution_count": 53,
     "metadata": {},
     "output_type": "execute_result"
    }
   ],
   "source": [
    "# not a legal variable name\n",
    "_name = \"Neo\"\n",
    "_name\n",
    "# Beware: If you try to return an undefined variable, you will get a name error 😱\n",
    "\n",
    "# here, m is undefined\n",
    "# m\n",
    "\n",
    "# here, you can initialize a variable like this\n",
    "m = {}\n",
    "type(m)"
   ]
  },
  {
   "cell_type": "markdown",
   "metadata": {
    "id": "oNawBwR0sx0V"
   },
   "source": [
    "## No Type Declaration\n",
    "Python is dynamically typed\n",
    "Statically types, you need to declare the data type when you create the variable."
   ]
  },
  {
   "cell_type": "code",
   "execution_count": 57,
   "metadata": {
    "id": "8xtc2e90s4JU"
   },
   "outputs": [],
   "source": [
    "# can even change type!\n",
    "a = '1'"
   ]
  },
  {
   "cell_type": "code",
   "execution_count": 58,
   "metadata": {
    "id": "0wr-XRGYNqH7"
   },
   "outputs": [
    {
     "data": {
      "text/plain": [
       "str"
      ]
     },
     "execution_count": 58,
     "metadata": {},
     "output_type": "execute_result"
    }
   ],
   "source": [
    "type(a)"
   ]
  },
  {
   "cell_type": "markdown",
   "metadata": {
    "id": "WEXNjJCevsiu"
   },
   "source": [
    "## Type Casting"
   ]
  },
  {
   "cell_type": "code",
   "execution_count": 62,
   "metadata": {
    "id": "M8Gtyp-wwEeC"
   },
   "outputs": [
    {
     "data": {
      "text/plain": [
       "1.0"
      ]
     },
     "execution_count": 62,
     "metadata": {},
     "output_type": "execute_result"
    }
   ],
   "source": [
    "b = int(1)\n",
    "b = str(1)\n",
    "b = float(1)\n",
    "b"
   ]
  },
  {
   "cell_type": "markdown",
   "metadata": {
    "id": "3v9rg50TwQq4"
   },
   "source": [
    "## Single or Double Quotes\n",
    "Both work but remember quotes lol"
   ]
  },
  {
   "cell_type": "code",
   "execution_count": 66,
   "metadata": {
    "id": "gimo5ZWDwXh2"
   },
   "outputs": [
    {
     "data": {
      "text/plain": [
       "\"Now's the time!\""
      ]
     },
     "execution_count": 66,
     "metadata": {},
     "output_type": "execute_result"
    }
   ],
   "source": [
    "a = \"Now's the time!\"\n",
    "a"
   ]
  },
  {
   "cell_type": "markdown",
   "metadata": {
    "id": "QPoafQlJwtVb"
   },
   "source": [
    "## Case Matters"
   ]
  },
  {
   "cell_type": "code",
   "execution_count": 67,
   "metadata": {
    "id": "IgKqcBObwtpB"
   },
   "outputs": [
    {
     "name": "stdout",
     "output_type": "stream",
     "text": [
      "100\n",
      "200\n"
     ]
    }
   ],
   "source": [
    "a = 100 # case matters\n",
    "A = 200\n",
    "print(a)\n",
    "print(A)"
   ]
  }
 ],
 "metadata": {
  "colab": {
   "authorship_tag": "ABX9TyPfAhEJz6vga0GjP2HJR6He",
   "provenance": []
  },
  "kernelspec": {
   "display_name": "Python 3 (ipykernel)",
   "language": "python",
   "name": "python3"
  },
  "language_info": {
   "codemirror_mode": {
    "name": "ipython",
    "version": 3
   },
   "file_extension": ".py",
   "mimetype": "text/x-python",
   "name": "python",
   "nbconvert_exporter": "python",
   "pygments_lexer": "ipython3",
   "version": "3.10.8"
  }
 },
 "nbformat": 4,
 "nbformat_minor": 1
}
