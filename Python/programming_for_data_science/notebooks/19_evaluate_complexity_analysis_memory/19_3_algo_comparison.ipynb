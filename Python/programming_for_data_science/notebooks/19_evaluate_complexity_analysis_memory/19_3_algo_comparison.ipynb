{
 "cells": [
  {
   "cell_type": "code",
   "execution_count": 1,
   "id": "093260df",
   "metadata": {},
   "outputs": [
    {
     "data": {
      "text/plain": [
       "5"
      ]
     },
     "execution_count": 1,
     "metadata": {},
     "output_type": "execute_result"
    }
   ],
   "source": [
    "my_list = [1,2,3,4,5]\n",
    "\n",
    "def find_max(lst):\n",
    "    max_val = lst[0] \n",
    "    for i in range(1, len(lst)):\n",
    "        if lst[i] > max_val:\n",
    "            max_val = lst[i]\n",
    "    return max_val\n",
    "\n",
    "find_max(my_list)"
   ]
  },
  {
   "cell_type": "code",
   "execution_count": 2,
   "id": "5a448eca",
   "metadata": {},
   "outputs": [],
   "source": [
    "def find_max(lst):\n",
    "    lst.sort()\n",
    "    return lst[-1]"
   ]
  },
  {
   "cell_type": "code",
   "execution_count": 4,
   "id": "b74ae52a",
   "metadata": {},
   "outputs": [
    {
     "data": {
      "text/plain": [
       "5"
      ]
     },
     "execution_count": 4,
     "metadata": {},
     "output_type": "execute_result"
    }
   ],
   "source": [
    "find_max(my_list)"
   ]
  },
  {
   "cell_type": "code",
   "execution_count": null,
   "id": "a58a0fd9",
   "metadata": {},
   "outputs": [],
   "source": []
  }
 ],
 "metadata": {
  "kernelspec": {
   "display_name": "Python 3 (ipykernel)",
   "language": "python",
   "name": "python3"
  },
  "language_info": {
   "codemirror_mode": {
    "name": "ipython",
    "version": 3
   },
   "file_extension": ".py",
   "mimetype": "text/x-python",
   "name": "python",
   "nbconvert_exporter": "python",
   "pygments_lexer": "ipython3",
   "version": "3.10.8"
  }
 },
 "nbformat": 4,
 "nbformat_minor": 5
}
