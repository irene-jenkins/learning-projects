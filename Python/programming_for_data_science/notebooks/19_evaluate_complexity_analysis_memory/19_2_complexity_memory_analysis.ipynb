{
 "cells": [
  {
   "cell_type": "code",
   "execution_count": 2,
   "id": "e8644ee7",
   "metadata": {},
   "outputs": [
    {
     "data": {
      "text/plain": [
       "5"
      ]
     },
     "execution_count": 2,
     "metadata": {},
     "output_type": "execute_result"
    }
   ],
   "source": [
    "my_list = [1,2,3,4,5]\n",
    "\n",
    "def find_max(my_list):\n",
    "    max_value = my_list[0]\n",
    "    for value in my_list:\n",
    "        if value > max_value:\n",
    "            max_value = value\n",
    "    return max_value\n",
    "find_max(my_list)"
   ]
  },
  {
   "cell_type": "code",
   "execution_count": 3,
   "id": "2d652b2c",
   "metadata": {},
   "outputs": [
    {
     "data": {
      "text/plain": [
       "False"
      ]
     },
     "execution_count": 3,
     "metadata": {},
     "output_type": "execute_result"
    }
   ],
   "source": [
    "my_list = [1,2,3,4,5]\n",
    "\n",
    "def check_duplicates(my_list):\n",
    "    for i in range(len(my_list)):\n",
    "        for j in range(i+1, len(my_list)):\n",
    "            if my_list[i] == my_list[j]:\n",
    "                return True\n",
    "    return False\n",
    "\n",
    "check_duplicates(my_list)"
   ]
  },
  {
   "cell_type": "code",
   "execution_count": null,
   "id": "199600cd",
   "metadata": {},
   "outputs": [],
   "source": []
  }
 ],
 "metadata": {
  "kernelspec": {
   "display_name": "Python 3 (ipykernel)",
   "language": "python",
   "name": "python3"
  },
  "language_info": {
   "codemirror_mode": {
    "name": "ipython",
    "version": 3
   },
   "file_extension": ".py",
   "mimetype": "text/x-python",
   "name": "python",
   "nbconvert_exporter": "python",
   "pygments_lexer": "ipython3",
   "version": "3.10.8"
  }
 },
 "nbformat": 4,
 "nbformat_minor": 5
}
