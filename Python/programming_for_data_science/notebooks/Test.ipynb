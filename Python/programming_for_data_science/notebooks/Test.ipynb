{
 "cells": [
  {
   "cell_type": "code",
   "execution_count": null,
   "id": "98c4ccee",
   "metadata": {},
   "outputs": [],
   "source": [
    "# impart pandas\n",
    "import pandas as pd\n",
    "\n",
    "#import numpy\n",
    "import numpy as np\n",
    "\n",
    "#import matplotlib\n",
    "import matplotlib.pyplot as plt"
   ]
  },
  {
   "cell_type": "code",
   "execution_count": null,
   "id": "057a147a",
   "metadata": {},
   "outputs": [],
   "source": [
    "# import csv files"
   ]
  },
  {
   "cell_type": "code",
   "execution_count": null,
   "id": "f925298b",
   "metadata": {},
   "outputs": [],
   "source": [
    "# create numerical array of UV, Conductivity, and pH"
   ]
  },
  {
   "cell_type": "code",
   "execution_count": null,
   "id": "fbbf2957",
   "metadata": {},
   "outputs": [],
   "source": [
    "# overlay arrays based on Run Log Phases"
   ]
  },
  {
   "cell_type": "code",
   "execution_count": null,
   "id": "a47c8737",
   "metadata": {},
   "outputs": [],
   "source": [
    "# plot as line plots\n",
    "# label the phases, axes, and title"
   ]
  }
 ],
 "metadata": {
  "kernelspec": {
   "display_name": "Python 3 (ipykernel)",
   "language": "python",
   "name": "python3"
  },
  "language_info": {
   "codemirror_mode": {
    "name": "ipython",
    "version": 3
   },
   "file_extension": ".py",
   "mimetype": "text/x-python",
   "name": "python",
   "nbconvert_exporter": "python",
   "pygments_lexer": "ipython3",
   "version": "3.11.5"
  }
 },
 "nbformat": 4,
 "nbformat_minor": 5
}
