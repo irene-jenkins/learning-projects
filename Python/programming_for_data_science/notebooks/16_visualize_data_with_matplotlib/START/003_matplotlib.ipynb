{
 "cells": [
  {
   "cell_type": "markdown",
   "metadata": {
    "id": "RjHYTP6zpKHR"
   },
   "source": [
    "# Visualizing Cereal Data with Matplotlib\n",
    "In this skill, we'll use Matplotlib to visualize interesting patterns and insights in a dataset containing information about different types of cereal. We will load the dataset, create various plots and charts, and analyze the results to identify trends and patterns in the data.\n",
    "\n",
    "We will start by importing the necessary libraries and loading the dataset into a pandas DataFrame. We will use the read_csv function to read the data from a CSV file into a DataFrame."
   ]
  },
  {
   "cell_type": "code",
   "execution_count": 1,
   "metadata": {
    "executionInfo": {
     "elapsed": 272,
     "status": "ok",
     "timestamp": 1673125752873,
     "user": {
      "displayName": "Jonathan Barrios",
      "userId": "00501959677193622214"
     },
     "user_tz": 360
    },
    "id": "HnjoZ5jCkcpb"
   },
   "outputs": [],
   "source": [
    "# import pandas\n",
    "\n",
    "\n",
    "# import matplotlib\n"
   ]
  },
  {
   "cell_type": "markdown",
   "metadata": {
    "id": "90wT9B_xo7jt"
   },
   "source": [
    "# Load the Dataset\n",
    "We will start by importing the necessary libraries and loading the dataset into a pandas DataFrame. We will use the read_csv function to read the data from a CSV file into a DataFrame."
   ]
  },
  {
   "cell_type": "code",
   "execution_count": 1,
   "metadata": {
    "executionInfo": {
     "elapsed": 640,
     "status": "ok",
     "timestamp": 1673125736903,
     "user": {
      "displayName": "Jonathan Barrios",
      "userId": "00501959677193622214"
     },
     "user_tz": 360
    },
    "id": "wqz5ge-6pM8Y"
   },
   "outputs": [],
   "source": [
    "# Load the dataset into a DataFrame\n",
    "# \"https://raw.githubusercontent.com/cbtn-data-science-ml/python-pandas-for-data-manipulation/main/completed_files/datasets/cereal.csv\""
   ]
  },
  {
   "cell_type": "code",
   "execution_count": null,
   "metadata": {
    "colab": {
     "base_uri": "https://localhost:8080/",
     "height": 424
    },
    "executionInfo": {
     "elapsed": 249,
     "status": "ok",
     "timestamp": 1673125738637,
     "user": {
      "displayName": "Jonathan Barrios",
      "userId": "00501959677193622214"
     },
     "user_tz": 360
    },
    "id": "tQls08IoED-u",
    "outputId": "4cdd35db-e25b-4244-d6a9-1b8ad5eb0b72"
   },
   "outputs": [],
   "source": []
  },
  {
   "cell_type": "code",
   "execution_count": null,
   "metadata": {
    "scrolled": false
   },
   "outputs": [],
   "source": []
  },
  {
   "cell_type": "code",
   "execution_count": null,
   "metadata": {},
   "outputs": [],
   "source": []
  },
  {
   "cell_type": "markdown",
   "metadata": {
    "id": "jSVdmEOuES1o"
   },
   "source": [
    "# Visualize the Data\n",
    "Now that we have loaded the dataset into a DataFrame, we can start visualizing the data to gain insights. Matplotlib provides a range of functions and methods for creating various types of plots and charts."
   ]
  },
  {
   "cell_type": "markdown",
   "metadata": {
    "id": "JV7LTVFcEmfx"
   },
   "source": [
    "# Histogram\n",
    "Use the hist method to create a histogram of the sugar content of the cereals. This will give us a sense of the distribution of sugar content among different cereals."
   ]
  },
  {
   "cell_type": "code",
   "execution_count": 2,
   "metadata": {
    "colab": {
     "base_uri": "https://localhost:8080/",
     "height": 297
    },
    "executionInfo": {
     "elapsed": 943,
     "status": "ok",
     "timestamp": 1673125802761,
     "user": {
      "displayName": "Jonathan Barrios",
      "userId": "00501959677193622214"
     },
     "user_tz": 360
    },
    "id": "htbLX_A3EJUz",
    "outputId": "a995b7b8-54de-4746-e5a6-3dab886652b3"
   },
   "outputs": [],
   "source": [
    "# Histogram of sugar content\n"
   ]
  },
  {
   "cell_type": "markdown",
   "metadata": {
    "id": "1Xebf9u9EpB3"
   },
   "source": [
    "# Scatterplot\n",
    "Use the scatter function to create a scatterplot of the fiber content versus the protein content. This will allow us to see if there is a relationship between these two variables."
   ]
  },
  {
   "cell_type": "code",
   "execution_count": 3,
   "metadata": {
    "colab": {
     "base_uri": "https://localhost:8080/",
     "height": 279
    },
    "executionInfo": {
     "elapsed": 540,
     "status": "ok",
     "timestamp": 1673125838253,
     "user": {
      "displayName": "Jonathan Barrios",
      "userId": "00501959677193622214"
     },
     "user_tz": 360
    },
    "id": "De2v_3UXEYu-",
    "outputId": "4c1d0c72-626f-40b1-fecb-418141d490ac"
   },
   "outputs": [],
   "source": [
    "# Scatterplot of fiber content versus protein content\n"
   ]
  },
  {
   "cell_type": "markdown",
   "metadata": {
    "id": "5hvILMqtEyrN"
   },
   "source": [
    "# Bar Chart\n",
    "Use the bar function to create a barplot of the average rating by cereal brand. This will allow us to compare the ratings of different brands of cereal."
   ]
  },
  {
   "cell_type": "code",
   "execution_count": 4,
   "metadata": {
    "colab": {
     "base_uri": "https://localhost:8080/",
     "height": 277
    },
    "executionInfo": {
     "elapsed": 775,
     "status": "ok",
     "timestamp": 1673125920119,
     "user": {
      "displayName": "Jonathan Barrios",
      "userId": "00501959677193622214"
     },
     "user_tz": 360
    },
    "id": "epC3ebmIEjmn",
    "outputId": "2a51167a-9417-4d28-a893-089c69e8500a"
   },
   "outputs": [],
   "source": [
    "# Barplot of average rating by cereal brand\n",
    "\n"
   ]
  },
  {
   "cell_type": "markdown",
   "metadata": {
    "id": "v3ow7n2WFBd-"
   },
   "source": [
    "Overall, these visualizations give us a glimpse into the world of cereal and help us understand some of the key factors that influence consumer preferences. But remember, no matter which cereal you choose, it's always important to enjoy your breakfast with a healthy dose of humor. After all, they say laughter is the best ingredient!"
   ]
  }
 ],
 "metadata": {
  "colab": {
   "authorship_tag": "ABX9TyP3TJwOz3p5ju0nZZxSVJEx",
   "provenance": []
  },
  "kernelspec": {
   "display_name": "Python 3 (ipykernel)",
   "language": "python",
   "name": "python3"
  },
  "language_info": {
   "codemirror_mode": {
    "name": "ipython",
    "version": 3
   },
   "file_extension": ".py",
   "mimetype": "text/x-python",
   "name": "python",
   "nbconvert_exporter": "python",
   "pygments_lexer": "ipython3",
   "version": "3.10.8"
  }
 },
 "nbformat": 4,
 "nbformat_minor": 1
}
