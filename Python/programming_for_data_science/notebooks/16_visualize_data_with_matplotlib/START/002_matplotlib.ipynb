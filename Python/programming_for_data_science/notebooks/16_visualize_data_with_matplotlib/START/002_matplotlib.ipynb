{
 "cells": [
  {
   "cell_type": "markdown",
   "metadata": {
    "id": "RjHYTP6zpKHR"
   },
   "source": [
    "# What is Matplotlib?\n",
    "Matplotlib is a plotting library for the Python programming language that provides an object-oriented API for embedding plots into applications. It was developed to provide a convenient interface for creating common plots and it has become one of the most widely-used data visualization tools in both academia and industry. \n",
    "\n",
    "With Matplotlib, one can easily create various kinds of plots such as line plots, scatter plots, bar plots, histograms, and pie charts, and has a fine control over the aesthetics of the plot. It also provides a high-level interface for drawing attractive and informative statistical graphics, and provides tools for working with the plots it creates such as changing the plot's limits, adjusting the plot's appearance and adding annotations to the plot.\n",
    "\n",
    "\n",
    "## Importing Matplotlib\n",
    "When you use the `import matplotlib as plt` command, it imports the entire matplotlib library and gives it the alias plt. This means that any function or attribute of the library can be accessed using plt.<function or attribute>.\n",
    "    \n",
    "When you use the `import matplotlib.pyplot as plt` command, on the other hand, only imports the pyplot module from matplotlib and gives it the alias plt. The pyplot module provides a simple, convenient interface for creating common plots, and is often used to create quick and dirty plots in a script. The pyplot module provides a plotting system similar to Matlab and it depend on other Matplotlib functions.\n",
    "    \n",
    "So the main difference is that, import matplotlib.pyplot as plt will import only plotting related functionalities, however import matplotlib as plt will import all functionalities of the library and you will have more functionalities available to use but you may need to call them using the full package name."
   ]
  },
  {
   "cell_type": "code",
   "execution_count": 1,
   "metadata": {
    "id": "HnjoZ5jCkcpb"
   },
   "outputs": [],
   "source": []
  },
  {
   "cell_type": "markdown",
   "metadata": {
    "id": "90wT9B_xo7jt"
   },
   "source": [
    "# Load the Dataset\n",
    "We will start by importing the necessary libraries and loading the dataset into a pandas DataFrame. We will use the read_csv function to read the data from a CSV file into a DataFrame."
   ]
  },
  {
   "cell_type": "code",
   "execution_count": 1,
   "metadata": {
    "id": "wqz5ge-6pM8Y"
   },
   "outputs": [],
   "source": [
    "# Load the dataset into a DataFrame\n"
   ]
  },
  {
   "cell_type": "markdown",
   "metadata": {},
   "source": [
    "# Create a Scatterplot"
   ]
  },
  {
   "cell_type": "code",
   "execution_count": 9,
   "metadata": {},
   "outputs": [],
   "source": [
    "# Select the sugar and rating columns\n"
   ]
  },
  {
   "cell_type": "code",
   "execution_count": 2,
   "metadata": {},
   "outputs": [],
   "source": [
    "# Create a scatter plot\n",
    "\n",
    "\n",
    "# Show the plot\n"
   ]
  },
  {
   "cell_type": "code",
   "execution_count": null,
   "metadata": {},
   "outputs": [],
   "source": []
  }
 ],
 "metadata": {
  "colab": {
   "authorship_tag": "ABX9TyPfLIdyN1iK9Xbh+QeDGNqe",
   "provenance": []
  },
  "kernelspec": {
   "display_name": "Python 3 (ipykernel)",
   "language": "python",
   "name": "python3"
  },
  "language_info": {
   "codemirror_mode": {
    "name": "ipython",
    "version": 3
   },
   "file_extension": ".py",
   "mimetype": "text/x-python",
   "name": "python",
   "nbconvert_exporter": "python",
   "pygments_lexer": "ipython3",
   "version": "3.10.8"
  }
 },
 "nbformat": 4,
 "nbformat_minor": 1
}
