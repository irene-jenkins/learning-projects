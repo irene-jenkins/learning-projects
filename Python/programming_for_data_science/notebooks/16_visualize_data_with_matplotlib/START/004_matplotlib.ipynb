{
 "cells": [
  {
   "cell_type": "markdown",
   "metadata": {
    "id": "RjHYTP6zpKHR"
   },
   "source": [
    "# Customizing Plots"
   ]
  },
  {
   "cell_type": "code",
   "execution_count": 1,
   "metadata": {
    "executionInfo": {
     "elapsed": 81,
     "status": "ok",
     "timestamp": 1673130460447,
     "user": {
      "displayName": "Jonathan Barrios",
      "userId": "00501959677193622214"
     },
     "user_tz": 360
    },
    "id": "HnjoZ5jCkcpb"
   },
   "outputs": [],
   "source": []
  },
  {
   "cell_type": "markdown",
   "metadata": {
    "id": "90wT9B_xo7jt"
   },
   "source": [
    "# Load the Dataset\n",
    "We will start by importing the necessary libraries and loading the dataset into a pandas DataFrame. We will use the read_csv function to read the data from a CSV file into a DataFrame."
   ]
  },
  {
   "cell_type": "code",
   "execution_count": 14,
   "metadata": {
    "executionInfo": {
     "elapsed": 131,
     "status": "ok",
     "timestamp": 1673130460668,
     "user": {
      "displayName": "Jonathan Barrios",
      "userId": "00501959677193622214"
     },
     "user_tz": 360
    },
    "id": "wqz5ge-6pM8Y"
   },
   "outputs": [],
   "source": [
    "# Load the cereal dataset\n",
    "# \"https://raw.githubusercontent.com/cbtn-data-science-ml/python-pandas-for-data-manipulation/main/completed_files/datasets/cereal.csv\""
   ]
  },
  {
   "cell_type": "code",
   "execution_count": null,
   "metadata": {
    "colab": {
     "base_uri": "https://localhost:8080/",
     "height": 424
    },
    "executionInfo": {
     "elapsed": 143,
     "status": "ok",
     "timestamp": 1673130460804,
     "user": {
      "displayName": "Jonathan Barrios",
      "userId": "00501959677193622214"
     },
     "user_tz": 360
    },
    "id": "URj5pCKMCwpu",
    "outputId": "efb937a6-66f7-43d3-f63e-b917880831cc"
   },
   "outputs": [],
   "source": []
  },
  {
   "cell_type": "markdown",
   "metadata": {
    "id": "SOQcF6vuChlL"
   },
   "source": [
    "## Create a Basic Scatter Plot\n",
    "This will create a scatter plot with sugar content on the x-axis and rating on the y-axis."
   ]
  },
  {
   "cell_type": "code",
   "execution_count": 10,
   "metadata": {
    "colab": {
     "base_uri": "https://localhost:8080/",
     "height": 265
    },
    "executionInfo": {
     "elapsed": 134,
     "status": "ok",
     "timestamp": 1673130460936,
     "user": {
      "displayName": "Jonathan Barrios",
      "userId": "00501959677193622214"
     },
     "user_tz": 360
    },
    "id": "hPWSY2J6Cc2t",
    "outputId": "82b86459-825a-4acc-e8d9-2b8ca256df1e"
   },
   "outputs": [],
   "source": [
    "# Select the sugar and rating columns\n",
    "\n",
    "\n",
    "# Create a scatter plot\n",
    "\n",
    "\n",
    "# Show the plot\n"
   ]
  },
  {
   "cell_type": "markdown",
   "metadata": {
    "id": "XNqVzcA_DXqq"
   },
   "source": [
    "# Add Axis Labels and Title"
   ]
  },
  {
   "cell_type": "code",
   "execution_count": 11,
   "metadata": {
    "colab": {
     "base_uri": "https://localhost:8080/",
     "height": 295
    },
    "executionInfo": {
     "elapsed": 221,
     "status": "ok",
     "timestamp": 1673130461155,
     "user": {
      "displayName": "Jonathan Barrios",
      "userId": "00501959677193622214"
     },
     "user_tz": 360
    },
    "id": "JI6VQTY6Csk9",
    "outputId": "cc01043a-bf72-4bb8-f67a-4626216f6c7e"
   },
   "outputs": [],
   "source": [
    "# Add axis labels and a title\n",
    "\n",
    "\n",
    "# Show the plot\n"
   ]
  },
  {
   "cell_type": "markdown",
   "metadata": {
    "id": "a6_ZgN73DOPu"
   },
   "source": [
    "# Change the Marker Size and Color\n",
    "This will change the size of the markers based on the cereal's calorie content and the color of the markers based on the cereal's fiber content."
   ]
  },
  {
   "cell_type": "code",
   "execution_count": 12,
   "metadata": {
    "colab": {
     "base_uri": "https://localhost:8080/",
     "height": 295
    },
    "executionInfo": {
     "elapsed": 256,
     "status": "ok",
     "timestamp": 1673130461410,
     "user": {
      "displayName": "Jonathan Barrios",
      "userId": "00501959677193622214"
     },
     "user_tz": 360
    },
    "id": "-lXxxa9BC9h4",
    "outputId": "b2054610-3860-44a8-86ae-8098dd8e2be8"
   },
   "outputs": [],
   "source": [
    "# Change the marker size and color\n",
    "\n",
    "\n",
    "# Add axis labels and a title\n",
    "\n",
    "\n",
    "# Show the plot\n"
   ]
  },
  {
   "cell_type": "markdown",
   "metadata": {
    "id": "kOLZYxfvDgL_"
   },
   "source": [
    "# Add a Color Bar\n",
    "This will add a colorbar to the plot, showing the mapping from fiber content to marker color."
   ]
  },
  {
   "cell_type": "code",
   "execution_count": 13,
   "metadata": {
    "colab": {
     "base_uri": "https://localhost:8080/",
     "height": 295
    },
    "executionInfo": {
     "elapsed": 313,
     "status": "ok",
     "timestamp": 1673130461722,
     "user": {
      "displayName": "Jonathan Barrios",
      "userId": "00501959677193622214"
     },
     "user_tz": 360
    },
    "id": "emTWT860DDKD",
    "outputId": "fa75b60a-d6c6-4bce-eb99-b7b24553923f"
   },
   "outputs": [],
   "source": [
    "# Change the marker size and color\n",
    "\n",
    "\n",
    "# Add a colorbar\n",
    "\n",
    "\n",
    "# Add axis labels and a title\n",
    "\n",
    "\n",
    "\n",
    "# Show the plot\n"
   ]
  },
  {
   "cell_type": "code",
   "execution_count": null,
   "metadata": {},
   "outputs": [],
   "source": []
  },
  {
   "cell_type": "code",
   "execution_count": null,
   "metadata": {},
   "outputs": [],
   "source": []
  },
  {
   "cell_type": "code",
   "execution_count": null,
   "metadata": {},
   "outputs": [],
   "source": []
  }
 ],
 "metadata": {
  "colab": {
   "authorship_tag": "ABX9TyPDyy5fNyTudYi89JqF+sAA",
   "provenance": []
  },
  "kernelspec": {
   "display_name": "Python 3 (ipykernel)",
   "language": "python",
   "name": "python3"
  },
  "language_info": {
   "codemirror_mode": {
    "name": "ipython",
    "version": 3
   },
   "file_extension": ".py",
   "mimetype": "text/x-python",
   "name": "python",
   "nbconvert_exporter": "python",
   "pygments_lexer": "ipython3",
   "version": "3.10.8"
  }
 },
 "nbformat": 4,
 "nbformat_minor": 1
}
