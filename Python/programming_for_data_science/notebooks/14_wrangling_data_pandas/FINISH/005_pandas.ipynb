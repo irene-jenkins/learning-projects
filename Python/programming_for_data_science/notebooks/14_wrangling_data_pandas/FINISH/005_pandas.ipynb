{
 "cells": [
  {
   "cell_type": "markdown",
   "metadata": {
    "id": "RjHYTP6zpKHR"
   },
   "source": [
    "# Data Visualization\n",
    "Now, we'll use pandas and Matplotlib to visualize interesting patterns and insights in a dataset containing MLS soccer player salaries.\n"
   ]
  },
  {
   "cell_type": "code",
   "execution_count": 12,
   "metadata": {
    "executionInfo": {
     "elapsed": 102,
     "status": "ok",
     "timestamp": 1673121279435,
     "user": {
      "displayName": "Jonathan Barrios",
      "userId": "00501959677193622214"
     },
     "user_tz": 360
    },
    "id": "HnjoZ5jCkcpb"
   },
   "outputs": [],
   "source": [
    "import pandas as pd\n",
    "import matplotlib.pyplot as plt"
   ]
  },
  {
   "cell_type": "markdown",
   "metadata": {
    "id": "90wT9B_xo7jt"
   },
   "source": [
    "# Load the Dataset\n",
    "We will start by importing the necessary libraries and loading the dataset into a pandas DataFrame. We will use the read_csv function to read the data from a CSV file into a DataFrame."
   ]
  },
  {
   "cell_type": "code",
   "execution_count": 13,
   "metadata": {
    "executionInfo": {
     "elapsed": 1,
     "status": "ok",
     "timestamp": 1673121280223,
     "user": {
      "displayName": "Jonathan Barrios",
      "userId": "00501959677193622214"
     },
     "user_tz": 360
    },
    "id": "wqz5ge-6pM8Y"
   },
   "outputs": [],
   "source": [
    "# Load the dataset into a DataFrame\n",
    "df = pd.read_csv(\"https://raw.githubusercontent.com/cbtn-data-science-ml/python-for-data-analysis/main/datasets/mls_salaries.csv\")"
   ]
  },
  {
   "cell_type": "code",
   "execution_count": 14,
   "metadata": {
    "colab": {
     "base_uri": "https://localhost:8080/",
     "height": 424
    },
    "executionInfo": {
     "elapsed": 3,
     "status": "ok",
     "timestamp": 1673121280619,
     "user": {
      "displayName": "Jonathan Barrios",
      "userId": "00501959677193622214"
     },
     "user_tz": 360
    },
    "id": "qfCc1ExMvKGF",
    "outputId": "760b6f87-0fa9-4d32-ae7b-573455d08170"
   },
   "outputs": [
    {
     "data": {
      "text/html": [
       "<div>\n",
       "<style scoped>\n",
       "    .dataframe tbody tr th:only-of-type {\n",
       "        vertical-align: middle;\n",
       "    }\n",
       "\n",
       "    .dataframe tbody tr th {\n",
       "        vertical-align: top;\n",
       "    }\n",
       "\n",
       "    .dataframe thead th {\n",
       "        text-align: right;\n",
       "    }\n",
       "</style>\n",
       "<table border=\"1\" class=\"dataframe\">\n",
       "  <thead>\n",
       "    <tr style=\"text-align: right;\">\n",
       "      <th></th>\n",
       "      <th>club</th>\n",
       "      <th>last_name</th>\n",
       "      <th>first_name</th>\n",
       "      <th>position</th>\n",
       "      <th>base_salary</th>\n",
       "      <th>guaranteed_compensation</th>\n",
       "    </tr>\n",
       "  </thead>\n",
       "  <tbody>\n",
       "    <tr>\n",
       "      <th>0</th>\n",
       "      <td>ATL</td>\n",
       "      <td>Almiron</td>\n",
       "      <td>Miguel</td>\n",
       "      <td>M</td>\n",
       "      <td>1912500.0</td>\n",
       "      <td>2297000.00</td>\n",
       "    </tr>\n",
       "    <tr>\n",
       "      <th>1</th>\n",
       "      <td>ATL</td>\n",
       "      <td>Ambrose</td>\n",
       "      <td>Mikey</td>\n",
       "      <td>D</td>\n",
       "      <td>65625.0</td>\n",
       "      <td>65625.00</td>\n",
       "    </tr>\n",
       "    <tr>\n",
       "      <th>2</th>\n",
       "      <td>ATL</td>\n",
       "      <td>Asad</td>\n",
       "      <td>Yamil</td>\n",
       "      <td>M</td>\n",
       "      <td>150000.0</td>\n",
       "      <td>150000.00</td>\n",
       "    </tr>\n",
       "    <tr>\n",
       "      <th>3</th>\n",
       "      <td>ATL</td>\n",
       "      <td>Bloom</td>\n",
       "      <td>Mark</td>\n",
       "      <td>D</td>\n",
       "      <td>99225.0</td>\n",
       "      <td>106573.89</td>\n",
       "    </tr>\n",
       "    <tr>\n",
       "      <th>4</th>\n",
       "      <td>ATL</td>\n",
       "      <td>Carleton</td>\n",
       "      <td>Andrew</td>\n",
       "      <td>F</td>\n",
       "      <td>65000.0</td>\n",
       "      <td>77400.00</td>\n",
       "    </tr>\n",
       "    <tr>\n",
       "      <th>...</th>\n",
       "      <td>...</td>\n",
       "      <td>...</td>\n",
       "      <td>...</td>\n",
       "      <td>...</td>\n",
       "      <td>...</td>\n",
       "      <td>...</td>\n",
       "    </tr>\n",
       "    <tr>\n",
       "      <th>610</th>\n",
       "      <td>VAN</td>\n",
       "      <td>Teibert</td>\n",
       "      <td>Russell</td>\n",
       "      <td>M</td>\n",
       "      <td>126500.0</td>\n",
       "      <td>194000.00</td>\n",
       "    </tr>\n",
       "    <tr>\n",
       "      <th>611</th>\n",
       "      <td>VAN</td>\n",
       "      <td>Tornaghi</td>\n",
       "      <td>Paolo</td>\n",
       "      <td>GK</td>\n",
       "      <td>80000.0</td>\n",
       "      <td>80000.00</td>\n",
       "    </tr>\n",
       "    <tr>\n",
       "      <th>612</th>\n",
       "      <td>VAN</td>\n",
       "      <td>Waston</td>\n",
       "      <td>Kendall</td>\n",
       "      <td>D</td>\n",
       "      <td>350000.0</td>\n",
       "      <td>368125.00</td>\n",
       "    </tr>\n",
       "    <tr>\n",
       "      <th>613</th>\n",
       "      <td>NaN</td>\n",
       "      <td>NaN</td>\n",
       "      <td>NaN</td>\n",
       "      <td>NaN</td>\n",
       "      <td>NaN</td>\n",
       "      <td>NaN</td>\n",
       "    </tr>\n",
       "    <tr>\n",
       "      <th>614</th>\n",
       "      <td>VAN</td>\n",
       "      <td>Williams</td>\n",
       "      <td>Sheanon</td>\n",
       "      <td>D</td>\n",
       "      <td>175000.0</td>\n",
       "      <td>184000.00</td>\n",
       "    </tr>\n",
       "  </tbody>\n",
       "</table>\n",
       "<p>615 rows × 6 columns</p>\n",
       "</div>"
      ],
      "text/plain": [
       "    club last_name first_name position  base_salary  guaranteed_compensation\n",
       "0    ATL   Almiron     Miguel        M    1912500.0               2297000.00\n",
       "1    ATL   Ambrose      Mikey        D      65625.0                 65625.00\n",
       "2    ATL      Asad      Yamil        M     150000.0                150000.00\n",
       "3    ATL     Bloom       Mark        D      99225.0                106573.89\n",
       "4    ATL  Carleton     Andrew        F      65000.0                 77400.00\n",
       "..   ...       ...        ...      ...          ...                      ...\n",
       "610  VAN   Teibert    Russell        M     126500.0                194000.00\n",
       "611  VAN  Tornaghi      Paolo       GK      80000.0                 80000.00\n",
       "612  VAN    Waston    Kendall        D     350000.0                368125.00\n",
       "613  NaN       NaN        NaN      NaN          NaN                      NaN\n",
       "614  VAN  Williams    Sheanon        D     175000.0                184000.00\n",
       "\n",
       "[615 rows x 6 columns]"
      ]
     },
     "execution_count": 14,
     "metadata": {},
     "output_type": "execute_result"
    }
   ],
   "source": [
    "df"
   ]
  },
  {
   "cell_type": "markdown",
   "metadata": {
    "id": "6o_PWZwcteYU"
   },
   "source": [
    "# Visualize the Data\n",
    "Now that we have loaded the dataset into a DataFrame, we can start visualizing the data to gain insights. Here are a few ways we can visualize the data:\n",
    "\n",
    "* Use the hist method to create a histogram of salary\n",
    "* Use the boxplot method to create a boxplot of salary by position\n",
    "* Use the barplot method to create a barplot of average salary by team"
   ]
  },
  {
   "cell_type": "code",
   "execution_count": 15,
   "metadata": {
    "colab": {
     "base_uri": "https://localhost:8080/",
     "height": 278
    },
    "executionInfo": {
     "elapsed": 325,
     "status": "ok",
     "timestamp": 1673121282491,
     "user": {
      "displayName": "Jonathan Barrios",
      "userId": "00501959677193622214"
     },
     "user_tz": 360
    },
    "id": "Dj2xZ75zy1Sq",
    "outputId": "2677e48c-0091-4513-e2f4-5b7dd479a333"
   },
   "outputs": [
    {
     "data": {
      "image/png": "[encoded data removed]",
      "text/plain": [
       "<Figure size 640x480 with 1 Axes>"
      ]
     },
     "metadata": {},
     "output_type": "display_data"
    }
   ],
   "source": [
    "# Histogram of salary\n",
    "df[\"base_salary\"].hist()\n",
    "plt.show()"
   ]
  },
  {
   "cell_type": "markdown",
   "metadata": {},
   "source": [
    "## Analysis:\n",
    "The distribution of salary is skewed to the right, with a few high salary outliers"
   ]
  },
  {
   "cell_type": "markdown",
   "metadata": {},
   "source": [
    "# Boxplot"
   ]
  },
  {
   "cell_type": "code",
   "execution_count": 16,
   "metadata": {
    "colab": {
     "base_uri": "https://localhost:8080/",
     "height": 357
    },
    "executionInfo": {
     "elapsed": 585,
     "status": "ok",
     "timestamp": 1673121299329,
     "user": {
      "displayName": "Jonathan Barrios",
      "userId": "00501959677193622214"
     },
     "user_tz": 360
    },
    "id": "7AFzmMHJy9qB",
    "outputId": "d14554df-e424-4986-a6f3-ff6338960506",
    "scrolled": true
   },
   "outputs": [
    {
     "data": {
      "image/png": "[encoded data removed]",
      "text/plain": [
       "<Figure size 640x480 with 1 Axes>"
      ]
     },
     "metadata": {},
     "output_type": "display_data"
    }
   ],
   "source": [
    "# Boxplot of salary by position\n",
    "df.boxplot(column=\"base_salary\", by=\"position\")\n",
    "plt.show()"
   ]
  },
  {
   "cell_type": "markdown",
   "metadata": {},
   "source": [
    "## Analysis:\n",
    "There are significant differences in salary between different positions, with forwards and midfielders generally having higher salaries than defenders and goalkeepers"
   ]
  },
  {
   "cell_type": "markdown",
   "metadata": {},
   "source": [
    "# Barplot"
   ]
  },
  {
   "cell_type": "code",
   "execution_count": 9,
   "metadata": {
    "colab": {
     "base_uri": "https://localhost:8080/",
     "height": 305
    },
    "executionInfo": {
     "elapsed": 550,
     "status": "ok",
     "timestamp": 1673121363221,
     "user": {
      "displayName": "Jonathan Barrios",
      "userId": "00501959677193622214"
     },
     "user_tz": 360
    },
    "id": "qpfh3GQXzBBi",
    "outputId": "6bff2388-a881-47cd-fc39-6632fce46fca"
   },
   "outputs": [
    {
     "name": "stderr",
     "output_type": "stream",
     "text": [
      "/var/folders/p3/mqhw42ws2pdb_zc2w00cp34m0000gn/T/ipykernel_12671/3404672685.py:2: FutureWarning: The default value of numeric_only in DataFrameGroupBy.mean is deprecated. In a future version, numeric_only will default to False. Either specify numeric_only or select only columns which should be valid for the function.\n",
      "  df.groupby(\"club\").mean()[\"base_salary\"].plot(kind=\"bar\")\n"
     ]
    },
    {
     "data": {
      "image/png": "[encoded data removed]",
      "text/plain": [
       "<Figure size 640x480 with 1 Axes>"
      ]
     },
     "metadata": {},
     "output_type": "display_data"
    }
   ],
   "source": [
    "# Barplot of average salary by team\n",
    "df.groupby(\"club\").mean()[\"base_salary\"].plot(kind=\"bar\")\n",
    "plt.show()"
   ]
  },
  {
   "cell_type": "markdown",
   "metadata": {},
   "source": [
    "## ANALYSIS:\n",
    "There is a wide range of average salaries among different teams, with some teams paying significantly higher salaries than others"
   ]
  },
  {
   "cell_type": "markdown",
   "metadata": {
    "id": "mHp-IQMIzyJV"
   },
   "source": [
    "We can use these insights to guide further analysis or to answer specific questions about the data. For example, we might want to investigate why certain positions or teams have higher salaries, or we might want to compare the performance of high-salary players to low-salary players.\n",
    "\n",
    "Overall, visualizing the data with pandas and Matplotlib is a powerful way to gain insights and understand relationships in the data."
   ]
  }
 ],
 "metadata": {
  "colab": {
   "authorship_tag": "ABX9TyP5zUfvKGssOMZ0p13Wm533",
   "provenance": []
  },
  "kernelspec": {
   "display_name": "Python 3",
   "language": "python",
   "name": "python3"
  },
  "language_info": {
   "codemirror_mode": {
    "name": "ipython",
    "version": 3
   },
   "file_extension": ".py",
   "mimetype": "text/x-python",
   "name": "python",
   "nbconvert_exporter": "python",
   "pygments_lexer": "ipython3",
   "version": "3.9.6 (default, Oct 18 2022, 12:41:40) \n[Clang 14.0.0 (clang-1400.0.29.202)]"
  },
  "vscode": {
   "interpreter": {
    "hash": "31f2aee4e71d21fbe5cf8b01ff0e069b9275f58929596ceb00d14d90e3e16cd6"
   }
  }
 },
 "nbformat": 4,
 "nbformat_minor": 1
}
