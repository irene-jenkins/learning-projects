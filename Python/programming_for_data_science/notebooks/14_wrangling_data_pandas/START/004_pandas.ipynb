{
 "cells": [
  {
   "cell_type": "markdown",
   "metadata": {
    "id": "RjHYTP6zpKHR"
   },
   "source": [
    "# Clean and Manipulate Data\n",
    "\n"
   ]
  },
  {
   "cell_type": "code",
   "execution_count": 1,
   "metadata": {
    "executionInfo": {
     "elapsed": 73,
     "status": "ok",
     "timestamp": 1673120801727,
     "user": {
      "displayName": "Jonathan Barrios",
      "userId": "00501959677193622214"
     },
     "user_tz": 360
    },
    "id": "HnjoZ5jCkcpb"
   },
   "outputs": [],
   "source": [
    "import pandas as pd"
   ]
  },
  {
   "cell_type": "markdown",
   "metadata": {
    "id": "90wT9B_xo7jt"
   },
   "source": [
    "# Load the Dataset\n",
    "We will start by importing the necessary libraries and loading the dataset into a pandas DataFrame. We will use the read_csv function to read the data from a CSV file into a DataFrame."
   ]
  },
  {
   "cell_type": "code",
   "execution_count": 2,
   "metadata": {
    "executionInfo": {
     "elapsed": 237,
     "status": "ok",
     "timestamp": 1673120954304,
     "user": {
      "displayName": "Jonathan Barrios",
      "userId": "00501959677193622214"
     },
     "user_tz": 360
    },
    "id": "wqz5ge-6pM8Y"
   },
   "outputs": [],
   "source": [
    "# Load the dataset into a DataFrame\n",
    "df = pd.read_csv(\"https://raw.githubusercontent.com/cbtn-data-science-ml/python-for-data-analysis/main/datasets/mls_salaries.csv\")"
   ]
  },
  {
   "cell_type": "code",
   "execution_count": 3,
   "metadata": {
    "colab": {
     "base_uri": "https://localhost:8080/",
     "height": 424
    },
    "executionInfo": {
     "elapsed": 2,
     "status": "ok",
     "timestamp": 1673120954524,
     "user": {
      "displayName": "Jonathan Barrios",
      "userId": "00501959677193622214"
     },
     "user_tz": 360
    },
    "id": "qfCc1ExMvKGF",
    "outputId": "ec87affb-e5f8-42dc-f330-3c52796c4d55"
   },
   "outputs": [
    {
     "data": {
      "text/html": [
       "<div>\n",
       "<style scoped>\n",
       "    .dataframe tbody tr th:only-of-type {\n",
       "        vertical-align: middle;\n",
       "    }\n",
       "\n",
       "    .dataframe tbody tr th {\n",
       "        vertical-align: top;\n",
       "    }\n",
       "\n",
       "    .dataframe thead th {\n",
       "        text-align: right;\n",
       "    }\n",
       "</style>\n",
       "<table border=\"1\" class=\"dataframe\">\n",
       "  <thead>\n",
       "    <tr style=\"text-align: right;\">\n",
       "      <th></th>\n",
       "      <th>club</th>\n",
       "      <th>last_name</th>\n",
       "      <th>first_name</th>\n",
       "      <th>position</th>\n",
       "      <th>base_salary</th>\n",
       "      <th>guaranteed_compensation</th>\n",
       "    </tr>\n",
       "  </thead>\n",
       "  <tbody>\n",
       "    <tr>\n",
       "      <th>0</th>\n",
       "      <td>ATL</td>\n",
       "      <td>Almiron</td>\n",
       "      <td>Miguel</td>\n",
       "      <td>M</td>\n",
       "      <td>1912500.0</td>\n",
       "      <td>2297000.00</td>\n",
       "    </tr>\n",
       "    <tr>\n",
       "      <th>1</th>\n",
       "      <td>ATL</td>\n",
       "      <td>Ambrose</td>\n",
       "      <td>Mikey</td>\n",
       "      <td>D</td>\n",
       "      <td>65625.0</td>\n",
       "      <td>65625.00</td>\n",
       "    </tr>\n",
       "    <tr>\n",
       "      <th>2</th>\n",
       "      <td>ATL</td>\n",
       "      <td>Asad</td>\n",
       "      <td>Yamil</td>\n",
       "      <td>M</td>\n",
       "      <td>150000.0</td>\n",
       "      <td>150000.00</td>\n",
       "    </tr>\n",
       "    <tr>\n",
       "      <th>3</th>\n",
       "      <td>ATL</td>\n",
       "      <td>Bloom</td>\n",
       "      <td>Mark</td>\n",
       "      <td>D</td>\n",
       "      <td>99225.0</td>\n",
       "      <td>106573.89</td>\n",
       "    </tr>\n",
       "    <tr>\n",
       "      <th>4</th>\n",
       "      <td>ATL</td>\n",
       "      <td>Carleton</td>\n",
       "      <td>Andrew</td>\n",
       "      <td>F</td>\n",
       "      <td>65000.0</td>\n",
       "      <td>77400.00</td>\n",
       "    </tr>\n",
       "  </tbody>\n",
       "</table>\n",
       "</div>"
      ],
      "text/plain": [
       "  club last_name first_name position  base_salary  guaranteed_compensation\n",
       "0  ATL   Almiron     Miguel        M    1912500.0               2297000.00\n",
       "1  ATL   Ambrose      Mikey        D      65625.0                 65625.00\n",
       "2  ATL      Asad      Yamil        M     150000.0                150000.00\n",
       "3  ATL     Bloom       Mark        D      99225.0                106573.89\n",
       "4  ATL  Carleton     Andrew        F      65000.0                 77400.00"
      ]
     },
     "execution_count": 3,
     "metadata": {},
     "output_type": "execute_result"
    }
   ],
   "source": [
    "df.head()"
   ]
  },
  {
   "cell_type": "markdown",
   "metadata": {
    "id": "6o_PWZwcteYU"
   },
   "source": [
    "# Clean Data\n",
    "Clean the data to prepare it for further analysis by checking for missing values."
   ]
  },
  {
   "cell_type": "code",
   "execution_count": 4,
   "metadata": {
    "colab": {
     "base_uri": "https://localhost:8080/"
    },
    "executionInfo": {
     "elapsed": 2,
     "status": "ok",
     "timestamp": 1673120954798,
     "user": {
      "displayName": "Jonathan Barrios",
      "userId": "00501959677193622214"
     },
     "user_tz": 360
    },
    "id": "OwBaooBJt4UJ",
    "outputId": "581ef3ef-6d3f-4013-e303-b5e69a53cc20"
   },
   "outputs": [
    {
     "data": {
      "text/plain": [
       "club                        1\n",
       "last_name                   1\n",
       "first_name                  5\n",
       "position                   11\n",
       "base_salary                 1\n",
       "guaranteed_compensation     1\n",
       "dtype: int64"
      ]
     },
     "execution_count": 4,
     "metadata": {},
     "output_type": "execute_result"
    }
   ],
   "source": [
    "# Check for missing values\n",
    "df.isnull().sum()"
   ]
  },
  {
   "cell_type": "markdown",
   "metadata": {
    "id": "ogxUWdFztyET"
   },
   "source": [
    "# Manipualte Data\n",
    "Clean the data to prepare it for further analysis by checking for missing values.\n",
    "\n",
    "* Convert data types for columns as needed\n",
    "* Remove unnecessary columns\n",
    "* Add new columns or transform existing columns"
   ]
  },
  {
   "cell_type": "code",
   "execution_count": 5,
   "metadata": {
    "colab": {
     "base_uri": "https://localhost:8080/"
    },
    "executionInfo": {
     "elapsed": 73,
     "status": "ok",
     "timestamp": 1673120955146,
     "user": {
      "displayName": "Jonathan Barrios",
      "userId": "00501959677193622214"
     },
     "user_tz": 360
    },
    "id": "bjiLvbq0wXOo",
    "outputId": "04b7c68c-eea5-4e4c-ea9a-e77cb775a782"
   },
   "outputs": [],
   "source": [
    "# Drop missing values\n",
    "df.dropna(inplace = True) # inplace = True makes this change permanent"
   ]
  },
  {
   "cell_type": "code",
   "execution_count": 6,
   "metadata": {
    "colab": {
     "base_uri": "https://localhost:8080/",
     "height": 424
    },
    "executionInfo": {
     "elapsed": 89,
     "status": "ok",
     "timestamp": 1673120955528,
     "user": {
      "displayName": "Jonathan Barrios",
      "userId": "00501959677193622214"
     },
     "user_tz": 360
    },
    "id": "Lj13Y61wvEPb",
    "outputId": "04b7d580-55a8-47a9-9ea8-b32d4d8d58d0"
   },
   "outputs": [
    {
     "data": {
      "text/plain": [
       "club                       0\n",
       "last_name                  0\n",
       "first_name                 0\n",
       "position                   0\n",
       "base_salary                0\n",
       "guaranteed_compensation    0\n",
       "dtype: int64"
      ]
     },
     "execution_count": 6,
     "metadata": {},
     "output_type": "execute_result"
    }
   ],
   "source": [
    "# Check for missing values\n",
    "df.isnull().sum()"
   ]
  },
  {
   "cell_type": "code",
   "execution_count": 11,
   "metadata": {
    "executionInfo": {
     "elapsed": 86,
     "status": "ok",
     "timestamp": 1673120955968,
     "user": {
      "displayName": "Jonathan Barrios",
      "userId": "00501959677193622214"
     },
     "user_tz": 360
    },
    "id": "G8-wsONFtepQ"
   },
   "outputs": [],
   "source": [
    "def clean_currency(x):\n",
    "    \"\"\" If the value is a string, then remove currency symbol and delimiters\n",
    "    otherwise, the value is numeric and can be converted\n",
    "    \"\"\"\n",
    "    if isinstance(x, str):\n",
    "        return(x.replace('$', '').replace(',', '')) # replacing \"$\" and \",\" with a space\n",
    "    return(x)\n",
    "\n",
    "# Convert data types for columns\n",
    "df['base_salary_2'] = df['base_salary'].apply(clean_currency).astype('int')"
   ]
  },
  {
   "cell_type": "code",
   "execution_count": 12,
   "metadata": {
    "executionInfo": {
     "elapsed": 89,
     "status": "ok",
     "timestamp": 1673120967875,
     "user": {
      "displayName": "Jonathan Barrios",
      "userId": "00501959677193622214"
     },
     "user_tz": 360
    },
    "id": "x9zM7YlpvnOr"
   },
   "outputs": [
    {
     "data": {
      "text/plain": [
       "0      1912500\n",
       "1        65625\n",
       "2       150000\n",
       "3        99225\n",
       "4        65000\n",
       "        ...   \n",
       "609     352000\n",
       "610     126500\n",
       "611      80000\n",
       "612     350000\n",
       "614     175000\n",
       "Name: base_salary, Length: 600, dtype: int32"
      ]
     },
     "execution_count": 12,
     "metadata": {},
     "output_type": "execute_result"
    }
   ],
   "source": [
    "df[\"base_salary\"]"
   ]
  },
  {
   "cell_type": "code",
   "execution_count": null,
   "metadata": {
    "colab": {
     "base_uri": "https://localhost:8080/",
     "height": 424
    },
    "executionInfo": {
     "elapsed": 94,
     "status": "ok",
     "timestamp": 1673120968708,
     "user": {
      "displayName": "Jonathan Barrios",
      "userId": "00501959677193622214"
     },
     "user_tz": 360
    },
    "id": "i8DsGyeDw0aD",
    "outputId": "648145d1-7666-48f8-c654-9718323759a2"
   },
   "outputs": [],
   "source": []
  },
  {
   "cell_type": "code",
   "execution_count": 14,
   "metadata": {},
   "outputs": [],
   "source": []
  },
  {
   "cell_type": "code",
   "execution_count": null,
   "metadata": {},
   "outputs": [],
   "source": []
  },
  {
   "cell_type": "code",
   "execution_count": null,
   "metadata": {},
   "outputs": [],
   "source": []
  }
 ],
 "metadata": {
  "colab": {
   "authorship_tag": "ABX9TyMRO6iosdjEBsbJw3+57JHu",
   "provenance": []
  },
  "kernelspec": {
   "display_name": "Python 3 (ipykernel)",
   "language": "python",
   "name": "python3"
  },
  "language_info": {
   "codemirror_mode": {
    "name": "ipython",
    "version": 3
   },
   "file_extension": ".py",
   "mimetype": "text/x-python",
   "name": "python",
   "nbconvert_exporter": "python",
   "pygments_lexer": "ipython3",
   "version": "3.11.5"
  }
 },
 "nbformat": 4,
 "nbformat_minor": 1
}
