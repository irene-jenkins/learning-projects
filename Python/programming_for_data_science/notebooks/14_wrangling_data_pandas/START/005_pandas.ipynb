{
 "cells": [
  {
   "cell_type": "markdown",
   "metadata": {
    "id": "RjHYTP6zpKHR"
   },
   "source": [
    "# Data Visualization\n",
    "Now, we'll use pandas and Matplotlib to visualize interesting patterns and insights in a dataset containing MLS soccer player salaries.\n"
   ]
  },
  {
   "cell_type": "code",
   "execution_count": 1,
   "metadata": {
    "executionInfo": {
     "elapsed": 102,
     "status": "ok",
     "timestamp": 1673121279435,
     "user": {
      "displayName": "Jonathan Barrios",
      "userId": "00501959677193622214"
     },
     "user_tz": 360
    },
    "id": "HnjoZ5jCkcpb"
   },
   "outputs": [],
   "source": [
    "import pandas as pd\n",
    "import matplotlib.pyplot as plt"
   ]
  },
  {
   "cell_type": "markdown",
   "metadata": {
    "id": "90wT9B_xo7jt"
   },
   "source": [
    "# Load the Dataset\n",
    "We will start by importing the necessary libraries and loading the dataset into a pandas DataFrame. We will use the read_csv function to read the data from a CSV file into a DataFrame."
   ]
  },
  {
   "cell_type": "code",
   "execution_count": 2,
   "metadata": {
    "executionInfo": {
     "elapsed": 1,
     "status": "ok",
     "timestamp": 1673121280223,
     "user": {
      "displayName": "Jonathan Barrios",
      "userId": "00501959677193622214"
     },
     "user_tz": 360
    },
    "id": "wqz5ge-6pM8Y"
   },
   "outputs": [],
   "source": [
    "# Load the dataset into a DataFrame\n",
    "df = pd.read_csv(\"https://raw.githubusercontent.com/cbtn-data-science-ml/python-for-data-analysis/main/datasets/mls_salaries.csv\")"
   ]
  },
  {
   "cell_type": "code",
   "execution_count": null,
   "metadata": {
    "colab": {
     "base_uri": "https://localhost:8080/",
     "height": 424
    },
    "executionInfo": {
     "elapsed": 3,
     "status": "ok",
     "timestamp": 1673121280619,
     "user": {
      "displayName": "Jonathan Barrios",
      "userId": "00501959677193622214"
     },
     "user_tz": 360
    },
    "id": "qfCc1ExMvKGF",
    "outputId": "760b6f87-0fa9-4d32-ae7b-573455d08170"
   },
   "outputs": [],
   "source": []
  },
  {
   "cell_type": "markdown",
   "metadata": {
    "id": "6o_PWZwcteYU"
   },
   "source": [
    "# Visualize the Data\n",
    "Now that we have loaded the dataset into a DataFrame, we can start visualizing the data to gain insights. Here are a few ways we can visualize the data:\n",
    "\n",
    "* Use the hist method to create a histogram of salary\n",
    "* Use the boxplot method to create a boxplot of salary by position\n",
    "* Use the barplot method to create a barplot of average salary by team"
   ]
  },
  {
   "cell_type": "code",
   "execution_count": 14,
   "metadata": {
    "colab": {
     "base_uri": "https://localhost:8080/",
     "height": 278
    },
    "executionInfo": {
     "elapsed": 325,
     "status": "ok",
     "timestamp": 1673121282491,
     "user": {
      "displayName": "Jonathan Barrios",
      "userId": "00501959677193622214"
     },
     "user_tz": 360
    },
    "id": "Dj2xZ75zy1Sq",
    "outputId": "2677e48c-0091-4513-e2f4-5b7dd479a333"
   },
   "outputs": [],
   "source": [
    "# Histogram of salary\n"
   ]
  },
  {
   "cell_type": "markdown",
   "metadata": {},
   "source": [
    "# Boxplot"
   ]
  },
  {
   "cell_type": "code",
   "execution_count": 15,
   "metadata": {
    "colab": {
     "base_uri": "https://localhost:8080/",
     "height": 357
    },
    "executionInfo": {
     "elapsed": 585,
     "status": "ok",
     "timestamp": 1673121299329,
     "user": {
      "displayName": "Jonathan Barrios",
      "userId": "00501959677193622214"
     },
     "user_tz": 360
    },
    "id": "7AFzmMHJy9qB",
    "outputId": "d14554df-e424-4986-a6f3-ff6338960506",
    "scrolled": false
   },
   "outputs": [],
   "source": [
    "# Boxplot of salary by position\n"
   ]
  },
  {
   "cell_type": "markdown",
   "metadata": {},
   "source": [
    "# Barplot"
   ]
  },
  {
   "cell_type": "code",
   "execution_count": null,
   "metadata": {
    "colab": {
     "base_uri": "https://localhost:8080/",
     "height": 305
    },
    "executionInfo": {
     "elapsed": 550,
     "status": "ok",
     "timestamp": 1673121363221,
     "user": {
      "displayName": "Jonathan Barrios",
      "userId": "00501959677193622214"
     },
     "user_tz": 360
    },
    "id": "qpfh3GQXzBBi",
    "outputId": "6bff2388-a881-47cd-fc39-6632fce46fca"
   },
   "outputs": [],
   "source": [
    "# Barplot of average salary by team\n"
   ]
  },
  {
   "cell_type": "markdown",
   "metadata": {
    "id": "mHp-IQMIzyJV"
   },
   "source": [
    "We can use these insights to guide further analysis or to answer specific questions about the data. For example, we might want to investigate why certain positions or teams have higher salaries, or we might want to compare the performance of high-salary players to low-salary players.\n",
    "\n",
    "Overall, visualizing the data with pandas and Matplotlib is a powerful way to gain insights and understand relationships in the data."
   ]
  }
 ],
 "metadata": {
  "colab": {
   "authorship_tag": "ABX9TyP5zUfvKGssOMZ0p13Wm533",
   "provenance": []
  },
  "kernelspec": {
   "display_name": "Python 3 (ipykernel)",
   "language": "python",
   "name": "python3"
  },
  "language_info": {
   "codemirror_mode": {
    "name": "ipython",
    "version": 3
   },
   "file_extension": ".py",
   "mimetype": "text/x-python",
   "name": "python",
   "nbconvert_exporter": "python",
   "pygments_lexer": "ipython3",
   "version": "3.10.8"
  }
 },
 "nbformat": 4,
 "nbformat_minor": 1
}
