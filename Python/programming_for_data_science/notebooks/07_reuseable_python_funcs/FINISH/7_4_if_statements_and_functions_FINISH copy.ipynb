{
 "cells": [
  {
   "cell_type": "markdown",
   "metadata": {
    "id": "1Lev6_N9KXOR"
   },
   "source": [
    "## if statements"
   ]
  },
  {
   "cell_type": "code",
   "execution_count": null,
   "metadata": {
    "colab": {
     "base_uri": "https://localhost:8080/"
    },
    "executionInfo": {
     "elapsed": 224,
     "status": "ok",
     "timestamp": 1640881825002,
     "user": {
      "displayName": "Jonathan Barrios",
      "photoUrl": "https://lh3.googleusercontent.com/a-/AOh14Gj_KFXU5phanoATkzhhR3Yb2zDYFB4nnTYMF3cP=s64",
      "userId": "16097537147383230085"
     },
     "user_tz": 360
    },
    "id": "fPON-7JoKkqt",
    "outputId": "4dd9578f-14ae-415b-aa40-81af406c9451"
   },
   "outputs": [
    {
     "name": "stdout",
     "output_type": "stream",
     "text": [
      "I executed because this statement is True\n"
     ]
    }
   ],
   "source": [
    "# if true\n",
    "if True:\n",
    "  # do this\n",
    "  print(\"It's True\")"
   ]
  },
  {
   "cell_type": "code",
   "execution_count": null,
   "metadata": {
    "colab": {
     "base_uri": "https://localhost:8080/"
    },
    "executionInfo": {
     "elapsed": 219,
     "status": "ok",
     "timestamp": 1640881830749,
     "user": {
      "displayName": "Jonathan Barrios",
      "photoUrl": "https://lh3.googleusercontent.com/a-/AOh14Gj_KFXU5phanoATkzhhR3Yb2zDYFB4nnTYMF3cP=s64",
      "userId": "16097537147383230085"
     },
     "user_tz": 360
    },
    "id": "HDe_znBGK1QC",
    "outputId": "c6d4dd86-affa-432b-d0d7-faa3057b321e"
   },
   "outputs": [
    {
     "name": "stdout",
     "output_type": "stream",
     "text": [
      "I executed because this statement is True\n"
     ]
    }
   ],
   "source": [
    "# if 1 + 1 ==2\n",
    "if 1 + 1 == 2:\n",
    "  # do this\n",
    "  print(\"It's True\")"
   ]
  },
  {
   "cell_type": "code",
   "execution_count": null,
   "metadata": {
    "id": "e6UOdScrK6x3"
   },
   "outputs": [],
   "source": [
    "# if 1 == 0\n",
    "if 1 == 0:\n",
    "  # do this\n",
    "  print(\"It's True\")\n",
    "\n",
    "# nothing happened, as expected"
   ]
  },
  {
   "cell_type": "code",
   "execution_count": null,
   "metadata": {
    "colab": {
     "base_uri": "https://localhost:8080/"
    },
    "executionInfo": {
     "elapsed": 223,
     "status": "ok",
     "timestamp": 1640881833629,
     "user": {
      "displayName": "Jonathan Barrios",
      "photoUrl": "https://lh3.googleusercontent.com/a-/AOh14Gj_KFXU5phanoATkzhhR3Yb2zDYFB4nnTYMF3cP=s64",
      "userId": "16097537147383230085"
     },
     "user_tz": 360
    },
    "id": "hxrlh2pBLMDt",
    "outputId": "32d80906-3579-4e06-9a00-86dfd6851c83"
   },
   "outputs": [
    {
     "name": "stdout",
     "output_type": "stream",
     "text": [
      "I executed because 10 is greater than 1\n"
     ]
    }
   ],
   "source": [
    " # if 10 > 1\n",
    "if 10 > 1:\n",
    "  # do this\n",
    "  print(\"It's True\")"
   ]
  },
  {
   "cell_type": "markdown",
   "metadata": {
    "id": "5iBA0rrjNyFM"
   },
   "source": [
    "## Combining functions with if statements and operators"
   ]
  },
  {
   "cell_type": "code",
   "execution_count": null,
   "metadata": {
    "colab": {
     "base_uri": "https://localhost:8080/"
    },
    "executionInfo": {
     "elapsed": 489,
     "status": "ok",
     "timestamp": 1640882521631,
     "user": {
      "displayName": "Jonathan Barrios",
      "photoUrl": "https://lh3.googleusercontent.com/a-/AOh14Gj_KFXU5phanoATkzhhR3Yb2zDYFB4nnTYMF3cP=s64",
      "userId": "16097537147383230085"
     },
     "user_tz": 360
    },
    "id": "d3NzHHMJMIBv",
    "outputId": "0386d94e-d886-4fd3-c566-4d0a9ab7e981"
   },
   "outputs": [
    {
     "name": "stdout",
     "output_type": "stream",
     "text": [
      "5 is greater than 1\n"
     ]
    }
   ],
   "source": [
    "# write a Python function to check if 5 is greater than 1 and print result, if True\n",
    "def equallity_checker():\n",
    "  if 5 > 1:\n",
    "    print(\"5 is greater than 1\")\n",
    "equallity_checker()"
   ]
  },
  {
   "cell_type": "code",
   "execution_count": null,
   "metadata": {
    "id": "SigJuhETN5-7"
   },
   "outputs": [],
   "source": [
    "# write a Python function to check if user input is greater than 1 and print result, if True\n",
    "n = input(\"Enter an integer from 0 to 9: \")\n",
    "\n",
    "def equallity_checker(n):\n",
    "  if n > 1:\n",
    "    print(\"5 is greater than 1\")\n",
    "equallity_checker(n)"
   ]
  },
  {
   "cell_type": "code",
   "execution_count": null,
   "metadata": {
    "id": "6NXcFW8jOWDx"
   },
   "outputs": [],
   "source": [
    "# write a Python function to check if user input is greater than 1 and print result, if True\n",
    "n = input(\"Enter an integer from 0 to 9: \")\n",
    "\n",
    "def equallity_checker(n):\n",
    "  if int(n) > 1:\n",
    "    print(\"5 is greater than 1\")\n",
    "equallity_checker(n)"
   ]
  }
 ],
 "metadata": {
  "colab": {
   "collapsed_sections": [],
   "name": "5_3_functions_FINISH.ipynb",
   "provenance": []
  },
  "kernelspec": {
   "display_name": "Python 3.9.6 64-bit",
   "language": "python",
   "name": "python3"
  },
  "language_info": {
   "codemirror_mode": {
    "name": "ipython",
    "version": 3
   },
   "file_extension": ".py",
   "mimetype": "text/x-python",
   "name": "python",
   "nbconvert_exporter": "python",
   "pygments_lexer": "ipython3",
   "version": "3.9.6"
  },
  "vscode": {
   "interpreter": {
    "hash": "31f2aee4e71d21fbe5cf8b01ff0e069b9275f58929596ceb00d14d90e3e16cd6"
   }
  }
 },
 "nbformat": 4,
 "nbformat_minor": 1
}
