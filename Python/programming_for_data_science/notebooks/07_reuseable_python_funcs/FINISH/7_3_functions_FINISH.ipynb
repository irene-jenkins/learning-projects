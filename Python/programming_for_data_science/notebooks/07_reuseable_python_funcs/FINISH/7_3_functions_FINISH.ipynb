{
 "cells": [
  {
   "cell_type": "markdown",
   "metadata": {
    "id": "CzQKCpTDNcpm"
   },
   "source": [
    "# Functions\n",
    "Python has many built-in functions that you can use right away. For example, `len()` is a [built-in Python](https://docs.python.org/3/library/functions.html) function that counts the number of items in an object. "
   ]
  },
  {
   "cell_type": "code",
   "execution_count": null,
   "metadata": {
    "id": "pYiwLMn0NeZi"
   },
   "outputs": [],
   "source": [
    "# count the items in \"Constance\"\n",
    "len(\"Constance\")"
   ]
  },
  {
   "cell_type": "markdown",
   "metadata": {
    "id": "BSbFQn4LNtOR"
   },
   "source": [
    "You can also use variables as arguments that you pass into a function."
   ]
  },
  {
   "cell_type": "code",
   "execution_count": null,
   "metadata": {
    "id": "8cPb-1q9NiFi"
   },
   "outputs": [],
   "source": [
    "# assign \"Constance\" to variable: name\n",
    "name = \"Constance\"\n",
    "\n",
    "# count the items in the name variable\n",
    "len(name) "
   ]
  },
  {
   "cell_type": "markdown",
   "metadata": {
    "id": "9q5PRUJVk1L4"
   },
   "source": [
    "## Arguments vs. Parameters\n",
    "\n",
    "Before moving forward, you should know the difference between a parameter and an argument. A parameter is a variable inside the function parenthesis, while an argument is data you add inside the function call parenthesis. For example, here is a function and function call showing you where each goes:\n",
    "\n",
    "```python\n",
    "# function and paramter\n",
    "def some_function(parameter):\n",
    " print(parameter)\n",
    "\n",
    "# function call and argument\n",
    "some_function(argument)\n",
    "```"
   ]
  },
  {
   "cell_type": "markdown",
   "metadata": {
    "id": "7SWoKDv5kvs2"
   },
   "source": [
    "## Writing functions\n",
    "\n",
    "Now it's your turn to write a function by following these steps:\n",
    "\n",
    "1. Start with the `def` keyword\n",
    "2. Name the function, like `greeter`\n",
    "3. Add `():` after the name\n",
    "4. Insert optional parameters inside of `():`"
   ]
  },
  {
   "cell_type": "code",
   "execution_count": null,
   "metadata": {
    "colab": {
     "base_uri": "https://localhost:8080/"
    },
    "executionInfo": {
     "elapsed": 136,
     "status": "ok",
     "timestamp": 1628517982248,
     "user": {
      "displayName": "Jonathan Barrios",
      "photoUrl": "https://lh3.googleusercontent.com/a-/AOh14GgvASDP8IeSc7pDnY825wAIDgg-IvEW1ps_Mr0Uzw=s64",
      "userId": "00501959677193622214"
     },
     "user_tz": 300
    },
    "id": "77tRt5P4OxF8",
    "outputId": "fd0b1c3f-7861-4dbe-8cf5-62146c3d0ff4"
   },
   "outputs": [
    {
     "name": "stdout",
     "output_type": "stream",
     "text": [
      "Jonathan\n"
     ]
    }
   ],
   "source": [
    "# define a function named: greeter\n",
    "def greeter():\n",
    "  # print \"Constance\"\n",
    "  print(\"Constance\")\n",
    "\n",
    "# call the function\n",
    "greeter()"
   ]
  },
  {
   "cell_type": "code",
   "execution_count": null,
   "metadata": {
    "id": "u68evQgmPF7X"
   },
   "outputs": [],
   "source": [
    "# assign \"Constance\" as a string to variable: myName\n",
    "myName = \"Constance\"\n",
    "\n",
    "# define a function named: greeter (include name argument)\n",
    "def greeter(name):\n",
    "  # print name\n",
    "  print(name)\n",
    "\n",
    "# call the function\n",
    "greeter(myName)"
   ]
  },
  {
   "cell_type": "markdown",
   "metadata": {
    "id": "rmeZr15p0oO-"
   },
   "source": [
    "### User input as a variable\n",
    "How you structure your code can change the behavior of your functions, which is a good thing. For example, consider the difference between an input used inside the function and the latter outside the function."
   ]
  },
  {
   "cell_type": "code",
   "execution_count": null,
   "metadata": {
    "id": "C4CGCGkj0qpz"
   },
   "outputs": [],
   "source": [
    "# ask the user to input their name and assign it to variable: user_name\n",
    "user_name = input('Enter your first name: ')\n",
    "\n",
    "# define greeter function with name as parameter\n",
    "def greeter(name):\n",
    "  # print Hello, and variable: name (+ \"!\")\n",
    "  print(\"Hello, \" + name + \"!\")\n",
    "  # ask the user to input their career field and asssign to variable: field\n",
    "  field = input(\"What's your career field? \")\n",
    "  # print \"Nice! Who doesn't love (user's field here)?\n",
    "  print(\"Nice! Who doesn't love \" + field + \"?\")\n",
    "\n",
    "# call the function\n",
    "greeter(user_name) "
   ]
  },
  {
   "cell_type": "code",
   "execution_count": null,
   "metadata": {
    "id": "gJGUQXM004Tm"
   },
   "outputs": [],
   "source": [
    "greeter('Lisa')"
   ]
  }
 ],
 "metadata": {
  "colab": {
   "collapsed_sections": [],
   "name": "5_3_functions_FINISH.ipynb",
   "provenance": []
  },
  "kernelspec": {
   "display_name": "Python 3.9.6 64-bit",
   "language": "python",
   "name": "python3"
  },
  "language_info": {
   "codemirror_mode": {
    "name": "ipython",
    "version": 3
   },
   "file_extension": ".py",
   "mimetype": "text/x-python",
   "name": "python",
   "nbconvert_exporter": "python",
   "pygments_lexer": "ipython3",
   "version": "3.9.6"
  },
  "vscode": {
   "interpreter": {
    "hash": "31f2aee4e71d21fbe5cf8b01ff0e069b9275f58929596ceb00d14d90e3e16cd6"
   }
  }
 },
 "nbformat": 4,
 "nbformat_minor": 1
}
