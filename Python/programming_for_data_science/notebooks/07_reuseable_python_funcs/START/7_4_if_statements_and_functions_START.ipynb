{
 "cells": [
  {
   "cell_type": "markdown",
   "metadata": {
    "id": "1Lev6_N9KXOR"
   },
   "source": [
    "## if statements"
   ]
  },
  {
   "cell_type": "code",
   "execution_count": null,
   "metadata": {
    "id": "fPON-7JoKkqt"
   },
   "outputs": [],
   "source": [
    "# if true\n",
    "\n",
    "  # do this\n"
   ]
  },
  {
   "cell_type": "code",
   "execution_count": null,
   "metadata": {
    "id": "HDe_znBGK1QC"
   },
   "outputs": [],
   "source": [
    "# if 1 + 1 ==2\n",
    "\n",
    "  # do this\n"
   ]
  },
  {
   "cell_type": "code",
   "execution_count": null,
   "metadata": {
    "id": "e6UOdScrK6x3"
   },
   "outputs": [],
   "source": [
    "# if 1 == 0\n",
    "\n",
    "  # do this\n",
    "\n",
    "\n",
    "# nothing happened, as expected"
   ]
  },
  {
   "cell_type": "code",
   "execution_count": null,
   "metadata": {
    "id": "hxrlh2pBLMDt"
   },
   "outputs": [],
   "source": [
    " # if 10 > 1\n",
    "\n",
    "  # do this\n"
   ]
  },
  {
   "cell_type": "markdown",
   "metadata": {
    "id": "5iBA0rrjNyFM"
   },
   "source": [
    "## Combining functions with if statements and operators"
   ]
  },
  {
   "cell_type": "code",
   "execution_count": null,
   "metadata": {
    "id": "d3NzHHMJMIBv"
   },
   "outputs": [],
   "source": [
    "# write a Python function to check if 5 is greater than 1 and print result, if True\n",
    "\n",
    "  # if  \n",
    "\n",
    "            \n",
    "\n",
    "# call the function    \n"
   ]
  },
  {
   "cell_type": "code",
   "execution_count": null,
   "metadata": {
    "id": "SigJuhETN5-7"
   },
   "outputs": [],
   "source": [
    "# write a Python function to check if user input is greater than 1 and print result, if True\n",
    "\n",
    "  # if \n",
    "\n",
    "    \n",
    "\n",
    "# call the function\n"
   ]
  },
  {
   "cell_type": "code",
   "execution_count": null,
   "metadata": {
    "id": "6NXcFW8jOWDx"
   },
   "outputs": [],
   "source": [
    "# write a Python function to check if n is greater than the integer 1 and print result—if True\n",
    "\n",
    "  # if \n",
    "\n",
    "    \n",
    "\n",
    "# call the function    \n"
   ]
  }
 ],
 "metadata": {
  "colab": {
   "collapsed_sections": [],
   "name": "5_3_functions_START.ipynb",
   "provenance": []
  },
  "kernelspec": {
   "display_name": "Python 3 (ipykernel)",
   "language": "python",
   "name": "python3"
  },
  "language_info": {
   "codemirror_mode": {
    "name": "ipython",
    "version": 3
   },
   "file_extension": ".py",
   "mimetype": "text/x-python",
   "name": "python",
   "nbconvert_exporter": "python",
   "pygments_lexer": "ipython3",
   "version": "3.9.6"
  }
 },
 "nbformat": 4,
 "nbformat_minor": 1
}
