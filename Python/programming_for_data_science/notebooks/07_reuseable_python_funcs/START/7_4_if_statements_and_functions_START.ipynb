{
 "cells": [
  {
   "cell_type": "markdown",
   "metadata": {
    "id": "1Lev6_N9KXOR"
   },
   "source": [
    "## if statements"
   ]
  },
  {
   "cell_type": "code",
   "execution_count": 1,
   "metadata": {
    "id": "fPON-7JoKkqt"
   },
   "outputs": [
    {
     "name": "stdout",
     "output_type": "stream",
     "text": [
      "It's True\n"
     ]
    }
   ],
   "source": [
    "# if true\n",
    "if True:\n",
    "  # do this\n",
    "    print(\"It's True\")"
   ]
  },
  {
   "cell_type": "code",
   "execution_count": 2,
   "metadata": {
    "id": "HDe_znBGK1QC"
   },
   "outputs": [
    {
     "name": "stdout",
     "output_type": "stream",
     "text": [
      "It's True\n"
     ]
    }
   ],
   "source": [
    "# if 1 + 1 ==2\n",
    "if 1 + 1 == 2:\n",
    "  # do this\n",
    "    print(\"It's True\")"
   ]
  },
  {
   "cell_type": "code",
   "execution_count": 3,
   "metadata": {
    "id": "e6UOdScrK6x3"
   },
   "outputs": [],
   "source": [
    "# if 1 == 0\n",
    "if 1 == 0:\n",
    "  # do this\n",
    "    print(\"It's True\")\n",
    "\n",
    "# nothing happened, as expected"
   ]
  },
  {
   "cell_type": "code",
   "execution_count": 4,
   "metadata": {
    "id": "hxrlh2pBLMDt"
   },
   "outputs": [
    {
     "name": "stdout",
     "output_type": "stream",
     "text": [
      "It's True\n"
     ]
    }
   ],
   "source": [
    " # if 10 > 1\n",
    "if 10 > 1:\n",
    "  # do this\n",
    "    print(\"It's True\")"
   ]
  },
  {
   "cell_type": "markdown",
   "metadata": {
    "id": "5iBA0rrjNyFM"
   },
   "source": [
    "## Combining functions with if statements and operators"
   ]
  },
  {
   "cell_type": "code",
   "execution_count": 5,
   "metadata": {
    "id": "d3NzHHMJMIBv"
   },
   "outputs": [
    {
     "name": "stdout",
     "output_type": "stream",
     "text": [
      "It is.\n"
     ]
    }
   ],
   "source": [
    "# write a Python function to check if 5 is greater than 1 and print result, if True\n",
    "def equality_checker():\n",
    "  # if  \n",
    "    if 5 > 1:\n",
    "        print(\"It is.\")\n",
    "            \n",
    "\n",
    "# call the function    \n",
    "equality_checker()"
   ]
  },
  {
   "cell_type": "code",
   "execution_count": 12,
   "metadata": {
    "id": "SigJuhETN5-7"
   },
   "outputs": [
    {
     "name": "stdout",
     "output_type": "stream",
     "text": [
      "Enter a number.3\n",
      "That is greater than 1!\n"
     ]
    }
   ],
   "source": [
    "# write a Python function to check if user input is greater than 1 and print result, if True\n",
    "def equality_checker():\n",
    "  # if \n",
    "    if int(input(\"Enter a number.\")) > 1:\n",
    "        print(\"That is greater than 1!\")\n",
    "    \n",
    "\n",
    "# call the function\n",
    "equality_checker()"
   ]
  },
  {
   "cell_type": "code",
   "execution_count": null,
   "metadata": {
    "id": "6NXcFW8jOWDx"
   },
   "outputs": [],
   "source": [
    "# write a Python function to check if n is greater than the integer 1 and print result—if True\n",
    "\n",
    "  # if \n",
    "\n",
    "    \n",
    "\n",
    "# call the function    \n"
   ]
  }
 ],
 "metadata": {
  "colab": {
   "collapsed_sections": [],
   "name": "5_3_functions_START.ipynb",
   "provenance": []
  },
  "kernelspec": {
   "display_name": "Python 3 (ipykernel)",
   "language": "python",
   "name": "python3"
  },
  "language_info": {
   "codemirror_mode": {
    "name": "ipython",
    "version": 3
   },
   "file_extension": ".py",
   "mimetype": "text/x-python",
   "name": "python",
   "nbconvert_exporter": "python",
   "pygments_lexer": "ipython3",
   "version": "3.11.5"
  }
 },
 "nbformat": 4,
 "nbformat_minor": 1
}
