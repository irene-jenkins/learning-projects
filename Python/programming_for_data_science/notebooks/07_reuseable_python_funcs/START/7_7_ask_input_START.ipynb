{
 "cells": [
  {
   "cell_type": "markdown",
   "metadata": {
    "id": "YWF5yOtMgmxf"
   },
   "source": [
    "# Code Challenege: Guess the Magic Number Game\n",
    "\n",
    "Create a function without a parameter that asks players to guess the magic number. Follow the pseudocode below to create the game.\n",
    "\n",
    "### Pseudo Code\n",
    "\n",
    "\n",
    "1. Create a function named **guess_game** without a parameter\n",
    "2. Create a variable, `magic_num`, and assign a secret number between 1 - 10\n",
    "3. Ask the user to guess a number between 1 - 10 and store that number in a variable `user_input` \n",
    "4. Add logic that prints: `You got it! 🎉` when the number is a matched\n",
    "5. Add logic that prints: `Try again! 🙁` when the number is NOT a match\n",
    "\n"
   ]
  },
  {
   "cell_type": "code",
   "execution_count": 1,
   "metadata": {
    "id": "oIiHogEu2JJc"
   },
   "outputs": [],
   "source": [
    "# define a function ( no parameter needed )\n",
    "\n",
    "\n",
    " # create a variable magic_num with the secret number between 1 - 10\n",
    " \n",
    " \n",
    " # ask the user to guess a number between 1 - 10 \n",
    "\n",
    " \n",
    " # if the number is a match, print: You got it! 🎉\n",
    "\n",
    "\n",
    " # if the number doesn't match, print: Try again! 🙁\n",
    "\n",
    "\n",
    " "
   ]
  },
  {
   "cell_type": "code",
   "execution_count": 3,
   "metadata": {
    "id": "kSzjExaj4Kzv"
   },
   "outputs": [
    {
     "name": "stdout",
     "output_type": "stream",
     "text": [
      "Guess an interger between 1 - 10: 7\n",
      "You got it! 🎉\n"
     ]
    }
   ],
   "source": [
    "# call the function"
   ]
  },
  {
   "cell_type": "markdown",
   "metadata": {
    "id": "dWqyl6f44vZ2"
   },
   "source": [
    "## Improve the guessing game!\n",
    "\n",
    "Now that you have a working function, can you improve it?\n",
    "\n",
    "*  Add a random number generator, so each function call generates a new `magic_number`\n",
    "*  Add feedback such as: `Guess higher` or `Guess lower`\n",
    "\n",
    "*  Add multiple tries so the user can guess until they get it right"
   ]
  },
  {
   "cell_type": "code",
   "execution_count": null,
   "metadata": {
    "id": "Y1qZI5XmtoLM"
   },
   "outputs": [],
   "source": [
    "# import random\n",
    "import random\n",
    "\n",
    "# assign the .randint() method with (start,stop) arguments to variable: magic_num\n",
    "magic_num = random.randint(1,11)\n",
    "\n",
    "# print magic_num\n",
    "print(magic_num)"
   ]
  },
  {
   "cell_type": "code",
   "execution_count": null,
   "metadata": {
    "id": "68Tm_agIt2u0"
   },
   "outputs": [],
   "source": [
    "# mock user_input\n",
    "user_input = 5\n",
    "# mock magic_number\n",
    "magic_num = 5\n",
    "\n",
    "# if, elif, and else logic\n",
    "if user_input == magic_num:\n",
    "  print(\"You got it!\")\n",
    "elif user_input < magic_num:\n",
    "    print(\"Guess Higher\")\n",
    "else:\n",
    "    print(\"Guess Lower\")"
   ]
  }
 ],
 "metadata": {
  "colab": {
   "collapsed_sections": [
    "dWqyl6f44vZ2"
   ],
   "name": "5_6_challenge_START.ipynb",
   "provenance": []
  },
  "kernelspec": {
   "display_name": "Python 3 (ipykernel)",
   "language": "python",
   "name": "python3"
  },
  "language_info": {
   "codemirror_mode": {
    "name": "ipython",
    "version": 3
   },
   "file_extension": ".py",
   "mimetype": "text/x-python",
   "name": "python",
   "nbconvert_exporter": "python",
   "pygments_lexer": "ipython3",
   "version": "3.9.6"
  }
 },
 "nbformat": 4,
 "nbformat_minor": 1
}
