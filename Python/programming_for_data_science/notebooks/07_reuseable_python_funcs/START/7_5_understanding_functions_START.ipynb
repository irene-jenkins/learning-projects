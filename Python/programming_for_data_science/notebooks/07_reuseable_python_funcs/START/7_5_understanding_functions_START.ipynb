{
 "cells": [
  {
   "cell_type": "markdown",
   "metadata": {
    "id": "kscCAuHLPSIm"
   },
   "source": [
    "## Function Scope\n",
    "\n",
    "Function scope affects the code inside of a function. However, scope can be tricky when writing complex functions in a large codebase. So what can you do? Exploring the 4 types of scope will help you navigate LEGB like a pro!\n",
    "\n",
    "To help you remember the four scopes in Python, use the `LEGB` name lookup procedure. The `LEGB` acronym is the order in which names are looked up in Python. Here are some definitions to go with the acronym.\n",
    "\n",
    "1. `L`ocal scope » the scope inside of a function\n",
    "1. `E`nclosing function scope » the scope in a nested function\n",
    "1. `G`lobal scope » the top level scope, for modules—no indentation\n",
    "1. `B`uilt-in scope » preassigned scope, for built-in functions\n",
    "\n",
    "### Scopes Illustrated\n",
    "![download.png](https://drive.google.com/uc?id=1i9qBZ23nHv1sN1KaALHq5MchCWpai8el)"
   ]
  },
  {
   "cell_type": "markdown",
   "metadata": {
    "id": "n4qWCAwwPn0f"
   },
   "source": [
    "### Local scope\n",
    "\n",
    "If you indent your code, you are in local scope and any variables and functions in local scope will not be available in global scope. For example, if you call your function in the local scope, Python will not execute the function.\n",
    "\n",
    "Let's write a function that squares a number to observe this behavior. In it's simplest form, you could write:"
   ]
  },
  {
   "cell_type": "code",
   "execution_count": 2,
   "metadata": {
    "id": "5ctm8_ymPrQo"
   },
   "outputs": [
    {
     "name": "stdout",
     "output_type": "stream",
     "text": [
      "Enter an integer from 0 to 9: 9\n"
     ]
    },
    {
     "data": {
      "text/plain": [
       "81"
      ]
     },
     "execution_count": 2,
     "metadata": {},
     "output_type": "execute_result"
    }
   ],
   "source": [
    "# ask user to input a value that will get assigned to the variable number\n",
    "\n",
    "# define a function named squared and pass in num as the argument\n",
    "\n",
    "  # return num squared\n",
    "\n",
    "\n",
    "  squared(number) # this function call is in local scope(aka function scope)"
   ]
  },
  {
   "cell_type": "markdown",
   "metadata": {
    "id": "5kIG5ibm69g1"
   },
   "source": [
    "If you define a variable in local scope, it will not be available in the global scope because the local scope isn’t visible outside the function where it is created."
   ]
  },
  {
   "cell_type": "code",
   "execution_count": 6,
   "metadata": {
    "id": "2EdBE9fk697A"
   },
   "outputs": [
    {
     "name": "stdout",
     "output_type": "stream",
     "text": [
      "Enter an integer from 0 to 9: 9\n"
     ]
    },
    {
     "data": {
      "text/plain": [
       "81"
      ]
     },
     "execution_count": 6,
     "metadata": {},
     "output_type": "execute_result"
    }
   ],
   "source": [
    "# ask user to input a value that will get assigned to the variable number\n",
    "number = int(input(\"Enter an integer from 0 to 9: \"))\n",
    "\n",
    "# define a function named squared and pass in num as the argument\n",
    "def squared(num):\n",
    "  squared_num = num ** 2 # local scope\n",
    "  return squared_num \n",
    "\n",
    "squared(number) # here we call the function\n",
    "\n",
    "print(squared_num) # squared_num is in local scope while print is in global scope"
   ]
  },
  {
   "cell_type": "markdown",
   "metadata": {
    "id": "QSGL9F9lUuZn"
   },
   "source": [
    "### Enclosing scope\n",
    "\n",
    "Enclosing scope only exists inside nested functions (functions defined inside another function). Enclosing scope is only visible inside of inner and enclosing functions."
   ]
  },
  {
   "cell_type": "code",
   "execution_count": 7,
   "metadata": {
    "id": "oY4OIoEHWuJ1"
   },
   "outputs": [
    {
     "name": "stdout",
     "output_type": "stream",
     "text": [
      "Enter a positive integer: 9\n",
      "9 squared is 81\n"
     ]
    }
   ],
   "source": [
    "# input() will ask you to input an value that will get assigned to the variable number\n",
    "number = int(input(\"Enter a positive integer: \"))\n",
    "\n",
    "# define a function named squared and pass in num as the parameter\n",
    "def squared(num):\n",
    "  squared_num = num ** 2\n",
    "  def message():\n",
    "    text = str(num) + \" squared is \" + str(squared_num) # squared_num is available in enclosing scope\n",
    "    print(text)\n",
    "  message()\n",
    "squared(number)\n",
    "\n",
    "# print(text) is not available in global scope"
   ]
  },
  {
   "cell_type": "markdown",
   "metadata": {
    "id": "3oCnLwKHRTUO"
   },
   "source": [
    "### Global scope\n",
    "\n",
    "When you start a Python program, you are in the global scope. Therefore, any function names or variables you create in this scope will be available globally—inside or outside a function."
   ]
  },
  {
   "cell_type": "code",
   "execution_count": 8,
   "metadata": {
    "colab": {
     "base_uri": "https://localhost:8080/"
    },
    "executionInfo": {
     "elapsed": 1964,
     "status": "ok",
     "timestamp": 1643386327500,
     "user": {
      "displayName": "Jonathan Barrios",
      "photoUrl": "https://lh3.googleusercontent.com/a-/AOh14Gj_KFXU5phanoATkzhhR3Yb2zDYFB4nnTYMF3cP=s64",
      "userId": "16097537147383230085"
     },
     "user_tz": 360
    },
    "id": "lcycLhsX_I8f",
    "outputId": "d8d4dfa2-b8d2-4027-b9dd-1460243a0989"
   },
   "outputs": [
    {
     "name": "stdout",
     "output_type": "stream",
     "text": [
      "Enter an integer from 0 to 9: 9\n"
     ]
    },
    {
     "data": {
      "text/plain": [
       "81"
      ]
     },
     "execution_count": 8,
     "metadata": {},
     "output_type": "execute_result"
    }
   ],
   "source": [
    "# ask user to input a value that will get assigned to the variable number\n",
    "number = int(input(\"Enter an integer from 0 to 9: \"))\n",
    "\n",
    "# define a function named squared\n",
    "def squared():\n",
    "  # return number squared\n",
    "  return number ** 2 # number is available since it is in global scope\n",
    "\n",
    "squared() "
   ]
  },
  {
   "cell_type": "markdown",
   "metadata": {
    "id": "y7rXa4ZKRvmw"
   },
   "source": [
    "### Built-in scope\n",
    "\n",
    "Built-in scope is available anywhere in your code because keywords, built-in functions, and other attributes are baked into Python. For example, you can call built-in functions like `len()` inside of a function because built-in function scope is preassigned."
   ]
  },
  {
   "cell_type": "code",
   "execution_count": 10,
   "metadata": {
    "id": "UyGQY-BoR_NJ"
   },
   "outputs": [
    {
     "name": "stdout",
     "output_type": "stream",
     "text": [
      "Enter an integer from 0 to 9: 9\n",
      "81\n"
     ]
    }
   ],
   "source": [
    "# input() will ask you to input an value that will get assigned to the variable number\n",
    "number = input(\"Enter an integer from 0 to 9: \")\n",
    "\n",
    "# define a function named squared and pass in num as the parameter\n",
    "def squared(num):\n",
    "  if len(num) > 1:\n",
    "    print(\"Enter a number between 0 - 9. Game over.\")\n",
    "  else:\n",
    "    squared_nums = int(num) ** 2\n",
    "    print(squared_nums)\n",
    "\n",
    "squared(number)"
   ]
  },
  {
   "cell_type": "markdown",
   "metadata": {
    "id": "D9IduzXiSftm"
   },
   "source": [
    "### Bug hunt! 🪳\n",
    "Where is the bug in the following functions?\n"
   ]
  },
  {
   "cell_type": "code",
   "execution_count": 12,
   "metadata": {
    "id": "L3ObVInoSj3C"
   },
   "outputs": [
    {
     "name": "stdout",
     "output_type": "stream",
     "text": [
      "Enter an integer from 0 to 9: 9\n",
      "9 squared is 81\n"
     ]
    }
   ],
   "source": [
    "number = int(input(\"Enter an integer from 0 to 9: \"))\n",
    "\n",
    "def squared(num):\n",
    "  squared_num = num ** 2\n",
    "  def message():\n",
    "    print(str(num) + \" squared is \" + str(squared_num))\n",
    "  message()\n",
    "\n",
    "  squared(number)"
   ]
  },
  {
   "cell_type": "code",
   "execution_count": 19,
   "metadata": {
    "id": "UffOetwpUPfd"
   },
   "outputs": [
    {
     "name": "stdout",
     "output_type": "stream",
     "text": [
      "Enter an integer from 0 to 9: 9\n",
      "9 squared is 81\n"
     ]
    }
   ],
   "source": [
    "number = int(input(\"Enter an integer from 0 to 9: \"))\n",
    "\n",
    "def squared(num):\n",
    "  squared_num = num ** 2\n",
    "  def message():\n",
    "    print(str(num) + \" squared is \" + str(squared_num))\n",
    "message() \n",
    "\n",
    "squared(number)"
   ]
  },
  {
   "cell_type": "markdown",
   "metadata": {
    "id": "djQkjDpaPXbA"
   },
   "source": [
    "## Solutions"
   ]
  },
  {
   "cell_type": "code",
   "execution_count": null,
   "metadata": {
    "id": "qbzwKtRxP5IY"
   },
   "outputs": [],
   "source": [
    "number = int(input(\"Enter an integer from 0 to 9: \")) # input() will ask you to input an value that will get assigned to the variable number\n",
    "def squared(num):\n",
    "  squared_num = num ** 2\n",
    "  def message():\n",
    "    print(str(num) + \" squared is \" + str(squared_num))\n",
    "  message()\n",
    "\n",
    "squared(number) # this is in global scope! 🙌🏼"
   ]
  },
  {
   "cell_type": "code",
   "execution_count": null,
   "metadata": {
    "id": "oHLWONwfPiZg"
   },
   "outputs": [],
   "source": [
    "number = int(input(\"Enter an integer from 0 to 9: \")) # input() will ask you to input an value that will get assigned to the variable number\n",
    "def squared(num):\n",
    "  squared_num = num ** 2\n",
    "  def message():\n",
    "    print(str(num) + \" squared is \" + str(squared_num))\n",
    "  message() # this is now inside function scope\n",
    "\n",
    "squared(number) # call the function"
   ]
  }
 ],
 "metadata": {
  "colab": {
   "collapsed_sections": [
    "djQkjDpaPXbA"
   ],
   "name": "5_4_function_scope_and_exceptions_START.ipynb",
   "provenance": []
  },
  "kernelspec": {
   "display_name": "Python 3 (ipykernel)",
   "language": "python",
   "name": "python3"
  },
  "language_info": {
   "codemirror_mode": {
    "name": "ipython",
    "version": 3
   },
   "file_extension": ".py",
   "mimetype": "text/x-python",
   "name": "python",
   "nbconvert_exporter": "python",
   "pygments_lexer": "ipython3",
   "version": "3.9.6"
  }
 },
 "nbformat": 4,
 "nbformat_minor": 1
}
