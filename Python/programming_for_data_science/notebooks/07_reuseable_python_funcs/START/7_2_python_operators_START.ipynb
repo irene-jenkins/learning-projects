{
 "cells": [
  {
   "cell_type": "markdown",
   "metadata": {
    "id": "1Q06fE1xRK8z"
   },
   "source": [
    "## Comparison operators\n",
    "\n",
    "A math operator is a character that performs an operation on one or more objects, called operands. Remember that comparison operators will always return a `True` or `False` response.\n",
    "\n",
    "To explore Python comparison operators, try out the following comparison operations:"
   ]
  },
  {
   "cell_type": "code",
   "execution_count": null,
   "metadata": {
    "id": "nqRU8CLMRL2x"
   },
   "outputs": [],
   "source": [
    "# False ==\n"
   ]
  },
  {
   "cell_type": "code",
   "execution_count": null,
   "metadata": {
    "id": "GTG_vRe6RNmq"
   },
   "outputs": [],
   "source": [
    "# True !=\n"
   ]
  },
  {
   "cell_type": "code",
   "execution_count": null,
   "metadata": {
    "id": "y_JyY5qsRRbD"
   },
   "outputs": [],
   "source": [
    "# True <\n"
   ]
  },
  {
   "cell_type": "code",
   "execution_count": null,
   "metadata": {
    "id": "PTUZIY6rRSbk"
   },
   "outputs": [],
   "source": [
    "# False >\n"
   ]
  },
  {
   "cell_type": "markdown",
   "metadata": {
    "id": "IvOT4AgyRWjZ"
   },
   "source": [
    "We also have `<=` and `>=` comparison operators. Let's try out some *greater than or equal to* and less than or equal to comparisons in the following examples:\n"
   ]
  },
  {
   "cell_type": "code",
   "execution_count": null,
   "metadata": {
    "id": "utgS4CvdRSq3"
   },
   "outputs": [],
   "source": [
    "# True <=\n"
   ]
  },
  {
   "cell_type": "code",
   "execution_count": null,
   "metadata": {
    "id": "bOTKT8AWRXE8"
   },
   "outputs": [],
   "source": [
    "# True >=\n"
   ]
  },
  {
   "cell_type": "code",
   "execution_count": null,
   "metadata": {
    "id": "0s_glMaQRhsi"
   },
   "outputs": [],
   "source": [
    "# False >=\n"
   ]
  },
  {
   "cell_type": "code",
   "execution_count": null,
   "metadata": {
    "id": "yHMny34-RtO9"
   },
   "outputs": [],
   "source": [
    "# True <=\n"
   ]
  },
  {
   "cell_type": "code",
   "execution_count": null,
   "metadata": {
    "id": "50fZb8TZRwD0"
   },
   "outputs": [],
   "source": [
    "# False <=\n"
   ]
  },
  {
   "cell_type": "markdown",
   "metadata": {
    "id": "h1bmJXXCR5TE"
   },
   "source": [
    "Finally, you can also use the equal `==` and not equal `!=` comparison operators on strings. For example, `\"Yes\" == \"Yes\"`returns True. String comparisons are case-sensitive, so keep that in mind. For example, `\"Yes\" == \"yes\"` would return False.\n",
    "\n",
    "The `==` checks equality of values and data type. For example, ` 3 == \"3\"` will return `False` because they are not the same data type even though they are both `3`. In contrast, ` 3 == 3` will return `True` because they are the same value and data type.\n",
    "\n",
    "Let's try using the equal `==` and not equal `!=` comparison operators on the `Bool` values:"
   ]
  },
  {
   "cell_type": "code",
   "execution_count": null,
   "metadata": {
    "id": "OmqlGP4fRzo2"
   },
   "outputs": [],
   "source": [
    "# False ==\n"
   ]
  },
  {
   "cell_type": "code",
   "execution_count": null,
   "metadata": {
    "id": "vChjBE6aR8mZ"
   },
   "outputs": [],
   "source": [
    "# True ==\n"
   ]
  },
  {
   "cell_type": "code",
   "execution_count": null,
   "metadata": {
    "id": "kGPxDkaER95G"
   },
   "outputs": [],
   "source": [
    "# False !=\n"
   ]
  },
  {
   "cell_type": "code",
   "execution_count": null,
   "metadata": {
    "id": "beO2eVXnR-2r"
   },
   "outputs": [],
   "source": [
    "# True !=\n"
   ]
  },
  {
   "cell_type": "markdown",
   "metadata": {
    "id": "CtwwOodoSKgR"
   },
   "source": [
    "## Logical Operators\n",
    "\n",
    "Logical operators are great when you want to combine conditional statements. Try out the following examples, and be sure to type your own code as you try them out:\n",
    "\n"
   ]
  },
  {
   "cell_type": "code",
   "execution_count": null,
   "metadata": {
    "id": "frbUXa7OYEZJ"
   },
   "outputs": [],
   "source": [
    "# assign the value 3 to variable: n\n",
    "\n",
    "\n",
    "# and logical operator\n"
   ]
  },
  {
   "cell_type": "code",
   "execution_count": null,
   "metadata": {
    "id": "KAj_OHHeYEWx"
   },
   "outputs": [],
   "source": [
    "# assign the value 9 to variable: n\n",
    "\n",
    "\n",
    "# or logical operator\n"
   ]
  },
  {
   "cell_type": "code",
   "execution_count": null,
   "metadata": {
    "id": "yO2YyetDYETy"
   },
   "outputs": [],
   "source": [
    "# assign the value 9 to variable: n\n",
    "\n",
    "\n",
    "# not with and logical operator\n"
   ]
  },
  {
   "cell_type": "markdown",
   "metadata": {
    "id": "KDGcmbc9SOP4"
   },
   "source": [
    "## Assignment Operators\n",
    "\n",
    "Assignment operators are great when you need to assign values to variables. Try out the following examples and be sure to write your own tests to really understand how assignment operators work:"
   ]
  },
  {
   "cell_type": "markdown",
   "metadata": {
    "id": "32uWaTWRzbAY"
   },
   "source": [
    "### Basic assigment operator"
   ]
  },
  {
   "cell_type": "code",
   "execution_count": null,
   "metadata": {
    "id": "O-ySUV0rTerT"
   },
   "outputs": [],
   "source": [
    "# assign the value of 1 to variable: n\n",
    "n = 1\n",
    "\n",
    "# print n\n",
    "print(n)"
   ]
  },
  {
   "cell_type": "markdown",
   "metadata": {
    "id": "GYjiCg6mzi_R"
   },
   "source": [
    "### Assigment math operators"
   ]
  },
  {
   "cell_type": "code",
   "execution_count": null,
   "metadata": {
    "id": "w723fg9_VFYz"
   },
   "outputs": [],
   "source": [
    "# assign the value of 1 to variable: n\n",
    "n = 1\n",
    "\n",
    "# addition +=\n",
    "\n",
    "\n",
    "# # print n to return value of 10\n"
   ]
  },
  {
   "cell_type": "code",
   "execution_count": null,
   "metadata": {
    "id": "2tOyrZPDVHJb"
   },
   "outputs": [],
   "source": [
    "# substraction -=\n",
    "\n",
    "\n",
    "# print n to return value of 9\n"
   ]
  },
  {
   "cell_type": "code",
   "execution_count": null,
   "metadata": {
    "id": "n2jslMRUVNGi"
   },
   "outputs": [],
   "source": [
    "\n",
    "# multiplication *=\n",
    "\n",
    "\n",
    "# print n to return value of 45\n"
   ]
  },
  {
   "cell_type": "code",
   "execution_count": null,
   "metadata": {
    "id": "7GoyAbbTVUHI"
   },
   "outputs": [],
   "source": [
    "# division /=\n",
    "\n",
    "\n",
    "# print n to return value of 9.0\n",
    "print(n)"
   ]
  },
  {
   "cell_type": "code",
   "execution_count": null,
   "metadata": {
    "id": "9iPhvp3_VdKc"
   },
   "outputs": [],
   "source": [
    "# type cast n back into an int\n",
    "\n",
    "\n",
    "# print n to return integer value of 9\n"
   ]
  },
  {
   "cell_type": "code",
   "execution_count": null,
   "metadata": {
    "id": "GSRxUrxMVh44"
   },
   "outputs": [],
   "source": [
    "# modulo %=\n",
    "\n",
    "\n",
    "# print n to return value of 1\n"
   ]
  },
  {
   "cell_type": "code",
   "execution_count": null,
   "metadata": {
    "id": "1nM4wS4OVpqu"
   },
   "outputs": [],
   "source": [
    "# assign the value of 75.9 to variable: n\n",
    "\n",
    "\n",
    "# floor division //=\n",
    "\n",
    "\n",
    "# print n to return value of 25.0\n"
   ]
  },
  {
   "cell_type": "code",
   "execution_count": null,
   "metadata": {
    "id": "nVKp8HkwWG_q"
   },
   "outputs": [],
   "source": [
    "# assign the value of 5 to variable: n\n",
    "\n",
    "\n",
    "# exponentiation **=\n",
    "\n",
    "\n",
    "# print n to return value of 25\n"
   ]
  },
  {
   "cell_type": "markdown",
   "metadata": {
    "id": "RQoPtAPNSYnF"
   },
   "source": [
    "## Identity Operators\n",
    "\n",
    "Identity operators are great when you want to compare objects, so see if they are actually the same object:"
   ]
  },
  {
   "cell_type": "code",
   "execution_count": null,
   "metadata": {
    "id": "hezGJPYrfgE5"
   },
   "outputs": [],
   "source": [
    "a = 'Skateboard'\n",
    "b = 'Skateboard'\n",
    "\n",
    "a is b"
   ]
  },
  {
   "cell_type": "code",
   "execution_count": null,
   "metadata": {
    "id": "P6q1_zVLfpxl"
   },
   "outputs": [],
   "source": [
    "a = 'Longboard'\n",
    "b = 'Skateboard'\n",
    "\n",
    "a is b"
   ]
  },
  {
   "cell_type": "code",
   "execution_count": null,
   "metadata": {
    "id": "b9WkhfZgfvDK"
   },
   "outputs": [],
   "source": [
    "a = 'Longboard'\n",
    "b = 'Skateboard'\n",
    "\n",
    "a is not b"
   ]
  },
  {
   "cell_type": "markdown",
   "metadata": {
    "id": "J7vsmE6EgqLo"
   },
   "source": [
    "## Membership Operators\n",
    "Membership operators are a great way to test and see if a sequence is present in another object:"
   ]
  },
  {
   "cell_type": "code",
   "execution_count": null,
   "metadata": {
    "id": "za4hQysff-dD"
   },
   "outputs": [],
   "source": [
    "fruits = [\"apple\", \"banana\"]\n",
    "\n",
    "\"banana\" in fruits"
   ]
  },
  {
   "cell_type": "code",
   "execution_count": null,
   "metadata": {
    "id": "WIUBWf-qgEKp"
   },
   "outputs": [],
   "source": [
    "fruits = [\"apple\", \"banana\"]\n",
    "\n",
    "\"banana\" not in fruits"
   ]
  },
  {
   "cell_type": "code",
   "execution_count": null,
   "metadata": {
    "id": "UVEM5zishKVm"
   },
   "outputs": [],
   "source": [
    "fruits = [\"apple\", \"pear\"]\n",
    "\n",
    "\"banana\" in fruits"
   ]
  }
 ],
 "metadata": {
  "colab": {
   "collapsed_sections": [
    "1Q06fE1xRK8z",
    "CtwwOodoSKgR",
    "KDGcmbc9SOP4",
    "32uWaTWRzbAY",
    "GYjiCg6mzi_R",
    "RQoPtAPNSYnF",
    "J7vsmE6EgqLo"
   ],
   "name": "5_2_python_operators_START.ipynb",
   "provenance": []
  },
  "kernelspec": {
   "display_name": "Python 3 (ipykernel)",
   "language": "python",
   "name": "python3"
  },
  "language_info": {
   "codemirror_mode": {
    "name": "ipython",
    "version": 3
   },
   "file_extension": ".py",
   "mimetype": "text/x-python",
   "name": "python",
   "nbconvert_exporter": "python",
   "pygments_lexer": "ipython3",
   "version": "3.9.6"
  }
 },
 "nbformat": 4,
 "nbformat_minor": 1
}
