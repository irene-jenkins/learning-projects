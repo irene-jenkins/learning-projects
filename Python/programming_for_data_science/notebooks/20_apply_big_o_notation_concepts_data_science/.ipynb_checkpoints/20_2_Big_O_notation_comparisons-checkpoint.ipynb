{
 "cells": [
  {
   "cell_type": "code",
   "execution_count": 2,
   "id": "5f32cd61",
   "metadata": {},
   "outputs": [
    {
     "name": "stdout",
     "output_type": "stream",
     "text": [
      "Python 3.10.8\r\n"
     ]
    }
   ],
   "source": [
    "!python --version"
   ]
  },
  {
   "cell_type": "code",
   "execution_count": 3,
   "id": "7b6a96c6",
   "metadata": {},
   "outputs": [],
   "source": [
    "# O(1) Constant Time: \n",
    "def find_element(lst, index):\n",
    "    return lst[index]"
   ]
  },
  {
   "cell_type": "code",
   "execution_count": 6,
   "id": "5f0bda89",
   "metadata": {},
   "outputs": [],
   "source": [
    "# O(log n) Logarithmic Time:\n",
    "def binary_search(lst, target):\n",
    "    left = 0\n",
    "    right = len(lst) - 1\n",
    "    while left <= right:\n",
    "        mid = (left+right) // 2\n",
    "        if lst[mid] == target:\n",
    "            return mid\n",
    "        elif lst[mid] < target:\n",
    "            left = mid + 1\n",
    "        else:\n",
    "            right = mid - 1\n",
    "    return -1 "
   ]
  },
  {
   "cell_type": "code",
   "execution_count": 7,
   "id": "61780a6c",
   "metadata": {},
   "outputs": [],
   "source": [
    "# O(n) Linear Time:\n",
    "def find_max(lst):\n",
    "    max_val = lst[0]\n",
    "    for i in range(1, len(lst)):\n",
    "        if lst[i] > max_val:\n",
    "            max_val = lst[i]\n",
    "    return max_val"
   ]
  },
  {
   "cell_type": "code",
   "execution_count": 8,
   "id": "56b847d1",
   "metadata": {},
   "outputs": [],
   "source": [
    "# O(n^2) Quadratic Time: \n",
    "def find_pairs(lst, target):\n",
    "    pairs = []\n",
    "    for i in range(len(lst)):\n",
    "        for j in range(i+1, len(lst)):\n",
    "            if lst[i] + lst[j] == target:\n",
    "                pair.append((lst[i], lst[j]))\n",
    "    return pairs"
   ]
  },
  {
   "cell_type": "code",
   "execution_count": 9,
   "id": "33757688",
   "metadata": {},
   "outputs": [],
   "source": [
    "# O(2^n) Exponential time: \n",
    "def subsets(lst):\n",
    "    if len(lst) == 0:\n",
    "        return [[]]\n",
    "    x = subsets(lst[1:])\n",
    "    return x + [[lst[0]] + y for y in x]"
   ]
  },
  {
   "cell_type": "code",
   "execution_count": 11,
   "id": "136335ac",
   "metadata": {},
   "outputs": [],
   "source": [
    "# O(n!) Factorial Time\n",
    "def permutations(string):\n",
    "    if len(string) == o:\n",
    "        return ['']\n",
    "    prev_list = permutations(string[1:])\n",
    "    next_list = []\n",
    "    for i in range(len(prev_list)):\n",
    "        for j in range(len(prev_list[i])+1):\n",
    "            new_string = prev_list[i][:j]+string[0]+prev_list[i][j:]\n",
    "            if new_string not in next_list:\n",
    "                next_list.append(new_string)\n",
    "    return next_list"
   ]
  },
  {
   "cell_type": "code",
   "execution_count": null,
   "id": "4e7aea53",
   "metadata": {},
   "outputs": [],
   "source": []
  }
 ],
 "metadata": {
  "kernelspec": {
   "display_name": "Python 3 (ipykernel)",
   "language": "python",
   "name": "python3"
  },
  "language_info": {
   "codemirror_mode": {
    "name": "ipython",
    "version": 3
   },
   "file_extension": ".py",
   "mimetype": "text/x-python",
   "name": "python",
   "nbconvert_exporter": "python",
   "pygments_lexer": "ipython3",
   "version": "3.10.8"
  }
 },
 "nbformat": 4,
 "nbformat_minor": 5
}
