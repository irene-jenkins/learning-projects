{
 "cells": [
  {
   "cell_type": "markdown",
   "metadata": {
    "id": "jI0oLmpsocwb"
   },
   "source": [
    "## List Methods\n",
    "\n",
    "A list method is just a function attached to an object. For example, list methods are functions that work on list-objects. Methods can also work with other data types. Python has a set of built-in methods, or functions, that you can use on lists.\n",
    "\n",
    "- append() **Adds an element at the end of the list**\n",
    "- clear() **Removes all the elements from the list**\n",
    "- copy() **Returns a copy of the list**\n",
    "- count() **Returns the number of elements with the specified value**\n",
    "- extend() **Add the elements of a list (or any iterable), to the end of the current list**\n",
    "- index() **Returns the index of the first element with the specified value**\n",
    "- insert() **Adds an element at the specified position**\n",
    "- pop() **Removes the element at the specified position**\n",
    "- reverse() **Reverses the order of the list**\n",
    "- sort() **Sorts the list**\n",
    "\n",
    "> Remember: Lists are mutable."
   ]
  },
  {
   "cell_type": "markdown",
   "metadata": {
    "id": "COwhLsVyd-EV"
   },
   "source": [
    "### reverse()\n",
    "\n",
    "To reverse a list:\n"
   ]
  },
  {
   "cell_type": "code",
   "execution_count": 1,
   "metadata": {
    "id": "6P_PXgR0d-EV"
   },
   "outputs": [
    {
     "name": "stdout",
     "output_type": "stream",
     "text": [
      "[3, 3, 3, 3, 2, 1]\n"
     ]
    }
   ],
   "source": [
    "# create a list containing 1,2,3,3,3,3 and assign it to a variable: my_list\n",
    "my_list = [1,2,3,3,3,3]\n",
    "\n",
    "# reverse the list\n",
    "my_list.reverse()\n",
    "\n",
    "# print my_list\n",
    "print(my_list)"
   ]
  },
  {
   "cell_type": "markdown",
   "metadata": {
    "id": "nTR4xAxMmcRa"
   },
   "source": [
    "#### Alternate slicing method ☝️"
   ]
  },
  {
   "cell_type": "code",
   "execution_count": 3,
   "metadata": {
    "id": "fmTRHvTimXnM"
   },
   "outputs": [
    {
     "name": "stdout",
     "output_type": "stream",
     "text": [
      "[3, 3, 3, 3, 2, 1]\n"
     ]
    }
   ],
   "source": [
    "# create a list containing 1,2,3,3,3,3 and assign it to a variable: my_list\n",
    "my_list = [1,2,3,3,3,3]\n",
    "\n",
    "# reverse a list by slicing and assign to variable: reversed\n",
    "reversed = my_list[::-1]\n",
    "\n",
    "# print reversed\n",
    "print(reversed)"
   ]
  },
  {
   "cell_type": "markdown",
   "metadata": {
    "id": "i8NDp_o0okJr"
   },
   "source": [
    "\n",
    "### append()\n",
    "\n",
    "To append lists:\n"
   ]
  },
  {
   "cell_type": "code",
   "execution_count": 9,
   "metadata": {
    "id": "Tw7iK8-zodRe"
   },
   "outputs": [
    {
     "name": "stdout",
     "output_type": "stream",
     "text": [
      "[1, 2, 3, 4]\n"
     ]
    }
   ],
   "source": [
    "# create a list containing 1,2 3 and assign it to variable: new_list\n",
    "my_list = [1,2,3]\n",
    "\n",
    "# append the list with the value 4\n",
    "my_list.append(4)\n",
    "\n",
    "# print my_numbers\n",
    "print(my_list)"
   ]
  },
  {
   "cell_type": "markdown",
   "metadata": {
    "id": "ev-621xooqKr"
   },
   "source": [
    "### clear()\n",
    "\n",
    "To clear a list:"
   ]
  },
  {
   "cell_type": "code",
   "execution_count": 10,
   "metadata": {
    "id": "tqDsv26jonKK"
   },
   "outputs": [
    {
     "name": "stdout",
     "output_type": "stream",
     "text": [
      "[]\n"
     ]
    }
   ],
   "source": [
    "# create a list containing 1,2 3 and assign it to variable: new_list\n",
    "new_list = [1,2,3]\n",
    "\n",
    "# clear my_list\n",
    "new_list.clear()\n",
    "\n",
    "# print my_list\n",
    "print(new_list)"
   ]
  },
  {
   "cell_type": "markdown",
   "metadata": {
    "id": "TXnJr11QpGad"
   },
   "source": [
    "### copy()\n",
    "\n",
    "Make a copy a list:\n"
   ]
  },
  {
   "cell_type": "code",
   "execution_count": 12,
   "metadata": {
    "id": "hCEfui5aosAE"
   },
   "outputs": [
    {
     "name": "stdout",
     "output_type": "stream",
     "text": [
      "[1, 2, 3]\n",
      "[1, 2, 3, 4]\n"
     ]
    }
   ],
   "source": [
    "# create a list containing 1,2 3 and assign it to variable: my_list\n",
    "my_list = [1,2,3]\n",
    "\n",
    "# create a copy of my_list and assign it to variable: new_list\n",
    "new_list = my_list.copy()\n",
    "\n",
    "# append the my_list with the value 4\n",
    "new_list.append(4)\n",
    "\n",
    "# print my_list\n",
    "print(my_list)\n",
    "\n",
    "# print new_list\n",
    "print(new_list)"
   ]
  },
  {
   "cell_type": "markdown",
   "metadata": {
    "id": "xKK4W_LIpLQZ"
   },
   "source": [
    "### count()\n",
    "\n",
    "To count the number of times an item appears in a list, use the count list method:"
   ]
  },
  {
   "cell_type": "code",
   "execution_count": 15,
   "metadata": {
    "colab": {
     "base_uri": "https://localhost:8080/"
    },
    "executionInfo": {
     "elapsed": 216,
     "status": "ok",
     "timestamp": 1641577418387,
     "user": {
      "displayName": "Jonathan Barrios",
      "photoUrl": "https://lh3.googleusercontent.com/a-/AOh14Gj_KFXU5phanoATkzhhR3Yb2zDYFB4nnTYMF3cP=s64",
      "userId": "16097537147383230085"
     },
     "user_tz": 360
    },
    "id": "RNiF94OipJF_",
    "outputId": "ff6358b4-dd93-4b10-eeed-c992d58ec1ba"
   },
   "outputs": [
    {
     "data": {
      "text/plain": [
       "4"
      ]
     },
     "execution_count": 15,
     "metadata": {},
     "output_type": "execute_result"
    }
   ],
   "source": [
    "# create a list containing 1,2 3,3,3,3 and assign it to variable: my_list\n",
    "my_list = [1,2,3,3,3,3]\n",
    "\n",
    "# return the count of elements in my_list\n",
    "my_list.count(3)"
   ]
  },
  {
   "cell_type": "markdown",
   "metadata": {
    "id": "jhkf_v9jpPdZ"
   },
   "source": [
    "### extend()\n",
    "\n",
    "To extend a list:\n"
   ]
  },
  {
   "cell_type": "code",
   "execution_count": 16,
   "metadata": {
    "colab": {
     "base_uri": "https://localhost:8080/"
    },
    "executionInfo": {
     "elapsed": 226,
     "status": "ok",
     "timestamp": 1641577688199,
     "user": {
      "displayName": "Jonathan Barrios",
      "photoUrl": "https://lh3.googleusercontent.com/a-/AOh14Gj_KFXU5phanoATkzhhR3Yb2zDYFB4nnTYMF3cP=s64",
      "userId": "16097537147383230085"
     },
     "user_tz": 360
    },
    "id": "GE0fOvWmpNT7",
    "outputId": "bbe1664d-7fc8-40b9-986a-256aad1b8018"
   },
   "outputs": [
    {
     "name": "stdout",
     "output_type": "stream",
     "text": [
      "['my', 'grocery', 'list']\n"
     ]
    }
   ],
   "source": [
    "# create a list containing \"my\", \"grocery\" and assign it to variable: my_list\n",
    "my_list = [\"my\",\"grocery\"]\n",
    "\n",
    "# extend the my_list with the value \"list\"\n",
    "my_list.extend([\"list\"])\n",
    "\n",
    "# print my_list\n",
    "print(my_list)"
   ]
  },
  {
   "cell_type": "markdown",
   "metadata": {
    "id": "kd4U86JQpULW"
   },
   "source": [
    "### index()\n",
    "\n",
    "To find the index of the first match for an item in a list:"
   ]
  },
  {
   "cell_type": "code",
   "execution_count": 17,
   "metadata": {
    "colab": {
     "base_uri": "https://localhost:8080/"
    },
    "executionInfo": {
     "elapsed": 190,
     "status": "ok",
     "timestamp": 1631494432195,
     "user": {
      "displayName": "Jonathan Barrios",
      "photoUrl": "https://lh3.googleusercontent.com/a/default-user=s64",
      "userId": "04055538900920699171"
     },
     "user_tz": 300
    },
    "id": "NBOKx7UKpRP1",
    "outputId": "15c79a38-82ce-457b-be0c-7a414d56510e"
   },
   "outputs": [
    {
     "data": {
      "text/plain": [
       "2"
      ]
     },
     "execution_count": 17,
     "metadata": {},
     "output_type": "execute_result"
    }
   ],
   "source": [
    "# create a list containing 1,2 3,3,3,3 and assign it to variable: my_list\n",
    "my_list = [1,2,3,3,3,3]\n",
    "my_list.index(3)"
   ]
  },
  {
   "cell_type": "markdown",
   "metadata": {
    "id": "Re10l3yxpW4g"
   },
   "source": [
    "### insert()\n",
    "\n",
    "To insert items into lists:\n"
   ]
  },
  {
   "cell_type": "code",
   "execution_count": 18,
   "metadata": {
    "id": "Nfux0cfRpWQA"
   },
   "outputs": [
    {
     "name": "stdout",
     "output_type": "stream",
     "text": [
      "['shopping', 'for', 'groceries']\n"
     ]
    }
   ],
   "source": [
    "# create a list containing \"for\", \"groceries\" and assign it to variable: my_list\n",
    "my_list = [\"for\",\"groceries\"]\n",
    "\n",
    "# insert \"shopping\" at the beginning of my_list\n",
    "my_list.insert(0,\"shopping\")\n",
    "\n",
    "# print my_list\n",
    "print(my_list)"
   ]
  },
  {
   "cell_type": "markdown",
   "metadata": {
    "id": "cD7_Klhgpehy"
   },
   "source": [
    "### pop()\n",
    "\n",
    "To pop off the last item in a list and return it:"
   ]
  },
  {
   "cell_type": "code",
   "execution_count": 20,
   "metadata": {
    "colab": {
     "base_uri": "https://localhost:8080/"
    },
    "executionInfo": {
     "elapsed": 233,
     "status": "ok",
     "timestamp": 1641580514978,
     "user": {
      "displayName": "Jonathan Barrios",
      "photoUrl": "https://lh3.googleusercontent.com/a-/AOh14Gj_KFXU5phanoATkzhhR3Yb2zDYFB4nnTYMF3cP=s64",
      "userId": "16097537147383230085"
     },
     "user_tz": 360
    },
    "id": "Axk0RkZBpbHP",
    "outputId": "f73aeddb-f092-4fe1-85ec-b64658f9f97d"
   },
   "outputs": [
    {
     "name": "stdout",
     "output_type": "stream",
     "text": [
      "[1, 2, 3, 4, 5]\n"
     ]
    }
   ],
   "source": [
    "# create a list containing 1,2 3,4,5,6 and assign it to variable: my_list\n",
    "my_list = [1,2,3,4,5,6]\n",
    "\n",
    "# remove 6 from my_list\n",
    "my_list.pop() # default is to pop at the end of the list\n",
    "\n",
    "# print my_list\n",
    "print(my_list)"
   ]
  },
  {
   "cell_type": "markdown",
   "metadata": {
    "id": "kYYIAeWnpjEE"
   },
   "source": [
    "To pop an item by index:"
   ]
  },
  {
   "cell_type": "code",
   "execution_count": 5,
   "metadata": {
    "colab": {
     "base_uri": "https://localhost:8080/"
    },
    "executionInfo": {
     "elapsed": 202,
     "status": "ok",
     "timestamp": 1641578040757,
     "user": {
      "displayName": "Jonathan Barrios",
      "photoUrl": "https://lh3.googleusercontent.com/a-/AOh14Gj_KFXU5phanoATkzhhR3Yb2zDYFB4nnTYMF3cP=s64",
      "userId": "16097537147383230085"
     },
     "user_tz": 360
    },
    "id": "i5E9KNoIpgkx",
    "outputId": "62378a41-ddf6-4e05-bab3-326994982fcf"
   },
   "outputs": [
    {
     "name": "stdout",
     "output_type": "stream",
     "text": [
      "[1, 2, 3, 4, 5]\n"
     ]
    }
   ],
   "source": [
    "# create a list containing 1,2 3,4,5,6 and assign it to variable: my_list\n",
    "my_list = [1,2,3,4,5,6]\n",
    "\n",
    "# remove 6 from my_list\n",
    "# pop by index -1 (last item in list)\n",
    "my_list.pop(-1) \n",
    "\n",
    "# print my_list\n",
    "print(my_list)"
   ]
  },
  {
   "cell_type": "markdown",
   "metadata": {
    "id": "LS985xNtINIM"
   },
   "source": [
    "### strip()\n",
    "\n",
    "To strip or remove whitespace at the beginning or end of a string:"
   ]
  },
  {
   "cell_type": "code",
   "execution_count": 24,
   "metadata": {
    "colab": {
     "base_uri": "https://localhost:8080/"
    },
    "executionInfo": {
     "elapsed": 221,
     "status": "ok",
     "timestamp": 1641580021316,
     "user": {
      "displayName": "Jonathan Barrios",
      "photoUrl": "https://lh3.googleusercontent.com/a-/AOh14Gj_KFXU5phanoATkzhhR3Yb2zDYFB4nnTYMF3cP=s64",
      "userId": "16097537147383230085"
     },
     "user_tz": 360
    },
    "id": "7mSesRb4ININ",
    "outputId": "3eaa2f1b-effc-4a35-ca07-430c56e34ad9"
   },
   "outputs": [
    {
     "name": "stdout",
     "output_type": "stream",
     "text": [
      "8\n",
      "6\n",
      "Python\n"
     ]
    }
   ],
   "source": [
    "# assign \" Python \" to variable: my_string\n",
    "my_string = \" Python \"\n",
    "\n",
    "# print length of my_string\n",
    "print(len(my_string))\n",
    "\n",
    "# strip whitespace from the string and assign to variable: strip\n",
    "stripped = my_string.strip()\n",
    "\n",
    "# print length of stripped\n",
    "print(len(stripped))\n",
    "\n",
    "# print stripped\n",
    "print(stripped)"
   ]
  },
  {
   "cell_type": "markdown",
   "metadata": {
    "id": "W6_yESkfI_BA"
   },
   "source": [
    "### split()\n",
    "\n",
    "To split a string into a comma separated list object:"
   ]
  },
  {
   "cell_type": "code",
   "execution_count": 25,
   "metadata": {
    "id": "BaBxsEElI_BI"
   },
   "outputs": [
    {
     "data": {
      "text/plain": [
       "['Python', 'is', 'awesome']"
      ]
     },
     "execution_count": 25,
     "metadata": {},
     "output_type": "execute_result"
    }
   ],
   "source": [
    "# assign \"Python is awesome\" to variable: my_string\n",
    "my_string = \"Python is awesome\"\n",
    "\n",
    "# split my_string (you don't have to print)\n",
    "my_string.split()"
   ]
  },
  {
   "cell_type": "markdown",
   "metadata": {
    "id": "oAv4dSz9pq1N"
   },
   "source": [
    "### sort()\n",
    "\n",
    "To sort lists that contain strings, not numbers:\n"
   ]
  },
  {
   "cell_type": "code",
   "execution_count": 26,
   "metadata": {
    "id": "kTrOeUowpo3t"
   },
   "outputs": [
    {
     "name": "stdout",
     "output_type": "stream",
     "text": [
      "['Denver', 'Pandas', 'Z']\n"
     ]
    }
   ],
   "source": [
    "# create a new list containing \"Denver\", \"Z\", \"Pandas\" and assign it to variable: new_list\n",
    "new_list = [\"Denver\", \"Z\", \"Pandas\"]\n",
    "\n",
    "# sort new_list\n",
    "new_list.sort()\n",
    "\n",
    "# print new_list\n",
    "print(new_list)"
   ]
  },
  {
   "cell_type": "code",
   "execution_count": null,
   "metadata": {},
   "outputs": [],
   "source": []
  }
 ],
 "metadata": {
  "colab": {
   "collapsed_sections": [],
   "name": "7_3_list_methods_FINISH.ipynb",
   "provenance": []
  },
  "kernelspec": {
   "display_name": "Python 3 (ipykernel)",
   "language": "python",
   "name": "python3"
  },
  "language_info": {
   "codemirror_mode": {
    "name": "ipython",
    "version": 3
   },
   "file_extension": ".py",
   "mimetype": "text/x-python",
   "name": "python",
   "nbconvert_exporter": "python",
   "pygments_lexer": "ipython3",
   "version": "3.11.5"
  }
 },
 "nbformat": 4,
 "nbformat_minor": 1
}
