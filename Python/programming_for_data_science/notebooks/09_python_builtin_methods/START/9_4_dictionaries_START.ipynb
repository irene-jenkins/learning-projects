{
 "cells": [
  {
   "cell_type": "markdown",
   "metadata": {
    "id": "dY2Mos5NqH-l"
   },
   "source": [
    "\n",
    "## Dictionaries: ordered, mutable, and no duplicates allowed\n",
    "\n",
    "Dictionaries contain key:value pairs and can be referred to by the key name.\n"
   ]
  },
  {
   "cell_type": "code",
   "execution_count": 1,
   "metadata": {
    "id": "2vMGqpcxkmMV"
   },
   "outputs": [
    {
     "name": "stdout",
     "output_type": "stream",
     "text": [
      "[1, 2, 3, 4, 5]\n",
      "{'Jonathan': 'Trainer', 'Jeff': 'Trainer'}\n"
     ]
    }
   ],
   "source": [
    "# create a list containing 1,2,3,4,5 and assign it to a variable: my_list\n",
    "my_list = [1,2,3,4,5]\n",
    "\n",
    "# print my_list\n",
    "print(my_list)\n",
    "\n",
    "# create a dictionary containing \"Jonathan\":\"Trainer\", \"Jeff\":\"Trainer\" and assign it to a variable: my_dict\n",
    "my_dictionary = {\"Jonathan\":\"Trainer\", \"Jeff\":\"Trainer\"}\n",
    "\n",
    "# print my_dictionary\n",
    "print(my_dictionary)"
   ]
  },
  {
   "cell_type": "markdown",
   "metadata": {
    "id": "tLtMOhe_qWTS"
   },
   "source": [
    "## Dictionary or list?\n",
    "* If you want indexed items, use a list. \n",
    "* If you want associations, use a dictionary. \n",
    "* Lists and dictionaries are both ordered and mutable. \n",
    "* Lists allow duplicates while dictionaries do not, except:\n",
    "  * Dictionary keys must be unique but the values can be duplicates. 🤔\n",
    "\n",
    "\n",
    "Let's create an empty dictionary:\n",
    "\n",
    "\n",
    "\n"
   ]
  },
  {
   "cell_type": "code",
   "execution_count": null,
   "metadata": {
    "id": "fEvNff94qLvh"
   },
   "outputs": [],
   "source": [
    "# empty dictionary and assign it to empty_dict\n",
    "empty_dict = {}"
   ]
  },
  {
   "cell_type": "markdown",
   "metadata": {
    "id": "d43QxHmbqY6C"
   },
   "source": [
    "Next, let's create a dictionary where the key is an object, and the value is the data type of that object."
   ]
  },
  {
   "cell_type": "code",
   "execution_count": null,
   "metadata": {
    "id": "Edm_yXo0qPkP"
   },
   "outputs": [],
   "source": [
    "# create a dictionary containing 100: \"Int\", 99.99: \"Float\" and assign it to variable: data_types\n",
    "data_types = {\n",
    "    100: \"Int\",\n",
    "    99.99: \"Float\"\n",
    "}\n"
   ]
  },
  {
   "cell_type": "markdown",
   "metadata": {
    "id": "PqVuZAKs6rfM"
   },
   "source": [
    "### Extracting keys\n",
    "\n",
    "You can extract keys and their values from a dictionary, much like indexing lists, but instead of extracting values by an index number, we extract the value by key name."
   ]
  },
  {
   "cell_type": "code",
   "execution_count": 4,
   "metadata": {
    "colab": {
     "base_uri": "https://localhost:8080/",
     "height": 35
    },
    "executionInfo": {
     "elapsed": 221,
     "status": "ok",
     "timestamp": 1641581754486,
     "user": {
      "displayName": "Jonathan Barrios",
      "photoUrl": "https://lh3.googleusercontent.com/a-/AOh14Gj_KFXU5phanoATkzhhR3Yb2zDYFB4nnTYMF3cP=s64",
      "userId": "16097537147383230085"
     },
     "user_tz": 360
    },
    "id": "q7C8t8mH6sBy",
    "outputId": "e39252da-91ba-4e91-9158-fc4894657754"
   },
   "outputs": [
    {
     "data": {
      "text/plain": [
       "'Jeff'"
      ]
     },
     "execution_count": 4,
     "metadata": {},
     "output_type": "execute_result"
    }
   ],
   "source": [
    "# create a dictionary containing 100: \"Int\", 99.99: \"Float\" and assign it to variable: data_types\n",
    "data_types = {\n",
    "    100: \"Int\",\n",
    "    99.99: \"Float\"\n",
    "}\n",
    "\n",
    "# retrieve the value from key name: 100\n",
    "data_types[100]\n",
    "\n",
    "# 🐼"
   ]
  },
  {
   "cell_type": "markdown",
   "metadata": {
    "id": "M4jhr_9n65au"
   },
   "source": [
    "If you try to return a key that doesn't exist, you will get a KeyError. Note that indexing by key is case sensitive, so `\"Name\"` is not the same key as `\"name\"`.\n",
    "\n",
    "If you try to create a key without a value, you will trip another KeyError since the key doesn't exist."
   ]
  },
  {
   "cell_type": "code",
   "execution_count": 5,
   "metadata": {
    "id": "iCUx_sQu6t8I"
   },
   "outputs": [
    {
     "ename": "KeyError",
     "evalue": "200",
     "output_type": "error",
     "traceback": [
      "\u001b[0;31m---------------------------------------------------------------------------\u001b[0m",
      "\u001b[0;31mKeyError\u001b[0m                                  Traceback (most recent call last)",
      "Cell \u001b[0;32mIn [5], line 6\u001b[0m\n\u001b[1;32m      1\u001b[0m data_types \u001b[38;5;241m=\u001b[39m {\n\u001b[1;32m      2\u001b[0m     \u001b[38;5;241m100\u001b[39m: \u001b[38;5;124m\"\u001b[39m\u001b[38;5;124mInt\u001b[39m\u001b[38;5;124m\"\u001b[39m,\n\u001b[1;32m      3\u001b[0m     \u001b[38;5;241m99.99\u001b[39m: \u001b[38;5;124m\"\u001b[39m\u001b[38;5;124mFloat\u001b[39m\u001b[38;5;124m\"\u001b[39m\n\u001b[1;32m      4\u001b[0m }\n\u001b[0;32m----> 6\u001b[0m \u001b[43mdata_types\u001b[49m\u001b[43m[\u001b[49m\u001b[38;5;241;43m200\u001b[39;49m\u001b[43m]\u001b[49m\n",
      "\u001b[0;31mKeyError\u001b[0m: 200"
     ]
    }
   ],
   "source": [
    "data_types = {\n",
    "    100: \"Int\",\n",
    "    99.99: \"Float\"\n",
    "}\n",
    "\n",
    "data_types[200]"
   ]
  },
  {
   "cell_type": "markdown",
   "metadata": {
    "id": "NBgdDOaw7SND"
   },
   "source": [
    "Instead, you can add to a dictionary if you provide both the key and the value, like this:"
   ]
  },
  {
   "cell_type": "code",
   "execution_count": 6,
   "metadata": {
    "id": "mZAgKC8b67di"
   },
   "outputs": [
    {
     "data": {
      "text/plain": [
       "{100: 'Int', 99.99: 'Float', 200: 'Int'}"
      ]
     },
     "execution_count": 6,
     "metadata": {},
     "output_type": "execute_result"
    }
   ],
   "source": [
    "# append the data_types dictionary with the key 200 and a value of 'Int'\n",
    "data_types[200] = \"Int\"\n",
    "\n",
    "# return data_types\n",
    "data_types"
   ]
  },
  {
   "cell_type": "code",
   "execution_count": null,
   "metadata": {},
   "outputs": [],
   "source": []
  }
 ],
 "metadata": {
  "colab": {
   "collapsed_sections": [],
   "name": "7_4_dictionaries_FINISH.ipynb",
   "provenance": []
  },
  "kernelspec": {
   "display_name": "Python 3 (ipykernel)",
   "language": "python",
   "name": "python3"
  },
  "language_info": {
   "codemirror_mode": {
    "name": "ipython",
    "version": 3
   },
   "file_extension": ".py",
   "mimetype": "text/x-python",
   "name": "python",
   "nbconvert_exporter": "python",
   "pygments_lexer": "ipython3",
   "version": "3.10.8"
  }
 },
 "nbformat": 4,
 "nbformat_minor": 1
}
