{
 "cells": [
  {
   "cell_type": "markdown",
   "metadata": {
    "id": "B0_M3xtbnC5i"
   },
   "source": [
    "# Lists: ordered, mutable, and allows duplicates\n",
    "Lists are indexed sequences that can hold many kinds of data types. For example:\n",
    "\n",
    "* int\n",
    "* floats\n",
    "* strings\n",
    "* bools\n",
    "* functions\n",
    "* objects\n",
    "\n",
    "That being said, it's best to keep lists homogeneous. For example, imagine a spreadsheet with different columns. Each column should contain the same data type for name, age, email, city, state, and so forth. \n",
    "\n",
    "> Much of a data analyst's time is spent cleaning data to unlock the insights hidden in the raw data. In essence, turning raw data into information.\n"
   ]
  },
  {
   "cell_type": "markdown",
   "metadata": {
    "id": "aaQY23UEAtVn"
   },
   "source": [
    "### Creating lists"
   ]
  },
  {
   "cell_type": "code",
   "execution_count": 1,
   "metadata": {
    "id": "2vMGqpcxkmMV"
   },
   "outputs": [
    {
     "name": "stdout",
     "output_type": "stream",
     "text": [
      "['Python', 2025, True]\n"
     ]
    }
   ],
   "source": [
    "# create a list containing \"Python\", 2025, True and asssign it to a variable: my_list\n",
    "my_list = [\"Python\", 2025, True]\n",
    " \n",
    "# print my_list\n",
    "print(my_list)"
   ]
  },
  {
   "cell_type": "markdown",
   "metadata": {
    "id": "MuWlhVweAxSW"
   },
   "source": [
    "### Indexing lists"
   ]
  },
  {
   "cell_type": "code",
   "execution_count": 4,
   "metadata": {
    "id": "kpGAGuJ6m1GR"
   },
   "outputs": [
    {
     "name": "stdout",
     "output_type": "stream",
     "text": [
      "Jonathan\n"
     ]
    }
   ],
   "source": [
    "# create a list contaning \"Jonathan\", \"Keith\", \"Ben\" and asssign it to a variable: team\n",
    "team = [\"Jonathan\", \"Keith\", \"Ben\"]\n",
    "\n",
    "# print the fisrt element of team\n",
    "print(team[0])"
   ]
  },
  {
   "cell_type": "markdown",
   "metadata": {
    "id": "Z4ePVZ5pnbU1"
   },
   "source": [
    "### Printing lists"
   ]
  },
  {
   "cell_type": "code",
   "execution_count": 15,
   "metadata": {
    "id": "fyH3aK6cm3tm"
   },
   "outputs": [
    {
     "data": {
      "text/plain": [
       "['Jonathan', 'Matt', 'Dan']"
      ]
     },
     "execution_count": 15,
     "metadata": {},
     "output_type": "execute_result"
    }
   ],
   "source": [
    "# create a list contaning \"Jonathan\", \"Matt\", \"Dan\" and asssign it to a variable: team\n",
    "team = [\"Jonathan\", \"Matt\", \"Dan\"]\n",
    "\n",
    "# print team\n",
    "team"
   ]
  },
  {
   "cell_type": "markdown",
   "metadata": {
    "id": "rwijqoHVnesA"
   },
   "source": [
    "### Slicing lists\n"
   ]
  },
  {
   "cell_type": "code",
   "execution_count": 16,
   "metadata": {
    "id": "GYtZA4Mbm4u7"
   },
   "outputs": [
    {
     "data": {
      "text/plain": [
       "'ko'"
      ]
     },
     "execution_count": 16,
     "metadata": {},
     "output_type": "execute_result"
    }
   ],
   "source": [
    "# slice \"Dakota\" to retrun: \"ko\"\n",
    "\"Dakota\"[2:4]"
   ]
  },
  {
   "cell_type": "code",
   "execution_count": 18,
   "metadata": {
    "id": "XQZMDRKxm9X2"
   },
   "outputs": [
    {
     "name": "stdout",
     "output_type": "stream",
     "text": [
      "[2, 3]\n"
     ]
    }
   ],
   "source": [
    "# create a list contaning values 1,2,3,4 and assign it to a variable: my_list\n",
    "my_list = [1, 2, 3, 4]\n",
    "\n",
    "# slice the list from the second item to the third item. Output: [2,3]\n",
    "print(my_list[1:3])"
   ]
  },
  {
   "cell_type": "code",
   "execution_count": 19,
   "metadata": {
    "id": "omQsNl84j3u7"
   },
   "outputs": [
    {
     "name": "stdout",
     "output_type": "stream",
     "text": [
      "4\n",
      "3\n"
     ]
    }
   ],
   "source": [
    "# create a list contaning values 1,2,3,4 and assign it to a variable: my_list\n",
    "my_list = [1, 2, 3, 4]\n",
    "\n",
    "# return last index: 4\n",
    "print(my_list[-1])\n",
    "\n",
    "# return the penultimate index: 3\n",
    "print(my_list[-2])"
   ]
  },
  {
   "cell_type": "markdown",
   "metadata": {
    "id": "oxborM-AVmhZ"
   },
   "source": [
    "## What are Sublists?\n",
    "\n",
    "You can use two pairs of square brackets to access lists inside of lists, a sort of listception if you will. Sometimes, lists inside of lists are referred to as sublists. For example, a list inside of another list."
   ]
  },
  {
   "cell_type": "code",
   "execution_count": 20,
   "metadata": {
    "id": "4lqxMa8WnApJ"
   },
   "outputs": [
    {
     "name": "stdout",
     "output_type": "stream",
     "text": [
      "1\n"
     ]
    }
   ],
   "source": [
    "# create a list contaning \"Jonathan\", [1,2,3], \"Data\", \"Analysis\" and assign it to a variable named: sub_list\n",
    "sub_list = [\"Jonathan\", [1,2,3], \"Data\", \"Analysis\"]\n",
    " \n",
    "# the first bracket argument is the item\n",
    "# the second bracket argument is the index\n",
    "print(sub_list[1][0])"
   ]
  },
  {
   "cell_type": "markdown",
   "metadata": {
    "id": "rm9QWkbBQngG"
   },
   "source": [
    "## Working with Sublists"
   ]
  },
  {
   "cell_type": "code",
   "execution_count": 34,
   "metadata": {
    "colab": {
     "base_uri": "https://localhost:8080/"
    },
    "executionInfo": {
     "elapsed": 199,
     "status": "ok",
     "timestamp": 1641581115269,
     "user": {
      "displayName": "Jonathan Barrios",
      "photoUrl": "https://lh3.googleusercontent.com/a-/AOh14Gj_KFXU5phanoATkzhhR3Yb2zDYFB4nnTYMF3cP=s64",
      "userId": "16097537147383230085"
     },
     "user_tz": 360
    },
    "id": "801KwZYoPCEg",
    "outputId": "4af23e8b-4d84-477d-ecc2-f56586d2b6d3"
   },
   "outputs": [
    {
     "name": "stdout",
     "output_type": "stream",
     "text": [
      "[\"You're\", 'Stay', 'Always']\n",
      "['mighty', 'most', 'truly']\n",
      "['awesome', 'fabulous', 'slick']\n"
     ]
    }
   ],
   "source": [
    "compliments = [[\"You're\", 'mighty', 'awesome'], ['Stay', 'most', 'fabulous'], ['Always', 'truly', 'slick']]\n",
    "\n",
    "# initialize 3 empty lists and assign them to variables: column_1, column_2, column_3\n",
    "column_1 = []\n",
    "column_2 = []\n",
    "column_3 = []\n",
    "\n",
    "# for each list in the list compliments:\n",
    "for list in compliments:\n",
    "  # append column_1 with the first element in list\n",
    "    column_1.append(list[0])\n",
    "  # append column_2 with the second element in list\n",
    "    column_2.append(list[1])\n",
    "  # append column_3 with the third element in list\n",
    "    column_3.append(list[2])\n",
    "    \n",
    "# print column_1\n",
    "print(column_1)\n",
    "\n",
    "# print column_2\n",
    "print(column_2)\n",
    "\n",
    "# print column_3\n",
    "print(column_3)"
   ]
  },
  {
   "cell_type": "code",
   "execution_count": null,
   "metadata": {},
   "outputs": [],
   "source": []
  }
 ],
 "metadata": {
  "colab": {
   "collapsed_sections": [],
   "name": "7_2_lists_FINISH.ipynb",
   "provenance": []
  },
  "kernelspec": {
   "display_name": "Python 3 (ipykernel)",
   "language": "python",
   "name": "python3"
  },
  "language_info": {
   "codemirror_mode": {
    "name": "ipython",
    "version": 3
   },
   "file_extension": ".py",
   "mimetype": "text/x-python",
   "name": "python",
   "nbconvert_exporter": "python",
   "pygments_lexer": "ipython3",
   "version": "3.11.5"
  },
  "vscode": {
   "interpreter": {
    "hash": "31f2aee4e71d21fbe5cf8b01ff0e069b9275f58929596ceb00d14d90e3e16cd6"
   }
  }
 },
 "nbformat": 4,
 "nbformat_minor": 1
}
