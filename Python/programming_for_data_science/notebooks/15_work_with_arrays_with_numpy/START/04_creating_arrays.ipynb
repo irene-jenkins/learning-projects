{
 "cells": [
  {
   "cell_type": "markdown",
   "metadata": {
    "id": "yo3QHpqIxqGU"
   },
   "source": [
    "# Creating Numpy and Manipulating Arrays"
   ]
  },
  {
   "cell_type": "code",
   "execution_count": 2,
   "metadata": {},
   "outputs": [],
   "source": [
    "import numpy as np"
   ]
  },
  {
   "cell_type": "code",
   "execution_count": 5,
   "metadata": {
    "colab": {
     "base_uri": "https://localhost:8080/"
    },
    "id": "tZrihMlDxOlW",
    "outputId": "48a79b6f-95e1-46a9-d907-fffb86c1afc6"
   },
   "outputs": [],
   "source": [
    "# There are several ways to create Numpy arrays:\n",
    "\n",
    "# create a 2-dimensional array from a list of lists\n",
    "\n",
    "# create an array of zeros\n",
    "\n",
    "# create an array of ones"
   ]
  },
  {
   "cell_type": "code",
   "execution_count": 32,
   "metadata": {
    "id": "FxdaRidtNr2j"
   },
   "outputs": [],
   "source": [
    "# typecasting arrays\n"
   ]
  },
  {
   "cell_type": "code",
   "execution_count": 33,
   "metadata": {
    "id": "RfzQYXayN4Io"
   },
   "outputs": [],
   "source": [
    "# evenly spaced values\n"
   ]
  },
  {
   "cell_type": "code",
   "execution_count": 34,
   "metadata": {
    "id": "awftQQpKONP1"
   },
   "outputs": [],
   "source": [
    "# 2 dimensional array with rand values\n"
   ]
  },
  {
   "cell_type": "code",
   "execution_count": 35,
   "metadata": {
    "colab": {
     "base_uri": "https://localhost:8080/"
    },
    "id": "1Dwc6GUZxZb1",
    "outputId": "48657e16-eb5e-4980-d51b-bdda390a2d85"
   },
   "outputs": [],
   "source": [
    "# create an array from a list\n",
    "\n",
    "\n",
    "# print the array\n",
    "# access the first element of the array\n",
    "# slice the first two elements of the array"
   ]
  },
  {
   "cell_type": "markdown",
   "metadata": {},
   "source": [
    "# Manipulating Arrays"
   ]
  },
  {
   "cell_type": "code",
   "execution_count": 36,
   "metadata": {},
   "outputs": [],
   "source": [
    "# You can use the \"reshape\" method to change the shape of a Numpy array without changing the data.\n"
   ]
  },
  {
   "cell_type": "code",
   "execution_count": 37,
   "metadata": {},
   "outputs": [],
   "source": [
    "# reshape the array into a 3x2 matrix\n"
   ]
  },
  {
   "cell_type": "code",
   "execution_count": 38,
   "metadata": {
    "scrolled": true
   },
   "outputs": [],
   "source": [
    "# reshape the array into a 2x3 matrix\n"
   ]
  },
  {
   "cell_type": "markdown",
   "metadata": {},
   "source": [
    "# Transposing Numpy arrays"
   ]
  },
  {
   "cell_type": "code",
   "execution_count": 39,
   "metadata": {},
   "outputs": [],
   "source": [
    "# You can use the \"T\" attribute to transpose a Numpy array. This flips the array along its diagonal, so that rows become columns and vice versa.\n",
    "\n",
    "# transpose the array\n"
   ]
  },
  {
   "cell_type": "code",
   "execution_count": null,
   "metadata": {},
   "outputs": [],
   "source": []
  }
 ],
 "metadata": {
  "colab": {
   "provenance": []
  },
  "kernelspec": {
   "display_name": "Python 3 (ipykernel)",
   "language": "python",
   "name": "python3"
  },
  "language_info": {
   "codemirror_mode": {
    "name": "ipython",
    "version": 3
   },
   "file_extension": ".py",
   "mimetype": "text/x-python",
   "name": "python",
   "nbconvert_exporter": "python",
   "pygments_lexer": "ipython3",
   "version": "3.10.8"
  }
 },
 "nbformat": 4,
 "nbformat_minor": 1
}
