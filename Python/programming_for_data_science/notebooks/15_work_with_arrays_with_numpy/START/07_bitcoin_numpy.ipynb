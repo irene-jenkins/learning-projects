{
 "cells": [
  {
   "cell_type": "markdown",
   "metadata": {
    "id": "RMKIH7EqBLVg"
   },
   "source": [
    "# Bitcoin Price Trends\n",
    "The purpose of this report is to investigate trends in the bitcoin price data from 23 April 2017 to 5 April 2018. We will use data visualization techniques to identify patterns and trends in the data and discuss their implications.\n",
    "\n",
    "# Data overview\n",
    "The dataset contains daily bitcoin prices, trading volumes, and market capitalizations for the specified period. The prices are in US dollars and the volumes and capitalizations are in US dollars and bitcoin, respectively. The data was collected from the Poloniex cryptocurrency exchange.\n",
    "\n",
    "# Data visualization\n",
    "Visualize the data using a line chart of the bitcoin prices over time.\n",
    "\n",
    "# Bitcoin prices\n",
    "\n",
    "From the chart, we can see that the bitcoin price fluctuated significantly over the study period, with several large spikes and dips. The overall trend appears to be upward, with the price increasing from around $1,000 in April 2017 to nearly $20,000 in December 2017.\n",
    "\n",
    "# Statistical analysis\n",
    "Next, we will use statistical analysis to further investigate the trends in the data. We will compute the mean, median, and standard deviation of the bitcoin prices, as well as the correlation coefficient between the prices and the trading volumes.\n",
    "\n",
    "\n",
    "# Conclusions\n",
    "Based on the data visualization and statistical analysis, we can conclude that the bitcoin price was generally trending upward during the study period, with significant fluctuations. The high correlation between the prices and the volumes suggests that there may be a relationship between the two variables, but further investigation would be needed to confirm this."
   ]
  },
  {
   "cell_type": "markdown",
   "metadata": {},
   "source": [
    "# Import Libraries"
   ]
  },
  {
   "cell_type": "code",
   "execution_count": 1,
   "metadata": {
    "id": "9mSFG8V7BKxn"
   },
   "outputs": [],
   "source": [
    "import numpy as np\n",
    "import pandas as pd\n",
    "import matplotlib.pyplot as plt"
   ]
  },
  {
   "cell_type": "markdown",
   "metadata": {},
   "source": [
    "# Load, Clean, and Manipulate Data"
   ]
  },
  {
   "cell_type": "code",
   "execution_count": 5,
   "metadata": {
    "id": "f8qaMfMQcxih"
   },
   "outputs": [],
   "source": [
    "# Load the data from the CSV file\n",
    "df = pd.read_csv(\"https://raw.githubusercontent.com/jonathan-barrios/project_datasets/main/datasets/btc-prices-poloniex-23apr2017-05apr2018.csv\")\n",
    "\n",
    "# Drop any rows with null values\n",
    "df = df.dropna()\n",
    "\n",
    "# Convert the date column to a datetime object\n",
    "df[\"date\"] = pd.to_datetime(df[\"date\"])\n",
    "\n",
    "# Set the date column as the index of the DataFrame\n",
    "df.set_index(\"date\", inplace=True)"
   ]
  },
  {
   "cell_type": "code",
   "execution_count": 13,
   "metadata": {},
   "outputs": [
    {
     "data": {
      "text/html": [
       "<div>\n",
       "<style scoped>\n",
       "    .dataframe tbody tr th:only-of-type {\n",
       "        vertical-align: middle;\n",
       "    }\n",
       "\n",
       "    .dataframe tbody tr th {\n",
       "        vertical-align: top;\n",
       "    }\n",
       "\n",
       "    .dataframe thead th {\n",
       "        text-align: right;\n",
       "    }\n",
       "</style>\n",
       "<table border=\"1\" class=\"dataframe\">\n",
       "  <thead>\n",
       "    <tr style=\"text-align: right;\">\n",
       "      <th></th>\n",
       "      <th>timestamp</th>\n",
       "      <th>open</th>\n",
       "      <th>close</th>\n",
       "      <th>low</th>\n",
       "      <th>high</th>\n",
       "      <th>weightedAverage</th>\n",
       "      <th>volume</th>\n",
       "      <th>quoteVolume</th>\n",
       "    </tr>\n",
       "    <tr>\n",
       "      <th>date</th>\n",
       "      <th></th>\n",
       "      <th></th>\n",
       "      <th></th>\n",
       "      <th></th>\n",
       "      <th></th>\n",
       "      <th></th>\n",
       "      <th></th>\n",
       "      <th></th>\n",
       "    </tr>\n",
       "  </thead>\n",
       "  <tbody>\n",
       "    <tr>\n",
       "      <th>2017-04-23 00:00:00</th>\n",
       "      <td>1492905600</td>\n",
       "      <td>1345.366757</td>\n",
       "      <td>1342.910929</td>\n",
       "      <td>1342.910929</td>\n",
       "      <td>1346.000000</td>\n",
       "      <td>1343.963411</td>\n",
       "      <td>7850.951428</td>\n",
       "      <td>5.841641</td>\n",
       "    </tr>\n",
       "    <tr>\n",
       "      <th>2017-04-23 00:05:00</th>\n",
       "      <td>1492905900</td>\n",
       "      <td>1342.910927</td>\n",
       "      <td>1342.075283</td>\n",
       "      <td>1341.604556</td>\n",
       "      <td>1344.981539</td>\n",
       "      <td>1342.890452</td>\n",
       "      <td>17088.046219</td>\n",
       "      <td>12.724825</td>\n",
       "    </tr>\n",
       "    <tr>\n",
       "      <th>2017-04-23 00:10:00</th>\n",
       "      <td>1492906200</td>\n",
       "      <td>1343.075283</td>\n",
       "      <td>1346.413255</td>\n",
       "      <td>1340.670731</td>\n",
       "      <td>1347.240054</td>\n",
       "      <td>1345.092995</td>\n",
       "      <td>39672.868368</td>\n",
       "      <td>29.494517</td>\n",
       "    </tr>\n",
       "    <tr>\n",
       "      <th>2017-04-23 00:15:00</th>\n",
       "      <td>1492906500</td>\n",
       "      <td>1346.413255</td>\n",
       "      <td>1343.032914</td>\n",
       "      <td>1340.566514</td>\n",
       "      <td>1346.854673</td>\n",
       "      <td>1342.783978</td>\n",
       "      <td>28832.240728</td>\n",
       "      <td>21.471987</td>\n",
       "    </tr>\n",
       "    <tr>\n",
       "      <th>2017-04-23 00:20:00</th>\n",
       "      <td>1492906800</td>\n",
       "      <td>1343.033059</td>\n",
       "      <td>1343.028538</td>\n",
       "      <td>1340.195931</td>\n",
       "      <td>1343.490234</td>\n",
       "      <td>1342.088574</td>\n",
       "      <td>16475.304939</td>\n",
       "      <td>12.275870</td>\n",
       "    </tr>\n",
       "  </tbody>\n",
       "</table>\n",
       "</div>"
      ],
      "text/plain": [
       "                      timestamp         open        close          low  \\\n",
       "date                                                                     \n",
       "2017-04-23 00:00:00  1492905600  1345.366757  1342.910929  1342.910929   \n",
       "2017-04-23 00:05:00  1492905900  1342.910927  1342.075283  1341.604556   \n",
       "2017-04-23 00:10:00  1492906200  1343.075283  1346.413255  1340.670731   \n",
       "2017-04-23 00:15:00  1492906500  1346.413255  1343.032914  1340.566514   \n",
       "2017-04-23 00:20:00  1492906800  1343.033059  1343.028538  1340.195931   \n",
       "\n",
       "                            high  weightedAverage        volume  quoteVolume  \n",
       "date                                                                          \n",
       "2017-04-23 00:00:00  1346.000000      1343.963411   7850.951428     5.841641  \n",
       "2017-04-23 00:05:00  1344.981539      1342.890452  17088.046219    12.724825  \n",
       "2017-04-23 00:10:00  1347.240054      1345.092995  39672.868368    29.494517  \n",
       "2017-04-23 00:15:00  1346.854673      1342.783978  28832.240728    21.471987  \n",
       "2017-04-23 00:20:00  1343.490234      1342.088574  16475.304939    12.275870  "
      ]
     },
     "execution_count": 13,
     "metadata": {},
     "output_type": "execute_result"
    }
   ],
   "source": [
    "# Return the first five rows\n",
    "df.head()"
   ]
  },
  {
   "cell_type": "markdown",
   "metadata": {},
   "source": [
    "# Create Numpy Array"
   ]
  },
  {
   "cell_type": "code",
   "execution_count": 8,
   "metadata": {
    "id": "a7p2aG72cxaj"
   },
   "outputs": [
    {
     "data": {
      "text/plain": [
       "array([[1.49290560e+09, 1.34536676e+03, 1.34291093e+03, ...,\n",
       "        1.34396341e+03, 7.85095143e+03, 5.84164075e+00],\n",
       "       [1.49290590e+09, 1.34291093e+03, 1.34207528e+03, ...,\n",
       "        1.34289045e+03, 1.70880462e+04, 1.27248252e+01],\n",
       "       [1.49290620e+09, 1.34307528e+03, 1.34641325e+03, ...,\n",
       "        1.34509300e+03, 3.96728684e+04, 2.94945171e+01],\n",
       "       ...,\n",
       "       [1.52290500e+09, 6.77037712e+03, 6.76371252e+03, ...,\n",
       "        6.74953458e+03, 8.72374537e+04, 1.29249584e+01],\n",
       "       [1.52290530e+09, 6.76369552e+03, 6.78953424e+03, ...,\n",
       "        6.78054665e+03, 1.35272068e+04, 1.99500239e+00],\n",
       "       [1.52290560e+09, 6.78953424e+03, 6.78953424e+03, ...,\n",
       "        6.78953424e+03, 2.13127418e+02, 3.13905800e-02]])"
      ]
     },
     "execution_count": 8,
     "metadata": {},
     "output_type": "execute_result"
    }
   ],
   "source": [
    "# Convert the DataFrame to a Numpy array\n",
    "data = df.values\n",
    "data"
   ]
  },
  {
   "cell_type": "markdown",
   "metadata": {},
   "source": [
    "# Filter Data"
   ]
  },
  {
   "cell_type": "markdown",
   "metadata": {
    "id": "4FOfSKoWsqYl"
   },
   "source": [
    "The line data = data[np.isreal(data).all(axis=1)] uses the Numpy function np.isreal() to check if all elements in the data array are real numbers. If an element is not a real number, it will be considered as False, otherwise it will be considered as True. The .all() function is then applied along the first axis (axis=1) and returns a boolean array indicating whether all elements in each row are real numbers. The boolean array is then used to index the data array such that only rows with all real elements are selected and assigned to the variable data. So that this line will filter the dataframe by removing any rows with non-numeric or invalid values."
   ]
  },
  {
   "cell_type": "code",
   "execution_count": 9,
   "metadata": {
    "id": "desyABm-cTvf"
   },
   "outputs": [],
   "source": [
    "# Remove any rows with non-numeric(real number) or invalid values\n",
    "data = data[np.isreal(data).all(axis=1)]"
   ]
  },
  {
   "cell_type": "markdown",
   "metadata": {},
   "source": [
    "# Compute the Mean, Median, and Standard Deviation "
   ]
  },
  {
   "cell_type": "markdown",
   "metadata": {
    "id": "AbMInwbPsR91"
   },
   "source": [
    "The code below is using a library called Numpy to perform some calculations on the data in the data array.\n",
    "\n",
    "The mean variable is being set to the average value of the second column of the data array. The median variable is being set to the middle value of the second column of the data array when it is sorted. The std variable is being set to the standard deviation of the second column of the data array which is a measure of the spread of the data.\n",
    "\n",
    "It's printing out these values so that you can see them, it's throwing some warnings because it might contain some empty or invalid data.\n",
    "\n",
    "The bracket notation is used to select specific elements or subsets of elements from an array. In this case, data[:, 1] is used to select all elements of the second column of the data array.\n",
    "\n",
    "The bracket notation is used to access specific parts of the data in the data variable. The variable data is a 2-dimensional array, and the bracket notation is used to select specific rows and columns from it."
   ]
  },
  {
   "cell_type": "code",
   "execution_count": 10,
   "metadata": {
    "id": "oJ40CEkPb9KJ"
   },
   "outputs": [],
   "source": [
    "# Compute the mean, median, and standard deviation of the bitcoin prices\n",
    "mean = np.mean(data[:, 1])\n",
    "median = np.median(data[:, 1])\n",
    "std = np.std(data[:, 1])"
   ]
  },
  {
   "cell_type": "markdown",
   "metadata": {
    "id": "ropaoPpztoMT"
   },
   "source": [
    "Below, we will return statistics from above."
   ]
  },
  {
   "cell_type": "code",
   "execution_count": 11,
   "metadata": {
    "colab": {
     "base_uri": "https://localhost:8080/"
    },
    "id": "xRf6wYLWtnfA",
    "outputId": "bbb62380-3160-4cf8-b70e-bb4d06f27016"
   },
   "outputs": [
    {
     "name": "stdout",
     "output_type": "stream",
     "text": [
      "Mean: 6588.91\n",
      "Median: 5410.00\n",
      "Standard deviation: 4340.25\n"
     ]
    }
   ],
   "source": [
    "print(f'Mean: {mean:.2f}')\n",
    "print(f'Median: {median:.2f}')\n",
    "print(f'Standard deviation: {std:.2f}')"
   ]
  },
  {
   "cell_type": "markdown",
   "metadata": {
    "id": "fN-2UlGOtR5H"
   },
   "source": [
    "The line of code is computing the correlation coefficient between the values in the first and second columns of the data array using the np.corrcoef function from the numpy library.\n",
    "\n",
    "Correlation coefficient is a value that ranges between -1 and 1, that measures how two variables are related. A correlation of **-1** indicates that two variables are *perfectly negatively correlated (i.e. as one increases, the other decreases)* and a correlation of **1** indicates that two variables are *perfectly positively correlated (i.e. as one increases, the other also increases).* \n",
    "\n",
    "The function returns a 2D array representing the correlation matrix, and the value at the index [0,1] is the correlation coefficient between the two variables we provided as input. Then it is printing the correlation coefficient value with 2 decimal points using the f-string.\n",
    "\n",
    "In this case, the correlation coefficient measures the degree of linear relationship between the bitcoin prices and the trading volumes. A correlation coefficient of 1 means that there is a perfect positive linear relationship between the two variables, which means that as one variable increases, the other variable increases by a consistent proportion.\n",
    "\n",
    "A positive correlation coefficient value would indicate that as the bitcoin prices increase, the trading volumes also tend to increase. While this is usually the case, it doesn't always occur and it depends on the scenario and the market conditions."
   ]
  },
  {
   "cell_type": "code",
   "execution_count": 12,
   "metadata": {
    "colab": {
     "base_uri": "https://localhost:8080/"
    },
    "id": "pjWbYtD5b9El",
    "outputId": "13854f91-a366-4f84-a11e-5046b9f97af3"
   },
   "outputs": [
    {
     "name": "stdout",
     "output_type": "stream",
     "text": [
      "Correlation coefficient: 1.00\n"
     ]
    }
   ],
   "source": [
    "# Compute the correlation coefficient between the bitcoin prices and the trading volumes\n",
    "corr = np.corrcoef(data[:, 1], data[:, 2])\n",
    "print(f'Correlation coefficient: {corr[0, 1]:.2f}')"
   ]
  },
  {
   "cell_type": "code",
   "execution_count": null,
   "metadata": {
    "colab": {
     "base_uri": "https://localhost:8080/",
     "height": 295
    },
    "id": "PVs8ol4htx-d",
    "outputId": "d0dc3a3f-4af4-4d1e-f2ef-2734da76a613"
   },
   "outputs": [
    {
     "data": {
      "image/png": "[encoded data removed]",
      "text/plain": [
       "<Figure size 432x288 with 1 Axes>"
      ]
     },
     "metadata": {
      "needs_background": "light"
     },
     "output_type": "display_data"
    }
   ],
   "source": [
    "# Plot the bitcoin prices over time\n",
    "plt.plot(data[:, 0], data[:, 1])\n",
    "plt.xlabel('Date')\n",
    "plt.ylabel('Price (USD)')\n",
    "plt.title('Bitcoin Prices (23 April 2017 - 5 April 2018)')\n",
    "plt.show()"
   ]
  }
 ],
 "metadata": {
  "colab": {
   "provenance": []
  },
  "kernelspec": {
   "display_name": "Python 3 (ipykernel)",
   "language": "python",
   "name": "python3"
  },
  "language_info": {
   "codemirror_mode": {
    "name": "ipython",
    "version": 3
   },
   "file_extension": ".py",
   "mimetype": "text/x-python",
   "name": "python",
   "nbconvert_exporter": "python",
   "pygments_lexer": "ipython3",
   "version": "3.11.5"
  }
 },
 "nbformat": 4,
 "nbformat_minor": 1
}
