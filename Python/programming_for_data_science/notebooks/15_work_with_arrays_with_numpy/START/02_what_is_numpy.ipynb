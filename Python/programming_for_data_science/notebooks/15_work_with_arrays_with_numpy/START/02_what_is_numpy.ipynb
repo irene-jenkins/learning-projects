{
 "cells": [
  {
   "cell_type": "markdown",
   "id": "a9e734e2",
   "metadata": {},
   "source": [
    "# Work with Arrays and Numpy for Data Science"
   ]
  },
  {
   "cell_type": "code",
   "execution_count": 12,
   "id": "210a81c3",
   "metadata": {},
   "outputs": [],
   "source": [
    "# import numpy\n"
   ]
  },
  {
   "cell_type": "markdown",
   "id": "fd4e835a",
   "metadata": {},
   "source": [
    "Numpy is a powerful library for scientific computing in Python. \n",
    "\n",
    "It allows you to work with arrays of data and perform mathematical operations on them efficiently. \n",
    "\n",
    "You can use Numpy for tasks such as analyzing data, performing numerical simulations, and creating machine learning models."
   ]
  },
  {
   "cell_type": "code",
   "execution_count": 13,
   "id": "0c5f3d3e",
   "metadata": {},
   "outputs": [],
   "source": [
    "# Create Numpy array"
   ]
  },
  {
   "cell_type": "code",
   "execution_count": null,
   "id": "66328c67",
   "metadata": {},
   "outputs": [],
   "source": []
  },
  {
   "cell_type": "code",
   "execution_count": null,
   "id": "efa7a853",
   "metadata": {},
   "outputs": [],
   "source": []
  },
  {
   "cell_type": "code",
   "execution_count": null,
   "id": "87982053",
   "metadata": {},
   "outputs": [],
   "source": []
  },
  {
   "cell_type": "code",
   "execution_count": null,
   "id": "22f1c338",
   "metadata": {},
   "outputs": [],
   "source": []
  }
 ],
 "metadata": {
  "kernelspec": {
   "display_name": "Python 3 (ipykernel)",
   "language": "python",
   "name": "python3"
  },
  "language_info": {
   "codemirror_mode": {
    "name": "ipython",
    "version": 3
   },
   "file_extension": ".py",
   "mimetype": "text/x-python",
   "name": "python",
   "nbconvert_exporter": "python",
   "pygments_lexer": "ipython3",
   "version": "3.10.8"
  },
  "vscode": {
   "interpreter": {
    "hash": "31f2aee4e71d21fbe5cf8b01ff0e069b9275f58929596ceb00d14d90e3e16cd6"
   }
  }
 },
 "nbformat": 4,
 "nbformat_minor": 5
}
