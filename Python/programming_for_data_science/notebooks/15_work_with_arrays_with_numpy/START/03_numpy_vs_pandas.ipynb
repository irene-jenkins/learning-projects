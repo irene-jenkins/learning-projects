{
 "cells": [
  {
   "cell_type": "markdown",
   "metadata": {
    "id": "L7uJoyUHbpdx"
   },
   "source": [
    "# Numpy Vs. Pandas\n",
    "\n",
    "A Numpy array is a grid of values with the same data type, whereas a Pandas DataFrame is a 2-dimensional size-mutable, tabular data structure with rows and columns, which can have different data types.\n",
    "\n",
    "Numpy arrays are faster and more efficient for performing numerical operations, while Pandas DataFrames are more flexible and easier to use for working with and manipulating data.\n",
    "\n",
    "One key difference between the two is that a Numpy array can only have one data type, while a Pandas DataFrame can have multiple data types in the same table. This makes Pandas DataFrames more powerful and versatile, but also means they are generally slower and use more memory than Numpy arrays.\n",
    "\n",
    "Here is an example comparing the two:"
   ]
  },
  {
   "cell_type": "code",
   "execution_count": 1,
   "metadata": {
    "colab": {
     "base_uri": "https://localhost:8080/"
    },
    "id": "QeyDNPhiAPLA",
    "outputId": "022757ca-2fd3-41db-e54a-491773002964"
   },
   "outputs": [],
   "source": [
    "import numpy as np\n",
    "import pandas as pd\n",
    "\n"
   ]
  },
  {
   "cell_type": "code",
   "execution_count": null,
   "metadata": {},
   "outputs": [],
   "source": []
  },
  {
   "cell_type": "code",
   "execution_count": null,
   "metadata": {},
   "outputs": [],
   "source": []
  },
  {
   "cell_type": "markdown",
   "metadata": {
    "id": "SK6HjEk9b1xF"
   },
   "source": [
    "\n",
    "To compare the performance of Numpy arrays and Pandas DataFrames, you can use the timeit module to measure how long it takes to perform a particular operation on each.\n",
    "\n",
    "Here is an example that compares the performance of adding two Numpy arrays and two Pandas DataFrames:"
   ]
  },
  {
   "cell_type": "code",
   "execution_count": null,
   "metadata": {
    "colab": {
     "base_uri": "https://localhost:8080/"
    },
    "id": "n2yCQKHFb6IV",
    "outputId": "e2f668a0-e263-48c2-b6e0-3cbeacda213b"
   },
   "outputs": [],
   "source": []
  },
  {
   "cell_type": "code",
   "execution_count": 17,
   "metadata": {},
   "outputs": [],
   "source": [
    "# Set up the Numpy array\n"
   ]
  },
  {
   "cell_type": "code",
   "execution_count": 18,
   "metadata": {},
   "outputs": [],
   "source": [
    "# Setup DataFrame\n"
   ]
  },
  {
   "cell_type": "code",
   "execution_count": null,
   "metadata": {},
   "outputs": [],
   "source": []
  },
  {
   "cell_type": "code",
   "execution_count": null,
   "metadata": {},
   "outputs": [],
   "source": []
  },
  {
   "cell_type": "code",
   "execution_count": null,
   "metadata": {},
   "outputs": [],
   "source": []
  },
  {
   "cell_type": "code",
   "execution_count": null,
   "metadata": {},
   "outputs": [],
   "source": []
  }
 ],
 "metadata": {
  "colab": {
   "provenance": []
  },
  "kernelspec": {
   "display_name": "Python 3 (ipykernel)",
   "language": "python",
   "name": "python3"
  },
  "language_info": {
   "codemirror_mode": {
    "name": "ipython",
    "version": 3
   },
   "file_extension": ".py",
   "mimetype": "text/x-python",
   "name": "python",
   "nbconvert_exporter": "python",
   "pygments_lexer": "ipython3",
   "version": "3.10.8"
  }
 },
 "nbformat": 4,
 "nbformat_minor": 1
}
