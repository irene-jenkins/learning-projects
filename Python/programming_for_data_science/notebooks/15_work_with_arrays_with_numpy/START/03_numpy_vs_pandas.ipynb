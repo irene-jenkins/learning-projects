{
 "cells": [
  {
   "cell_type": "markdown",
   "metadata": {
    "id": "L7uJoyUHbpdx"
   },
   "source": [
    "# Numpy Vs. Pandas\n",
    "\n",
    "A Numpy array is a grid of values with the same data type, whereas a Pandas DataFrame is a 2-dimensional size-mutable, tabular data structure with rows and columns, which can have different data types.\n",
    "\n",
    "Numpy arrays are faster and more efficient for performing numerical operations, while Pandas DataFrames are more flexible and easier to use for working with and manipulating data.\n",
    "\n",
    "One key difference between the two is that a Numpy array can only have one data type, while a Pandas DataFrame can have multiple data types in the same table. This makes Pandas DataFrames more powerful and versatile, but also means they are generally slower and use more memory than Numpy arrays.\n",
    "\n",
    "Here is an example comparing the two:"
   ]
  },
  {
   "cell_type": "code",
   "execution_count": 1,
   "metadata": {
    "colab": {
     "base_uri": "https://localhost:8080/"
    },
    "id": "QeyDNPhiAPLA",
    "outputId": "022757ca-2fd3-41db-e54a-491773002964"
   },
   "outputs": [],
   "source": [
    "import numpy as np # numerical only (single option, faster)\n",
    "import pandas as pd # can use with multiple data types in the same table (versatile, slower)\n",
    "\n",
    "# NumPy array\n",
    "arr = np.array([[1, 2, 3], [4, 5, 6]])\n",
    "\n",
    "#Pandas Data Frame\n",
    "df = pd.DataFrame([[1, 2, 3], [4, 5, 6]])\n"
   ]
  },
  {
   "cell_type": "code",
   "execution_count": 2,
   "metadata": {},
   "outputs": [
    {
     "data": {
      "text/plain": [
       "array([[1, 2, 3],\n",
       "       [4, 5, 6]])"
      ]
     },
     "execution_count": 2,
     "metadata": {},
     "output_type": "execute_result"
    }
   ],
   "source": [
    "arr"
   ]
  },
  {
   "cell_type": "code",
   "execution_count": 3,
   "metadata": {},
   "outputs": [
    {
     "data": {
      "text/html": [
       "<div>\n",
       "<style scoped>\n",
       "    .dataframe tbody tr th:only-of-type {\n",
       "        vertical-align: middle;\n",
       "    }\n",
       "\n",
       "    .dataframe tbody tr th {\n",
       "        vertical-align: top;\n",
       "    }\n",
       "\n",
       "    .dataframe thead th {\n",
       "        text-align: right;\n",
       "    }\n",
       "</style>\n",
       "<table border=\"1\" class=\"dataframe\">\n",
       "  <thead>\n",
       "    <tr style=\"text-align: right;\">\n",
       "      <th></th>\n",
       "      <th>0</th>\n",
       "      <th>1</th>\n",
       "      <th>2</th>\n",
       "    </tr>\n",
       "  </thead>\n",
       "  <tbody>\n",
       "    <tr>\n",
       "      <th>0</th>\n",
       "      <td>1</td>\n",
       "      <td>2</td>\n",
       "      <td>3</td>\n",
       "    </tr>\n",
       "    <tr>\n",
       "      <th>1</th>\n",
       "      <td>4</td>\n",
       "      <td>5</td>\n",
       "      <td>6</td>\n",
       "    </tr>\n",
       "  </tbody>\n",
       "</table>\n",
       "</div>"
      ],
      "text/plain": [
       "   0  1  2\n",
       "0  1  2  3\n",
       "1  4  5  6"
      ]
     },
     "execution_count": 3,
     "metadata": {},
     "output_type": "execute_result"
    }
   ],
   "source": [
    "df"
   ]
  },
  {
   "cell_type": "markdown",
   "metadata": {
    "id": "SK6HjEk9b1xF"
   },
   "source": [
    "\n",
    "To compare the performance of Numpy arrays and Pandas DataFrames, you can use the timeit module to measure how long it takes to perform a particular operation on each.\n",
    "\n",
    "Here is an example that compares the performance of adding two Numpy arrays and two Pandas DataFrames:"
   ]
  },
  {
   "cell_type": "code",
   "execution_count": 9,
   "metadata": {},
   "outputs": [],
   "source": [
    "import timeit"
   ]
  },
  {
   "cell_type": "code",
   "execution_count": 11,
   "metadata": {},
   "outputs": [],
   "source": [
    "# Set up the Numpy array\n",
    "n = 1000000\n",
    "a = np.random.randn(n)\n",
    "b = np.random.randn(n)"
   ]
  },
  {
   "cell_type": "code",
   "execution_count": 13,
   "metadata": {},
   "outputs": [],
   "source": [
    "# Setup DataFrame\n",
    "df1 = pd.DataFrame(np.random.randn(n, 2))\n",
    "df2 = pd.DataFrame(np.random.randn(n, 2))"
   ]
  },
  {
   "cell_type": "code",
   "execution_count": 15,
   "metadata": {},
   "outputs": [
    {
     "name": "stdout",
     "output_type": "stream",
     "text": [
      "Time for Numpy array:  0.0019575001206249\n"
     ]
    }
   ],
   "source": [
    "start = timeit.default_timer()\n",
    "c = a + b\n",
    "end = timeit.default_timer()\n",
    "print(\"Time for Numpy array: \", end - start)"
   ]
  },
  {
   "cell_type": "code",
   "execution_count": 16,
   "metadata": {},
   "outputs": [
    {
     "name": "stdout",
     "output_type": "stream",
     "text": [
      "Time for DataFrame  0.005039500072598457\n"
     ]
    }
   ],
   "source": [
    "start = timeit.default_timer()\n",
    "df3 = df1 + df2\n",
    "end = timeit.default_timer()\n",
    "print(\"Time for DataFrame \", end - start)"
   ]
  }
 ],
 "metadata": {
  "colab": {
   "provenance": []
  },
  "kernelspec": {
   "display_name": "Python 3 (ipykernel)",
   "language": "python",
   "name": "python3"
  },
  "language_info": {
   "codemirror_mode": {
    "name": "ipython",
    "version": 3
   },
   "file_extension": ".py",
   "mimetype": "text/x-python",
   "name": "python",
   "nbconvert_exporter": "python",
   "pygments_lexer": "ipython3",
   "version": "3.11.5"
  }
 },
 "nbformat": 4,
 "nbformat_minor": 1
}
