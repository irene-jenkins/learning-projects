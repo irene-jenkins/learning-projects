{
 "cells": [
  {
   "cell_type": "markdown",
   "metadata": {
    "id": "L7uJoyUHbpdx"
   },
   "source": [
    "# Numpy Vs. Pandas\n",
    "\n",
    "A Numpy array is a grid of values with the same data type, whereas a Pandas DataFrame is a 2-dimensional size-mutable, tabular data structure with rows and columns, which can have different data types.\n",
    "\n",
    "Numpy arrays are faster and more efficient for performing numerical operations, while Pandas DataFrames are more flexible and easier to use for working with and manipulating data.\n",
    "\n",
    "One key difference between the two is that a Numpy array can only have one data type, while a Pandas DataFrame can have multiple data types in the same table. This makes Pandas DataFrames more powerful and versatile, but also means they are generally slower and use more memory than Numpy arrays.\n",
    "\n",
    "Here is an example comparing the two:"
   ]
  },
  {
   "cell_type": "code",
   "execution_count": null,
   "metadata": {
    "colab": {
     "base_uri": "https://localhost:8080/"
    },
    "id": "QeyDNPhiAPLA",
    "outputId": "022757ca-2fd3-41db-e54a-491773002964"
   },
   "outputs": [
    {
     "name": "stdout",
     "output_type": "stream",
     "text": [
      "[[1 2 3]\n",
      " [4 5 6]]\n",
      "int64\n",
      "   0  1  2\n",
      "0  1  2  3\n",
      "1  4  5  6\n",
      "0    int64\n",
      "1    int64\n",
      "2    int64\n",
      "dtype: object\n"
     ]
    }
   ],
   "source": [
    "import numpy as np\n",
    "import pandas as pd\n",
    "\n",
    "# Create a Numpy array\n",
    "arr = np.array([[1, 2, 3], [4, 5, 6]])\n",
    "print(arr)\n",
    "print(arr.dtype)\n",
    "\n",
    "# Create a Pandas DataFrame\n",
    "df = pd.DataFrame([[1, 2, 3], [4, 5, 6]])\n",
    "print(df)\n",
    "print(df.dtypes)\n"
   ]
  },
  {
   "cell_type": "markdown",
   "metadata": {
    "id": "SK6HjEk9b1xF"
   },
   "source": [
    "\n",
    "To compare the performance of Numpy arrays and Pandas DataFrames, you can use the timeit module to measure how long it takes to perform a particular operation on each.\n",
    "\n",
    "Here is an example that compares the performance of adding two Numpy arrays and two Pandas DataFrames:"
   ]
  },
  {
   "cell_type": "code",
   "execution_count": null,
   "metadata": {
    "colab": {
     "base_uri": "https://localhost:8080/"
    },
    "id": "n2yCQKHFb6IV",
    "outputId": "e2f668a0-e263-48c2-b6e0-3cbeacda213b"
   },
   "outputs": [
    {
     "name": "stdout",
     "output_type": "stream",
     "text": [
      "Time for Numpy array addition:  0.004369096999994326\n",
      "Time for Pandas DataFrame addition:  0.010088570000007735\n"
     ]
    }
   ],
   "source": [
    "import timeit\n",
    "import numpy as np\n",
    "import pandas as pd\n",
    "\n",
    "# Set up the Numpy arrays\n",
    "n = 1000000\n",
    "a = np.random.randn(n)\n",
    "b = np.random.randn(n)\n",
    "\n",
    "# Set up the Pandas DataFrames\n",
    "df1 = pd.DataFrame(np.random.randn(n, 2))\n",
    "df2 = pd.DataFrame(np.random.randn(n, 2))\n",
    "\n",
    "# Time the addition of the Numpy arrays\n",
    "start = timeit.default_timer()\n",
    "c = a + b\n",
    "end = timeit.default_timer()\n",
    "print(\"Time for Numpy array addition: \", end - start)\n",
    "\n",
    "# Time the addition of the Pandas DataFrames\n",
    "start = timeit.default_timer()\n",
    "df3 = df1 + df2\n",
    "end = timeit.default_timer()\n",
    "print(\"Time for Pandas DataFrame addition: \", end - start)\n"
   ]
  }
 ],
 "metadata": {
  "colab": {
   "provenance": []
  },
  "kernelspec": {
   "display_name": "Python 3 (ipykernel)",
   "language": "python",
   "name": "python3"
  },
  "language_info": {
   "codemirror_mode": {
    "name": "ipython",
    "version": 3
   },
   "file_extension": ".py",
   "mimetype": "text/x-python",
   "name": "python",
   "nbconvert_exporter": "python",
   "pygments_lexer": "ipython3",
   "version": "3.10.8"
  }
 },
 "nbformat": 4,
 "nbformat_minor": 1
}
