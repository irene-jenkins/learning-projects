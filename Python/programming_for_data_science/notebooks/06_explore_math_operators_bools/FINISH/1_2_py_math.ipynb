{
 "cells": [
  {
   "cell_type": "markdown",
   "metadata": {
    "id": "RXj8h-9AK6eG"
   },
   "source": [
    "## Order of Operations\n",
    "\n",
    "PEMDAS\n",
    "\n",
    "\n",
    "1.   **P**arentheses `()`\n",
    "2.   **E**xponent `**`\n",
    "3.   **M**ultiplication `*`\n",
    "4.   **D**ivision `\\`\n",
    "5.   **A**ddition `+`\n",
    "6.   **S**ubstraction `-`\n"
   ]
  },
  {
   "cell_type": "code",
   "execution_count": null,
   "metadata": {
    "colab": {
     "base_uri": "https://localhost:8080/"
    },
    "executionInfo": {
     "elapsed": 196,
     "status": "ok",
     "timestamp": 1641230116156,
     "user": {
      "displayName": "Jonathan Barrios",
      "photoUrl": "https://lh3.googleusercontent.com/a-/AOh14Gj_KFXU5phanoATkzhhR3Yb2zDYFB4nnTYMF3cP=s64",
      "userId": "16097537147383230085"
     },
     "user_tz": 360
    },
    "id": "PcH2GB-l7RXL",
    "outputId": "ef756484-9740-45aa-b09c-4ad3c0010853"
   },
   "outputs": [
    {
     "name": "stdout",
     "output_type": "stream",
     "text": [
      "9\n",
      "12\n"
     ]
    }
   ],
   "source": [
    "# what will the following code output? \n",
    "print(1 + 2 * 4) # 2 * 4 = 8 + 1 = 9\n",
    "\n",
    "print((1 + 2) * 4) # 1 + 2 = 3 * 4 = 12\n"
   ]
  },
  {
   "cell_type": "markdown",
   "metadata": {
    "id": "5UQN7meJrikC"
   },
   "source": [
    "How about sqauring numbers? \n",
    "\n",
    "For example: $\\large{2^2}$ "
   ]
  },
  {
   "cell_type": "code",
   "execution_count": null,
   "metadata": {
    "colab": {
     "base_uri": "https://localhost:8080/"
    },
    "executionInfo": {
     "elapsed": 195,
     "status": "ok",
     "timestamp": 1641230449147,
     "user": {
      "displayName": "Jonathan Barrios",
      "photoUrl": "https://lh3.googleusercontent.com/a-/AOh14Gj_KFXU5phanoATkzhhR3Yb2zDYFB4nnTYMF3cP=s64",
      "userId": "16097537147383230085"
     },
     "user_tz": 360
    },
    "id": "usKEMm6F9Fw2",
    "outputId": "cbbc8971-afa8-496e-8baf-cf6c274fc34c"
   },
   "outputs": [
    {
     "name": "stdout",
     "output_type": "stream",
     "text": [
      "4\n",
      "2.0\n",
      "4.0\n",
      "1.0\n"
     ]
    }
   ],
   "source": [
    "# what will the following code output? \n",
    "print(2**2)\n",
    "print(2**2 / 2)\n",
    "print(2**2 / 2 + 2)\n",
    "print(2**2 / (2 + 2))"
   ]
  }
 ],
 "metadata": {
  "colab": {
   "authorship_tag": "ABX9TyP0tKS7vYNynGM7Eceah+HX",
   "provenance": []
  },
  "kernelspec": {
   "display_name": "Python 3 (ipykernel)",
   "language": "python",
   "name": "python3"
  },
  "language_info": {
   "codemirror_mode": {
    "name": "ipython",
    "version": 3
   },
   "file_extension": ".py",
   "mimetype": "text/x-python",
   "name": "python",
   "nbconvert_exporter": "python",
   "pygments_lexer": "ipython3",
   "version": "3.10.8"
  }
 },
 "nbformat": 4,
 "nbformat_minor": 1
}
