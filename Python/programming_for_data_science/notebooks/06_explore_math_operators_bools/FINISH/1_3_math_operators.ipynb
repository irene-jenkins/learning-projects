{
 "cells": [
  {
   "cell_type": "markdown",
   "metadata": {
    "id": "RXj8h-9AK6eG"
   },
   "source": [
    "# Math operators\n",
    "\n",
    "In this skill, you'll get the opportunity to use integers and floats combined with math operators to write Python code inside of code cells below. The most exciting part of using Python for math is using it as a super-powerful calculator, making linear algebra, equations, and statistical formulas more intuitive. Especially if you don't have a math background, you can notate fancy equations and formulas using LaTex which will help you understand and apply statistical operations. Best of all, you can refer to them whenever you need them!\n",
    "\n"
   ]
  },
  {
   "cell_type": "markdown",
   "metadata": {
    "id": "LK-twJfeNary"
   },
   "source": [
    "### Addition\n",
    "$\\large x + y$"
   ]
  },
  {
   "cell_type": "code",
   "execution_count": null,
   "metadata": {
    "id": "DwU8UxS7JUTd"
   },
   "outputs": [],
   "source": [
    "# add two integers/floats together\n",
    "2 + 2"
   ]
  },
  {
   "cell_type": "code",
   "execution_count": null,
   "metadata": {
    "id": "gQVzXtIDiOWB"
   },
   "outputs": [],
   "source": [
    "# verify type with the type() function\n",
    "a = 2 + 2\n",
    "type(a)"
   ]
  },
  {
   "cell_type": "markdown",
   "metadata": {
    "id": "PVXTs4ZJfnTS"
   },
   "source": [
    "### Subtraction\n",
    "$\\large x - y$\n"
   ]
  },
  {
   "cell_type": "code",
   "execution_count": null,
   "metadata": {
    "id": "-y5a8xVAxHrj"
   },
   "outputs": [],
   "source": [
    "# substract two integers/floats\n",
    "2 - 2"
   ]
  },
  {
   "cell_type": "markdown",
   "metadata": {
    "id": "ZTyf7V48fq5X"
   },
   "source": [
    "### Multiplication\n",
    "$\\large x \\times y$"
   ]
  },
  {
   "cell_type": "code",
   "execution_count": null,
   "metadata": {
    "id": "VwWa5iMLxSO7"
   },
   "outputs": [],
   "source": [
    "# mupliply integers/floats\n",
    "3 * 2"
   ]
  },
  {
   "cell_type": "markdown",
   "metadata": {
    "id": "-MAPPJJcfuSf"
   },
   "source": [
    "### Division\n",
    "$\\large x / y$"
   ]
  },
  {
   "cell_type": "code",
   "execution_count": null,
   "metadata": {
    "id": "VTa77OhQxcR5"
   },
   "outputs": [],
   "source": [
    "# divide integers/floats\n",
    "10 / 2"
   ]
  },
  {
   "cell_type": "markdown",
   "metadata": {
    "id": "DN1_1pD_gIZy"
   },
   "source": [
    "### Modulus\n",
    "$\\large x$ % $\\large y$\n",
    "\n",
    "[Python Tutor Example](https://pythontutor.com/visualize.html#code=%23%20handy%20when%20trying%20to%20identify%20even%20and%20odd%20numbers.%0Anum%20%3D%20int%28input%28%22Enter%20a%20number%3A%20%22%29%29%0Amod%20%3D%20num%20%25%202%0A%0Aif%20mod%20%3E%200%3A%0A%20%20%20%20print%28%22This%20is%20an%20odd%20number.%22%29%0Aelse%3A%0A%20%20%20%20print%28%22This%20is%20an%20even%20number.%22%29&cumulative=false&heapPrimitives=nevernest&mode=edit&origin=opt-frontend.js&py=3&rawInputLstJSON=%5B%5D&textReferences=false)"
   ]
  },
  {
   "cell_type": "code",
   "execution_count": null,
   "metadata": {
    "id": "5yuUXsEmxmsn"
   },
   "outputs": [],
   "source": [
    "# modulo returns the remainder of division\n",
    "print(6 % 2) # 6 % 2 remainder is 0 since it is an even number\n",
    "print(5 % 2) # 5 % 2 remainder is 1 since it is an odd number"
   ]
  },
  {
   "cell_type": "code",
   "execution_count": null,
   "metadata": {
    "id": "ARhzVjAnV4I0"
   },
   "outputs": [],
   "source": [
    "# handy when trying to identify even and odd numbers\n",
    "num = int(input(\"Enter a number: \"))\n",
    "mod = num % 2\n",
    "\n",
    "# we will learn if statements later\n",
    "if mod > 0:\n",
    "    print(\"This is an odd number.\")\n",
    "else:\n",
    "    print(\"This is an even number.\")"
   ]
  },
  {
   "cell_type": "markdown",
   "metadata": {
    "id": "98A1fwSzgMsr"
   },
   "source": [
    "## Exponentiation\n",
    "$\\large x^y$\n",
    "\n",
    "7 squared = 49\n",
    "\n",
    "7 to the 3rd power = 343\n",
    "\n",
    "7 to the 4th power = 2401 and so on..."
   ]
  },
  {
   "cell_type": "code",
   "execution_count": null,
   "metadata": {
    "colab": {
     "base_uri": "https://localhost:8080/"
    },
    "executionInfo": {
     "elapsed": 111,
     "status": "ok",
     "timestamp": 1642976826225,
     "user": {
      "displayName": "Jonathan Barrios",
      "photoUrl": "https://lh3.googleusercontent.com/a-/AOh14Gj_KFXU5phanoATkzhhR3Yb2zDYFB4nnTYMF3cP=s64",
      "userId": "16097537147383230085"
     },
     "user_tz": 360
    },
    "id": "F2Lqnscl6CWA",
    "outputId": "c420390d-cf24-4da6-9009-52bc8001ed1b"
   },
   "outputs": [
    {
     "data": {
      "text/plain": [
       "49"
      ]
     },
     "execution_count": 10,
     "metadata": {},
     "output_type": "execute_result"
    }
   ],
   "source": [
    "# exponents for integers/floats\n",
    "7 ** 2"
   ]
  },
  {
   "cell_type": "markdown",
   "metadata": {
    "id": "feQHLNYWgUVU"
   },
   "source": [
    "### Floor division\n",
    "$\\large \\lfloor 2.5 \\rfloor = 2$"
   ]
  },
  {
   "cell_type": "code",
   "execution_count": null,
   "metadata": {
    "colab": {
     "base_uri": "https://localhost:8080/"
    },
    "executionInfo": {
     "elapsed": 122,
     "status": "ok",
     "timestamp": 1642976901409,
     "user": {
      "displayName": "Jonathan Barrios",
      "photoUrl": "https://lh3.googleusercontent.com/a-/AOh14Gj_KFXU5phanoATkzhhR3Yb2zDYFB4nnTYMF3cP=s64",
      "userId": "16097537147383230085"
     },
     "user_tz": 360
    },
    "id": "q3nMpOFwyKzB",
    "outputId": "45283f74-2597-4894-9e11-e39909f23bda"
   },
   "outputs": [
    {
     "name": "stdout",
     "output_type": "stream",
     "text": [
      "2.5\n",
      "2\n"
     ]
    }
   ],
   "source": [
    "# floor division, rounds to the lower bound\n",
    "print(5 / 2) # regular division of 5 / 2 returns 2.5 \n",
    "print(5 // 2) # floor division of 5 // 2 returns 2, the floor value"
   ]
  },
  {
   "cell_type": "markdown",
   "metadata": {
    "id": "sNKBq6O9RI03"
   },
   "source": [
    "## Fun with the `input()` method\n",
    "\n",
    "The input method asks the user to input a number that we can store in a variable and perform some  calculations."
   ]
  },
  {
   "cell_type": "code",
   "execution_count": null,
   "metadata": {
    "colab": {
     "base_uri": "https://localhost:8080/"
    },
    "executionInfo": {
     "elapsed": 2170,
     "status": "ok",
     "timestamp": 1642977040626,
     "user": {
      "displayName": "Jonathan Barrios",
      "photoUrl": "https://lh3.googleusercontent.com/a-/AOh14Gj_KFXU5phanoATkzhhR3Yb2zDYFB4nnTYMF3cP=s64",
      "userId": "16097537147383230085"
     },
     "user_tz": 360
    },
    "id": "TGHXPgPNRi68",
    "outputId": "e259bd06-6329-492e-d8e1-a4a8f5fb42b1"
   },
   "outputs": [
    {
     "name": "stdout",
     "output_type": "stream",
     "text": [
      "Input a positive integer between 0 - 10,000: 1\n"
     ]
    },
    {
     "data": {
      "text/plain": [
       "str"
      ]
     },
     "execution_count": 21,
     "metadata": {},
     "output_type": "execute_result"
    }
   ],
   "source": [
    "number = input('Input a positive integer between 0 - 10,000: ')\n",
    "\n",
    "# type coercion warning\n",
    "type(number)"
   ]
  },
  {
   "cell_type": "code",
   "execution_count": null,
   "metadata": {
    "colab": {
     "base_uri": "https://localhost:8080/"
    },
    "executionInfo": {
     "elapsed": 127,
     "status": "ok",
     "timestamp": 1642977003876,
     "user": {
      "displayName": "Jonathan Barrios",
      "photoUrl": "https://lh3.googleusercontent.com/a-/AOh14Gj_KFXU5phanoATkzhhR3Yb2zDYFB4nnTYMF3cP=s64",
      "userId": "16097537147383230085"
     },
     "user_tz": 360
    },
    "id": "hxMrYKGQRxor",
    "outputId": "f7b8a1bb-cc2f-4c7d-e78d-1bf73a6fd041"
   },
   "outputs": [
    {
     "name": "stdout",
     "output_type": "stream",
     "text": [
      "0.045\n"
     ]
    }
   ],
   "source": [
    "# Coinbase charges up to 4.5% in fees\n",
    "print(int(number) * .045)"
   ]
  }
 ],
 "metadata": {
  "colab": {
   "authorship_tag": "ABX9TyNqsGPHGpRWZx5BUWa1U6/z",
   "provenance": []
  },
  "kernelspec": {
   "display_name": "Python 3 (ipykernel)",
   "language": "python",
   "name": "python3"
  },
  "language_info": {
   "codemirror_mode": {
    "name": "ipython",
    "version": 3
   },
   "file_extension": ".py",
   "mimetype": "text/x-python",
   "name": "python",
   "nbconvert_exporter": "python",
   "pygments_lexer": "ipython3",
   "version": "3.11.5"
  }
 },
 "nbformat": 4,
 "nbformat_minor": 1
}
