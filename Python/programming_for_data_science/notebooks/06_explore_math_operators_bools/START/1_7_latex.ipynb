{
 "cells": [
  {
   "cell_type": "markdown",
   "metadata": {
    "id": "xNwG0sXqy24e"
   },
   "source": [
    "## What is LaTex? \n",
    "*pronounced «Lah-tech» or «Lay-tech»*\n",
    "\n",
    "For example: \n",
    "\n",
    "Einstein told us that $E = mc^2$.\n",
    "\n",
    "    Einstein told us that $E = mc^2$."
   ]
  },
  {
   "cell_type": "markdown",
   "metadata": {
    "id": "90mzYtY0UAYH"
   },
   "source": [
    "## Population Standard Deviation\n",
    "$\\large \\sigma = \\sqrt{\\frac{\\sum_{i=1}^{N}(x_i-\\mu)^2}1}$"
   ]
  },
  {
   "cell_type": "code",
   "execution_count": null,
   "metadata": {
    "colab": {
     "base_uri": "https://localhost:8080/"
    },
    "executionInfo": {
     "elapsed": 157,
     "status": "ok",
     "timestamp": 1661870089410,
     "user": {
      "displayName": "Jonathan Barrios",
      "userId": "16097537147383230085"
     },
     "user_tz": 300
    },
    "id": "u8_BjXpjKv9s",
    "outputId": "f14dc647-9c95-4137-accb-13e7f2f8172b"
   },
   "outputs": [
    {
     "data": {
      "text/plain": [
       "3.9"
      ]
     },
     "execution_count": 4,
     "metadata": {},
     "output_type": "execute_result"
    }
   ],
   "source": [
    "# population standard deviation\n",
    "df['length (x.1mm)'].std(ddof=0)"
   ]
  },
  {
   "cell_type": "markdown",
   "metadata": {
    "id": "qMlIOMdjUIOg"
   },
   "source": [
    "## Sample Standard Deviation\n",
    "\n",
    "$\\large s = \\sqrt{\\frac{\\sum_{i=1}^{N}(x_i-\\bar{x})^2}1}$"
   ]
  },
  {
   "cell_type": "code",
   "execution_count": null,
   "metadata": {
    "colab": {
     "base_uri": "https://localhost:8080/"
    },
    "executionInfo": {
     "elapsed": 152,
     "status": "ok",
     "timestamp": 1661870136099,
     "user": {
      "displayName": "Jonathan Barrios",
      "userId": "16097537147383230085"
     },
     "user_tz": 300
    },
    "id": "fliy5NY4RhYP",
    "outputId": "f8746bc1-aa02-44e7-ee2a-e6425c5afa08"
   },
   "outputs": [
    {
     "data": {
      "text/plain": [
       "3.919647479510927"
      ]
     },
     "execution_count": 5,
     "metadata": {},
     "output_type": "execute_result"
    }
   ],
   "source": [
    "# sample standard deviation\n",
    "df['length (x.1mm)'].std()"
   ]
  }
 ],
 "metadata": {
  "colab": {
   "authorship_tag": "ABX9TyNDbcjSY3WcVsigEYNLlF9z",
   "provenance": []
  },
  "kernelspec": {
   "display_name": "Python 3 (ipykernel)",
   "language": "python",
   "name": "python3"
  },
  "language_info": {
   "codemirror_mode": {
    "name": "ipython",
    "version": 3
   },
   "file_extension": ".py",
   "mimetype": "text/x-python",
   "name": "python",
   "nbconvert_exporter": "python",
   "pygments_lexer": "ipython3",
   "version": "3.11.5"
  }
 },
 "nbformat": 4,
 "nbformat_minor": 1
}
