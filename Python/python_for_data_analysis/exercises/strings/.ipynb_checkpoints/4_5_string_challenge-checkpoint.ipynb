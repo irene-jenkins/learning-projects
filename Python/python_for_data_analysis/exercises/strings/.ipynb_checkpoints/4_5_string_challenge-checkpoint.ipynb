{
 "cells": [
  {
   "cell_type": "code",
   "execution_count": 1,
   "metadata": {
    "id": "2TOklXaYPT02"
   },
   "outputs": [],
   "source": [
    "# create a variable named song and assign the following string: Billie's Bounce\n",
    "song = \"Billie's Bounce\""
   ]
  },
  {
   "cell_type": "code",
   "execution_count": 2,
   "metadata": {
    "id": "94cgfLz4Sgdi"
   },
   "outputs": [
    {
     "name": "stdout",
     "output_type": "stream",
     "text": [
      "Billie's Bounce\n"
     ]
    }
   ],
   "source": [
    "# print song\n",
    "print(song)"
   ]
  },
  {
   "cell_type": "code",
   "execution_count": 6,
   "metadata": {
    "id": "4bXpr_CQSjKX"
   },
   "outputs": [],
   "source": [
    "# create another variable named composer and assign the following string: charlie parker\n",
    "composer = \"charlie parker\""
   ]
  },
  {
   "cell_type": "code",
   "execution_count": 10,
   "metadata": {
    "id": "FMDY2AirS6_v"
   },
   "outputs": [
    {
     "name": "stdout",
     "output_type": "stream",
     "text": [
      "Charlie Parker\n"
     ]
    }
   ],
   "source": [
    "# use a string method to capitalize the composer's name to: Charlie Parker\n",
    "print(composer.title())"
   ]
  },
  {
   "cell_type": "code",
   "execution_count": 11,
   "metadata": {
    "id": "GOuYeDt-TLpp"
   },
   "outputs": [
    {
     "name": "stdout",
     "output_type": "stream",
     "text": [
      "charlie parker\n"
     ]
    }
   ],
   "source": [
    "# print composer and note how it is all lowercase!\n",
    "print(composer)"
   ]
  },
  {
   "cell_type": "code",
   "execution_count": 12,
   "metadata": {
    "id": "g1GSTB5HTZ4m"
   },
   "outputs": [],
   "source": [
    "# reassign composer to uppercase so composer prints: Charlie Parker\n",
    "composer = composer.title()"
   ]
  },
  {
   "cell_type": "code",
   "execution_count": 13,
   "metadata": {
    "id": "2zn4KmVbT2_0"
   },
   "outputs": [
    {
     "name": "stdout",
     "output_type": "stream",
     "text": [
      "Charlie Parker\n"
     ]
    }
   ],
   "source": [
    "# print composer\n",
    "print(composer)"
   ]
  },
  {
   "cell_type": "code",
   "execution_count": 14,
   "metadata": {
    "id": "sVpbpHGUUJ8-"
   },
   "outputs": [],
   "source": [
    "# create a new variable named year with a value of 1945\n",
    "year = 1945"
   ]
  },
  {
   "cell_type": "code",
   "execution_count": 17,
   "metadata": {
    "id": "qZ_0nOOWUSSV"
   },
   "outputs": [
    {
     "name": "stdout",
     "output_type": "stream",
     "text": [
      "Billie's Bounce was composed by Charlie Parker in 1945.\n"
     ]
    }
   ],
   "source": [
    "# use string formatting and the above variables \n",
    "# to print the following string: \n",
    "# Billie's Bounce was composed by Charlie Parker in 1945.\n",
    "statement = \"{what} was composed by {person} in {date}.\".format(what = song, person = composer, date = year)\n",
    "print(statement)"
   ]
  },
  {
   "cell_type": "code",
   "execution_count": null,
   "metadata": {},
   "outputs": [],
   "source": []
  }
 ],
 "metadata": {
  "colab": {
   "authorship_tag": "ABX9TyMK1fZYwRPwBvj5B4gb2BYC",
   "collapsed_sections": [],
   "name": "4_5_string_challenge_START",
   "provenance": []
  },
  "kernelspec": {
   "display_name": "Python 3 (ipykernel)",
   "language": "python",
   "name": "python3"
  },
  "language_info": {
   "codemirror_mode": {
    "name": "ipython",
    "version": 3
   },
   "file_extension": ".py",
   "mimetype": "text/x-python",
   "name": "python",
   "nbconvert_exporter": "python",
   "pygments_lexer": "ipython3",
   "version": "3.11.4"
  }
 },
 "nbformat": 4,
 "nbformat_minor": 1
}
