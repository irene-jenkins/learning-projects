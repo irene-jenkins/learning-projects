{
 "cells": [
  {
   "cell_type": "markdown",
   "metadata": {
    "id": "eb_4FfFuwwJY"
   },
   "source": [
    "# Indexing strings\n",
    "\n",
    "You can index strings to grab one character from a string of characters. To do this, we will need to use something called a 0 based-index; meaning, we start counting from 0. For example, the first character of the string sequence, `\"Jonathan\"`, is `J`, and its index is 0. The second letter of the string sequence, `\"Jonathan\"`, is `o`, its index is 1, and so on.\n",
    "\n",
    "\n",
    "## Index visualization:\n",
    "J | O | N | A | T | H | A | N \n",
    "--- | --- | --- | --- | --- | --- | --- | --- \n",
    "0 | 1 | 2 | 3 | 4 | 5 | 6 | 7 \n",
    "\n"
   ]
  },
  {
   "cell_type": "code",
   "execution_count": 1,
   "metadata": {
    "id": "1Cm1_hdtwskU"
   },
   "outputs": [
    {
     "data": {
      "text/plain": [
       "'J'"
      ]
     },
     "execution_count": 1,
     "metadata": {},
     "output_type": "execute_result"
    }
   ],
   "source": [
    "# indexing a string's first element\n",
    "\"Jonathan\"[0]"
   ]
  },
  {
   "cell_type": "code",
   "execution_count": 2,
   "metadata": {
    "id": "GiNZRkAP2qmR"
   },
   "outputs": [
    {
     "data": {
      "text/plain": [
       "'o'"
      ]
     },
     "execution_count": 2,
     "metadata": {},
     "output_type": "execute_result"
    }
   ],
   "source": [
    "# indexing a string's second element\n",
    "\"Jonathan\"[1]"
   ]
  },
  {
   "cell_type": "code",
   "execution_count": 3,
   "metadata": {
    "id": "ai0BAU2Y2sW0"
   },
   "outputs": [
    {
     "data": {
      "text/plain": [
       "'n'"
      ]
     },
     "execution_count": 3,
     "metadata": {},
     "output_type": "execute_result"
    }
   ],
   "source": [
    "# indexing a string's last element\n",
    "\"Jonathan\"[7]"
   ]
  },
  {
   "cell_type": "markdown",
   "metadata": {
    "id": "09r5plws2THb"
   },
   "source": [
    "# Indexing variables\n",
    "You can also index varibles if they are assigned to strings. There is no difference."
   ]
  },
  {
   "cell_type": "code",
   "execution_count": 4,
   "metadata": {
    "id": "Lrnt9aqY2TYr"
   },
   "outputs": [
    {
     "data": {
      "text/plain": [
       "'I'"
      ]
     },
     "execution_count": 4,
     "metadata": {},
     "output_type": "execute_result"
    }
   ],
   "source": [
    "# store \"Jonathan\" inside variable: name\n",
    "name = \"Irene\"\n",
    "\n",
    "# access the first element of: name\n",
    "name[0]"
   ]
  },
  {
   "cell_type": "markdown",
   "metadata": {
    "id": "IHcH2dbPiw7I"
   },
   "source": [
    "## Negative index visualization:\n",
    "J | O | N | A | T | H | A | N \n",
    "--- | --- | --- | --- | --- | --- | --- | --- \n",
    "-8 | -7 | -6 | -5 | -4 | -3 | -2 | -1 "
   ]
  },
  {
   "cell_type": "code",
   "execution_count": 5,
   "metadata": {
    "id": "9OHKCn03hOzd"
   },
   "outputs": [
    {
     "data": {
      "text/plain": [
       "'e'"
      ]
     },
     "execution_count": 5,
     "metadata": {},
     "output_type": "execute_result"
    }
   ],
   "source": [
    "# access the last element of: name\n",
    "name[-1]"
   ]
  },
  {
   "cell_type": "code",
   "execution_count": 6,
   "metadata": {
    "id": "Zm2Psg3Jiomg"
   },
   "outputs": [
    {
     "data": {
      "text/plain": [
       "'n'"
      ]
     },
     "execution_count": 6,
     "metadata": {},
     "output_type": "execute_result"
    }
   ],
   "source": [
    "# access the penultimate element of: name\n",
    "name[-2]"
   ]
  },
  {
   "cell_type": "markdown",
   "metadata": {
    "id": "R-w7EUo7w6ZG"
   },
   "source": [
    "## Slicing strings\n",
    "\n",
    "In addition to indexing, you can specify a start, stop and step parameter:\n",
    "\n",
    "\n",
    "The third parameter is optional, for setting a step:\n",
    "\n"
   ]
  },
  {
   "cell_type": "code",
   "execution_count": 7,
   "metadata": {
    "id": "I4Q0DED3xB4E"
   },
   "outputs": [
    {
     "data": {
      "text/plain": [
       "'Jon'"
      ]
     },
     "execution_count": 7,
     "metadata": {},
     "output_type": "execute_result"
    }
   ],
   "source": [
    "# slicing using a variable: name = \"Jonathan\"\n",
    "name = \"Jonathan\"\n",
    "\n",
    "\n",
    "# slice 0-3, not including 3\n",
    "name[0:3]"
   ]
  },
  {
   "cell_type": "markdown",
   "metadata": {
    "id": "Q8HuLi5cxOj6"
   },
   "source": [
    "The third parameter specifies the step, which is optional:"
   ]
  },
  {
   "cell_type": "code",
   "execution_count": 10,
   "metadata": {
    "id": "HxTALIdqw9di"
   },
   "outputs": [
    {
     "data": {
      "text/plain": [
       "'Jnta'"
      ]
     },
     "execution_count": 10,
     "metadata": {},
     "output_type": "execute_result"
    }
   ],
   "source": [
    "# slicing using a variable: name = \"Jonathan\"\n",
    "name = \"Jonathan\"\n",
    "\n",
    "# slice 0-8, not including 8, in steps of 2 (every other element)\n",
    "name[0:8:2]"
   ]
  },
  {
   "cell_type": "markdown",
   "metadata": {
    "id": "jje7oqE2xRzo"
   },
   "source": [
    "To reverse a string, don't specify the start and stop parameters, and enter `-1` to start at the end and stop at the beginning:"
   ]
  },
  {
   "cell_type": "code",
   "execution_count": 12,
   "metadata": {
    "id": "sC-FG_pTxSKz"
   },
   "outputs": [
    {
     "data": {
      "text/plain": [
       "'nahtanoJ'"
      ]
     },
     "execution_count": 12,
     "metadata": {},
     "output_type": "execute_result"
    }
   ],
   "source": [
    "# slicing using a variable: name = \"Jonathan\"\n",
    "name = \"Jonathan\"\n",
    "\n",
    "# this is one way\n",
    "name[::-1]"
   ]
  },
  {
   "cell_type": "code",
   "execution_count": null,
   "metadata": {},
   "outputs": [],
   "source": []
  }
 ],
 "metadata": {
  "colab": {
   "collapsed_sections": [],
   "name": "4_3_indexing_and_slicing_strings_START.ipynb",
   "provenance": []
  },
  "kernelspec": {
   "display_name": "Python 3 (ipykernel)",
   "language": "python",
   "name": "python3"
  },
  "language_info": {
   "codemirror_mode": {
    "name": "ipython",
    "version": 3
   },
   "file_extension": ".py",
   "mimetype": "text/x-python",
   "name": "python",
   "nbconvert_exporter": "python",
   "pygments_lexer": "ipython3",
   "version": "3.11.4"
  }
 },
 "nbformat": 4,
 "nbformat_minor": 1
}
