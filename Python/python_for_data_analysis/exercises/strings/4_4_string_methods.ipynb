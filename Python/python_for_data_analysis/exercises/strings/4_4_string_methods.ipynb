{
 "cells": [
  {
   "cell_type": "markdown",
   "metadata": {
    "id": "be7kfaJEx5bn"
   },
   "source": [
    "# String methods\n",
    "String methods are built-in functions that work on strings. If you remember the definition of methods, they are functions attached to particular objects—in this case, functions attached to strings.\n",
    "\n",
    "- **capitalize()** - converts the first character to uppercase\n",
    "- **upper()** - converts characters to uppercase\n",
    "- **lower()** - converts characters to lowercase\n",
    "- **split()** - splits words into a comma separated list"
   ]
  },
  {
   "cell_type": "markdown",
   "metadata": {
    "id": "2HoSRxszyGbI"
   },
   "source": [
    "### capitalize()"
   ]
  },
  {
   "cell_type": "code",
   "execution_count": 3,
   "metadata": {
    "id": "5CZ4RzHLycHb"
   },
   "outputs": [
    {
     "name": "stdout",
     "output_type": "stream",
     "text": [
      "First word in a sentence\n"
     ]
    }
   ],
   "source": [
    "# store \"first word in a sentence\" inside the variable: my_caps\n",
    "my_caps = \"first word in a sentence\"\n",
    "\n",
    "# capitalize the first word in a sentence\n",
    "print(my_caps.capitalize())"
   ]
  },
  {
   "cell_type": "markdown",
   "metadata": {
    "id": "M1XRQaeVyOYT"
   },
   "source": [
    "### upper()\n",
    "\n"
   ]
  },
  {
   "cell_type": "code",
   "execution_count": 4,
   "metadata": {
    "id": "-cgOlq45yez8"
   },
   "outputs": [
    {
     "name": "stdout",
     "output_type": "stream",
     "text": [
      "ALL UPPERCASE\n"
     ]
    }
   ],
   "source": [
    "# store \"all uppercase\" inside the variable: make_upper\n",
    "make_upper = \"all uppercase\"\n",
    "\n",
    "# convert make_upper into all uppercase\n",
    "print(make_upper.upper())"
   ]
  },
  {
   "cell_type": "markdown",
   "metadata": {
    "id": "FHaltOFlyRYs"
   },
   "source": [
    "### lower()"
   ]
  },
  {
   "cell_type": "code",
   "execution_count": 5,
   "metadata": {
    "id": "_yKxinRiysGZ"
   },
   "outputs": [
    {
     "name": "stdout",
     "output_type": "stream",
     "text": [
      "all lowercase\n"
     ]
    }
   ],
   "source": [
    "# store \"ALL LOWERCASE\" inside the variable: my_string\n",
    "my_string = \"ALL LOWERCASE\"\n",
    "\n",
    "# convert my_string into all lowercase\n",
    "print(my_string.lower())"
   ]
  },
  {
   "cell_type": "markdown",
   "metadata": {
    "id": "OV9lmZhyyUHe"
   },
   "source": [
    "### split()"
   ]
  },
  {
   "cell_type": "code",
   "execution_count": 6,
   "metadata": {
    "id": "78oyyWK0x92V"
   },
   "outputs": [
    {
     "name": "stdout",
     "output_type": "stream",
     "text": [
      "['all', 'the', 'things', 'you', 'are']\n"
     ]
    }
   ],
   "source": [
    "# store \"all the things you are\" inside the variable: song\n",
    "song = \"all the things you are\"\n",
    "\n",
    "# split each word into a comma separated list (defaul is whitespace)\n",
    "split_song = song.split()\n",
    "\n",
    "# print split_song\n",
    "print(split_song)"
   ]
  },
  {
   "cell_type": "markdown",
   "metadata": {
    "id": "-SvUZAVAOwu0"
   },
   "source": [
    "### Variable reassignment\n",
    "Variable reassignment will come in handy as a data analyst. For example, when working with Python and data, you will often create new versions of a table or dataset, and variable reassignment is a popular method of accomplishing this task."
   ]
  },
  {
   "cell_type": "code",
   "execution_count": 7,
   "metadata": {
    "id": "u-MeKfuTOvWI"
   },
   "outputs": [
    {
     "name": "stdout",
     "output_type": "stream",
     "text": [
      "['all', 'the', 'things', 'you', 'are']\n"
     ]
    }
   ],
   "source": [
    "# make a permanent split operation on song\n",
    "song = song.split()\n",
    "\n",
    "# print song\n",
    "print(song)"
   ]
  },
  {
   "cell_type": "markdown",
   "metadata": {
    "id": "XItlUoZu_i3I"
   },
   "source": [
    "Here is a list of Python string methods for practice:\n",
    "\n",
    "- **casefold()** Converts string into lower case\n",
    "- **center()** Returns a centered string\n",
    "- **count()** Returns the number of times a specified value occurs in a string\n",
    "- **encode()** Returns an encoded version of the string\n",
    "- **endswith()** Returns true if the string ends with the specified value\n",
    "- **expandtabs()** Sets the tab size of the string\n",
    "- **find()** Searches the string for a specified value and returns the position of where it was found\n",
    "- **format()** Formats specified values in a string\n",
    "- **format_map()** Formats specified values in a string\n",
    "- **index()** Searches the string for a specified value and returns the position of where it was found\n",
    "- **isalnum()** Returns True if all characters in the string are alphanumeric\n",
    "- **isalpha()** Returns True if all characters in the string are in the alphabet\n",
    "- **isdecimal()** Returns True if all characters in the string are decimals\n",
    "- **isdigit()** Returns True if all characters in the string are digits\n",
    "- **isidentifier()** Returns True if the string is an identifier\n",
    "- **islower()** Returns True if all characters in the string are lower case\n",
    "- **isnumeric()** Returns True if all characters in the string are numeric\n",
    "- **isprintable()** Returns True if all characters in the string are printable\n",
    "- **isspace()** Returns True if all characters in the string are whitespaces\n",
    "- **istitle()** Returns True if the string follows the rules of a title\n",
    "- **isupper()** Returns True if all characters in the string are upper case\n",
    "- **join()** Joins the elements of an iterable to the end of the string\n",
    "- **ljust()** Returns a left-justified version of the string\n",
    "- **lstrip()** Returns a left trim version of the string\n",
    "- **maketrans()** Returns a translation table to be used in translations\n",
    "- **partition()** Returns a tuple where the string is parted into three parts\n",
    "- **replace()** Returns a string where a specified value is replaced with a specified value\n",
    "- **rfind()** Searches the string for a specified value and returns the last position of where it was found\n",
    "- **rindex()** Searches the string for a specified value and returns the last position of where it was found\n",
    "- **rjust()** Returns a right-justified version of the string\n",
    "- **rpartition()** Returns a tuple where the string is parted into three parts\n",
    "- **rsplit()** Splits the string at the specified separator and returns a list\n",
    "- **rstrip()** Returns a right trim version of the string\n",
    "- **splitlines()** Splits the string at line breaks and returns a list\n",
    "- **startswith()** Returns true if the string starts with the specified value\n",
    "- **strip()** Returns a trimmed version of the string\n",
    "- **swapcase()** Swaps cases, lower case becomes upper case and vice versa\n",
    "- **title()** Converts the first character of each word to upper case\n",
    "- **translate()** Returns a translated string\n",
    "\n"
   ]
  },
  {
   "cell_type": "markdown",
   "metadata": {
    "id": "1_PEWmtGRUfB"
   },
   "source": [
    "## Bonus Example"
   ]
  },
  {
   "cell_type": "code",
   "execution_count": null,
   "metadata": {
    "colab": {
     "base_uri": "https://localhost:8080/"
    },
    "executionInfo": {
     "elapsed": 341,
     "status": "ok",
     "timestamp": 1640814467865,
     "user": {
      "displayName": "Jonathan Barrios",
      "photoUrl": "https://lh3.googleusercontent.com/a-/AOh14Gj_KFXU5phanoATkzhhR3Yb2zDYFB4nnTYMF3cP=s64",
      "userId": "16097537147383230085"
     },
     "user_tz": 360
    },
    "id": "LG_b0t4KQj0C",
    "outputId": "8d2ee911-c375-44e2-8f8c-b7694d03a31d"
   },
   "outputs": [
    {
     "name": "stdout",
     "output_type": "stream",
     "text": [
      "🦜🦜🦜🦜🦜 PARROTS! 🦜🦜🦜🦜🦜\n"
     ]
    }
   ],
   "source": [
    "some_string = ' PARROTS! '\n",
    "some_string = some_string.center(20, \"🦜\") #20 is the total number of characters\n",
    "print(some_string)"
   ]
  }
 ],
 "metadata": {
  "colab": {
   "collapsed_sections": [
    "OV9lmZhyyUHe",
    "1_PEWmtGRUfB"
   ],
   "name": "4_4_string_methods_START.ipynb",
   "provenance": []
  },
  "kernelspec": {
   "display_name": "Python 3 (ipykernel)",
   "language": "python",
   "name": "python3"
  },
  "language_info": {
   "codemirror_mode": {
    "name": "ipython",
    "version": 3
   },
   "file_extension": ".py",
   "mimetype": "text/x-python",
   "name": "python",
   "nbconvert_exporter": "python",
   "pygments_lexer": "ipython3",
   "version": "3.11.4"
  }
 },
 "nbformat": 4,
 "nbformat_minor": 1
}
