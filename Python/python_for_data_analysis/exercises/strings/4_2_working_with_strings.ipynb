{
 "cells": [
  {
   "cell_type": "markdown",
   "metadata": {
    "id": "ob3QcwOivWCu"
   },
   "source": [
    "# Strings\n",
    "\n",
    "When working with strings, use double quotes to avoid confusion with apostrophes such as `it's` or `that's`, which breaks up your code in a way that causes errors.\n",
    "\n",
    "What's interesting about strings is that you can also use the `+` operator to concatenate strings or join strings together. For example, `print(\"Hello, \" + \"World!\")` returns the string `Hello, World!`.\n",
    "\n",
    "Let's review double quotes, single quotes, and the concatenation operator:"
   ]
  },
  {
   "cell_type": "code",
   "execution_count": 3,
   "metadata": {
    "id": "x2bmR61gvjyE"
   },
   "outputs": [],
   "source": [
    "# Three single quotes will cause an error\n"
   ]
  },
  {
   "cell_type": "code",
   "execution_count": 7,
   "metadata": {
    "id": "_yKxinRiysGZ"
   },
   "outputs": [
    {
     "name": "stdout",
     "output_type": "stream",
     "text": [
      "Tom's\n",
      "Tom's\n",
      "Tom's shoe\n"
     ]
    }
   ],
   "source": [
    "# To avoid these syntax errors, you can either use `\"` or escape the character\n",
    "\n",
    "# Double quotes\n",
    "print (\"Tom's\")\n",
    "\n",
    "# Escaping using the `\\` character\n",
    "print ('Tom\\'s')\n",
    "\n",
    "# The concatenation operator will concatenate, or join two or more stings. Remember to use spaces!\n",
    "print (\"Tom's \" + \"shoe\")\n",
    "\n",
    "# The takeaway: use double quotes or escape the odd single quotes"
   ]
  },
  {
   "cell_type": "markdown",
   "metadata": {
    "id": "jMIeuQ7uvZ3a"
   },
   "source": [
    "## Type conversion\n",
    "\n",
    "If you want to change a numeric data type such as an `int` or `float` to a string, you might recall that you can use `' '` or `\" \"` to covert both integers and floats into strings. For example, the variables `my_int` and `my_float` can be converted into strings by enclosing their values with single or double-quotes. For example, `my_int = \"42\"` and `my_float = \"3.14\"`—check your work using the `type()` method."
   ]
  },
  {
   "cell_type": "code",
   "execution_count": 8,
   "metadata": {
    "id": "cRwZ1_UjvYYC"
   },
   "outputs": [
    {
     "data": {
      "text/plain": [
       "str"
      ]
     },
     "execution_count": 8,
     "metadata": {},
     "output_type": "execute_result"
    }
   ],
   "source": [
    "# \"42\" is a string, not a number like 42 (without quotes)\n",
    "\n",
    "\n",
    "# check the data type\n",
    "type(\"42\")"
   ]
  },
  {
   "cell_type": "code",
   "execution_count": 9,
   "metadata": {
    "id": "shOMuVt3wBBP"
   },
   "outputs": [
    {
     "data": {
      "text/plain": [
       "float"
      ]
     },
     "execution_count": 9,
     "metadata": {},
     "output_type": "execute_result"
    }
   ],
   "source": [
    "# \"3.14\" is also a string, not a float like 3.14 (without quotes)\n",
    "\n",
    "\n",
    "# check the data type\n",
    "type(3.14)"
   ]
  },
  {
   "cell_type": "code",
   "execution_count": 10,
   "metadata": {
    "id": "D0UjX2cadfat"
   },
   "outputs": [
    {
     "name": "stdout",
     "output_type": "stream",
     "text": [
      "Enter a number from 1 - 10: 4\n"
     ]
    },
    {
     "data": {
      "text/plain": [
       "str"
      ]
     },
     "execution_count": 10,
     "metadata": {},
     "output_type": "execute_result"
    }
   ],
   "source": [
    "# ask for user input\n",
    "number = input(\"Enter a number from 1 - 10: \")\n",
    "\n",
    "# check the data type\n",
    "type(number)"
   ]
  },
  {
   "cell_type": "code",
   "execution_count": 11,
   "metadata": {
    "id": "Mr5z93fHdyLQ"
   },
   "outputs": [
    {
     "name": "stdout",
     "output_type": "stream",
     "text": [
      "Enter a number from 1 - 10: 3\n"
     ]
    },
    {
     "data": {
      "text/plain": [
       "int"
      ]
     },
     "execution_count": 11,
     "metadata": {},
     "output_type": "execute_result"
    }
   ],
   "source": [
    "# ask for user input\n",
    "number = input(\"Enter a number from 1 - 10: \")\n",
    "\n",
    "# check the data type of number wrapped by the int() function\n",
    "type(int(number))"
   ]
  },
  {
   "cell_type": "markdown",
   "metadata": {
    "id": "VkQKfIUiXAfK"
   },
   "source": [
    "## String Formatting\n",
    "\n",
    "The placeholders can include named indexes `{name}`, numbered indexes `{0}`, and empty placeholders `{}`. Here are three examples:\n",
    "\n",
    "```python\n",
    "example_1 = \"My name is {name}\".format(name = \"John Coltrane\")\n",
    "example_2 = \"My name is {0}\".format(\"John Coltrane\")\n",
    "example_3 = \"My name is {}\".format(\"John Coltrane\")\n",
    "```"
   ]
  },
  {
   "cell_type": "code",
   "execution_count": 14,
   "metadata": {
    "id": "b-TV2wDyXBHS"
   },
   "outputs": [
    {
     "name": "stdout",
     "output_type": "stream",
     "text": [
      "John Coltrane practiced 12 hours a day\n"
     ]
    }
   ],
   "source": [
    "# use string formatting to return the string: John Coltrane practiced 12 hours a day\n",
    "statement = \"{name} practiced 12 hours a day\".format(name = \"John Coltrane\")\n",
    "print(statement)"
   ]
  },
  {
   "cell_type": "code",
   "execution_count": null,
   "metadata": {
    "id": "bxfHjxr_XTQG"
   },
   "outputs": [],
   "source": [
    "# print musician\n"
   ]
  },
  {
   "cell_type": "markdown",
   "metadata": {
    "id": "hMVq1xP1FiZx"
   },
   "source": [
    "#### String concatenation method"
   ]
  },
  {
   "cell_type": "code",
   "execution_count": 15,
   "metadata": {
    "id": "0QBcZeHQd7aY"
   },
   "outputs": [
    {
     "name": "stdout",
     "output_type": "stream",
     "text": [
      "7 is my favorite number and this is a True statement. My friends know that 7 is my lucky number.\n"
     ]
    },
    {
     "data": {
      "text/plain": [
       "str"
      ]
     },
     "execution_count": 15,
     "metadata": {},
     "output_type": "execute_result"
    }
   ],
   "source": [
    "# assign to variable complex_string: 7 is my favorite number and this is a True statement. My friends know that 7 is my lucky number.\n",
    "complex_string = \"7 is my favorite number and this is a True statement. My friends know that 7 is my lucky number.\"\n",
    "\n",
    "# print complex_string\n",
    "print(complex_string)\n",
    "\n",
    "# check data type\n",
    "type(complex_string)"
   ]
  },
  {
   "cell_type": "markdown",
   "metadata": {
    "id": "NqR3xCdKFmBT"
   },
   "source": [
    "#### String formatting method"
   ]
  },
  {
   "cell_type": "code",
   "execution_count": null,
   "metadata": {
    "id": "yOjhp4SZQusR"
   },
   "outputs": [],
   "source": [
    "# assign to variable complex_string: 7 is my favorite number and this is a True statement. My friends know that 7 is my lucky number.\n",
    "\n",
    "# print complex_string\n",
    "\n",
    "# check data type\n"
   ]
  }
 ],
 "metadata": {
  "colab": {
   "collapsed_sections": [],
   "name": "4_2_working_with_strings_START.ipynb",
   "provenance": []
  },
  "kernelspec": {
   "display_name": "Python 3 (ipykernel)",
   "language": "python",
   "name": "python3"
  },
  "language_info": {
   "codemirror_mode": {
    "name": "ipython",
    "version": 3
   },
   "file_extension": ".py",
   "mimetype": "text/x-python",
   "name": "python",
   "nbconvert_exporter": "python",
   "pygments_lexer": "ipython3",
   "version": "3.11.4"
  }
 },
 "nbformat": 4,
 "nbformat_minor": 1
}
