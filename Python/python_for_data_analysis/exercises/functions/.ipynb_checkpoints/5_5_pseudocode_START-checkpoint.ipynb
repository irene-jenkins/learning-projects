{
 "cells": [
  {
   "cell_type": "markdown",
   "metadata": {
    "id": "9MVpI31BWpTy"
   },
   "source": [
    "# Pseudocode\n",
    "\n",
    "Pseudocode is a set of plain language instructions to help you build applications, even algorithms. So why would you use pseudocode instead of actual code? \n",
    "\n",
    "Here's why. \n",
    "\n",
    "Writing syntax and the logic of an application is much more complicated than focusing on one at a time. \n",
    "\n",
    "For example, why not figure out the logic of your app before you actually start writing Python code? That is precisely the benefit of using pseudocode—you can figure out what you want the app before writing any code. \n",
    "\n",
    "Let's try this out by building a simple application using all of your learned skills so far."
   ]
  },
  {
   "cell_type": "markdown",
   "metadata": {
    "id": "YWF5yOtMgmxf"
   },
   "source": [
    "## The Classic Temperature Converter App\n",
    "\n",
    "It is a rite of passage to write a temperature conversion app when learning to code. In this video, you'll create a function that converts a temperature from degrees Celcius to Fahrenheit using pseudocode. \n",
    "\n",
    "### Pseudocode\n",
    "\n",
    "\n",
    "1. Create a function named **celsius_app**\n",
    "2. Add **celsius** as the parameter\n",
    "3. Inside of the function, define **celsius multiplied by 1.8** as a variable named **result**\n",
    "4. Use the return keyword to **return result** plus **32**\n",
    "5. Call the function using the function name and an argument of 0"
   ]
  },
  {
   "cell_type": "markdown",
   "metadata": {
    "id": "QcdwdUpShJM1"
   },
   "source": [
    "## One Solution\n",
    "First, define the function and name it something like `celsius_app` and remember to add the `():` at the end of the function name:"
   ]
  },
  {
   "cell_type": "code",
   "execution_count": null,
   "metadata": {
    "id": "Bn5ggo4UjKHL"
   },
   "outputs": [],
   "source": [
    "# define a function named celsius_app with celsius as the parameter\n",
    "def celsius_app(celsius):"
   ]
  },
  {
   "cell_type": "markdown",
   "metadata": {
    "id": "eX3GSB8xggVX"
   },
   "source": [
    "Next, let's add the following formula to our function. This logic will do the heavy lifting of converting degrees Celsius to Fahrenheit. To convert degrees Celsius to Fahrenheit, multiply by `1.8` (or `9/5`) and add `32`. So first, let's multiply degrees Celsius by `1.8`:"
   ]
  },
  {
   "cell_type": "code",
   "execution_count": null,
   "metadata": {
    "id": "CViTaGfvjYDp"
   },
   "outputs": [],
   "source": [
    "# assign celsius * 1.8 to result\n",
    "def celsius_app(celsius):\n",
    "    result = celsius * 1.8"
   ]
  },
  {
   "cell_type": "markdown",
   "metadata": {
    "id": "E1GdW3X47WjF"
   },
   "source": [
    "Run the code below:"
   ]
  },
  {
   "cell_type": "code",
   "execution_count": 1,
   "metadata": {
    "id": "b_H3p-a_7Syw"
   },
   "outputs": [],
   "source": [
    "# return result + 32\n",
    "def celsius_app(celsius):\n",
    "    result = celsius * 1.8\n",
    "    return result + 32"
   ]
  },
  {
   "cell_type": "markdown",
   "metadata": {
    "id": "lM64cCgvgPPv"
   },
   "source": [
    "If you ran the above code, you will have noticed that notihing happened. Why is that? Remember, to run a function, you must call the function by it's name and pass in arguments, if any. Calling a custom fucntion is much like calling built-in functions like `len(\"Jonathan\")`. In this case, we want to call `celsius_app` and pass in the following arguments `(0)` which should look like this: `celsius_app(0)`. Here is the completed function:"
   ]
  },
  {
   "cell_type": "code",
   "execution_count": 2,
   "metadata": {
    "id": "BJovJ1XLgIcX"
   },
   "outputs": [
    {
     "data": {
      "text/plain": [
       "32.0"
      ]
     },
     "execution_count": 2,
     "metadata": {},
     "output_type": "execute_result"
    }
   ],
   "source": [
    "# define celsius_app function with celsius parameter\n",
    "def celsius_app(celsius):\n",
    "# save celsius * 1.8 as result\n",
    "    result = celsius * 1.8\n",
    "# return result + 32\n",
    "    return result + 32\n",
    "\n",
    "# call the function and pass in 0 as an argument\n",
    "celsius_app(0)"
   ]
  },
  {
   "cell_type": "markdown",
   "metadata": {
    "id": "HYs_koUUgCjb"
   },
   "source": [
    "\n",
    "If everything went well, you see an output of `32`. Nice job if you got the right answer. If not, keep trying and you will get it soon enough. 💪🏼"
   ]
  }
 ],
 "metadata": {
  "colab": {
   "authorship_tag": "ABX9TyN+IomugJ3hjyZr3UpIP0xi",
   "collapsed_sections": [],
   "name": "5_5_pseudocode_START.ipynb",
   "provenance": []
  },
  "kernelspec": {
   "display_name": "Python 3 (ipykernel)",
   "language": "python",
   "name": "python3"
  },
  "language_info": {
   "codemirror_mode": {
    "name": "ipython",
    "version": 3
   },
   "file_extension": ".py",
   "mimetype": "text/x-python",
   "name": "python",
   "nbconvert_exporter": "python",
   "pygments_lexer": "ipython3",
   "version": "3.11.4"
  }
 },
 "nbformat": 4,
 "nbformat_minor": 1
}
