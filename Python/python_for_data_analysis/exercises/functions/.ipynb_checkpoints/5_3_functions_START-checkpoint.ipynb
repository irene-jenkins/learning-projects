{
 "cells": [
  {
   "cell_type": "markdown",
   "metadata": {
    "id": "CzQKCpTDNcpm"
   },
   "source": [
    "# Functions\n",
    "Python has many built-in functions that you can use right away. For example, `len()` is a [built-in Python](https://docs.python.org/3/library/functions.html) function that counts the number of items in an object. "
   ]
  },
  {
   "cell_type": "code",
   "execution_count": 1,
   "metadata": {
    "id": "pYiwLMn0NeZi"
   },
   "outputs": [
    {
     "data": {
      "text/plain": [
       "9"
      ]
     },
     "execution_count": 1,
     "metadata": {},
     "output_type": "execute_result"
    }
   ],
   "source": [
    "# count the items in \"Constance\"\n",
    "len(\"Constance\")"
   ]
  },
  {
   "cell_type": "markdown",
   "metadata": {
    "id": "BSbFQn4LNtOR"
   },
   "source": [
    "You can also use variables as arguments that you pass into a function."
   ]
  },
  {
   "cell_type": "code",
   "execution_count": 2,
   "metadata": {
    "id": "8cPb-1q9NiFi"
   },
   "outputs": [
    {
     "data": {
      "text/plain": [
       "9"
      ]
     },
     "execution_count": 2,
     "metadata": {},
     "output_type": "execute_result"
    }
   ],
   "source": [
    "# assign \"Constance\" to variable: name\n",
    "name = \"Constance\"\n",
    "\n",
    "# count the items in the name variable\n",
    "len(name)"
   ]
  },
  {
   "cell_type": "markdown",
   "metadata": {
    "id": "9q5PRUJVk1L4"
   },
   "source": [
    "## Arguments vs. Parameters\n",
    "\n",
    "Before moving forward, you should know the difference between a parameter and an argument. A parameter is a variable inside the function parenthesis, while an argument is data you add inside the function call parenthesis. For example, here is a function and function call showing you where each goes:\n",
    "\n",
    "```python\n",
    "# function and parameter\n",
    "def some_function(parameter):\n",
    " print(parameter)\n",
    "\n",
    "# function call and argument\n",
    "some_function(argument)\n",
    "```"
   ]
  },
  {
   "cell_type": "markdown",
   "metadata": {
    "id": "7SWoKDv5kvs2"
   },
   "source": [
    "## Writing functions\n",
    "\n",
    "Now it's your turn to write a function by following these steps:\n",
    "\n",
    "1. Start with the `def` keyword\n",
    "2. Name the function, like `greeter`\n",
    "3. Add `():` after the name\n",
    "4. Insert optional parameters inside of `():`"
   ]
  },
  {
   "cell_type": "code",
   "execution_count": 3,
   "metadata": {
    "id": "77tRt5P4OxF8"
   },
   "outputs": [
    {
     "name": "stdout",
     "output_type": "stream",
     "text": [
      "Constance\n"
     ]
    }
   ],
   "source": [
    "# define a function named: greeter\n",
    "def greeter():\n",
    "    \n",
    "  # print \"Constance\"\n",
    "    print(\"Constance\")\n",
    "\n",
    "\n",
    "# call the function\n",
    "greeter()"
   ]
  },
  {
   "cell_type": "code",
   "execution_count": 4,
   "metadata": {
    "id": "u68evQgmPF7X"
   },
   "outputs": [
    {
     "name": "stdout",
     "output_type": "stream",
     "text": [
      "Constance\n"
     ]
    }
   ],
   "source": [
    "# assign \"Constance\" as a string to variable: myName\n",
    "my_name = \"Constance\"\n",
    "\n",
    "# define a function named: greeter (include name argument)\n",
    "def greeter(name):\n",
    "  # print name\n",
    "    print(name)\n",
    "\n",
    "# call the function and pass in myName as the argument\n",
    "greeter(my_name)"
   ]
  },
  {
   "cell_type": "markdown",
   "metadata": {
    "id": "rmeZr15p0oO-"
   },
   "source": [
    "### User input as a variable\n",
    "How you structure your code can change the behavior of your functions, which is a good thing. For example, consider the difference between an input used inside the function and the latter outside the function. \n",
    "\n",
    "Feel free to check out this [Python Tutor example](https://pythontutor.com/visualize.html#code=%23%20ask%20the%20user%20to%20input%20their%20name%20and%20assignt%20to%20variable%3A%20user_name%0Auser_name%20%3D%20input%28'Enter%20your%20first%20name%3A%20'%29%0A%0A%23%20define%20greeter%20function%20with%20name%20as%20parameter%0Adef%20greeter%28name%29%3A%0A%20%20%23%20print%20Hello,%20and%20variable%3A%20name%20%28%2B%20%22!%22%29%0A%20%20print%28%22Hello,%20%22%20%2B%20name%20%2B%20%22!%22%29%0A%20%20%23%20ask%20the%20user%20to%20input%20their%20career%20field%20and%20asssign%20to%20variable%3A%20field%0A%20%20field%20%3D%20input%28%22What's%20your%20career%20field%3F%20%22%29%0A%20%20%23%20print%20%22Nice!%20Who%20doesn't%20love%20%28user's%20field%20here%29%3F%0A%20%20print%28%22Nice!%20Who%20doesn't%20love%20%22%20%2B%20field%20%2B%20%22%3F%22%29%0A%0A%23%20call%20the%20function%0Agreeter%28user_name%29&cumulative=false&heapPrimitives=nevernest&mode=edit&origin=opt-frontend.js&py=3&rawInputLstJSON=%5B%5D&textReferences=false) once you comeplete the function below."
   ]
  },
  {
   "cell_type": "code",
   "execution_count": 5,
   "metadata": {
    "id": "C4CGCGkj0qpz"
   },
   "outputs": [
    {
     "name": "stdout",
     "output_type": "stream",
     "text": [
      "Enter your first name: Irene\n",
      "Hello, Irene!\n",
      "What is your field? Biotechnology\n",
      "Nice! Who doesn't love Biotechnology?\n"
     ]
    }
   ],
   "source": [
    "# ask the user to input their name and assignt to variable: user_name\n",
    "user_name = input(\"Enter your first name: \")\n",
    "\n",
    "# define greeter function with name as parameter\n",
    "def greeter(name):\n",
    "  # print Hello, and variable: name (+ \"!\")\n",
    "    print(\"Hello, \" + name + \"!\")\n",
    "  # ask the user to input their career field and asssign to variable: field\n",
    "    field = input(\"What is your field? \")\n",
    "  # print \"Nice! Who doesn't love (user's field here)?\n",
    "    print(\"Nice! Who doesn't love \" + field + \"?\")\n",
    "\n",
    "# call the function\n",
    "greeter(user_name)"
   ]
  },
  {
   "cell_type": "code",
   "execution_count": 6,
   "metadata": {
    "id": "gJGUQXM004Tm"
   },
   "outputs": [
    {
     "name": "stdout",
     "output_type": "stream",
     "text": [
      "Hello, Lisa!\n",
      "What is your field? Data Analysis\n",
      "Nice! Who doesn't love Data Analysis?\n"
     ]
    }
   ],
   "source": [
    "# call the greeter function and add a name in quotes as the argument\n",
    "greeter(\"Lisa\")"
   ]
  },
  {
   "cell_type": "markdown",
   "metadata": {
    "id": "1Lev6_N9KXOR"
   },
   "source": [
    "## if statements"
   ]
  },
  {
   "cell_type": "code",
   "execution_count": 7,
   "metadata": {
    "id": "fPON-7JoKkqt"
   },
   "outputs": [
    {
     "name": "stdout",
     "output_type": "stream",
     "text": [
      "It's True!\n"
     ]
    }
   ],
   "source": [
    "# if true\n",
    "if True:\n",
    "  # do this\n",
    "    print(\"It's True!\")\n",
    "  "
   ]
  },
  {
   "cell_type": "code",
   "execution_count": 8,
   "metadata": {
    "id": "HDe_znBGK1QC"
   },
   "outputs": [
    {
     "name": "stdout",
     "output_type": "stream",
     "text": [
      "It's True!\n"
     ]
    }
   ],
   "source": [
    "# if 1 + 1 ==2\n",
    "if 1 + 1 ==2:\n",
    "  # do this\n",
    "    print(\"It's True!\")"
   ]
  },
  {
   "cell_type": "code",
   "execution_count": 11,
   "metadata": {
    "id": "e6UOdScrK6x3"
   },
   "outputs": [],
   "source": [
    "# if 1 == 0\n",
    "if False:\n",
    "  # do this\n",
    "    print(\"It's True!\")\n",
    "\n",
    "# nothing happened, as expected"
   ]
  },
  {
   "cell_type": "code",
   "execution_count": 14,
   "metadata": {
    "id": "hxrlh2pBLMDt"
   },
   "outputs": [
    {
     "name": "stdout",
     "output_type": "stream",
     "text": [
      "It's True!\n"
     ]
    }
   ],
   "source": [
    " # if 10 > 1\n",
    "if 10 > 1:\n",
    "  # do this\n",
    "    print(\"It's True!\")"
   ]
  },
  {
   "cell_type": "markdown",
   "metadata": {
    "id": "5iBA0rrjNyFM"
   },
   "source": [
    "## Combining functions with if statements and operators"
   ]
  },
  {
   "cell_type": "code",
   "execution_count": 16,
   "metadata": {
    "id": "d3NzHHMJMIBv"
   },
   "outputs": [
    {
     "name": "stdout",
     "output_type": "stream",
     "text": [
      "5 is greater than 1\n"
     ]
    }
   ],
   "source": [
    "# write a Python function to check if 5 is greater than 1 and print result, if True\n",
    "def equality_checker():\n",
    "  if 5 > 1:  \n",
    "    print(\"5 is greater than 1\")\n",
    "\n",
    "# call the function    \n",
    "equality_checker()"
   ]
  },
  {
   "cell_type": "code",
   "execution_count": 18,
   "metadata": {
    "id": "SigJuhETN5-7"
   },
   "outputs": [
    {
     "name": "stdout",
     "output_type": "stream",
     "text": [
      "Enter an integer from 0 to 9: 5\n",
      "5 is greater than 1\n"
     ]
    }
   ],
   "source": [
    "# write a Python function to check if user input is greater than 1 and print result, if True\n",
    "n = input(\"Enter an integer from 0 to 9: \")\n",
    "\n",
    "def equality_checker(n):\n",
    "  if int(n) > 1:\n",
    "    print(\"5 is greater than 1\")\n",
    "\n",
    "# call the function\n",
    "equality_checker(n)"
   ]
  },
  {
   "cell_type": "code",
   "execution_count": 20,
   "metadata": {
    "id": "6NXcFW8jOWDx"
   },
   "outputs": [
    {
     "name": "stdout",
     "output_type": "stream",
     "text": [
      "Enter an integer from 0 to 9: 4\n",
      "4 is greater than 1\n"
     ]
    }
   ],
   "source": [
    "# write a Python function to check if n is greater than the integer 1 and print result—if True\n",
    "n = input(\"Enter an integer from 0 to 9: \")\n",
    "\n",
    "def equality_checker(n):\n",
    "  if int(5) > 1:\n",
    "    print(n + \" is greater than 1\")\n",
    "\n",
    "# call the function    \n",
    "equality_checker(n)"
   ]
  },
  {
   "cell_type": "code",
   "execution_count": null,
   "metadata": {},
   "outputs": [],
   "source": []
  }
 ],
 "metadata": {
  "colab": {
   "collapsed_sections": [],
   "name": "5_3_functions_START.ipynb",
   "provenance": []
  },
  "kernelspec": {
   "display_name": "Python 3 (ipykernel)",
   "language": "python",
   "name": "python3"
  },
  "language_info": {
   "codemirror_mode": {
    "name": "ipython",
    "version": 3
   },
   "file_extension": ".py",
   "mimetype": "text/x-python",
   "name": "python",
   "nbconvert_exporter": "python",
   "pygments_lexer": "ipython3",
   "version": "3.11.4"
  }
 },
 "nbformat": 4,
 "nbformat_minor": 1
}
