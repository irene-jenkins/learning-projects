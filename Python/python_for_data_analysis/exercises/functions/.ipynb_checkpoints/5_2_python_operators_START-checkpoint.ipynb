{
 "cells": [
  {
   "cell_type": "markdown",
   "metadata": {
    "id": "1Q06fE1xRK8z"
   },
   "source": [
    "## Comparison operators\n",
    "\n",
    "A math operator is a character that performs an operation on one or more objects, called operands. Remember that comparison operators will always return a `True` or `False` response.\n",
    "\n",
    "To explore Python comparison operators, try out the following comparison operations:"
   ]
  },
  {
   "cell_type": "code",
   "execution_count": 1,
   "metadata": {
    "id": "nqRU8CLMRL2x"
   },
   "outputs": [
    {
     "data": {
      "text/plain": [
       "False"
      ]
     },
     "execution_count": 1,
     "metadata": {},
     "output_type": "execute_result"
    }
   ],
   "source": [
    "# False ==\n",
    "1 == 2"
   ]
  },
  {
   "cell_type": "code",
   "execution_count": 2,
   "metadata": {
    "id": "GTG_vRe6RNmq"
   },
   "outputs": [
    {
     "data": {
      "text/plain": [
       "True"
      ]
     },
     "execution_count": 2,
     "metadata": {},
     "output_type": "execute_result"
    }
   ],
   "source": [
    "# True !=\n",
    "1 != 2"
   ]
  },
  {
   "cell_type": "code",
   "execution_count": 3,
   "metadata": {
    "id": "y_JyY5qsRRbD"
   },
   "outputs": [
    {
     "data": {
      "text/plain": [
       "True"
      ]
     },
     "execution_count": 3,
     "metadata": {},
     "output_type": "execute_result"
    }
   ],
   "source": [
    "# True <\n",
    "\n",
    "1 < 2"
   ]
  },
  {
   "cell_type": "code",
   "execution_count": 4,
   "metadata": {
    "id": "PTUZIY6rRSbk"
   },
   "outputs": [
    {
     "data": {
      "text/plain": [
       "False"
      ]
     },
     "execution_count": 4,
     "metadata": {},
     "output_type": "execute_result"
    }
   ],
   "source": [
    "# False >\n",
    "1 > 2"
   ]
  },
  {
   "cell_type": "markdown",
   "metadata": {
    "id": "IvOT4AgyRWjZ"
   },
   "source": [
    "We also have `<=` and `>=` comparison operators. Let's try out some *greater than or equal to* and less than or equal to comparisons in the following examples:\n"
   ]
  },
  {
   "cell_type": "code",
   "execution_count": 5,
   "metadata": {
    "id": "utgS4CvdRSq3"
   },
   "outputs": [
    {
     "data": {
      "text/plain": [
       "True"
      ]
     },
     "execution_count": 5,
     "metadata": {},
     "output_type": "execute_result"
    }
   ],
   "source": [
    "# True <=\n",
    "\n",
    "5 <= 5"
   ]
  },
  {
   "cell_type": "code",
   "execution_count": 6,
   "metadata": {
    "id": "bOTKT8AWRXE8"
   },
   "outputs": [
    {
     "data": {
      "text/plain": [
       "True"
      ]
     },
     "execution_count": 6,
     "metadata": {},
     "output_type": "execute_result"
    }
   ],
   "source": [
    "# True >=\n",
    "10 >= 9"
   ]
  },
  {
   "cell_type": "code",
   "execution_count": 7,
   "metadata": {
    "id": "0s_glMaQRhsi"
   },
   "outputs": [
    {
     "data": {
      "text/plain": [
       "False"
      ]
     },
     "execution_count": 7,
     "metadata": {},
     "output_type": "execute_result"
    }
   ],
   "source": [
    "# False >=\n",
    "10 >= 11"
   ]
  },
  {
   "cell_type": "code",
   "execution_count": 8,
   "metadata": {
    "id": "yHMny34-RtO9"
   },
   "outputs": [
    {
     "data": {
      "text/plain": [
       "True"
      ]
     },
     "execution_count": 8,
     "metadata": {},
     "output_type": "execute_result"
    }
   ],
   "source": [
    "# True <=\n",
    "10 <= 10"
   ]
  },
  {
   "cell_type": "code",
   "execution_count": 9,
   "metadata": {
    "id": "50fZb8TZRwD0"
   },
   "outputs": [
    {
     "data": {
      "text/plain": [
       "False"
      ]
     },
     "execution_count": 9,
     "metadata": {},
     "output_type": "execute_result"
    }
   ],
   "source": [
    "# False <=\n",
    "11 <= 10"
   ]
  },
  {
   "cell_type": "markdown",
   "metadata": {
    "id": "h1bmJXXCR5TE"
   },
   "source": [
    "Finally, you can also use the equal `==` and not equal `!=` comparison operators on strings. For example, `\"Yes\" == \"Yes\"`returns True. String comparisons are case-sensitive, so keep that in mind. For example, `\"Yes\" == \"yes\"` would return False.\n",
    "\n",
    "The `==` checks equality of values and data type. For example, ` 3 == \"3\"` will return `False` because they are not the same data type even though they are both `3`. In contrast, ` 3 == 3` will return `True` because they are the same value and data type.\n",
    "\n",
    "Let's try using the equal `==` and not equal `!=` comparison operators on the `Bool` values:"
   ]
  },
  {
   "cell_type": "code",
   "execution_count": 10,
   "metadata": {
    "id": "OmqlGP4fRzo2"
   },
   "outputs": [
    {
     "data": {
      "text/plain": [
       "False"
      ]
     },
     "execution_count": 10,
     "metadata": {},
     "output_type": "execute_result"
    }
   ],
   "source": [
    "# False ==\n",
    "\n",
    "True == False"
   ]
  },
  {
   "cell_type": "code",
   "execution_count": 11,
   "metadata": {
    "id": "vChjBE6aR8mZ"
   },
   "outputs": [
    {
     "data": {
      "text/plain": [
       "True"
      ]
     },
     "execution_count": 11,
     "metadata": {},
     "output_type": "execute_result"
    }
   ],
   "source": [
    "# True ==\n",
    "\n",
    "True == True"
   ]
  },
  {
   "cell_type": "code",
   "execution_count": 13,
   "metadata": {
    "id": "kGPxDkaER95G"
   },
   "outputs": [
    {
     "data": {
      "text/plain": [
       "False"
      ]
     },
     "execution_count": 13,
     "metadata": {},
     "output_type": "execute_result"
    }
   ],
   "source": [
    "# False !=\n",
    "\n",
    "False != False"
   ]
  },
  {
   "cell_type": "code",
   "execution_count": 14,
   "metadata": {
    "id": "beO2eVXnR-2r"
   },
   "outputs": [
    {
     "data": {
      "text/plain": [
       "True"
      ]
     },
     "execution_count": 14,
     "metadata": {},
     "output_type": "execute_result"
    }
   ],
   "source": [
    "# True !=\n",
    "\n",
    "True != False"
   ]
  },
  {
   "cell_type": "markdown",
   "metadata": {
    "id": "CtwwOodoSKgR"
   },
   "source": [
    "## Logical Operators\n",
    "\n",
    "Logical operators are great when you want to combine conditional statements. Try out the following examples, and be sure to type your own code as you try them out:\n",
    "\n"
   ]
  },
  {
   "cell_type": "code",
   "execution_count": 15,
   "metadata": {
    "id": "frbUXa7OYEZJ"
   },
   "outputs": [
    {
     "data": {
      "text/plain": [
       "True"
      ]
     },
     "execution_count": 15,
     "metadata": {},
     "output_type": "execute_result"
    }
   ],
   "source": [
    "# assign the value 3 to variable: n\n",
    "n = 3\n",
    "\n",
    "# and logical operator\n",
    "n > 2 and n < 10"
   ]
  },
  {
   "cell_type": "code",
   "execution_count": 16,
   "metadata": {
    "id": "KAj_OHHeYEWx"
   },
   "outputs": [
    {
     "data": {
      "text/plain": [
       "True"
      ]
     },
     "execution_count": 16,
     "metadata": {},
     "output_type": "execute_result"
    }
   ],
   "source": [
    "# assign the value 9 to variable: n\n",
    "n = 9\n",
    "\n",
    "# and logical operator\n",
    "n > 2 and n < 10"
   ]
  },
  {
   "cell_type": "code",
   "execution_count": 17,
   "metadata": {
    "id": "yO2YyetDYETy"
   },
   "outputs": [
    {
     "data": {
      "text/plain": [
       "False"
      ]
     },
     "execution_count": 17,
     "metadata": {},
     "output_type": "execute_result"
    }
   ],
   "source": [
    "# assign the value 9 to variable: n\n",
    "n = 9\n",
    "\n",
    "# not with and logical operator\n",
    "not(n > 2 and n < 10)"
   ]
  },
  {
   "cell_type": "markdown",
   "metadata": {
    "id": "KDGcmbc9SOP4"
   },
   "source": [
    "## Assignment Operators\n",
    "\n",
    "Assignment operators are great when you need to assign values to variables. Try out the following examples and be sure to write your own tests to really understand how assignment operators work:"
   ]
  },
  {
   "cell_type": "markdown",
   "metadata": {
    "id": "32uWaTWRzbAY"
   },
   "source": [
    "### Basic assigment operator"
   ]
  },
  {
   "cell_type": "code",
   "execution_count": 18,
   "metadata": {
    "id": "O-ySUV0rTerT"
   },
   "outputs": [
    {
     "name": "stdout",
     "output_type": "stream",
     "text": [
      "1\n"
     ]
    }
   ],
   "source": [
    "# assign the value of 1 to variable: n\n",
    "n = 1\n",
    "\n",
    "# print n\n",
    "print(n)"
   ]
  },
  {
   "cell_type": "markdown",
   "metadata": {
    "id": "GYjiCg6mzi_R"
   },
   "source": [
    "### Assigment math operators"
   ]
  },
  {
   "cell_type": "code",
   "execution_count": 19,
   "metadata": {
    "id": "w723fg9_VFYz"
   },
   "outputs": [
    {
     "name": "stdout",
     "output_type": "stream",
     "text": [
      "10\n"
     ]
    }
   ],
   "source": [
    "# assign the value of 1 to variable: n\n",
    "n = 1\n",
    "\n",
    "# addition +=\n",
    "n += 9\n",
    "\n",
    "# # print n to return value of 10\n",
    "print(n)"
   ]
  },
  {
   "cell_type": "code",
   "execution_count": 20,
   "metadata": {
    "id": "2tOyrZPDVHJb"
   },
   "outputs": [
    {
     "name": "stdout",
     "output_type": "stream",
     "text": [
      "9\n"
     ]
    }
   ],
   "source": [
    "# substraction -=\n",
    "n -= 1\n",
    "\n",
    "# print n to return value of 9\n",
    "print(n)"
   ]
  },
  {
   "cell_type": "code",
   "execution_count": 21,
   "metadata": {
    "id": "n2jslMRUVNGi"
   },
   "outputs": [
    {
     "name": "stdout",
     "output_type": "stream",
     "text": [
      "45\n"
     ]
    }
   ],
   "source": [
    "# multiplication *=\n",
    "n *= 5\n",
    "\n",
    "# print n to return value of 45\n",
    "print(n)"
   ]
  },
  {
   "cell_type": "code",
   "execution_count": 22,
   "metadata": {
    "id": "7GoyAbbTVUHI"
   },
   "outputs": [
    {
     "name": "stdout",
     "output_type": "stream",
     "text": [
      "9.0\n"
     ]
    }
   ],
   "source": [
    "# division /=\n",
    "n /= 5\n",
    "\n",
    "# print n to return value of 9.0\n",
    "print (n)"
   ]
  },
  {
   "cell_type": "code",
   "execution_count": 23,
   "metadata": {
    "id": "9iPhvp3_VdKc"
   },
   "outputs": [
    {
     "name": "stdout",
     "output_type": "stream",
     "text": [
      "9\n"
     ]
    }
   ],
   "source": [
    "# type cast n back into an int\n",
    "n = int(n)\n",
    "\n",
    "# print n to return integer value of 9\n",
    "print(n)"
   ]
  },
  {
   "cell_type": "code",
   "execution_count": 24,
   "metadata": {
    "id": "GSRxUrxMVh44"
   },
   "outputs": [
    {
     "name": "stdout",
     "output_type": "stream",
     "text": [
      "1\n"
     ]
    }
   ],
   "source": [
    "# modulo %=\n",
    "n %= 2\n",
    "\n",
    "# print n to return value of 1\n",
    "print(n)"
   ]
  },
  {
   "cell_type": "code",
   "execution_count": 25,
   "metadata": {
    "id": "1nM4wS4OVpqu"
   },
   "outputs": [
    {
     "name": "stdout",
     "output_type": "stream",
     "text": [
      "25.0\n"
     ]
    }
   ],
   "source": [
    "# assign the value of 75.9 to variable: n\n",
    "n = 75.9\n",
    "\n",
    "# floor division //= \n",
    "#floor division rounds down to the nearest integer\n",
    "n //= 3\n",
    "\n",
    "# print n to return value of 25.0\n",
    "print(n)"
   ]
  },
  {
   "cell_type": "code",
   "execution_count": 26,
   "metadata": {
    "id": "nVKp8HkwWG_q"
   },
   "outputs": [
    {
     "name": "stdout",
     "output_type": "stream",
     "text": [
      "25\n"
     ]
    }
   ],
   "source": [
    "# assign the value of 5 to variable: n\n",
    "n = 5\n",
    "\n",
    "# exponentiation **=\n",
    "n **= 2\n",
    "\n",
    "# print n to return value of 25\n",
    "print(n)"
   ]
  },
  {
   "cell_type": "markdown",
   "metadata": {
    "id": "RQoPtAPNSYnF"
   },
   "source": [
    "## Identity Operators\n",
    "\n",
    "Identity operators are great when you want to compare objects, so see if they are actually the same object:"
   ]
  },
  {
   "cell_type": "code",
   "execution_count": 28,
   "metadata": {
    "id": "hezGJPYrfgE5"
   },
   "outputs": [
    {
     "data": {
      "text/plain": [
       "True"
      ]
     },
     "execution_count": 28,
     "metadata": {},
     "output_type": "execute_result"
    }
   ],
   "source": [
    "a = 'Skateboard'\n",
    "b = 'Skateboard'\n",
    "#takes type and value into account\n",
    "\n",
    "a is b"
   ]
  },
  {
   "cell_type": "code",
   "execution_count": 29,
   "metadata": {
    "id": "P6q1_zVLfpxl"
   },
   "outputs": [
    {
     "data": {
      "text/plain": [
       "False"
      ]
     },
     "execution_count": 29,
     "metadata": {},
     "output_type": "execute_result"
    }
   ],
   "source": [
    "a = 'Longboard'\n",
    "b = 'Skateboard'\n",
    "\n",
    "a is b"
   ]
  },
  {
   "cell_type": "code",
   "execution_count": 30,
   "metadata": {
    "id": "b9WkhfZgfvDK"
   },
   "outputs": [
    {
     "data": {
      "text/plain": [
       "True"
      ]
     },
     "execution_count": 30,
     "metadata": {},
     "output_type": "execute_result"
    }
   ],
   "source": [
    "a = 'Longboard'\n",
    "b = 'Skateboard'\n",
    "\n",
    "a is not b"
   ]
  },
  {
   "cell_type": "markdown",
   "metadata": {
    "id": "J7vsmE6EgqLo"
   },
   "source": [
    "## Membership Operators\n",
    "Membership operators are a great way to test and see if a sequence is present in another object:"
   ]
  },
  {
   "cell_type": "code",
   "execution_count": 31,
   "metadata": {
    "id": "za4hQysff-dD"
   },
   "outputs": [
    {
     "data": {
      "text/plain": [
       "True"
      ]
     },
     "execution_count": 31,
     "metadata": {},
     "output_type": "execute_result"
    }
   ],
   "source": [
    "fruits = [\"apple\", \"banana\"]\n",
    "\n",
    "\"banana\" in fruits"
   ]
  },
  {
   "cell_type": "code",
   "execution_count": 32,
   "metadata": {
    "id": "WIUBWf-qgEKp"
   },
   "outputs": [
    {
     "data": {
      "text/plain": [
       "False"
      ]
     },
     "execution_count": 32,
     "metadata": {},
     "output_type": "execute_result"
    }
   ],
   "source": [
    "fruits = [\"apple\", \"banana\"]\n",
    "\n",
    "\"banana\" not in fruits"
   ]
  },
  {
   "cell_type": "code",
   "execution_count": 33,
   "metadata": {
    "id": "UVEM5zishKVm"
   },
   "outputs": [
    {
     "data": {
      "text/plain": [
       "False"
      ]
     },
     "execution_count": 33,
     "metadata": {},
     "output_type": "execute_result"
    }
   ],
   "source": [
    "fruits = [\"apple\", \"pear\"]\n",
    "\n",
    "\"banana\" in fruits"
   ]
  },
  {
   "cell_type": "code",
   "execution_count": null,
   "metadata": {},
   "outputs": [],
   "source": []
  }
 ],
 "metadata": {
  "colab": {
   "collapsed_sections": [
    "1Q06fE1xRK8z",
    "CtwwOodoSKgR",
    "KDGcmbc9SOP4",
    "32uWaTWRzbAY",
    "GYjiCg6mzi_R",
    "RQoPtAPNSYnF",
    "J7vsmE6EgqLo"
   ],
   "name": "5_2_python_operators_START.ipynb",
   "provenance": []
  },
  "kernelspec": {
   "display_name": "Python 3 (ipykernel)",
   "language": "python",
   "name": "python3"
  },
  "language_info": {
   "codemirror_mode": {
    "name": "ipython",
    "version": 3
   },
   "file_extension": ".py",
   "mimetype": "text/x-python",
   "name": "python",
   "nbconvert_exporter": "python",
   "pygments_lexer": "ipython3",
   "version": "3.11.4"
  }
 },
 "nbformat": 4,
 "nbformat_minor": 1
}
