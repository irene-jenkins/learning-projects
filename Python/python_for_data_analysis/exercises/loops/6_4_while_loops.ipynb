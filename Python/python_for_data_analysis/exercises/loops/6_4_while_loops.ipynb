{
 "cells": [
  {
   "cell_type": "markdown",
   "metadata": {
    "id": "YWF5yOtMgmxf"
   },
   "source": [
    "# While loops\n",
    "\n",
    "While loops execute statements as long as the condition is true."
   ]
  },
  {
   "cell_type": "code",
   "execution_count": 5,
   "metadata": {
    "id": "rItu0YPmkExR"
   },
   "outputs": [
    {
     "name": "stdout",
     "output_type": "stream",
     "text": [
      "1\n",
      "2\n",
      "3\n",
      "4\n",
      "5\n",
      "6\n",
      "7\n",
      "8\n",
      "9\n",
      "10\n"
     ]
    }
   ],
   "source": [
    "# assign the value 1 to a variable named: i\n",
    "i = 1\n",
    "# while i is less than 11\n",
    "while i < 11:\n",
    "  # print i\n",
    "    print(i)\n",
    "  # add the value 1 to i\n",
    "    i += 1"
   ]
  },
  {
   "cell_type": "markdown",
   "metadata": {
    "id": "M5dGB0B_koco"
   },
   "source": [
    "## Break"
   ]
  },
  {
   "cell_type": "code",
   "execution_count": 6,
   "metadata": {
    "id": "RacB3GeZk2FL"
   },
   "outputs": [
    {
     "name": "stdout",
     "output_type": "stream",
     "text": [
      "1\n",
      "3\n",
      "5\n",
      "7\n"
     ]
    }
   ],
   "source": [
    "# assign the value 1 to a variable named: i\n",
    "i = 1\n",
    "# while i is less than 11\n",
    "while i < 11:\n",
    "  # print i\n",
    "    print(i)\n",
    "  # if i equals 7\n",
    "    if i == 7:\n",
    "    # break the loop\n",
    "        break\n",
    "  # add 2 to i  \n",
    "    i += 2"
   ]
  },
  {
   "cell_type": "markdown",
   "metadata": {
    "id": "jkkqYT0dmA-a"
   },
   "source": [
    "## Continue"
   ]
  },
  {
   "cell_type": "code",
   "execution_count": 7,
   "metadata": {
    "id": "tnvaai-9k4T1"
   },
   "outputs": [
    {
     "name": "stdout",
     "output_type": "stream",
     "text": [
      "3\n",
      "5\n",
      "9\n",
      "11\n"
     ]
    }
   ],
   "source": [
    "# assign the value 1 to a variable named: i\n",
    "i = 1\n",
    "# while i is less than 11\n",
    "while i < 11:\n",
    "  # add 2 to i\n",
    "    i += 2\n",
    "  # if equals 7\n",
    "    if i == 7:\n",
    "    # continue\n",
    "        continue\n",
    "  #print i    \n",
    "    print(i)"
   ]
  },
  {
   "cell_type": "markdown",
   "metadata": {
    "id": "Rk7T8gy0mBR4"
   },
   "source": [
    "## Else"
   ]
  },
  {
   "cell_type": "code",
   "execution_count": 8,
   "metadata": {
    "id": "TMIRZ-VllC48"
   },
   "outputs": [
    {
     "name": "stdout",
     "output_type": "stream",
     "text": [
      "1\n",
      "3\n",
      "5\n",
      "7\n",
      "9\n",
      "11\n",
      "i is now greater than 11\n"
     ]
    }
   ],
   "source": [
    "# assign the value 1 to a variable named: i\n",
    "i = 1\n",
    "# while i is less than or equal to 11\n",
    "while i <= 11:\n",
    "  # print i\n",
    "    print(i)\n",
    "  # add 2 to i\n",
    "    i += 2\n",
    "# else  \n",
    "else:\n",
    "  # print \"i is now greater than 11\"\n",
    "    print(\"i is now greater than 11\")"
   ]
  },
  {
   "cell_type": "markdown",
   "metadata": {
    "id": "fOhO7vf-9rwj"
   },
   "source": [
    "## Infinite loops $\\large ∞$"
   ]
  },
  {
   "cell_type": "code",
   "execution_count": null,
   "metadata": {
    "id": "uuzd7rGw9zYf"
   },
   "outputs": [],
   "source": [
    "while True:\n",
    "  print(\"Always and Forever\")\n",
    "  break # if I remove this, it will go on always and forever\n",
    "        # which will crash the session 💥"
   ]
  }
 ],
 "metadata": {
  "colab": {
   "collapsed_sections": [
    "YWF5yOtMgmxf",
    "M5dGB0B_koco",
    "jkkqYT0dmA-a",
    "Rk7T8gy0mBR4",
    "fOhO7vf-9rwj"
   ],
   "name": "6_4_while_loops_START.ipynb",
   "provenance": []
  },
  "kernelspec": {
   "display_name": "Python 3 (ipykernel)",
   "language": "python",
   "name": "python3"
  },
  "language_info": {
   "codemirror_mode": {
    "name": "ipython",
    "version": 3
   },
   "file_extension": ".py",
   "mimetype": "text/x-python",
   "name": "python",
   "nbconvert_exporter": "python",
   "pygments_lexer": "ipython3",
   "version": "3.11.4"
  }
 },
 "nbformat": 4,
 "nbformat_minor": 1
}
