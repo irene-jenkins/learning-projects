{
 "cells": [
  {
   "cell_type": "markdown",
   "metadata": {
    "id": "RXj8h-9AK6eG"
   },
   "source": [
    "## Order of Operations\n",
    "\n",
    "PEMDAS\n",
    "\n",
    "\n",
    "1.   **P**arentheses `()`\n",
    "2.   **E**xponent `**`\n",
    "3.   **M**ultiplication `*`\n",
    "4.   **D**ivision `\\`\n",
    "5.   **A**ddition `+`\n",
    "6.   **S**ubstraction `-`\n"
   ]
  },
  {
   "cell_type": "code",
   "execution_count": 1,
   "metadata": {
    "id": "PcH2GB-l7RXL"
   },
   "outputs": [
    {
     "name": "stdout",
     "output_type": "stream",
     "text": [
      "9\n",
      "12\n"
     ]
    }
   ],
   "source": [
    "# what will the following code output? \n",
    "print(1 + 2 * 4) \n",
    "print((1 + 2) * 4)\n"
   ]
  },
  {
   "cell_type": "markdown",
   "metadata": {
    "id": "tjhRo7aqsKTa"
   },
   "source": [
    "How about sqauring numbers? \n",
    "\n",
    "For example: $\\large{2^2}$ "
   ]
  },
  {
   "cell_type": "code",
   "execution_count": 2,
   "metadata": {
    "id": "usKEMm6F9Fw2"
   },
   "outputs": [
    {
     "name": "stdout",
     "output_type": "stream",
     "text": [
      "4\n",
      "2.0\n",
      "4.0\n",
      "1.0\n"
     ]
    }
   ],
   "source": [
    "# what will the following code output? \n",
    "print(2**2)\n",
    "print(2**2 / 2)\n",
    "print(2**2 / 2 + 2)\n",
    "print(2**2 / (2 + 2))"
   ]
  },
  {
   "cell_type": "markdown",
   "metadata": {
    "id": "FCZMszSbmN_H"
   },
   "source": [
    "## Python's limitations for math\n",
    "\n",
    "As you learned previously, Python can perform simple math operations and offers built-in functions to help you perform calculations. That said, Python does reach a limit where you must either write your own custom functions or import a library. For example, the `sqrt()` function is not available in the base installation of Python, but you can import the `NumPy` or `Math` libraries when needed. Let that soak in. If you run into limitations in Python, chances are there's a library for that! :) \n",
    "\n",
    "## Square roots\n",
    "However, you can still use the `**` operator to square a number without importing any package."
   ]
  },
  {
   "cell_type": "code",
   "execution_count": 3,
   "metadata": {
    "id": "z3i7RmslmNlb"
   },
   "outputs": [
    {
     "data": {
      "text/plain": [
       "25"
      ]
     },
     "execution_count": 3,
     "metadata": {},
     "output_type": "execute_result"
    }
   ],
   "source": [
    "# square the number 5 using the exponent operator\n",
    "5 ** 2\n"
   ]
  },
  {
   "cell_type": "markdown",
   "metadata": {
    "id": "NGXx3hb0y0i_"
   },
   "source": [
    "Next, try to guess what the square root function might be. Is it part of the standard library (built-in Python functions)?"
   ]
  },
  {
   "cell_type": "code",
   "execution_count": 4,
   "metadata": {
    "id": "3xzsNGVNnlwl"
   },
   "outputs": [
    {
     "data": {
      "text/plain": [
       "5.0"
      ]
     },
     "execution_count": 4,
     "metadata": {},
     "output_type": "execute_result"
    }
   ],
   "source": [
    "# guess the function sqrt()\n",
    "#sqrt()\n",
    "\n",
    "# import numpy as np (np is the common abreviation of numpy)\n",
    "import numpy as np\n",
    "\n",
    "# what is the square root of 25?\n",
    "np.sqrt(25)"
   ]
  },
  {
   "cell_type": "code",
   "execution_count": 5,
   "metadata": {
    "id": "mbpreYIDU9UU"
   },
   "outputs": [
    {
     "data": {
      "text/plain": [
       "3.141592653589793"
      ]
     },
     "execution_count": 5,
     "metadata": {},
     "output_type": "execute_result"
    }
   ],
   "source": [
    "# import math\n",
    "import math\n",
    "# return pi\n",
    "math.pi #an attribute does not use perenthesis"
   ]
  },
  {
   "cell_type": "markdown",
   "metadata": {
    "id": "7BUxFA2up3W_"
   },
   "source": [
    "## Average or Mean\n",
    "Does Python have a built-in function for finding the mean (average of numbers)? Try to guess what it might be!"
   ]
  },
  {
   "cell_type": "code",
   "execution_count": 8,
   "metadata": {
    "id": "q73Q2TGXp2__"
   },
   "outputs": [],
   "source": [
    "# a list of random numbers\n",
    "random_numbers = [2,54,3,223,6,90]\n",
    "\n",
    "# guess the name of a built-in average(mean) function 🤔\n"
   ]
  },
  {
   "cell_type": "code",
   "execution_count": 9,
   "metadata": {
    "id": "Px5HdGowqgLo"
   },
   "outputs": [
    {
     "data": {
      "text/plain": [
       "63.0"
      ]
     },
     "execution_count": 9,
     "metadata": {},
     "output_type": "execute_result"
    }
   ],
   "source": [
    "# a list of random numbers\n",
    "random_numbers = [2,54,3,223,6,90]\n",
    "\n",
    "# import numpy as np\n",
    "import numpy as np\n",
    "\n",
    "# use NumPy to get the mean of random_numbers\n",
    "np.average(random_numbers)"
   ]
  },
  {
   "cell_type": "markdown",
   "metadata": {
    "id": "GR1jqnmso6Z7"
   },
   "source": [
    "## Scientific Notation\n",
    "It's worth mentioning that as a data analyst working with Python, you will encounter scientific notation such as `4.3021311e-04` where `-04` represents four places to the left of the decimal or `0.00043021311`.\n",
    "\n",
    "Conversely, we have `5.7e+5` where `+5` represents five places to the right of `7` or `570000`."
   ]
  },
  {
   "cell_type": "code",
   "execution_count": 10,
   "metadata": {
    "id": "l6SwMJKVk2SU"
   },
   "outputs": [
    {
     "data": {
      "text/plain": [
       "0.00043021311"
      ]
     },
     "execution_count": 10,
     "metadata": {},
     "output_type": "execute_result"
    }
   ],
   "source": [
    "# use the float() function on 4.3021311e-04 \n",
    "float(4.3021311e-04)"
   ]
  },
  {
   "cell_type": "code",
   "execution_count": 11,
   "metadata": {
    "id": "-wgGJ0vSp2z1"
   },
   "outputs": [
    {
     "data": {
      "text/plain": [
       "0"
      ]
     },
     "execution_count": 11,
     "metadata": {},
     "output_type": "execute_result"
    }
   ],
   "source": [
    "# use the int() function on 4.3021311e-04\n",
    "int(4.3021311e-04)"
   ]
  },
  {
   "cell_type": "code",
   "execution_count": 12,
   "metadata": {
    "id": "oMFnHW_RkytN"
   },
   "outputs": [
    {
     "data": {
      "text/plain": [
       "570000.0"
      ]
     },
     "execution_count": 12,
     "metadata": {},
     "output_type": "execute_result"
    }
   ],
   "source": [
    "# use the float() function on 5.7e+5\n",
    "float(5.7e+5)"
   ]
  },
  {
   "cell_type": "code",
   "execution_count": 13,
   "metadata": {
    "id": "H73rgNQUpzxq"
   },
   "outputs": [
    {
     "data": {
      "text/plain": [
       "570000"
      ]
     },
     "execution_count": 13,
     "metadata": {},
     "output_type": "execute_result"
    }
   ],
   "source": [
    "# use the int() function on 5.7e+5\n",
    "int(5.7e+5)"
   ]
  },
  {
   "cell_type": "code",
   "execution_count": null,
   "metadata": {},
   "outputs": [],
   "source": []
  }
 ],
 "metadata": {
  "colab": {
   "authorship_tag": "ABX9TyOz7a6FXAjiGFhG1UIyjHPQ",
   "collapsed_sections": [],
   "name": "3_4_math_with_python_START.ipynb",
   "provenance": []
  },
  "kernelspec": {
   "display_name": "Python 3 (ipykernel)",
   "language": "python",
   "name": "python3"
  },
  "language_info": {
   "codemirror_mode": {
    "name": "ipython",
    "version": 3
   },
   "file_extension": ".py",
   "mimetype": "text/x-python",
   "name": "python",
   "nbconvert_exporter": "python",
   "pygments_lexer": "ipython3",
   "version": "3.11.4"
  }
 },
 "nbformat": 4,
 "nbformat_minor": 1
}
