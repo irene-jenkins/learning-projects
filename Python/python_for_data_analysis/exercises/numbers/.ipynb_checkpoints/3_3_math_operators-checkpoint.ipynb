{
 "cells": [
  {
   "cell_type": "markdown",
   "metadata": {
    "id": "RXj8h-9AK6eG"
   },
   "source": [
    "# Math operators\n",
    "\n",
    "In this skill, you'll get the opportunity to use integers and floats combined with math operators to write Python code inside of code cells below. The most exciting part of using Python for math is using it as a super-powerful calculator, making linear algebra, equations, and statistical formulas more intuitive. Especially if you don't have a math background, you can notate fancy equations and formulas using LaTex which will help you understand and apply statistical operations. Best of all, you can refer to them whenever you need them!\n",
    "\n"
   ]
  },
  {
   "cell_type": "markdown",
   "metadata": {
    "id": "LK-twJfeNary"
   },
   "source": [
    "### Addition\n",
    "$\\large x + y$"
   ]
  },
  {
   "cell_type": "code",
   "execution_count": 2,
   "metadata": {
    "id": "DwU8UxS7JUTd"
   },
   "outputs": [
    {
     "data": {
      "text/plain": [
       "4"
      ]
     },
     "execution_count": 2,
     "metadata": {},
     "output_type": "execute_result"
    }
   ],
   "source": [
    "# add two integers/floats together\n",
    "2 + 2"
   ]
  },
  {
   "cell_type": "code",
   "execution_count": 3,
   "metadata": {
    "id": "gQVzXtIDiOWB"
   },
   "outputs": [
    {
     "data": {
      "text/plain": [
       "int"
      ]
     },
     "execution_count": 3,
     "metadata": {},
     "output_type": "execute_result"
    }
   ],
   "source": [
    "# verify type with the type() function\n",
    "a = 2 + 2\n",
    "type(a)"
   ]
  },
  {
   "cell_type": "markdown",
   "metadata": {
    "id": "PVXTs4ZJfnTS"
   },
   "source": [
    "### Subtraction\n",
    "$\\large x - y$\n"
   ]
  },
  {
   "cell_type": "code",
   "execution_count": 6,
   "metadata": {
    "id": "-y5a8xVAxHrj"
   },
   "outputs": [
    {
     "data": {
      "text/plain": [
       "-390"
      ]
     },
     "execution_count": 6,
     "metadata": {},
     "output_type": "execute_result"
    }
   ],
   "source": [
    "# substract two integers/floats\n",
    "43 - 433"
   ]
  },
  {
   "cell_type": "markdown",
   "metadata": {
    "id": "ZTyf7V48fq5X"
   },
   "source": [
    "### Multiplication\n",
    "$\\large x \\times y$"
   ]
  },
  {
   "cell_type": "code",
   "execution_count": 5,
   "metadata": {
    "id": "VwWa5iMLxSO7"
   },
   "outputs": [
    {
     "data": {
      "text/plain": [
       "15"
      ]
     },
     "execution_count": 5,
     "metadata": {},
     "output_type": "execute_result"
    }
   ],
   "source": [
    "# mupliply integers/floats\n",
    "3 * 5"
   ]
  },
  {
   "cell_type": "markdown",
   "metadata": {
    "id": "-MAPPJJcfuSf"
   },
   "source": [
    "### Division\n",
    "$\\large x / y$"
   ]
  },
  {
   "cell_type": "code",
   "execution_count": 7,
   "metadata": {
    "id": "VTa77OhQxcR5"
   },
   "outputs": [
    {
     "data": {
      "text/plain": [
       "8.5"
      ]
     },
     "execution_count": 7,
     "metadata": {},
     "output_type": "execute_result"
    }
   ],
   "source": [
    "# divide integers/floats\n",
    "34 / 4"
   ]
  },
  {
   "cell_type": "markdown",
   "metadata": {
    "id": "DN1_1pD_gIZy"
   },
   "source": [
    "### Modulus\n",
    "$\\large x$ % $\\large y$\n",
    "\n",
    "[Python Tutor Example](https://pythontutor.com/visualize.html#code=%23%20handy%20when%20trying%20to%20identify%20even%20and%20odd%20numbers.%0Anum%20%3D%20int%28input%28%22Enter%20a%20number%3A%20%22%29%29%0Amod%20%3D%20num%20%25%202%0A%0Aif%20mod%20%3E%200%3A%0A%20%20%20%20print%28%22This%20is%20an%20odd%20number.%22%29%0Aelse%3A%0A%20%20%20%20print%28%22This%20is%20an%20even%20number.%22%29&cumulative=false&heapPrimitives=nevernest&mode=edit&origin=opt-frontend.js&py=3&rawInputLstJSON=%5B%5D&textReferences=false)"
   ]
  },
  {
   "cell_type": "code",
   "execution_count": 9,
   "metadata": {
    "id": "5yuUXsEmxmsn"
   },
   "outputs": [
    {
     "data": {
      "text/plain": [
       "1"
      ]
     },
     "execution_count": 9,
     "metadata": {},
     "output_type": "execute_result"
    }
   ],
   "source": [
    "# modulo returns the remainder of division\n",
    "# 6 % 2 remainder is 0 since it is an even number\n",
    "6 % 2\n",
    "\n",
    "# 5 % 2 remainder is 1 since it is an odd number\n",
    "5 % 2 "
   ]
  },
  {
   "cell_type": "code",
   "execution_count": null,
   "metadata": {
    "id": "ARhzVjAnV4I0"
   },
   "outputs": [],
   "source": [
    "# handy when trying to identify even and odd numbers\n",
    "#num = (input(\"Enter a number: \")) #the number you input is saved as a string\n",
    "num = int(input(\"Enter a number: \")) #this saves the number you input as an intiger\n",
    "mod = num % 2\n",
    "\n",
    "# we will learn if statements later\n",
    "if mod > 0:\n",
    "    print(\"This is an odd number.\")\n",
    "else:\n",
    "    print(\"This is an even number.\")"
   ]
  },
  {
   "cell_type": "markdown",
   "metadata": {
    "id": "98A1fwSzgMsr"
   },
   "source": [
    "## Exponentiation\n",
    "$\\large x^y$\n",
    "\n",
    "7 squared = 49\n",
    "\n",
    "7 to the 3rd power = 343\n",
    "\n",
    "7 to the 4th power = 2401 and so on..."
   ]
  },
  {
   "cell_type": "code",
   "execution_count": 10,
   "metadata": {
    "id": "F2Lqnscl6CWA"
   },
   "outputs": [
    {
     "data": {
      "text/plain": [
       "49"
      ]
     },
     "execution_count": 10,
     "metadata": {},
     "output_type": "execute_result"
    }
   ],
   "source": [
    "# exponents for integers/floats\n",
    "7 ** 2"
   ]
  },
  {
   "cell_type": "markdown",
   "metadata": {
    "id": "feQHLNYWgUVU"
   },
   "source": [
    "### Floor division\n",
    "$\\large \\lfloor 2.5 \\rfloor = 2$"
   ]
  },
  {
   "cell_type": "code",
   "execution_count": 12,
   "metadata": {
    "id": "q3nMpOFwyKzB"
   },
   "outputs": [
    {
     "name": "stdout",
     "output_type": "stream",
     "text": [
      "2.5\n",
      "2\n"
     ]
    }
   ],
   "source": [
    "# floor division, rounds to the lower bound\n",
    "# regular division of 5 / 2 returns 2.5 \n",
    "print( 5 / 2)\n",
    "# floor division of 5 // 2 returns 2, the floor value\n",
    "print(5 // 2)"
   ]
  },
  {
   "cell_type": "markdown",
   "metadata": {
    "id": "sNKBq6O9RI03"
   },
   "source": [
    "## Fun with the `input()` method\n",
    "\n",
    "The input method asks the user to input a number that we can store in a variable and perform calculations."
   ]
  },
  {
   "cell_type": "code",
   "execution_count": 21,
   "metadata": {
    "id": "TGHXPgPNRi68"
   },
   "outputs": [
    {
     "name": "stdout",
     "output_type": "stream",
     "text": [
      "Input a positive integer between 0 - 10,000: 50\n"
     ]
    },
    {
     "data": {
      "text/plain": [
       "int"
      ]
     },
     "execution_count": 21,
     "metadata": {},
     "output_type": "execute_result"
    }
   ],
   "source": [
    "# ask for user input with the input() function\n",
    "number = int(input('Input a positive integer between 0 - 10,000: '))\n",
    "\n",
    "# type coercion warning\n",
    "type(number)"
   ]
  },
  {
   "cell_type": "code",
   "execution_count": 20,
   "metadata": {
    "id": "hxMrYKGQRxor"
   },
   "outputs": [
    {
     "name": "stdout",
     "output_type": "stream",
     "text": [
      "2.25\n"
     ]
    }
   ],
   "source": [
    "# Coinbase charges up to 4.5% in fees\n",
    "charges = (number * 0.045)\n",
    "print(charges)"
   ]
  },
  {
   "cell_type": "code",
   "execution_count": null,
   "metadata": {},
   "outputs": [],
   "source": []
  }
 ],
 "metadata": {
  "colab": {
   "authorship_tag": "ABX9TyNhE0ty2FiU9V0RDIyvk9uu",
   "collapsed_sections": [
    "PVXTs4ZJfnTS",
    "ZTyf7V48fq5X",
    "-MAPPJJcfuSf",
    "DN1_1pD_gIZy",
    "98A1fwSzgMsr",
    "sNKBq6O9RI03"
   ],
   "name": "3_3_math_operators_START.ipynb",
   "provenance": []
  },
  "kernelspec": {
   "display_name": "Python 3 (ipykernel)",
   "language": "python",
   "name": "python3"
  },
  "language_info": {
   "codemirror_mode": {
    "name": "ipython",
    "version": 3
   },
   "file_extension": ".py",
   "mimetype": "text/x-python",
   "name": "python",
   "nbconvert_exporter": "python",
   "pygments_lexer": "ipython3",
   "version": "3.11.4"
  }
 },
 "nbformat": 4,
 "nbformat_minor": 1
}
