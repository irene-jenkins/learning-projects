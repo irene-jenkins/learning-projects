{
 "cells": [
  {
   "cell_type": "markdown",
   "metadata": {
    "id": "tAdvk0VaI9V2"
   },
   "source": [
    "# Python Numbers Challenge"
   ]
  },
  {
   "cell_type": "code",
   "execution_count": 2,
   "metadata": {
    "id": "n9y9LTy8mc0c"
   },
   "outputs": [],
   "source": [
    "# assign the value 15 to the variable name: points\n",
    "points = 15"
   ]
  },
  {
   "cell_type": "code",
   "execution_count": 6,
   "metadata": {
    "id": "tdZuwx59nEhE"
   },
   "outputs": [],
   "source": [
    "# add 10 to the variable name: points\n",
    "points = points + 10"
   ]
  },
  {
   "cell_type": "code",
   "execution_count": 7,
   "metadata": {
    "id": "z6MqDj4iur6G"
   },
   "outputs": [
    {
     "name": "stdout",
     "output_type": "stream",
     "text": [
      "25\n"
     ]
    }
   ],
   "source": [
    "# print the value contained in the variable name: points\n",
    "print(points)"
   ]
  },
  {
   "cell_type": "code",
   "execution_count": 8,
   "metadata": {
    "id": "NaZpwYqVu3ir"
   },
   "outputs": [],
   "source": [
    "# use the multiplication operator to double the points stored in the variable name: points\n",
    "points = points * 2"
   ]
  },
  {
   "cell_type": "code",
   "execution_count": 9,
   "metadata": {
    "id": "KvL603Qcu9Ca"
   },
   "outputs": [
    {
     "name": "stdout",
     "output_type": "stream",
     "text": [
      "50\n"
     ]
    }
   ],
   "source": [
    "# print the value contained in the variable name: points\n",
    "print(points)"
   ]
  },
  {
   "cell_type": "code",
   "execution_count": 10,
   "metadata": {
    "id": "a42EZBMdvTX_"
   },
   "outputs": [],
   "source": [
    "# use the multiplication operator to double the points stored in the variable name: points\n",
    "points = points * 2"
   ]
  },
  {
   "cell_type": "code",
   "execution_count": 11,
   "metadata": {
    "id": "WdJOLRdtvWGl"
   },
   "outputs": [],
   "source": [
    "# divide the points between four players and store it in the variable name: points\n",
    "points = points / 4"
   ]
  },
  {
   "cell_type": "code",
   "execution_count": 12,
   "metadata": {
    "id": "ph2t1WP_Irsm"
   },
   "outputs": [
    {
     "name": "stdout",
     "output_type": "stream",
     "text": [
      "25.0\n"
     ]
    }
   ],
   "source": [
    "# print the value contained in the variable name: points\n",
    "print(points)"
   ]
  },
  {
   "cell_type": "markdown",
   "metadata": {
    "id": "At2lkqnZI1Cx"
   },
   "source": [
    "Congrats if you got `25.0` points! 🥳"
   ]
  }
 ],
 "metadata": {
  "colab": {
   "authorship_tag": "ABX9TyMgsFTPREX3jhFGKLMCyaVi",
   "collapsed_sections": [],
   "name": "3_6_numbers_code_challenge_START.ipynb",
   "provenance": []
  },
  "kernelspec": {
   "display_name": "Python 3 (ipykernel)",
   "language": "python",
   "name": "python3"
  },
  "language_info": {
   "codemirror_mode": {
    "name": "ipython",
    "version": 3
   },
   "file_extension": ".py",
   "mimetype": "text/x-python",
   "name": "python",
   "nbconvert_exporter": "python",
   "pygments_lexer": "ipython3",
   "version": "3.11.4"
  }
 },
 "nbformat": 4,
 "nbformat_minor": 1
}
