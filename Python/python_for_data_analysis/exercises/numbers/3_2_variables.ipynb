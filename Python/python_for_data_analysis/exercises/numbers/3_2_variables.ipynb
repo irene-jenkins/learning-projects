{
 "cells": [
  {
   "cell_type": "markdown",
   "metadata": {
    "id": "54rPAqrg41s6"
   },
   "source": [
    "# Variables\n",
    "\n",
    "As we discussed earlier, variables are names, or placeholders, that contain values such as strings(text), numbers, and even boolean values or functions. Before diving into numbers, math operations, and strings, you should know how to write a proper variable name using best practices. \n",
    "\n",
    "## Legality\n",
    "\n",
    "Variable can be any length consisting of uppercase and lowercase letters `A-Z`,`a-z`, digits `0-9`, and underscores `_`. Although a variable name can contain digits, the first character of a variable cannot include a digit."
   ]
  },
  {
   "cell_type": "code",
   "execution_count": 4,
   "metadata": {
    "id": "TeWfoGYfqqv9"
   },
   "outputs": [],
   "source": [
    "# not a legal variable name\n",
    "#1 = 100 not allowed\n",
    "# technically _1 = 100 would work"
   ]
  },
  {
   "cell_type": "markdown",
   "metadata": {
    "id": "X0iOMETUku5Z"
   },
   "source": [
    "## Undefined variables\n",
    "\n",
    "Beware: If you try to return an undefined variable, you will get a name error 😱"
   ]
  },
  {
   "cell_type": "code",
   "execution_count": 6,
   "metadata": {
    "id": "stTACh1qkw70"
   },
   "outputs": [
    {
     "data": {
      "text/plain": [
       "str"
      ]
     },
     "execution_count": 6,
     "metadata": {},
     "output_type": "execute_result"
    }
   ],
   "source": [
    "# m is undefined\n",
    "#m\n",
    "\n",
    "# you can initialize a variable\n",
    "m = \"\"\n",
    "type(m)"
   ]
  },
  {
   "cell_type": "markdown",
   "metadata": {
    "id": "7E_e7nEaj3nd"
   },
   "source": [
    "## Return a variable\n",
    "\n",
    "If you define a variable and execute the variable name, you'll return the value of that variable. However, you will only get one return value per variable if you execute more than one variable. In the next section, you will learn to return multiple variables in the same code cell using the `print()` function.\n"
   ]
  },
  {
   "cell_type": "code",
   "execution_count": 8,
   "metadata": {
    "id": "agWJDBxwL1px"
   },
   "outputs": [
    {
     "data": {
      "text/plain": [
       "2"
      ]
     },
     "execution_count": 8,
     "metadata": {},
     "output_type": "execute_result"
    }
   ],
   "source": [
    "# return variables, one at a time\n",
    "a = 1\n",
    "a\n",
    "\n",
    "# or you will return the value of y, not x and y\n",
    "b = 2\n",
    "b"
   ]
  },
  {
   "cell_type": "markdown",
   "metadata": {
    "id": "tYbU4S96j9LC"
   },
   "source": [
    "### Printing variables"
   ]
  },
  {
   "cell_type": "code",
   "execution_count": 9,
   "metadata": {
    "colab": {
     "base_uri": "https://localhost:8080/"
    },
    "executionInfo": {
     "elapsed": 225,
     "status": "ok",
     "timestamp": 1640630738325,
     "user": {
      "displayName": "Jonathan Barrios",
      "photoUrl": "https://lh3.googleusercontent.com/a-/AOh14Gj_KFXU5phanoATkzhhR3Yb2zDYFB4nnTYMF3cP=s64",
      "userId": "16097537147383230085"
     },
     "user_tz": 360
    },
    "id": "w6bVzAdLiQlY",
    "outputId": "b0a60158-03bc-4557-c8f1-83d34a9f84e2"
   },
   "outputs": [
    {
     "name": "stdout",
     "output_type": "stream",
     "text": [
      "1\n",
      "2\n"
     ]
    }
   ],
   "source": [
    "# you can print both values using two print() functions\n",
    "# and inserting the variable inside the parenthesis (this is called an argument)\n",
    "\n",
    "print(a)\n",
    "print(b)\n"
   ]
  },
  {
   "cell_type": "code",
   "execution_count": 10,
   "metadata": {
    "id": "LvC1z8qQMx4j"
   },
   "outputs": [
    {
     "data": {
      "text/plain": [
       "3"
      ]
     },
     "execution_count": 10,
     "metadata": {},
     "output_type": "execute_result"
    }
   ],
   "source": [
    "# once you declare a variable, you can use it in many ways\n",
    "a + b"
   ]
  },
  {
   "cell_type": "code",
   "execution_count": 11,
   "metadata": {
    "id": "t3COC9LBM84R"
   },
   "outputs": [
    {
     "name": "stdout",
     "output_type": "stream",
     "text": [
      "The values of a and b are equal to: \n",
      "3\n"
     ]
    }
   ],
   "source": [
    "# this also works with strings, which we will cover in depth later in the course\n",
    "message = 'The values of a and b are equal to: '\n",
    "# print message\n",
    "print(message)\n",
    "\n",
    "# print a + b\n",
    "print(a + b)"
   ]
  },
  {
   "cell_type": "markdown",
   "metadata": {
    "id": "sVI14PJipF-i"
   },
   "source": [
    "### Variable are case-senitive\n"
   ]
  },
  {
   "cell_type": "code",
   "execution_count": 12,
   "metadata": {
    "id": "lyj2-DXtovKh"
   },
   "outputs": [
    {
     "name": "stdout",
     "output_type": "stream",
     "text": [
      "4\n",
      "5\n"
     ]
    }
   ],
   "source": [
    "# K is not the same as k\n",
    "K = 4\n",
    "k = 5\n",
    "print(K)\n",
    "print(k)"
   ]
  },
  {
   "cell_type": "markdown",
   "metadata": {
    "id": "BQK6dRHmpU8l"
   },
   "source": [
    "### Variable can be reassigned\n"
   ]
  },
  {
   "cell_type": "code",
   "execution_count": 13,
   "metadata": {
    "id": "E4PQWjQ_pU8m"
   },
   "outputs": [
    {
     "name": "stdout",
     "output_type": "stream",
     "text": [
      "100\n"
     ]
    }
   ],
   "source": [
    "# reassign the variable k\n",
    "k = 10\n",
    "\n",
    "k = 100\n",
    "print(k)"
   ]
  },
  {
   "cell_type": "markdown",
   "metadata": {
    "id": "gbs5vkmBvuEr"
   },
   "source": [
    "## Semantic Variable Names\n",
    "\n",
    "Variables should be meaningful whenever possible. For example, when keeping track of points for players in a game or a customer's balance at a bank. Semantic variable names help keep your code more readable for you and anyone else looking at your code."
   ]
  },
  {
   "cell_type": "code",
   "execution_count": 14,
   "metadata": {
    "id": "_LpkfjidvuEr"
   },
   "outputs": [
    {
     "name": "stdout",
     "output_type": "stream",
     "text": [
      "2\n",
      "1\n"
     ]
    }
   ],
   "source": [
    "# what is a semantic variable name for final scores?\n",
    "score_high = 2\n",
    "score_low = 1\n",
    "\n",
    "print(score_high)\n",
    "print(score_low)"
   ]
  },
  {
   "cell_type": "markdown",
   "metadata": {
    "id": "HvmKmFE1jDS9"
   },
   "source": [
    "## Type casting\n",
    "You can specify the data type of a variable with typecasting.\n",
    "\n"
   ]
  },
  {
   "cell_type": "code",
   "execution_count": 15,
   "metadata": {
    "id": "FXYfO-07jC57"
   },
   "outputs": [
    {
     "name": "stdout",
     "output_type": "stream",
     "text": [
      "3\n",
      "3\n",
      "3.0\n",
      "<class 'str'>\n",
      "<class 'int'>\n",
      "<class 'float'>\n"
     ]
    }
   ],
   "source": [
    "x = str(3)    # x = '3'\n",
    "y = int(3)    # y = 3\n",
    "z = float(3)  # z = 3.0\n",
    "\n",
    "print(x)\n",
    "print(y)\n",
    "print(z)\n",
    "\n",
    "#Thisd would only return the type(z)\n",
    "#type(x)\n",
    "#type(y)\n",
    "#type(z) \n",
    "\n",
    "print(type(x))\n",
    "print(type(y))\n",
    "print(type(z))"
   ]
  },
  {
   "cell_type": "code",
   "execution_count": null,
   "metadata": {},
   "outputs": [],
   "source": []
  }
 ],
 "metadata": {
  "colab": {
   "authorship_tag": "ABX9TyNxH8kWnq5dA5cOm4oin0Cf",
   "collapsed_sections": [],
   "name": "3_2_variables_START.ipynb",
   "provenance": []
  },
  "kernelspec": {
   "display_name": "Python 3 (ipykernel)",
   "language": "python",
   "name": "python3"
  },
  "language_info": {
   "codemirror_mode": {
    "name": "ipython",
    "version": 3
   },
   "file_extension": ".py",
   "mimetype": "text/x-python",
   "name": "python",
   "nbconvert_exporter": "python",
   "pygments_lexer": "ipython3",
   "version": "3.11.4"
  }
 },
 "nbformat": 4,
 "nbformat_minor": 1
}
