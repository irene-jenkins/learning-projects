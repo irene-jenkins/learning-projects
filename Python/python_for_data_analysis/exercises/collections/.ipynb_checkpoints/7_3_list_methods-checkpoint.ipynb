{
 "cells": [
  {
   "cell_type": "markdown",
   "metadata": {
    "id": "jI0oLmpsocwb"
   },
   "source": [
    "## List Methods\n",
    "\n",
    "A list method is just a function attached to an object. For example, list methods are functions that work on list-objects. Methods can also work with other data types. Python has a set of built-in methods, or functions, that you can use on lists.\n",
    "\n",
    "- append() **Adds an element at the end of the list**\n",
    "- clear() **Removes all the elements from the list**\n",
    "- copy() **Returns a copy of the list**\n",
    "- count() **Returns the number of elements with the specified value**\n",
    "- extend() **Add the elements of a list (or any iterable), to the end of the current list**\n",
    "- index() **Returns the index of the first element with the specified value**\n",
    "- insert() **Adds an element at the specified position**\n",
    "- pop() **Removes the element at the specified position**\n",
    "- reverse() **Reverses the order of the list**\n",
    "- sort() **Sorts the list**\n",
    "\n",
    "> Remember: Lists are mutable."
   ]
  },
  {
   "cell_type": "markdown",
   "metadata": {
    "id": "COwhLsVyd-EV"
   },
   "source": [
    "### reverse()\n",
    "\n",
    "To reverse a list:\n"
   ]
  },
  {
   "cell_type": "code",
   "execution_count": 1,
   "metadata": {
    "id": "6P_PXgR0d-EV"
   },
   "outputs": [
    {
     "name": "stdout",
     "output_type": "stream",
     "text": [
      "[3, 3, 3, 3, 2, 1]\n"
     ]
    }
   ],
   "source": [
    "# create a list containing 1,2,3,3,3,3 and assign it to a variable: my_list\n",
    "my_list = [1, 2, 3, 3, 3, 3]\n",
    "\n",
    "# reverse the list\n",
    "my_list.reverse()\n",
    "\n",
    "# print my_list\n",
    "print(my_list)"
   ]
  },
  {
   "cell_type": "markdown",
   "metadata": {
    "id": "nTR4xAxMmcRa"
   },
   "source": [
    "#### Alternate slicing method"
   ]
  },
  {
   "cell_type": "code",
   "execution_count": 4,
   "metadata": {
    "id": "fmTRHvTimXnM"
   },
   "outputs": [
    {
     "name": "stdout",
     "output_type": "stream",
     "text": [
      "[3, 3, 3, 3, 2, 1]\n"
     ]
    }
   ],
   "source": [
    "# create a list containing 1,2,3,3,3,3 and assign it to a variable: my_list\n",
    "my_list = [1, 2, 3, 3, 3, 3]\n",
    "\n",
    "# reverse a list by slicing and assign to variable: reversed\n",
    "reversed = my_list[::-1]\n",
    "\n",
    "# print reversed\n",
    "print(reversed)"
   ]
  },
  {
   "cell_type": "markdown",
   "metadata": {
    "id": "i8NDp_o0okJr"
   },
   "source": [
    "\n",
    "### append()\n",
    "\n",
    "To append lists:\n"
   ]
  },
  {
   "cell_type": "code",
   "execution_count": 5,
   "metadata": {
    "id": "Tw7iK8-zodRe"
   },
   "outputs": [
    {
     "name": "stdout",
     "output_type": "stream",
     "text": [
      "[1, 2, 3, 4]\n"
     ]
    }
   ],
   "source": [
    "# create a list containing 1,2 3 and assign it to variable: new_list\n",
    "new_list = [1, 2, 3]\n",
    "\n",
    "# append the list with the value 4\n",
    "new_list.append(4)\n",
    "\n",
    "# print new_list\n",
    "print(new_list)"
   ]
  },
  {
   "cell_type": "markdown",
   "metadata": {
    "id": "ev-621xooqKr"
   },
   "source": [
    "### clear()\n",
    "\n",
    "To clear a list:"
   ]
  },
  {
   "cell_type": "code",
   "execution_count": 6,
   "metadata": {
    "id": "tqDsv26jonKK"
   },
   "outputs": [
    {
     "name": "stdout",
     "output_type": "stream",
     "text": [
      "[]\n"
     ]
    }
   ],
   "source": [
    "# create a list containing 1,2 3 and assign it to variable: new_list\n",
    "new_list = [1, 2, 3]\n",
    "\n",
    "# clear my_list\n",
    "new_list.clear()\n",
    "\n",
    "# print my_list\n",
    "print(new_list)"
   ]
  },
  {
   "cell_type": "markdown",
   "metadata": {
    "id": "TXnJr11QpGad"
   },
   "source": [
    "### copy()\n",
    "\n",
    "Make a copy a list:\n"
   ]
  },
  {
   "cell_type": "code",
   "execution_count": 7,
   "metadata": {
    "id": "hCEfui5aosAE"
   },
   "outputs": [
    {
     "name": "stdout",
     "output_type": "stream",
     "text": [
      "[1, 2, 3, 3, 3, 3, 4]\n",
      "[1, 2, 3, 3, 3, 3]\n"
     ]
    }
   ],
   "source": [
    "# create a list containing 1,2 3 and assign it to variable: new_list\n",
    "new_list = [1, 2, 3]\n",
    "\n",
    "# create a copy of my_list and assign it to variable: new_list\n",
    "new_list = my_list.copy()\n",
    "\n",
    "# append the my_list with the value 4\n",
    "my_list.append(4)\n",
    "\n",
    "# print my_list\n",
    "print(my_list)\n",
    "\n",
    "# print new_list\n",
    "print(new_list)"
   ]
  },
  {
   "cell_type": "markdown",
   "metadata": {
    "id": "xKK4W_LIpLQZ"
   },
   "source": [
    "### count()\n",
    "\n",
    "To count the number of times an item appears in a list, use the count list method:"
   ]
  },
  {
   "cell_type": "code",
   "execution_count": 8,
   "metadata": {
    "id": "RNiF94OipJF_"
   },
   "outputs": [
    {
     "data": {
      "text/plain": [
       "4"
      ]
     },
     "execution_count": 8,
     "metadata": {},
     "output_type": "execute_result"
    }
   ],
   "source": [
    "# create a list containing 1,2 3,3,3,3 and assign it to variable: new_list\n",
    "new_list = [1, 2, 3, 3, 3, 3]\n",
    "\n",
    "# return the count of elements in new_list\n",
    "new_list.count(3)"
   ]
  },
  {
   "cell_type": "markdown",
   "metadata": {
    "id": "jhkf_v9jpPdZ"
   },
   "source": [
    "### extend()\n",
    "\n",
    "To extend a list:\n"
   ]
  },
  {
   "cell_type": "code",
   "execution_count": 10,
   "metadata": {
    "id": "GE0fOvWmpNT7"
   },
   "outputs": [
    {
     "name": "stdout",
     "output_type": "stream",
     "text": [
      "['my', 'grocery', 'l', 'i', 's', 't']\n"
     ]
    }
   ],
   "source": [
    "# create a list containing \"my\", \"grocery\" and assign it to variable: my_list\n",
    "my_list = [\"my\", \"grocery\"]\n",
    "\n",
    "# extend the my_list with the value \"list\"\n",
    "my_list.extend(\"list\")\n",
    "\n",
    "# print my_list\n",
    "print(my_list)"
   ]
  },
  {
   "cell_type": "markdown",
   "metadata": {
    "id": "kd4U86JQpULW"
   },
   "source": [
    "### index()\n",
    "\n",
    "To find the index of the first match for an item in a list:"
   ]
  },
  {
   "cell_type": "code",
   "execution_count": 11,
   "metadata": {
    "id": "NBOKx7UKpRP1"
   },
   "outputs": [
    {
     "data": {
      "text/plain": [
       "2"
      ]
     },
     "execution_count": 11,
     "metadata": {},
     "output_type": "execute_result"
    }
   ],
   "source": [
    "# create a list containing 1,2 3,3,3,3 and assign it to variable: my_list\n",
    "my_list = [1, 2, 3, 3, 3, 3]\n",
    "\n",
    "my_list.index(3)"
   ]
  },
  {
   "cell_type": "markdown",
   "metadata": {
    "id": "Re10l3yxpW4g"
   },
   "source": [
    "### insert()\n",
    "\n",
    "To insert items into lists:\n"
   ]
  },
  {
   "cell_type": "code",
   "execution_count": 17,
   "metadata": {
    "id": "Nfux0cfRpWQA"
   },
   "outputs": [
    {
     "name": "stdout",
     "output_type": "stream",
     "text": [
      "['shopping', 'for', 'groceries']\n"
     ]
    }
   ],
   "source": [
    "# create a list containing \"for\", \"groceries\" and assign it to variable: my_list\n",
    "my_list = [\"for\", \"groceries\"]\n",
    "\n",
    "# insert \"shopping\" at the beginning of my_list\n",
    "my_list.insert(0, \"shopping\")\n",
    "\n",
    "# print my_list\n",
    "print(my_list)"
   ]
  },
  {
   "cell_type": "markdown",
   "metadata": {
    "id": "cD7_Klhgpehy"
   },
   "source": [
    "### pop()\n",
    "\n",
    "To pop off the last item in a list and return it:"
   ]
  },
  {
   "cell_type": "code",
   "execution_count": 18,
   "metadata": {
    "id": "Axk0RkZBpbHP"
   },
   "outputs": [
    {
     "name": "stdout",
     "output_type": "stream",
     "text": [
      "[1, 2, 3, 4, 5]\n"
     ]
    }
   ],
   "source": [
    "# create a list containing 1,2 3,4,5,6 and assign it to variable: my_list\n",
    "my_list = [1, 2, 3, 4, 5, 6]\n",
    "\n",
    "# remove 6 from my_list\n",
    "# pop removes items at the end of the list by default\n",
    "my_list.pop()\n",
    "\n",
    "# print my_list\n",
    "print(my_list)"
   ]
  },
  {
   "cell_type": "markdown",
   "metadata": {
    "id": "kYYIAeWnpjEE"
   },
   "source": [
    "To pop an item by index:"
   ]
  },
  {
   "cell_type": "code",
   "execution_count": 22,
   "metadata": {
    "id": "i5E9KNoIpgkx"
   },
   "outputs": [
    {
     "name": "stdout",
     "output_type": "stream",
     "text": [
      "[1, 2, 3, 4, 5]\n"
     ]
    }
   ],
   "source": [
    "# create a list containing 1,2 3,4,5,6 and assign it to variable: my_list\n",
    "my_list = [1, 2, 3, 4, 5, 6]\n",
    "\n",
    "# remove 6 from my_list\n",
    " # pop by index -1 (last item in list)\n",
    "my_list.pop(-1)\n",
    "    \n",
    "# print my_list\n",
    "print(my_list)"
   ]
  },
  {
   "cell_type": "markdown",
   "metadata": {
    "id": "LS985xNtINIM"
   },
   "source": [
    "### strip()\n",
    "\n",
    "To strip or remove whitespace at the beginning or end of a string:"
   ]
  },
  {
   "cell_type": "code",
   "execution_count": 33,
   "metadata": {
    "id": "7mSesRb4ININ"
   },
   "outputs": [
    {
     "name": "stdout",
     "output_type": "stream",
     "text": [
      "8\n",
      "6\n",
      "Python\n"
     ]
    }
   ],
   "source": [
    "# assign \" Python \" to variable: my_string\n",
    "my_string = \" Python \"\n",
    "\n",
    "# print length of my_string\n",
    "print(len(my_string))\n",
    "\n",
    "# strip whitespace from the string and assign to variable: stripped\n",
    "stripped = my_string.strip()\n",
    "\n",
    "# print length of stripped\n",
    "print(len(stripped))\n",
    "\n",
    "# print stripped\n",
    "print(stripped)"
   ]
  },
  {
   "cell_type": "markdown",
   "metadata": {
    "id": "W6_yESkfI_BA"
   },
   "source": [
    "### split()\n",
    "\n",
    "To split a string into a comma separated list object:"
   ]
  },
  {
   "cell_type": "code",
   "execution_count": 34,
   "metadata": {
    "id": "BaBxsEElI_BI"
   },
   "outputs": [
    {
     "data": {
      "text/plain": [
       "['Python', 'is', 'awesome']"
      ]
     },
     "execution_count": 34,
     "metadata": {},
     "output_type": "execute_result"
    }
   ],
   "source": [
    "# assign \"Python is awesome\" to variable: my_string\n",
    "my_string = \"Python is awesome\"\n",
    "\n",
    "# split my_string (you don't have to print)\n",
    "my_string.split()"
   ]
  },
  {
   "cell_type": "markdown",
   "metadata": {
    "id": "oAv4dSz9pq1N"
   },
   "source": [
    "### sort()\n",
    "\n",
    "To sort lists that contain strings, not numbers:\n"
   ]
  },
  {
   "cell_type": "code",
   "execution_count": 35,
   "metadata": {
    "id": "kTrOeUowpo3t"
   },
   "outputs": [
    {
     "name": "stdout",
     "output_type": "stream",
     "text": [
      "['Denver', 'Pandas', 'Z']\n"
     ]
    }
   ],
   "source": [
    "# create a new list containing \"Denver\", \"Z\", \"Pandas\" and assign it to variable: new_list\n",
    "new_list = [\"Denver\", \"Z\", \"Pandas\"]\n",
    "\n",
    "# sort new_list\n",
    "new_list.sort()\n",
    "\n",
    "# print new_list\n",
    "print(new_list)"
   ]
  },
  {
   "cell_type": "markdown",
   "metadata": {
    "id": "lYIgbEu7OLK5"
   },
   "source": [
    "## Mini-challenge part 2: Manipulating raw data from files\n",
    "Continue where we left off by connecting to the file so you can store the raw data in a new variable. Once you store the raw data in a new variable, you can manipulate the data without using the `open()` or `close()` methods."
   ]
  },
  {
   "cell_type": "code",
   "execution_count": null,
   "metadata": {
    "id": "r5wW4a3OOEFd"
   },
   "outputs": [],
   "source": [
    "# from Google's Colab import Drive\n",
    "\n",
    "\n",
    "# mount the drive at '/content/gdrive'\n"
   ]
  },
  {
   "cell_type": "markdown",
   "metadata": {
    "id": "B3XwjsiIoFNn"
   },
   "source": [
    "## Prepare the file path\n",
    "Assign the path to a variable so you can work with the file."
   ]
  },
  {
   "cell_type": "code",
   "execution_count": 53,
   "metadata": {
    "id": "VjrOj2sb3E_1"
   },
   "outputs": [],
   "source": [
    "# use the full file path and assign it to a variable named file_path\n",
    "file_path = \"compliment_generator.txt\""
   ]
  },
  {
   "cell_type": "markdown",
   "metadata": {
    "id": "5x2jTJNS9Ys4"
   },
   "source": [
    "## Explore the current directory"
   ]
  },
  {
   "cell_type": "code",
   "execution_count": 43,
   "metadata": {
    "id": "zcIUjWdKXlvt"
   },
   "outputs": [],
   "source": [
    "# use !ls to help you locate particular files\n"
   ]
  },
  {
   "cell_type": "markdown",
   "metadata": {
    "id": "sAj63jXeOjnh"
   },
   "source": [
    "## Manipulating the file\n",
    "Since we will work with the same file again, you'll need to open and close the file object connection once more. After closing the file, you will be using a new variable unrelated to the original file object connection. This simply means that you won't need to open or close the file now that you are done working with the raw data."
   ]
  },
  {
   "cell_type": "code",
   "execution_count": 66,
   "metadata": {
    "id": "cUyYe0wIDJ6C"
   },
   "outputs": [
    {
     "name": "stdout",
     "output_type": "stream",
     "text": [
      "[[\"You're\", 'mighty', 'awesome'], ['Stay', 'most', 'fabulous'], ['Always', 'truly', 'slick']]\n"
     ]
    }
   ],
   "source": [
    "# open connection  \n",
    "txt = open(file_path, \"r\")\n",
    "\n",
    "# compliments will contain the data from now on\n",
    "compliments = []\n",
    "\n",
    "# for each line in txt\n",
    "for line in txt:\n",
    "  # adde logic to split, strip, and append\n",
    "    stripped_line = line.strip()\n",
    "    line_list = stripped_line.split()\n",
    "    compliments.append(line_list)\n",
    "     \n",
    "\n",
    "# print compliments\n",
    "print(compliments)\n",
    "\n",
    "# close connection  \n",
    "txt.close()"
   ]
  },
  {
   "cell_type": "markdown",
   "metadata": {
    "id": "rm9QWkbBQngG"
   },
   "source": [
    "## Extracting sublists\n",
    "We already performed this step in the last video, so this is a review."
   ]
  },
  {
   "cell_type": "code",
   "execution_count": 67,
   "metadata": {
    "id": "801KwZYoPCEg"
   },
   "outputs": [
    {
     "name": "stdout",
     "output_type": "stream",
     "text": [
      "[\"You're\", 'Stay', 'Always']\n",
      "['mighty', 'most', 'truly']\n",
      "['awesome', 'fabulous', 'slick']\n"
     ]
    }
   ],
   "source": [
    "# initialize 3 empty lists and assign them to variables: column_1, column_2, column_3\n",
    "column_1 = []\n",
    "column_2 = []\n",
    "column_3 = []\n",
    "# for each list in the list compliments:\n",
    "for list in compliments:\n",
    "  # append column_1 with the first element in list\n",
    "    column_1.append(list[0])\n",
    "  # append column_2 with the second element in list\n",
    "    column_2.append(list[1])\n",
    "  # append column_3 with the third element in list\n",
    "    column_3.append(list[2])\n",
    "\n",
    "# print column_1\n",
    "print(column_1)\n",
    "\n",
    "# print column_2\n",
    "print(column_2)\n",
    "\n",
    "# print column_3\n",
    "print(column_3)\n"
   ]
  },
  {
   "cell_type": "code",
   "execution_count": 69,
   "metadata": {
    "id": "wgy48wreU80e"
   },
   "outputs": [
    {
     "data": {
      "text/plain": [
       "'Always'"
      ]
     },
     "execution_count": 69,
     "metadata": {},
     "output_type": "execute_result"
    }
   ],
   "source": [
    "# return 3rd element from column 1\n",
    "column_1[2]"
   ]
  },
  {
   "cell_type": "markdown",
   "metadata": {
    "id": "3ynH1YOdYIT8"
   },
   "source": [
    "## Create a compliment generator!\n",
    "Now that you extracted the individual columns, you can build a simple application that compliments users. There are many ways to write this app, and in this example, I will import the random package to generate random numbers so the function can create compliments at random."
   ]
  },
  {
   "cell_type": "code",
   "execution_count": 96,
   "metadata": {
    "id": "kWGjhMxeYxZw"
   },
   "outputs": [
    {
     "name": "stdout",
     "output_type": "stream",
     "text": [
      "What is your name?Irene\n",
      "Irene, stay mighty awesome!\n"
     ]
    }
   ],
   "source": [
    "# import random (to generate random numbers between 0 and 49)\n",
    "import random\n",
    "\n",
    "# define a function compliments that accepts a name as a parameter\n",
    "def compliments(name):\n",
    "  # use the rand package and a method to generate random numbers between 0 and 2 assigned to variable: rand_index\n",
    "   # only three columns ( 0, 1, 2)\n",
    "    rand_index_1 = random.randint(0, 2)\n",
    "    rand_index_2 = random.randint(0, 2)\n",
    "    rand_index_3 = random.randint(0, 2)\n",
    "    print(str(name) + \",\" + \" \" + column_1[rand_index_1].lower() + \" \" + column_2[rand_index_2] + \" \" + column_3[rand_index_3] + \"!\")\n",
    "  \n",
    "  \n",
    "  # return a string with the user's name followed by 3 compliments\n",
    "  \n",
    "# ask the user for their name and assign to variable: name\n",
    "name = input(\"What is your name?\")\n",
    "# call the function and pass in name as the argument\n",
    "compliments(name)"
   ]
  },
  {
   "cell_type": "code",
   "execution_count": null,
   "metadata": {},
   "outputs": [],
   "source": []
  },
  {
   "cell_type": "code",
   "execution_count": null,
   "metadata": {},
   "outputs": [],
   "source": []
  }
 ],
 "metadata": {
  "colab": {
   "collapsed_sections": [],
   "name": "7_3_list_methods_START.ipynb",
   "provenance": []
  },
  "kernelspec": {
   "display_name": "Python 3 (ipykernel)",
   "language": "python",
   "name": "python3"
  },
  "language_info": {
   "codemirror_mode": {
    "name": "ipython",
    "version": 3
   },
   "file_extension": ".py",
   "mimetype": "text/x-python",
   "name": "python",
   "nbconvert_exporter": "python",
   "pygments_lexer": "ipython3",
   "version": "3.11.4"
  }
 },
 "nbformat": 4,
 "nbformat_minor": 1
}
