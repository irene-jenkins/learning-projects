{
 "cells": [
  {
   "cell_type": "markdown",
   "metadata": {
    "id": "VIFdKugUlktN"
   },
   "source": [
    "\n",
    "# Challenge: Build a Shakespear Insult Generator\n",
    "Download the [shakespeare_insults.txt](https://raw.githubusercontent.com/cbtn-data-science-ml/python-for-data-analysis/main/downloads/shakespeare_insults.txt) file from GitHub and upload to Google Drive. \n",
    "\n",
    "> Make note of where you're saving the file because you'll need to open it using the file path in the code cells below. Let's get started building the Shakespearean Insult Generator! 🤖"
   ]
  },
  {
   "cell_type": "markdown",
   "metadata": {
    "id": "LyND9DqXm9TA"
   },
   "source": [
    "## Connect to Google Drive"
   ]
  },
  {
   "cell_type": "code",
   "execution_count": null,
   "metadata": {
    "colab": {
     "base_uri": "https://localhost:8080/"
    },
    "executionInfo": {
     "elapsed": 729,
     "status": "ok",
     "timestamp": 1641595384990,
     "user": {
      "displayName": "Jonathan Barrios",
      "photoUrl": "https://lh3.googleusercontent.com/a-/AOh14Gj_KFXU5phanoATkzhhR3Yb2zDYFB4nnTYMF3cP=s64",
      "userId": "16097537147383230085"
     },
     "user_tz": 360
    },
    "id": "r5wW4a3OOEFd",
    "outputId": "0c5c20e2-b921-40af-83ec-d523cdf439d1"
   },
   "outputs": [
    {
     "name": "stdout",
     "output_type": "stream",
     "text": [
      "Drive already mounted at /content/gdrive; to attempt to forcibly remount, call drive.mount(\"/content/gdrive\", force_remount=True).\n"
     ]
    }
   ],
   "source": [
    "# from Google's Colab import Drive\n",
    "\n",
    "\n",
    "# mount the drive at '/content/gdrive'\n"
   ]
  },
  {
   "cell_type": "code",
   "execution_count": null,
   "metadata": {
    "id": "NtQkT2GpO14q"
   },
   "outputs": [],
   "source": [
    "# use ls command to list files in the current directory and find \n"
   ]
  },
  {
   "cell_type": "markdown",
   "metadata": {
    "id": "LrYLxKQ90-jW"
   },
   "source": [
    "## Search for the file you uploaded from the beginning of this notebook\n",
    "\n",
    "> Your file will be somewhere in the Drive home directory: `/content/gdrive/`"
   ]
  },
  {
   "cell_type": "code",
   "execution_count": null,
   "metadata": {
    "id": "Mv7ByUGgmvqR"
   },
   "outputs": [],
   "source": [
    "# copy the file path from Google Drive and verify the file exists\n"
   ]
  },
  {
   "cell_type": "markdown",
   "metadata": {
    "id": "B3XwjsiIoFNn"
   },
   "source": [
    "## Prepare the file path\n",
    "Once you have the correct file path, you can assign it to a variable so you can work with the file."
   ]
  },
  {
   "cell_type": "code",
   "execution_count": 1,
   "metadata": {
    "id": "VjrOj2sb3E_1"
   },
   "outputs": [],
   "source": [
    "# use the full file path and assign it to a variable named file_path\n",
    "file_path = \"shakespeare_insults_reference.txt\""
   ]
  },
  {
   "cell_type": "markdown",
   "metadata": {
    "id": "FNMhwacK7J8d"
   },
   "source": [
    "## Open the file\n",
    "Before you can read or write data to a file, you need to open the file using the built-in Python `open()` function. Envoking the `open()` function creates a file object connection so you can use it inside your code. Keep in mind, you will need to `close()` this file object connection when you are done woking with the file. This best practice will be explained in the cells below."
   ]
  },
  {
   "cell_type": "code",
   "execution_count": 2,
   "metadata": {
    "id": "_2Ur0mY2JnEr"
   },
   "outputs": [
    {
     "name": "stdout",
     "output_type": "stream",
     "text": [
      "artless             base-court          apple-john\n",
      "\n",
      "bawdy               bat-fowling         baggage\n",
      "\n",
      "beslubbering        beef-witted         barnacle\n",
      "\n",
      "bootless            beetle-headed       bladder\n",
      "\n",
      "churlish            boil-brained        boar-pig\n",
      "\n",
      "cockered            clapper-clawed      bugbear\n",
      "\n",
      "clouted             clay-brained        bum-bailey\n",
      "\n",
      "craven              common-kissing      canker-blossom\n",
      "\n",
      "currish             crook-pated         clack-dish\n",
      "\n",
      "dankish             dismal-dreaming     clotpole\n",
      "\n",
      "dissembling         dizzy-eyed          coxcomb\n",
      "\n",
      "droning             doghearted          codpiece\n",
      "\n",
      "errant              dread-bolted        death-token\n",
      "\n",
      "fawning             earth-vexing        dewberry\n",
      "\n",
      "fobbing             elf-skinned         flap-dragon\n",
      "\n",
      "froward             fat-kidneyed        flax-wench\n",
      "\n",
      "frothy              fen-sucked          flirt-gill\n",
      "\n",
      "gleeking            flap-mouthed        foot-licker\n",
      "\n",
      "goatish             fly-bitten          fustilarian\n",
      "\n",
      "gorbellied          folly-fallen        giglet\n",
      "\n",
      "impertinent         fool-born           gudgeon\n",
      "\n",
      "infectious          full-gorged         haggard\n",
      "\n",
      "jarring             guts-griping        harpy\n",
      "\n",
      "loggerheaded        half-faced          hedge-pig\n",
      "\n",
      "lumpish             hasty-witted        horn-beast\n",
      "\n",
      "mammering           hedge-born          hugger-mugger\n",
      "\n",
      "mangled             hell-hated          joithead\n",
      "\n",
      "mewling             idle-headed         lewdster\n",
      "\n",
      "paunchy             ill-breeding        lout\n",
      "\n",
      "pribbling           ill-nurtured        maggot-pie\n",
      "\n",
      "puking              knotty-pated        malt-worm\n",
      "\n",
      "puny                milk-livered        mammet\n",
      "\n",
      "qualling            motley-minded       measle\n",
      "\n",
      "rank                onion-eyed          minnow\n",
      "\n",
      "reeky               plume-plucked       miscreant\n",
      "\n",
      "roguish             pottle-deep         moldwarp\n",
      "\n",
      "ruttish             pox-marked          mumble-news\n",
      "\n",
      "saucy               reeling-ripe        nut-hook\n",
      "\n",
      "spleeny             rough-hewn          pigeon-egg\n",
      "\n",
      "spongy              rude-growing        pignut\n",
      "\n",
      "surly               rump-fed            puttock\n",
      "\n",
      "tottering           shard-borne         pumpion\n",
      "\n",
      "unmuzzled           sheep-biting        ratsbane\n",
      "\n",
      "vain                spur-galled         scut\n",
      "\n",
      "venomed             swag-bellied        skainsmate\n",
      "\n",
      "villainous          tardy-gaited        strumpet\n",
      "\n",
      "warped              tickle-brained      varlot\n",
      "\n",
      "wayward             toad-spotted        vassal\n",
      "\n",
      "weedy               unchin-snouted      whey-face\n",
      "\n",
      "yeasty              weather-bitten      wagtail\n",
      "\n"
     ]
    }
   ],
   "source": [
    "# open file and assign it to a variable named txt (right click file)\n",
    "txt = open(file_path, \"r\")\n",
    "\n",
    "# for each line in txt\n",
    "for line in txt:\n",
    "  # print line\n",
    "    print(line)\n",
    "  \n",
    "# close connection  \n",
    "txt.close()"
   ]
  },
  {
   "cell_type": "markdown",
   "metadata": {
    "id": "xc2DpzYobI-3"
   },
   "source": [
    "### Create list of insults"
   ]
  },
  {
   "cell_type": "code",
   "execution_count": 3,
   "metadata": {
    "id": "cUyYe0wIDJ6C"
   },
   "outputs": [
    {
     "name": "stdout",
     "output_type": "stream",
     "text": [
      "[['artless', 'base-court', 'apple-john'], ['bawdy', 'bat-fowling', 'baggage'], ['beslubbering', 'beef-witted', 'barnacle'], ['bootless', 'beetle-headed', 'bladder'], ['churlish', 'boil-brained', 'boar-pig'], ['cockered', 'clapper-clawed', 'bugbear'], ['clouted', 'clay-brained', 'bum-bailey'], ['craven', 'common-kissing', 'canker-blossom'], ['currish', 'crook-pated', 'clack-dish'], ['dankish', 'dismal-dreaming', 'clotpole'], ['dissembling', 'dizzy-eyed', 'coxcomb'], ['droning', 'doghearted', 'codpiece'], ['errant', 'dread-bolted', 'death-token'], ['fawning', 'earth-vexing', 'dewberry'], ['fobbing', 'elf-skinned', 'flap-dragon'], ['froward', 'fat-kidneyed', 'flax-wench'], ['frothy', 'fen-sucked', 'flirt-gill'], ['gleeking', 'flap-mouthed', 'foot-licker'], ['goatish', 'fly-bitten', 'fustilarian'], ['gorbellied', 'folly-fallen', 'giglet'], ['impertinent', 'fool-born', 'gudgeon'], ['infectious', 'full-gorged', 'haggard'], ['jarring', 'guts-griping', 'harpy'], ['loggerheaded', 'half-faced', 'hedge-pig'], ['lumpish', 'hasty-witted', 'horn-beast'], ['mammering', 'hedge-born', 'hugger-mugger'], ['mangled', 'hell-hated', 'joithead'], ['mewling', 'idle-headed', 'lewdster'], ['paunchy', 'ill-breeding', 'lout'], ['pribbling', 'ill-nurtured', 'maggot-pie'], ['puking', 'knotty-pated', 'malt-worm'], ['puny', 'milk-livered', 'mammet'], ['qualling', 'motley-minded', 'measle'], ['rank', 'onion-eyed', 'minnow'], ['reeky', 'plume-plucked', 'miscreant'], ['roguish', 'pottle-deep', 'moldwarp'], ['ruttish', 'pox-marked', 'mumble-news'], ['saucy', 'reeling-ripe', 'nut-hook'], ['spleeny', 'rough-hewn', 'pigeon-egg'], ['spongy', 'rude-growing', 'pignut'], ['surly', 'rump-fed', 'puttock'], ['tottering', 'shard-borne', 'pumpion'], ['unmuzzled', 'sheep-biting', 'ratsbane'], ['vain', 'spur-galled', 'scut'], ['venomed', 'swag-bellied', 'skainsmate'], ['villainous', 'tardy-gaited', 'strumpet'], ['warped', 'tickle-brained', 'varlot'], ['wayward', 'toad-spotted', 'vassal'], ['weedy', 'unchin-snouted', 'whey-face'], ['yeasty', 'weather-bitten', 'wagtail']]\n"
     ]
    }
   ],
   "source": [
    "# open connection to the file by passing in file_path and \"r\" to read the file\n",
    "txt = open(file_path, \"r\")\n",
    "\n",
    "# create an empty list assigned to variable: list_of_insults\n",
    "list_of_insults = []\n",
    "\n",
    "# for each line in txt\n",
    "for line in txt:\n",
    "  # add logic that splits, strips, and appends the results to list_of_insults\n",
    "    stripped_line = line.strip()\n",
    "    line_list = stripped_line.split()\n",
    "    list_of_insults.append(line_list)\n",
    "   \n",
    "\n",
    "\n",
    "# print list of insults\n",
    "print(list_of_insults)\n",
    "\n",
    "# close connection  \n",
    "txt.close()"
   ]
  },
  {
   "cell_type": "markdown",
   "metadata": {
    "id": "WE_mgV37bNjN"
   },
   "source": [
    "## Create three lists, one for each column"
   ]
  },
  {
   "cell_type": "code",
   "execution_count": 4,
   "metadata": {
    "id": "_7D5enSdGW0R"
   },
   "outputs": [
    {
     "name": "stdout",
     "output_type": "stream",
     "text": [
      "['artless', 'bawdy', 'beslubbering', 'bootless', 'churlish', 'cockered', 'clouted', 'craven', 'currish', 'dankish', 'dissembling', 'droning', 'errant', 'fawning', 'fobbing', 'froward', 'frothy', 'gleeking', 'goatish', 'gorbellied', 'impertinent', 'infectious', 'jarring', 'loggerheaded', 'lumpish', 'mammering', 'mangled', 'mewling', 'paunchy', 'pribbling', 'puking', 'puny', 'qualling', 'rank', 'reeky', 'roguish', 'ruttish', 'saucy', 'spleeny', 'spongy', 'surly', 'tottering', 'unmuzzled', 'vain', 'venomed', 'villainous', 'warped', 'wayward', 'weedy', 'yeasty']\n",
      "['base-court', 'bat-fowling', 'beef-witted', 'beetle-headed', 'boil-brained', 'clapper-clawed', 'clay-brained', 'common-kissing', 'crook-pated', 'dismal-dreaming', 'dizzy-eyed', 'doghearted', 'dread-bolted', 'earth-vexing', 'elf-skinned', 'fat-kidneyed', 'fen-sucked', 'flap-mouthed', 'fly-bitten', 'folly-fallen', 'fool-born', 'full-gorged', 'guts-griping', 'half-faced', 'hasty-witted', 'hedge-born', 'hell-hated', 'idle-headed', 'ill-breeding', 'ill-nurtured', 'knotty-pated', 'milk-livered', 'motley-minded', 'onion-eyed', 'plume-plucked', 'pottle-deep', 'pox-marked', 'reeling-ripe', 'rough-hewn', 'rude-growing', 'rump-fed', 'shard-borne', 'sheep-biting', 'spur-galled', 'swag-bellied', 'tardy-gaited', 'tickle-brained', 'toad-spotted', 'unchin-snouted', 'weather-bitten']\n",
      "['apple-john', 'baggage', 'barnacle', 'bladder', 'boar-pig', 'bugbear', 'bum-bailey', 'canker-blossom', 'clack-dish', 'clotpole', 'coxcomb', 'codpiece', 'death-token', 'dewberry', 'flap-dragon', 'flax-wench', 'flirt-gill', 'foot-licker', 'fustilarian', 'giglet', 'gudgeon', 'haggard', 'harpy', 'hedge-pig', 'horn-beast', 'hugger-mugger', 'joithead', 'lewdster', 'lout', 'maggot-pie', 'malt-worm', 'mammet', 'measle', 'minnow', 'miscreant', 'moldwarp', 'mumble-news', 'nut-hook', 'pigeon-egg', 'pignut', 'puttock', 'pumpion', 'ratsbane', 'scut', 'skainsmate', 'strumpet', 'varlot', 'vassal', 'whey-face', 'wagtail']\n"
     ]
    }
   ],
   "source": [
    "# initialize 3 empty lists and assign them to variables: column_1, column_2, column_3\n",
    "column_1 = []\n",
    "column_2 = []\n",
    "column_3 = []\n",
    "\n",
    "# for each list in list_of_insults:\n",
    "for list in list_of_insults:\n",
    "  # append column_1 with the first element in list\n",
    "    column_1.append(list[0])\n",
    "  # append column_2 with the second element in list\n",
    "    column_2.append(list[1])\n",
    "  # append column_3 with the third element in list\n",
    "    column_3.append(list[2])\n",
    "\n",
    "# print column_1\n",
    "print(column_1)\n",
    "\n",
    "# print column_2\n",
    "print(column_2)\n",
    "\n",
    "# print column_3\n",
    "print(column_3)"
   ]
  },
  {
   "cell_type": "markdown",
   "metadata": {
    "id": "3OI4uMzwts4I"
   },
   "source": [
    "## Challenge"
   ]
  },
  {
   "cell_type": "code",
   "execution_count": 16,
   "metadata": {
    "id": "ZB4WEUN2HxU8"
   },
   "outputs": [],
   "source": [
    "# import random (to generate random numbers between 0 and 49)\n",
    "import random\n",
    "\n",
    "# define a function insult_me_shakespear that accepts a name as a parameter\n",
    "def insult_me_shakespear(name):\n",
    "  # use the rand package and a method to generate random numbers between 0 and 49 assigned to variable: rand_insult_index\n",
    "    rand_insult_index = random.randint(0, 49)\n",
    "    \n",
    "  # write logic that randomly creates index numbers, one from each column assigned to variables: insult_1, insult_2, and insult_3 \n",
    "    insult_1 = column_1[rand_insult_index]\n",
    "    print(rand_insult_index)\n",
    "    insult_2 = column_2[rand_insult_index]\n",
    "    print(rand_insult_index)\n",
    "    insult_3 = column_3[rand_insult_index]\n",
    "    print(rand_insult_index)\n",
    "\n",
    "  # return a string with the user's name followed by 3 Shakespearean insults\n",
    "    return(str(name) + \",\" + \" \" + insult_1 + \" \" + insult_2 + \" \" + insult_3 + \".\")\n",
    "  "
   ]
  },
  {
   "cell_type": "code",
   "execution_count": 18,
   "metadata": {
    "id": "I0hVgX9PJ2d2"
   },
   "outputs": [
    {
     "name": "stdout",
     "output_type": "stream",
     "text": [
      "What is your name? Irene\n",
      "27\n",
      "27\n",
      "27\n"
     ]
    },
    {
     "data": {
      "text/plain": [
       "'Irene, mewling idle-headed lewdster.'"
      ]
     },
     "execution_count": 18,
     "metadata": {},
     "output_type": "execute_result"
    }
   ],
   "source": [
    "# ask for the user's name and assign it to variable: name\n",
    "name = input(\"What is your name? \")\n",
    "\n",
    "# call the insult_me_shakespear function and pass in name as the argument\n",
    "insult_me_shakespear(name)"
   ]
  },
  {
   "cell_type": "markdown",
   "metadata": {
    "id": "CT59Uqt4atHU"
   },
   "source": [
    "## Bonus!\n",
    "Create a GitHub account and either add this code in a repo or create a new application of your choice. Post your project on LinkedIn, Twitter, or any other social media and tag me. I always love to see what you create! Congrats! 🎉 You're now a Pythonista! 🐍"
   ]
  }
 ],
 "metadata": {
  "colab": {
   "collapsed_sections": [],
   "name": "7_6_final_code_challenge_START.ipynb",
   "provenance": []
  },
  "kernelspec": {
   "display_name": "Python 3 (ipykernel)",
   "language": "python",
   "name": "python3"
  },
  "language_info": {
   "codemirror_mode": {
    "name": "ipython",
    "version": 3
   },
   "file_extension": ".py",
   "mimetype": "text/x-python",
   "name": "python",
   "nbconvert_exporter": "python",
   "pygments_lexer": "ipython3",
   "version": "3.11.4"
  }
 },
 "nbformat": 4,
 "nbformat_minor": 1
}
