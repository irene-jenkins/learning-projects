{
 "cells": [
  {
   "cell_type": "markdown",
   "metadata": {
    "id": "B0_M3xtbnC5i"
   },
   "source": [
    "# Lists: ordered, mutable, and allows duplicates\n",
    "Lists are indexed sequences that can hold many kinds of data types. For example:\n",
    "\n",
    "* int\n",
    "* floats\n",
    "* strings\n",
    "* bools\n",
    "* functions\n",
    "* objects\n",
    "\n",
    "That being said, it's best to keep lists homogeneous. For example, imagine a spreadsheet with different columns. Each column should contain the same data type for name, age, email, city, state, and so forth. \n",
    "\n",
    "> Much of a data analyst's time is spent cleaning data to unlock the insights hidden in the raw data. In essence, turning raw data into information.\n"
   ]
  },
  {
   "cell_type": "markdown",
   "metadata": {
    "id": "aaQY23UEAtVn"
   },
   "source": [
    "### Creating lists"
   ]
  },
  {
   "cell_type": "code",
   "execution_count": 2,
   "metadata": {
    "id": "2vMGqpcxkmMV"
   },
   "outputs": [
    {
     "name": "stdout",
     "output_type": "stream",
     "text": [
      "['Python', 2025, True]\n"
     ]
    }
   ],
   "source": [
    "# create a list containing \"Python\", 2025, True and asssign it to a variable: my_list\n",
    "my_list = [\"Python\", 2025, True]\n",
    " \n",
    "# print my_list\n",
    "print(my_list)"
   ]
  },
  {
   "cell_type": "markdown",
   "metadata": {
    "id": "MuWlhVweAxSW"
   },
   "source": [
    "### Indexing lists"
   ]
  },
  {
   "cell_type": "code",
   "execution_count": 4,
   "metadata": {
    "id": "kpGAGuJ6m1GR"
   },
   "outputs": [
    {
     "name": "stdout",
     "output_type": "stream",
     "text": [
      "Simona\n"
     ]
    }
   ],
   "source": [
    "# create a list contaning \"Simona\", \"Keith\", \"Ben\" and asssign it to a variable: team\n",
    "team = [\"Simona\", \"Keith\", \"Ben\"]\n",
    "\n",
    "# print the fisrt element of team\n",
    "print(team[0])"
   ]
  },
  {
   "cell_type": "markdown",
   "metadata": {
    "id": "Z4ePVZ5pnbU1"
   },
   "source": [
    "### Printing lists"
   ]
  },
  {
   "cell_type": "code",
   "execution_count": 5,
   "metadata": {
    "id": "fyH3aK6cm3tm"
   },
   "outputs": [
    {
     "name": "stdout",
     "output_type": "stream",
     "text": [
      "['Simona', 'Bob', 'Dan']\n"
     ]
    }
   ],
   "source": [
    "# create a list contaning \"Simona\", \"Bob\", \"Dan\" and asssign it to a variable: team\n",
    "team = [\"Simona\", \"Bob\", \"Dan\"]\n",
    "\n",
    "# print team\n",
    "print(team)"
   ]
  },
  {
   "cell_type": "markdown",
   "metadata": {
    "id": "rwijqoHVnesA"
   },
   "source": [
    "### Slicing lists\n"
   ]
  },
  {
   "cell_type": "code",
   "execution_count": 6,
   "metadata": {
    "id": "GYtZA4Mbm4u7"
   },
   "outputs": [
    {
     "data": {
      "text/plain": [
       "'ko'"
      ]
     },
     "execution_count": 6,
     "metadata": {},
     "output_type": "execute_result"
    }
   ],
   "source": [
    "# slice \"Dakota\" to retrun: \"ko\"\n",
    "\"Dakota\"[2:4]"
   ]
  },
  {
   "cell_type": "code",
   "execution_count": 7,
   "metadata": {
    "id": "XQZMDRKxm9X2"
   },
   "outputs": [
    {
     "data": {
      "text/plain": [
       "[2, 3]"
      ]
     },
     "execution_count": 7,
     "metadata": {},
     "output_type": "execute_result"
    }
   ],
   "source": [
    "# create a list contaning values 1,2,3,4 and assign it to a variable: my_list\n",
    "my_list = [1, 2, 3, 4]\n",
    "\n",
    "# slice the list from the second item to the third item. Output: [2,3]\n",
    "my_list[1:3]"
   ]
  },
  {
   "cell_type": "code",
   "execution_count": 10,
   "metadata": {
    "id": "omQsNl84j3u7"
   },
   "outputs": [
    {
     "name": "stdout",
     "output_type": "stream",
     "text": [
      "4\n",
      "3\n"
     ]
    }
   ],
   "source": [
    "# create a list contaning values 1,2,3,4 and assign it to a variable: my_list\n",
    "my_list = [1, 2, 3, 4]\n",
    "\n",
    "# return last index: 4\n",
    "print(my_list[-1])\n",
    "\n",
    "# return the penultimate index: 3\n",
    "print(my_list[-2])"
   ]
  },
  {
   "cell_type": "markdown",
   "metadata": {
    "id": "oxborM-AVmhZ"
   },
   "source": [
    "## Sublists\n",
    "\n",
    "You can use two pairs of square brackets to access lists inside of lists, a sort of listception if you will. Sometimes, lists inside of lists are referred to as sublists. For example, a list inside of another list."
   ]
  },
  {
   "cell_type": "code",
   "execution_count": 11,
   "metadata": {
    "id": "4lqxMa8WnApJ"
   },
   "outputs": [
    {
     "data": {
      "text/plain": [
       "1"
      ]
     },
     "execution_count": 11,
     "metadata": {},
     "output_type": "execute_result"
    }
   ],
   "source": [
    "# create a list contaning \"Jonathan\", [1,2,3], \"Data\", \"Analysis\" and \n",
    "# assign it to a variable named: sub_list\n",
    "sub_list = [\"Jonathan\", [1,2,3], \"Data\", \"Analysis\"]\n",
    " \n",
    "# the first bracket argument is the item\n",
    "# the second bracket argument is the index\n",
    "sub_list[1][0]"
   ]
  },
  {
   "cell_type": "markdown",
   "metadata": {
    "id": "lYIgbEu7OLK5"
   },
   "source": [
    "## Mini-challenge part 1: Working with files\n"
   ]
  },
  {
   "cell_type": "code",
   "execution_count": 15,
   "metadata": {
    "colab": {
     "base_uri": "https://localhost:8080/"
    },
    "executionInfo": {
     "elapsed": 15824,
     "status": "ok",
     "timestamp": 1641940864990,
     "user": {
      "displayName": "Jonathan Barrios",
      "photoUrl": "https://lh3.googleusercontent.com/a-/AOh14Gj_KFXU5phanoATkzhhR3Yb2zDYFB4nnTYMF3cP=s64",
      "userId": "16097537147383230085"
     },
     "user_tz": 360
    },
    "id": "r5wW4a3OOEFd",
    "outputId": "9ec0edc8-bd28-451d-97d2-af4a53376ea1"
   },
   "outputs": [
    {
     "ename": "ModuleNotFoundError",
     "evalue": "No module named 'compliment_generator'",
     "output_type": "error",
     "traceback": [
      "\u001b[0;31m---------------------------------------------------------------------------\u001b[0m",
      "\u001b[0;31mModuleNotFoundError\u001b[0m                       Traceback (most recent call last)",
      "Cell \u001b[0;32mIn[15], line 6\u001b[0m\n\u001b[1;32m      1\u001b[0m \u001b[38;5;66;03m# from Google's Colab import Drive\u001b[39;00m\n\u001b[1;32m      2\u001b[0m \u001b[38;5;66;03m#from google.colab import drive\u001b[39;00m\n\u001b[1;32m      3\u001b[0m \n\u001b[1;32m      4\u001b[0m \u001b[38;5;66;03m# mount the drive at '/content/gdrive'\u001b[39;00m\n\u001b[1;32m      5\u001b[0m \u001b[38;5;66;03m#drive.mount('/content/gdrive')\u001b[39;00m\n\u001b[0;32m----> 6\u001b[0m \u001b[38;5;28;01mimport\u001b[39;00m \u001b[38;5;21;01mcompliment_generator\u001b[39;00m\u001b[38;5;21;01m.\u001b[39;00m\u001b[38;5;21;01mtxt\u001b[39;00m\n",
      "\u001b[0;31mModuleNotFoundError\u001b[0m: No module named 'compliment_generator'"
     ]
    }
   ],
   "source": [
    "# from Google's Colab import Drive\n",
    "#from google.colab import drive\n",
    "\n",
    "# mount the drive at '/content/gdrive'\n",
    "#drive.mount('/content/gdrive')\n"
   ]
  },
  {
   "cell_type": "code",
   "execution_count": null,
   "metadata": {
    "colab": {
     "base_uri": "https://localhost:8080/"
    },
    "executionInfo": {
     "elapsed": 321,
     "status": "ok",
     "timestamp": 1641940898570,
     "user": {
      "displayName": "Jonathan Barrios",
      "photoUrl": "https://lh3.googleusercontent.com/a-/AOh14Gj_KFXU5phanoATkzhhR3Yb2zDYFB4nnTYMF3cP=s64",
      "userId": "16097537147383230085"
     },
     "user_tz": 360
    },
    "id": "NtQkT2GpO14q",
    "outputId": "0ae884dd-dac8-4027-9d66-d4a624b24c34"
   },
   "outputs": [
    {
     "name": "stdout",
     "output_type": "stream",
     "text": [
      "gdrive\tsample_data\n"
     ]
    }
   ],
   "source": [
    "# use !ls to list files in a '/content/', note the same folders found in the files pane\n"
   ]
  },
  {
   "cell_type": "code",
   "execution_count": null,
   "metadata": {
    "id": "Mv7ByUGgmvqR"
   },
   "outputs": [],
   "source": [
    "# copy the file path from Google Drive and verify the file exists\n"
   ]
  },
  {
   "cell_type": "markdown",
   "metadata": {
    "id": "B3XwjsiIoFNn"
   },
   "source": [
    "## Prepare the file path\n",
    "Once you have the correct file path, you can assign it to a variable so you can work with the file."
   ]
  },
  {
   "cell_type": "code",
   "execution_count": 1,
   "metadata": {
    "id": "VjrOj2sb3E_1"
   },
   "outputs": [],
   "source": [
    "# use the full file path and assign it to a variable named file_path\n",
    "file_path = \"compliment_generator.txt\""
   ]
  },
  {
   "cell_type": "markdown",
   "metadata": {
    "id": "FNMhwacK7J8d"
   },
   "source": [
    "## Open the raw data file\n",
    "Before you can read or write data to a file, you need to open the file using the built-in Python `open()` function. Invoking the `open()` function creates a file object connection so you can use it inside your code. Remember to `close()` this file object connection when you are finished working with the file. This best practice will be explained in the cells below.\n",
    "\n",
    "Learn more about the [Python file object](https://docs.python.org/3/glossary.html#term-file-object).\n",
    "\n",
    "The `open()` method takes the following second argument:\n",
    "- to read the file, pass in r\n",
    "- to read and write the file, pass in r+\n",
    "- to overwrite the file, pass in w\n",
    "- to append to the file, pass in a"
   ]
  },
  {
   "cell_type": "code",
   "execution_count": 2,
   "metadata": {
    "id": "_2Ur0mY2JnEr"
   },
   "outputs": [
    {
     "name": "stdout",
     "output_type": "stream",
     "text": [
      "You're               mighty       awesome\n",
      "\n",
      "Stay               most         fabulous\n",
      "\n",
      "Always        truly        slick\n"
     ]
    }
   ],
   "source": [
    "# open file and assign it to a variable named txt (right click file)\n",
    "# add a second argument, \"r\" to read the file (optional)\n",
    "txt = open(file_path, \"r\")\n",
    "# for each line in txt\n",
    "for line in txt:\n",
    "  # print line\n",
    "    print(line)\n",
    "  \n",
    "# close connection  \n",
    "txt.close()"
   ]
  },
  {
   "cell_type": "markdown",
   "metadata": {
    "id": "SXqiyKT87U_E"
   },
   "source": [
    "## Close the file (fridge ❄️ 🐼)"
   ]
  },
  {
   "cell_type": "markdown",
   "metadata": {
    "id": "eHgecezKqTrG"
   },
   "source": [
    "It's a best practice to use the `close()` method explicitly when you are done reading or writing to a particular file object. \n",
    "\n",
    "> Open file object, perform actions, then close file object. Open database connection, perform actions, then close the database connection."
   ]
  },
  {
   "cell_type": "markdown",
   "metadata": {
    "id": "sAj63jXeOjnh"
   },
   "source": [
    "## Manipulating the file\n",
    "Since we will work with the same file again, you will need to open and close the file object connection once more. After closing the file, you will be using a new variable unrelated to the original file object connection. This simply means that you won't need to open or close the file now that you are done working with the raw data."
   ]
  },
  {
   "cell_type": "code",
   "execution_count": 3,
   "metadata": {
    "id": "cUyYe0wIDJ6C"
   },
   "outputs": [
    {
     "name": "stdout",
     "output_type": "stream",
     "text": [
      "You're               mighty       awesome\n",
      "[\"You're\", 'mighty', 'awesome']\n",
      "Stay               most         fabulous\n",
      "['Stay', 'most', 'fabulous']\n",
      "Always        truly        slick\n",
      "['Always', 'truly', 'slick']\n",
      "[[\"You're\", 'mighty', 'awesome'], ['Stay', 'most', 'fabulous'], ['Always', 'truly', 'slick']]\n"
     ]
    }
   ],
   "source": [
    "# open connection with file_path as an argument and assign to variable: txt   \n",
    "txt = open(file_path)\n",
    "\n",
    "# initialize an empty list and assign it to variable: compliments\n",
    "compliments = []\n",
    "\n",
    "# create logic to split, strip, and append\n",
    "# for each line in txt\n",
    "for line in txt:\n",
    "    stripped_line = line.strip()\n",
    "    line_list = stripped_line.split()\n",
    "    compliments.append(line_list)\n",
    "    print(stripped_line)\n",
    "    print(line_list)\n",
    "\n",
    "# print compliments\n",
    "print(compliments)\n",
    "\n",
    "# close connection  \n",
    "txt.close()"
   ]
  },
  {
   "cell_type": "markdown",
   "metadata": {
    "id": "rm9QWkbBQngG"
   },
   "source": [
    "## Extracting sublists"
   ]
  },
  {
   "cell_type": "code",
   "execution_count": 44,
   "metadata": {
    "id": "801KwZYoPCEg"
   },
   "outputs": [
    {
     "name": "stdout",
     "output_type": "stream",
     "text": [
      "[\"You're\", 'Stay', 'Always']\n",
      "['mighty', 'most', 'truly']\n",
      "['awesome', 'fabulous', 'slick']\n"
     ]
    }
   ],
   "source": [
    "# initialize 3 empty lists and assign them to variables: column_1, column_2, column_3\n",
    "column_1 = []\n",
    "column_2 = []\n",
    "column_3 = []\n",
    "# for each list in the list compliments:\n",
    "for list in compliments:\n",
    "  # append column_1 with the first element in list\n",
    "    column_1.append(list[0])\n",
    "  # append column_2 with the second element in list\n",
    "    column_2.append(list[1])\n",
    "  # append column_3 with the third element in list\n",
    "    column_3.append(list[2])\n",
    "\n",
    "# print column_1\n",
    "print(column_1)\n",
    "\n",
    "# print column_2\n",
    "print(column_2)\n",
    "\n",
    "# print column_3\n",
    "print(column_3)"
   ]
  },
  {
   "cell_type": "markdown",
   "metadata": {
    "id": "P4EcD9O3jCsz"
   },
   "source": [
    "At the end of this skill, you'll get a chance to expand on the compliments list to create a Shakespearean insult generator! See you there!"
   ]
  }
 ],
 "metadata": {
  "colab": {
   "collapsed_sections": [],
   "name": "7_2_lists_START.ipynb",
   "provenance": []
  },
  "kernelspec": {
   "display_name": "Python 3 (ipykernel)",
   "language": "python",
   "name": "python3"
  },
  "language_info": {
   "codemirror_mode": {
    "name": "ipython",
    "version": 3
   },
   "file_extension": ".py",
   "mimetype": "text/x-python",
   "name": "python",
   "nbconvert_exporter": "python",
   "pygments_lexer": "ipython3",
   "version": "3.11.4"
  }
 },
 "nbformat": 4,
 "nbformat_minor": 1
}
